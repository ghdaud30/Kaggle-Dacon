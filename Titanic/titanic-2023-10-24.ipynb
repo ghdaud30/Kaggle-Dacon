{
 "cells": [
  {
   "cell_type": "code",
   "execution_count": 1,
   "id": "a8906081",
   "metadata": {
    "_cell_guid": "b1076dfc-b9ad-4769-8c92-a6c4dae69d19",
    "_uuid": "8f2839f25d086af736a60e9eeb907d3b93b6e0e5",
    "execution": {
     "iopub.execute_input": "2023-10-24T14:09:56.896484Z",
     "iopub.status.busy": "2023-10-24T14:09:56.895188Z",
     "iopub.status.idle": "2023-10-24T14:09:58.940382Z",
     "shell.execute_reply": "2023-10-24T14:09:58.938859Z"
    },
    "papermill": {
     "duration": 2.080631,
     "end_time": "2023-10-24T14:09:58.943433",
     "exception": false,
     "start_time": "2023-10-24T14:09:56.862802",
     "status": "completed"
    },
    "tags": []
   },
   "outputs": [
    {
     "name": "stdout",
     "output_type": "stream",
     "text": [
      "/kaggle/input/titanic/train.csv\n",
      "/kaggle/input/titanic/test.csv\n",
      "/kaggle/input/titanic/gender_submission.csv\n"
     ]
    }
   ],
   "source": [
    "# This Python 3 environment comes with many helpful analytics libraries installed\n",
    "# It is defined by the kaggle/python Docker image: https://github.com/kaggle/docker-python\n",
    "# For example, here's several helpful packages to load\n",
    "\n",
    "import numpy as np # linear algebra\n",
    "import pandas as pd # data processing, CSV file I/O (e.g. pd.read_csv)\n",
    "import seaborn as sns \n",
    "import matplotlib.pyplot as plt\n",
    "\n",
    "# Input data files are available in the read-only \"../input/\" directory\n",
    "# For example, running this (by clicking run or pressing Shift+Enter) will list all files under the input directory\n",
    "\n",
    "import os\n",
    "for dirname, _, filenames in os.walk('/kaggle/input'):\n",
    "    for filename in filenames:\n",
    "        print(os.path.join(dirname, filename))\n",
    "\n",
    "# You can write up to 20GB to the current directory (/kaggle/working/) that gets preserved as output when you create a version using \"Save & Run All\" \n",
    "# You can also write temporary files to /kaggle/temp/, but they won't be saved outside of the current session"
   ]
  },
  {
   "cell_type": "markdown",
   "id": "3253b23a",
   "metadata": {
    "papermill": {
     "duration": 0.031578,
     "end_time": "2023-10-24T14:09:59.005536",
     "exception": false,
     "start_time": "2023-10-24T14:09:58.973958",
     "status": "completed"
    },
    "tags": []
   },
   "source": [
    "데이터 탐색"
   ]
  },
  {
   "cell_type": "code",
   "execution_count": 2,
   "id": "db85736b",
   "metadata": {
    "execution": {
     "iopub.execute_input": "2023-10-24T14:09:59.068245Z",
     "iopub.status.busy": "2023-10-24T14:09:59.067622Z",
     "iopub.status.idle": "2023-10-24T14:09:59.138316Z",
     "shell.execute_reply": "2023-10-24T14:09:59.136749Z"
    },
    "papermill": {
     "duration": 0.105104,
     "end_time": "2023-10-24T14:09:59.141088",
     "exception": false,
     "start_time": "2023-10-24T14:09:59.035984",
     "status": "completed"
    },
    "tags": []
   },
   "outputs": [
    {
     "name": "stdout",
     "output_type": "stream",
     "text": [
      "<class 'pandas.core.frame.DataFrame'>\n",
      "RangeIndex: 891 entries, 0 to 890\n",
      "Data columns (total 12 columns):\n",
      " #   Column       Non-Null Count  Dtype  \n",
      "---  ------       --------------  -----  \n",
      " 0   PassengerId  891 non-null    int64  \n",
      " 1   Survived     891 non-null    int64  \n",
      " 2   Pclass       891 non-null    int64  \n",
      " 3   Name         891 non-null    object \n",
      " 4   Sex          891 non-null    object \n",
      " 5   Age          714 non-null    float64\n",
      " 6   SibSp        891 non-null    int64  \n",
      " 7   Parch        891 non-null    int64  \n",
      " 8   Ticket       891 non-null    object \n",
      " 9   Fare         891 non-null    float64\n",
      " 10  Cabin        204 non-null    object \n",
      " 11  Embarked     889 non-null    object \n",
      "dtypes: float64(2), int64(5), object(5)\n",
      "memory usage: 83.7+ KB\n"
     ]
    }
   ],
   "source": [
    "df_train = pd.read_csv('/kaggle/input/titanic/train.csv')\n",
    "df_test = pd.read_csv('/kaggle/input/titanic/test.csv')\n",
    "gender_sub = pd.read_csv('/kaggle/input/titanic/gender_submission.csv')\n",
    "\n",
    "df_train.info()"
   ]
  },
  {
   "cell_type": "code",
   "execution_count": 3,
   "id": "c5f4eab3",
   "metadata": {
    "execution": {
     "iopub.execute_input": "2023-10-24T14:09:59.202928Z",
     "iopub.status.busy": "2023-10-24T14:09:59.202525Z",
     "iopub.status.idle": "2023-10-24T14:09:59.217097Z",
     "shell.execute_reply": "2023-10-24T14:09:59.215511Z"
    },
    "papermill": {
     "duration": 0.049097,
     "end_time": "2023-10-24T14:09:59.220097",
     "exception": false,
     "start_time": "2023-10-24T14:09:59.171000",
     "status": "completed"
    },
    "tags": []
   },
   "outputs": [
    {
     "name": "stdout",
     "output_type": "stream",
     "text": [
      "<class 'pandas.core.frame.DataFrame'>\n",
      "RangeIndex: 418 entries, 0 to 417\n",
      "Data columns (total 11 columns):\n",
      " #   Column       Non-Null Count  Dtype  \n",
      "---  ------       --------------  -----  \n",
      " 0   PassengerId  418 non-null    int64  \n",
      " 1   Pclass       418 non-null    int64  \n",
      " 2   Name         418 non-null    object \n",
      " 3   Sex          418 non-null    object \n",
      " 4   Age          332 non-null    float64\n",
      " 5   SibSp        418 non-null    int64  \n",
      " 6   Parch        418 non-null    int64  \n",
      " 7   Ticket       418 non-null    object \n",
      " 8   Fare         417 non-null    float64\n",
      " 9   Cabin        91 non-null     object \n",
      " 10  Embarked     418 non-null    object \n",
      "dtypes: float64(2), int64(4), object(5)\n",
      "memory usage: 36.0+ KB\n"
     ]
    }
   ],
   "source": [
    "df_test.info()"
   ]
  },
  {
   "cell_type": "code",
   "execution_count": 4,
   "id": "2cb47e74",
   "metadata": {
    "execution": {
     "iopub.execute_input": "2023-10-24T14:09:59.282990Z",
     "iopub.status.busy": "2023-10-24T14:09:59.282590Z",
     "iopub.status.idle": "2023-10-24T14:09:59.324097Z",
     "shell.execute_reply": "2023-10-24T14:09:59.322939Z"
    },
    "papermill": {
     "duration": 0.076444,
     "end_time": "2023-10-24T14:09:59.326760",
     "exception": false,
     "start_time": "2023-10-24T14:09:59.250316",
     "status": "completed"
    },
    "tags": []
   },
   "outputs": [
    {
     "data": {
      "text/html": [
       "<div>\n",
       "<style scoped>\n",
       "    .dataframe tbody tr th:only-of-type {\n",
       "        vertical-align: middle;\n",
       "    }\n",
       "\n",
       "    .dataframe tbody tr th {\n",
       "        vertical-align: top;\n",
       "    }\n",
       "\n",
       "    .dataframe thead th {\n",
       "        text-align: right;\n",
       "    }\n",
       "</style>\n",
       "<table border=\"1\" class=\"dataframe\">\n",
       "  <thead>\n",
       "    <tr style=\"text-align: right;\">\n",
       "      <th></th>\n",
       "      <th>PassengerId</th>\n",
       "      <th>Survived</th>\n",
       "      <th>Pclass</th>\n",
       "      <th>Age</th>\n",
       "      <th>SibSp</th>\n",
       "      <th>Parch</th>\n",
       "      <th>Fare</th>\n",
       "    </tr>\n",
       "  </thead>\n",
       "  <tbody>\n",
       "    <tr>\n",
       "      <th>count</th>\n",
       "      <td>891.000000</td>\n",
       "      <td>891.000000</td>\n",
       "      <td>891.000000</td>\n",
       "      <td>714.000000</td>\n",
       "      <td>891.000000</td>\n",
       "      <td>891.000000</td>\n",
       "      <td>891.000000</td>\n",
       "    </tr>\n",
       "    <tr>\n",
       "      <th>mean</th>\n",
       "      <td>446.000000</td>\n",
       "      <td>0.383838</td>\n",
       "      <td>2.308642</td>\n",
       "      <td>29.699118</td>\n",
       "      <td>0.523008</td>\n",
       "      <td>0.381594</td>\n",
       "      <td>32.204208</td>\n",
       "    </tr>\n",
       "    <tr>\n",
       "      <th>std</th>\n",
       "      <td>257.353842</td>\n",
       "      <td>0.486592</td>\n",
       "      <td>0.836071</td>\n",
       "      <td>14.526497</td>\n",
       "      <td>1.102743</td>\n",
       "      <td>0.806057</td>\n",
       "      <td>49.693429</td>\n",
       "    </tr>\n",
       "    <tr>\n",
       "      <th>min</th>\n",
       "      <td>1.000000</td>\n",
       "      <td>0.000000</td>\n",
       "      <td>1.000000</td>\n",
       "      <td>0.420000</td>\n",
       "      <td>0.000000</td>\n",
       "      <td>0.000000</td>\n",
       "      <td>0.000000</td>\n",
       "    </tr>\n",
       "    <tr>\n",
       "      <th>25%</th>\n",
       "      <td>223.500000</td>\n",
       "      <td>0.000000</td>\n",
       "      <td>2.000000</td>\n",
       "      <td>20.125000</td>\n",
       "      <td>0.000000</td>\n",
       "      <td>0.000000</td>\n",
       "      <td>7.910400</td>\n",
       "    </tr>\n",
       "    <tr>\n",
       "      <th>50%</th>\n",
       "      <td>446.000000</td>\n",
       "      <td>0.000000</td>\n",
       "      <td>3.000000</td>\n",
       "      <td>28.000000</td>\n",
       "      <td>0.000000</td>\n",
       "      <td>0.000000</td>\n",
       "      <td>14.454200</td>\n",
       "    </tr>\n",
       "    <tr>\n",
       "      <th>75%</th>\n",
       "      <td>668.500000</td>\n",
       "      <td>1.000000</td>\n",
       "      <td>3.000000</td>\n",
       "      <td>38.000000</td>\n",
       "      <td>1.000000</td>\n",
       "      <td>0.000000</td>\n",
       "      <td>31.000000</td>\n",
       "    </tr>\n",
       "    <tr>\n",
       "      <th>max</th>\n",
       "      <td>891.000000</td>\n",
       "      <td>1.000000</td>\n",
       "      <td>3.000000</td>\n",
       "      <td>80.000000</td>\n",
       "      <td>8.000000</td>\n",
       "      <td>6.000000</td>\n",
       "      <td>512.329200</td>\n",
       "    </tr>\n",
       "  </tbody>\n",
       "</table>\n",
       "</div>"
      ],
      "text/plain": [
       "       PassengerId    Survived      Pclass         Age       SibSp  \\\n",
       "count   891.000000  891.000000  891.000000  714.000000  891.000000   \n",
       "mean    446.000000    0.383838    2.308642   29.699118    0.523008   \n",
       "std     257.353842    0.486592    0.836071   14.526497    1.102743   \n",
       "min       1.000000    0.000000    1.000000    0.420000    0.000000   \n",
       "25%     223.500000    0.000000    2.000000   20.125000    0.000000   \n",
       "50%     446.000000    0.000000    3.000000   28.000000    0.000000   \n",
       "75%     668.500000    1.000000    3.000000   38.000000    1.000000   \n",
       "max     891.000000    1.000000    3.000000   80.000000    8.000000   \n",
       "\n",
       "            Parch        Fare  \n",
       "count  891.000000  891.000000  \n",
       "mean     0.381594   32.204208  \n",
       "std      0.806057   49.693429  \n",
       "min      0.000000    0.000000  \n",
       "25%      0.000000    7.910400  \n",
       "50%      0.000000   14.454200  \n",
       "75%      0.000000   31.000000  \n",
       "max      6.000000  512.329200  "
      ]
     },
     "execution_count": 4,
     "metadata": {},
     "output_type": "execute_result"
    }
   ],
   "source": [
    "df_train.describe()"
   ]
  },
  {
   "cell_type": "code",
   "execution_count": 5,
   "id": "6b4f72e9",
   "metadata": {
    "execution": {
     "iopub.execute_input": "2023-10-24T14:09:59.454720Z",
     "iopub.status.busy": "2023-10-24T14:09:59.453663Z",
     "iopub.status.idle": "2023-10-24T14:09:59.481374Z",
     "shell.execute_reply": "2023-10-24T14:09:59.480120Z"
    },
    "papermill": {
     "duration": 0.062216,
     "end_time": "2023-10-24T14:09:59.484118",
     "exception": false,
     "start_time": "2023-10-24T14:09:59.421902",
     "status": "completed"
    },
    "tags": []
   },
   "outputs": [
    {
     "data": {
      "text/html": [
       "<div>\n",
       "<style scoped>\n",
       "    .dataframe tbody tr th:only-of-type {\n",
       "        vertical-align: middle;\n",
       "    }\n",
       "\n",
       "    .dataframe tbody tr th {\n",
       "        vertical-align: top;\n",
       "    }\n",
       "\n",
       "    .dataframe thead th {\n",
       "        text-align: right;\n",
       "    }\n",
       "</style>\n",
       "<table border=\"1\" class=\"dataframe\">\n",
       "  <thead>\n",
       "    <tr style=\"text-align: right;\">\n",
       "      <th></th>\n",
       "      <th>Name</th>\n",
       "      <th>Sex</th>\n",
       "      <th>Ticket</th>\n",
       "      <th>Cabin</th>\n",
       "      <th>Embarked</th>\n",
       "    </tr>\n",
       "  </thead>\n",
       "  <tbody>\n",
       "    <tr>\n",
       "      <th>count</th>\n",
       "      <td>891</td>\n",
       "      <td>891</td>\n",
       "      <td>891</td>\n",
       "      <td>204</td>\n",
       "      <td>889</td>\n",
       "    </tr>\n",
       "    <tr>\n",
       "      <th>unique</th>\n",
       "      <td>891</td>\n",
       "      <td>2</td>\n",
       "      <td>681</td>\n",
       "      <td>147</td>\n",
       "      <td>3</td>\n",
       "    </tr>\n",
       "    <tr>\n",
       "      <th>top</th>\n",
       "      <td>Braund, Mr. Owen Harris</td>\n",
       "      <td>male</td>\n",
       "      <td>347082</td>\n",
       "      <td>B96 B98</td>\n",
       "      <td>S</td>\n",
       "    </tr>\n",
       "    <tr>\n",
       "      <th>freq</th>\n",
       "      <td>1</td>\n",
       "      <td>577</td>\n",
       "      <td>7</td>\n",
       "      <td>4</td>\n",
       "      <td>644</td>\n",
       "    </tr>\n",
       "  </tbody>\n",
       "</table>\n",
       "</div>"
      ],
      "text/plain": [
       "                           Name   Sex  Ticket    Cabin Embarked\n",
       "count                       891   891     891      204      889\n",
       "unique                      891     2     681      147        3\n",
       "top     Braund, Mr. Owen Harris  male  347082  B96 B98        S\n",
       "freq                          1   577       7        4      644"
      ]
     },
     "execution_count": 5,
     "metadata": {},
     "output_type": "execute_result"
    }
   ],
   "source": [
    "df_train.describe(include = [\"O\"])"
   ]
  },
  {
   "cell_type": "code",
   "execution_count": 6,
   "id": "7ecdfc1e",
   "metadata": {
    "execution": {
     "iopub.execute_input": "2023-10-24T14:09:59.547739Z",
     "iopub.status.busy": "2023-10-24T14:09:59.546980Z",
     "iopub.status.idle": "2023-10-24T14:09:59.559835Z",
     "shell.execute_reply": "2023-10-24T14:09:59.558653Z"
    },
    "papermill": {
     "duration": 0.047697,
     "end_time": "2023-10-24T14:09:59.562552",
     "exception": false,
     "start_time": "2023-10-24T14:09:59.514855",
     "status": "completed"
    },
    "tags": []
   },
   "outputs": [
    {
     "data": {
      "text/plain": [
       "PassengerId    891\n",
       "Survived         2\n",
       "Pclass           3\n",
       "Name           891\n",
       "Sex              2\n",
       "Age             88\n",
       "SibSp            7\n",
       "Parch            7\n",
       "Ticket         681\n",
       "Fare           248\n",
       "Cabin          147\n",
       "Embarked         3\n",
       "dtype: int64"
      ]
     },
     "execution_count": 6,
     "metadata": {},
     "output_type": "execute_result"
    }
   ],
   "source": [
    "df_train.nunique()"
   ]
  },
  {
   "cell_type": "code",
   "execution_count": 7,
   "id": "1b019810",
   "metadata": {
    "execution": {
     "iopub.execute_input": "2023-10-24T14:09:59.628492Z",
     "iopub.status.busy": "2023-10-24T14:09:59.627518Z",
     "iopub.status.idle": "2023-10-24T14:09:59.660670Z",
     "shell.execute_reply": "2023-10-24T14:09:59.659559Z"
    },
    "papermill": {
     "duration": 0.069946,
     "end_time": "2023-10-24T14:09:59.663578",
     "exception": false,
     "start_time": "2023-10-24T14:09:59.593632",
     "status": "completed"
    },
    "tags": []
   },
   "outputs": [
    {
     "data": {
      "text/html": [
       "<div>\n",
       "<style scoped>\n",
       "    .dataframe tbody tr th:only-of-type {\n",
       "        vertical-align: middle;\n",
       "    }\n",
       "\n",
       "    .dataframe tbody tr th {\n",
       "        vertical-align: top;\n",
       "    }\n",
       "\n",
       "    .dataframe thead th {\n",
       "        text-align: right;\n",
       "    }\n",
       "</style>\n",
       "<table border=\"1\" class=\"dataframe\">\n",
       "  <thead>\n",
       "    <tr style=\"text-align: right;\">\n",
       "      <th></th>\n",
       "      <th>PassengerId</th>\n",
       "      <th>Pclass</th>\n",
       "      <th>Age</th>\n",
       "      <th>SibSp</th>\n",
       "      <th>Parch</th>\n",
       "      <th>Fare</th>\n",
       "    </tr>\n",
       "  </thead>\n",
       "  <tbody>\n",
       "    <tr>\n",
       "      <th>count</th>\n",
       "      <td>418.000000</td>\n",
       "      <td>418.000000</td>\n",
       "      <td>332.000000</td>\n",
       "      <td>418.000000</td>\n",
       "      <td>418.000000</td>\n",
       "      <td>417.000000</td>\n",
       "    </tr>\n",
       "    <tr>\n",
       "      <th>mean</th>\n",
       "      <td>1100.500000</td>\n",
       "      <td>2.265550</td>\n",
       "      <td>30.272590</td>\n",
       "      <td>0.447368</td>\n",
       "      <td>0.392344</td>\n",
       "      <td>35.627188</td>\n",
       "    </tr>\n",
       "    <tr>\n",
       "      <th>std</th>\n",
       "      <td>120.810458</td>\n",
       "      <td>0.841838</td>\n",
       "      <td>14.181209</td>\n",
       "      <td>0.896760</td>\n",
       "      <td>0.981429</td>\n",
       "      <td>55.907576</td>\n",
       "    </tr>\n",
       "    <tr>\n",
       "      <th>min</th>\n",
       "      <td>892.000000</td>\n",
       "      <td>1.000000</td>\n",
       "      <td>0.170000</td>\n",
       "      <td>0.000000</td>\n",
       "      <td>0.000000</td>\n",
       "      <td>0.000000</td>\n",
       "    </tr>\n",
       "    <tr>\n",
       "      <th>25%</th>\n",
       "      <td>996.250000</td>\n",
       "      <td>1.000000</td>\n",
       "      <td>21.000000</td>\n",
       "      <td>0.000000</td>\n",
       "      <td>0.000000</td>\n",
       "      <td>7.895800</td>\n",
       "    </tr>\n",
       "    <tr>\n",
       "      <th>50%</th>\n",
       "      <td>1100.500000</td>\n",
       "      <td>3.000000</td>\n",
       "      <td>27.000000</td>\n",
       "      <td>0.000000</td>\n",
       "      <td>0.000000</td>\n",
       "      <td>14.454200</td>\n",
       "    </tr>\n",
       "    <tr>\n",
       "      <th>75%</th>\n",
       "      <td>1204.750000</td>\n",
       "      <td>3.000000</td>\n",
       "      <td>39.000000</td>\n",
       "      <td>1.000000</td>\n",
       "      <td>0.000000</td>\n",
       "      <td>31.500000</td>\n",
       "    </tr>\n",
       "    <tr>\n",
       "      <th>max</th>\n",
       "      <td>1309.000000</td>\n",
       "      <td>3.000000</td>\n",
       "      <td>76.000000</td>\n",
       "      <td>8.000000</td>\n",
       "      <td>9.000000</td>\n",
       "      <td>512.329200</td>\n",
       "    </tr>\n",
       "  </tbody>\n",
       "</table>\n",
       "</div>"
      ],
      "text/plain": [
       "       PassengerId      Pclass         Age       SibSp       Parch        Fare\n",
       "count   418.000000  418.000000  332.000000  418.000000  418.000000  417.000000\n",
       "mean   1100.500000    2.265550   30.272590    0.447368    0.392344   35.627188\n",
       "std     120.810458    0.841838   14.181209    0.896760    0.981429   55.907576\n",
       "min     892.000000    1.000000    0.170000    0.000000    0.000000    0.000000\n",
       "25%     996.250000    1.000000   21.000000    0.000000    0.000000    7.895800\n",
       "50%    1100.500000    3.000000   27.000000    0.000000    0.000000   14.454200\n",
       "75%    1204.750000    3.000000   39.000000    1.000000    0.000000   31.500000\n",
       "max    1309.000000    3.000000   76.000000    8.000000    9.000000  512.329200"
      ]
     },
     "execution_count": 7,
     "metadata": {},
     "output_type": "execute_result"
    }
   ],
   "source": [
    "df_test.describe()"
   ]
  },
  {
   "cell_type": "code",
   "execution_count": 8,
   "id": "2ce3ffbc",
   "metadata": {
    "execution": {
     "iopub.execute_input": "2023-10-24T14:09:59.728578Z",
     "iopub.status.busy": "2023-10-24T14:09:59.728149Z",
     "iopub.status.idle": "2023-10-24T14:09:59.750579Z",
     "shell.execute_reply": "2023-10-24T14:09:59.749474Z"
    },
    "papermill": {
     "duration": 0.057933,
     "end_time": "2023-10-24T14:09:59.753248",
     "exception": false,
     "start_time": "2023-10-24T14:09:59.695315",
     "status": "completed"
    },
    "tags": []
   },
   "outputs": [
    {
     "data": {
      "text/html": [
       "<div>\n",
       "<style scoped>\n",
       "    .dataframe tbody tr th:only-of-type {\n",
       "        vertical-align: middle;\n",
       "    }\n",
       "\n",
       "    .dataframe tbody tr th {\n",
       "        vertical-align: top;\n",
       "    }\n",
       "\n",
       "    .dataframe thead th {\n",
       "        text-align: right;\n",
       "    }\n",
       "</style>\n",
       "<table border=\"1\" class=\"dataframe\">\n",
       "  <thead>\n",
       "    <tr style=\"text-align: right;\">\n",
       "      <th></th>\n",
       "      <th>Name</th>\n",
       "      <th>Sex</th>\n",
       "      <th>Ticket</th>\n",
       "      <th>Cabin</th>\n",
       "      <th>Embarked</th>\n",
       "    </tr>\n",
       "  </thead>\n",
       "  <tbody>\n",
       "    <tr>\n",
       "      <th>count</th>\n",
       "      <td>418</td>\n",
       "      <td>418</td>\n",
       "      <td>418</td>\n",
       "      <td>91</td>\n",
       "      <td>418</td>\n",
       "    </tr>\n",
       "    <tr>\n",
       "      <th>unique</th>\n",
       "      <td>418</td>\n",
       "      <td>2</td>\n",
       "      <td>363</td>\n",
       "      <td>76</td>\n",
       "      <td>3</td>\n",
       "    </tr>\n",
       "    <tr>\n",
       "      <th>top</th>\n",
       "      <td>Kelly, Mr. James</td>\n",
       "      <td>male</td>\n",
       "      <td>PC 17608</td>\n",
       "      <td>B57 B59 B63 B66</td>\n",
       "      <td>S</td>\n",
       "    </tr>\n",
       "    <tr>\n",
       "      <th>freq</th>\n",
       "      <td>1</td>\n",
       "      <td>266</td>\n",
       "      <td>5</td>\n",
       "      <td>3</td>\n",
       "      <td>270</td>\n",
       "    </tr>\n",
       "  </tbody>\n",
       "</table>\n",
       "</div>"
      ],
      "text/plain": [
       "                    Name   Sex    Ticket            Cabin Embarked\n",
       "count                418   418       418               91      418\n",
       "unique               418     2       363               76        3\n",
       "top     Kelly, Mr. James  male  PC 17608  B57 B59 B63 B66        S\n",
       "freq                   1   266         5                3      270"
      ]
     },
     "execution_count": 8,
     "metadata": {},
     "output_type": "execute_result"
    }
   ],
   "source": [
    "df_test.describe(include=['O'])"
   ]
  },
  {
   "cell_type": "code",
   "execution_count": 9,
   "id": "5f53fa9d",
   "metadata": {
    "execution": {
     "iopub.execute_input": "2023-10-24T14:09:59.820317Z",
     "iopub.status.busy": "2023-10-24T14:09:59.819882Z",
     "iopub.status.idle": "2023-10-24T14:09:59.838669Z",
     "shell.execute_reply": "2023-10-24T14:09:59.837417Z"
    },
    "papermill": {
     "duration": 0.054967,
     "end_time": "2023-10-24T14:09:59.841229",
     "exception": false,
     "start_time": "2023-10-24T14:09:59.786262",
     "status": "completed"
    },
    "tags": []
   },
   "outputs": [
    {
     "data": {
      "text/html": [
       "<div>\n",
       "<style scoped>\n",
       "    .dataframe tbody tr th:only-of-type {\n",
       "        vertical-align: middle;\n",
       "    }\n",
       "\n",
       "    .dataframe tbody tr th {\n",
       "        vertical-align: top;\n",
       "    }\n",
       "\n",
       "    .dataframe thead th {\n",
       "        text-align: right;\n",
       "    }\n",
       "</style>\n",
       "<table border=\"1\" class=\"dataframe\">\n",
       "  <thead>\n",
       "    <tr style=\"text-align: right;\">\n",
       "      <th></th>\n",
       "      <th>PassengerId</th>\n",
       "      <th>Survived</th>\n",
       "      <th>Pclass</th>\n",
       "      <th>Name</th>\n",
       "      <th>Sex</th>\n",
       "      <th>Age</th>\n",
       "      <th>SibSp</th>\n",
       "      <th>Parch</th>\n",
       "      <th>Ticket</th>\n",
       "      <th>Fare</th>\n",
       "      <th>Cabin</th>\n",
       "      <th>Embarked</th>\n",
       "    </tr>\n",
       "  </thead>\n",
       "  <tbody>\n",
       "    <tr>\n",
       "      <th>0</th>\n",
       "      <td>1</td>\n",
       "      <td>0</td>\n",
       "      <td>3</td>\n",
       "      <td>Braund, Mr. Owen Harris</td>\n",
       "      <td>male</td>\n",
       "      <td>22.0</td>\n",
       "      <td>1</td>\n",
       "      <td>0</td>\n",
       "      <td>A/5 21171</td>\n",
       "      <td>7.2500</td>\n",
       "      <td>NaN</td>\n",
       "      <td>S</td>\n",
       "    </tr>\n",
       "    <tr>\n",
       "      <th>1</th>\n",
       "      <td>2</td>\n",
       "      <td>1</td>\n",
       "      <td>1</td>\n",
       "      <td>Cumings, Mrs. John Bradley (Florence Briggs Th...</td>\n",
       "      <td>female</td>\n",
       "      <td>38.0</td>\n",
       "      <td>1</td>\n",
       "      <td>0</td>\n",
       "      <td>PC 17599</td>\n",
       "      <td>71.2833</td>\n",
       "      <td>C85</td>\n",
       "      <td>C</td>\n",
       "    </tr>\n",
       "    <tr>\n",
       "      <th>2</th>\n",
       "      <td>3</td>\n",
       "      <td>1</td>\n",
       "      <td>3</td>\n",
       "      <td>Heikkinen, Miss. Laina</td>\n",
       "      <td>female</td>\n",
       "      <td>26.0</td>\n",
       "      <td>0</td>\n",
       "      <td>0</td>\n",
       "      <td>STON/O2. 3101282</td>\n",
       "      <td>7.9250</td>\n",
       "      <td>NaN</td>\n",
       "      <td>S</td>\n",
       "    </tr>\n",
       "    <tr>\n",
       "      <th>3</th>\n",
       "      <td>4</td>\n",
       "      <td>1</td>\n",
       "      <td>1</td>\n",
       "      <td>Futrelle, Mrs. Jacques Heath (Lily May Peel)</td>\n",
       "      <td>female</td>\n",
       "      <td>35.0</td>\n",
       "      <td>1</td>\n",
       "      <td>0</td>\n",
       "      <td>113803</td>\n",
       "      <td>53.1000</td>\n",
       "      <td>C123</td>\n",
       "      <td>S</td>\n",
       "    </tr>\n",
       "    <tr>\n",
       "      <th>4</th>\n",
       "      <td>5</td>\n",
       "      <td>0</td>\n",
       "      <td>3</td>\n",
       "      <td>Allen, Mr. William Henry</td>\n",
       "      <td>male</td>\n",
       "      <td>35.0</td>\n",
       "      <td>0</td>\n",
       "      <td>0</td>\n",
       "      <td>373450</td>\n",
       "      <td>8.0500</td>\n",
       "      <td>NaN</td>\n",
       "      <td>S</td>\n",
       "    </tr>\n",
       "  </tbody>\n",
       "</table>\n",
       "</div>"
      ],
      "text/plain": [
       "   PassengerId  Survived  Pclass  \\\n",
       "0            1         0       3   \n",
       "1            2         1       1   \n",
       "2            3         1       3   \n",
       "3            4         1       1   \n",
       "4            5         0       3   \n",
       "\n",
       "                                                Name     Sex   Age  SibSp  \\\n",
       "0                            Braund, Mr. Owen Harris    male  22.0      1   \n",
       "1  Cumings, Mrs. John Bradley (Florence Briggs Th...  female  38.0      1   \n",
       "2                             Heikkinen, Miss. Laina  female  26.0      0   \n",
       "3       Futrelle, Mrs. Jacques Heath (Lily May Peel)  female  35.0      1   \n",
       "4                           Allen, Mr. William Henry    male  35.0      0   \n",
       "\n",
       "   Parch            Ticket     Fare Cabin Embarked  \n",
       "0      0         A/5 21171   7.2500   NaN        S  \n",
       "1      0          PC 17599  71.2833   C85        C  \n",
       "2      0  STON/O2. 3101282   7.9250   NaN        S  \n",
       "3      0            113803  53.1000  C123        S  \n",
       "4      0            373450   8.0500   NaN        S  "
      ]
     },
     "execution_count": 9,
     "metadata": {},
     "output_type": "execute_result"
    }
   ],
   "source": [
    "df_train.head()"
   ]
  },
  {
   "cell_type": "code",
   "execution_count": 10,
   "id": "d00855e8",
   "metadata": {
    "execution": {
     "iopub.execute_input": "2023-10-24T14:09:59.908152Z",
     "iopub.status.busy": "2023-10-24T14:09:59.907773Z",
     "iopub.status.idle": "2023-10-24T14:09:59.939292Z",
     "shell.execute_reply": "2023-10-24T14:09:59.938001Z"
    },
    "papermill": {
     "duration": 0.068317,
     "end_time": "2023-10-24T14:09:59.941985",
     "exception": false,
     "start_time": "2023-10-24T14:09:59.873668",
     "status": "completed"
    },
    "tags": []
   },
   "outputs": [
    {
     "data": {
      "text/html": [
       "<div>\n",
       "<style scoped>\n",
       "    .dataframe tbody tr th:only-of-type {\n",
       "        vertical-align: middle;\n",
       "    }\n",
       "\n",
       "    .dataframe tbody tr th {\n",
       "        vertical-align: top;\n",
       "    }\n",
       "\n",
       "    .dataframe thead th {\n",
       "        text-align: right;\n",
       "    }\n",
       "</style>\n",
       "<table border=\"1\" class=\"dataframe\">\n",
       "  <thead>\n",
       "    <tr style=\"text-align: right;\">\n",
       "      <th></th>\n",
       "      <th>Survived</th>\n",
       "      <th>Pclass</th>\n",
       "      <th>Name</th>\n",
       "      <th>Sex</th>\n",
       "      <th>Age</th>\n",
       "      <th>SibSp</th>\n",
       "      <th>Parch</th>\n",
       "      <th>Fare</th>\n",
       "      <th>Cabin</th>\n",
       "      <th>Embarked</th>\n",
       "    </tr>\n",
       "  </thead>\n",
       "  <tbody>\n",
       "    <tr>\n",
       "      <th>0</th>\n",
       "      <td>0</td>\n",
       "      <td>3</td>\n",
       "      <td>Braund, Mr. Owen Harris</td>\n",
       "      <td>male</td>\n",
       "      <td>22.0</td>\n",
       "      <td>1</td>\n",
       "      <td>0</td>\n",
       "      <td>7.2500</td>\n",
       "      <td>NaN</td>\n",
       "      <td>S</td>\n",
       "    </tr>\n",
       "    <tr>\n",
       "      <th>1</th>\n",
       "      <td>1</td>\n",
       "      <td>1</td>\n",
       "      <td>Cumings, Mrs. John Bradley (Florence Briggs Th...</td>\n",
       "      <td>female</td>\n",
       "      <td>38.0</td>\n",
       "      <td>1</td>\n",
       "      <td>0</td>\n",
       "      <td>71.2833</td>\n",
       "      <td>C85</td>\n",
       "      <td>C</td>\n",
       "    </tr>\n",
       "    <tr>\n",
       "      <th>2</th>\n",
       "      <td>1</td>\n",
       "      <td>3</td>\n",
       "      <td>Heikkinen, Miss. Laina</td>\n",
       "      <td>female</td>\n",
       "      <td>26.0</td>\n",
       "      <td>0</td>\n",
       "      <td>0</td>\n",
       "      <td>7.9250</td>\n",
       "      <td>NaN</td>\n",
       "      <td>S</td>\n",
       "    </tr>\n",
       "    <tr>\n",
       "      <th>3</th>\n",
       "      <td>1</td>\n",
       "      <td>1</td>\n",
       "      <td>Futrelle, Mrs. Jacques Heath (Lily May Peel)</td>\n",
       "      <td>female</td>\n",
       "      <td>35.0</td>\n",
       "      <td>1</td>\n",
       "      <td>0</td>\n",
       "      <td>53.1000</td>\n",
       "      <td>C123</td>\n",
       "      <td>S</td>\n",
       "    </tr>\n",
       "    <tr>\n",
       "      <th>4</th>\n",
       "      <td>0</td>\n",
       "      <td>3</td>\n",
       "      <td>Allen, Mr. William Henry</td>\n",
       "      <td>male</td>\n",
       "      <td>35.0</td>\n",
       "      <td>0</td>\n",
       "      <td>0</td>\n",
       "      <td>8.0500</td>\n",
       "      <td>NaN</td>\n",
       "      <td>S</td>\n",
       "    </tr>\n",
       "    <tr>\n",
       "      <th>...</th>\n",
       "      <td>...</td>\n",
       "      <td>...</td>\n",
       "      <td>...</td>\n",
       "      <td>...</td>\n",
       "      <td>...</td>\n",
       "      <td>...</td>\n",
       "      <td>...</td>\n",
       "      <td>...</td>\n",
       "      <td>...</td>\n",
       "      <td>...</td>\n",
       "    </tr>\n",
       "    <tr>\n",
       "      <th>886</th>\n",
       "      <td>0</td>\n",
       "      <td>2</td>\n",
       "      <td>Montvila, Rev. Juozas</td>\n",
       "      <td>male</td>\n",
       "      <td>27.0</td>\n",
       "      <td>0</td>\n",
       "      <td>0</td>\n",
       "      <td>13.0000</td>\n",
       "      <td>NaN</td>\n",
       "      <td>S</td>\n",
       "    </tr>\n",
       "    <tr>\n",
       "      <th>887</th>\n",
       "      <td>1</td>\n",
       "      <td>1</td>\n",
       "      <td>Graham, Miss. Margaret Edith</td>\n",
       "      <td>female</td>\n",
       "      <td>19.0</td>\n",
       "      <td>0</td>\n",
       "      <td>0</td>\n",
       "      <td>30.0000</td>\n",
       "      <td>B42</td>\n",
       "      <td>S</td>\n",
       "    </tr>\n",
       "    <tr>\n",
       "      <th>888</th>\n",
       "      <td>0</td>\n",
       "      <td>3</td>\n",
       "      <td>Johnston, Miss. Catherine Helen \"Carrie\"</td>\n",
       "      <td>female</td>\n",
       "      <td>NaN</td>\n",
       "      <td>1</td>\n",
       "      <td>2</td>\n",
       "      <td>23.4500</td>\n",
       "      <td>NaN</td>\n",
       "      <td>S</td>\n",
       "    </tr>\n",
       "    <tr>\n",
       "      <th>889</th>\n",
       "      <td>1</td>\n",
       "      <td>1</td>\n",
       "      <td>Behr, Mr. Karl Howell</td>\n",
       "      <td>male</td>\n",
       "      <td>26.0</td>\n",
       "      <td>0</td>\n",
       "      <td>0</td>\n",
       "      <td>30.0000</td>\n",
       "      <td>C148</td>\n",
       "      <td>C</td>\n",
       "    </tr>\n",
       "    <tr>\n",
       "      <th>890</th>\n",
       "      <td>0</td>\n",
       "      <td>3</td>\n",
       "      <td>Dooley, Mr. Patrick</td>\n",
       "      <td>male</td>\n",
       "      <td>32.0</td>\n",
       "      <td>0</td>\n",
       "      <td>0</td>\n",
       "      <td>7.7500</td>\n",
       "      <td>NaN</td>\n",
       "      <td>Q</td>\n",
       "    </tr>\n",
       "  </tbody>\n",
       "</table>\n",
       "<p>891 rows × 10 columns</p>\n",
       "</div>"
      ],
      "text/plain": [
       "     Survived  Pclass                                               Name  \\\n",
       "0           0       3                            Braund, Mr. Owen Harris   \n",
       "1           1       1  Cumings, Mrs. John Bradley (Florence Briggs Th...   \n",
       "2           1       3                             Heikkinen, Miss. Laina   \n",
       "3           1       1       Futrelle, Mrs. Jacques Heath (Lily May Peel)   \n",
       "4           0       3                           Allen, Mr. William Henry   \n",
       "..        ...     ...                                                ...   \n",
       "886         0       2                              Montvila, Rev. Juozas   \n",
       "887         1       1                       Graham, Miss. Margaret Edith   \n",
       "888         0       3           Johnston, Miss. Catherine Helen \"Carrie\"   \n",
       "889         1       1                              Behr, Mr. Karl Howell   \n",
       "890         0       3                                Dooley, Mr. Patrick   \n",
       "\n",
       "        Sex   Age  SibSp  Parch     Fare Cabin Embarked  \n",
       "0      male  22.0      1      0   7.2500   NaN        S  \n",
       "1    female  38.0      1      0  71.2833   C85        C  \n",
       "2    female  26.0      0      0   7.9250   NaN        S  \n",
       "3    female  35.0      1      0  53.1000  C123        S  \n",
       "4      male  35.0      0      0   8.0500   NaN        S  \n",
       "..      ...   ...    ...    ...      ...   ...      ...  \n",
       "886    male  27.0      0      0  13.0000   NaN        S  \n",
       "887  female  19.0      0      0  30.0000   B42        S  \n",
       "888  female   NaN      1      2  23.4500   NaN        S  \n",
       "889    male  26.0      0      0  30.0000  C148        C  \n",
       "890    male  32.0      0      0   7.7500   NaN        Q  \n",
       "\n",
       "[891 rows x 10 columns]"
      ]
     },
     "execution_count": 10,
     "metadata": {},
     "output_type": "execute_result"
    }
   ],
   "source": [
    "df_train = df_train.drop(['PassengerId','Ticket'] , axis = 1)\n",
    "df_test = df_test.drop(['Ticket'] , axis = 1)\n",
    "y = df_train['Survived']\n",
    "df_train"
   ]
  },
  {
   "cell_type": "code",
   "execution_count": 11,
   "id": "ed09f942",
   "metadata": {
    "execution": {
     "iopub.execute_input": "2023-10-24T14:10:00.008915Z",
     "iopub.status.busy": "2023-10-24T14:10:00.008492Z",
     "iopub.status.idle": "2023-10-24T14:10:00.031290Z",
     "shell.execute_reply": "2023-10-24T14:10:00.030446Z"
    },
    "papermill": {
     "duration": 0.059195,
     "end_time": "2023-10-24T14:10:00.033480",
     "exception": false,
     "start_time": "2023-10-24T14:09:59.974285",
     "status": "completed"
    },
    "tags": []
   },
   "outputs": [
    {
     "data": {
      "text/html": [
       "<div>\n",
       "<style scoped>\n",
       "    .dataframe tbody tr th:only-of-type {\n",
       "        vertical-align: middle;\n",
       "    }\n",
       "\n",
       "    .dataframe tbody tr th {\n",
       "        vertical-align: top;\n",
       "    }\n",
       "\n",
       "    .dataframe thead th {\n",
       "        text-align: right;\n",
       "    }\n",
       "</style>\n",
       "<table border=\"1\" class=\"dataframe\">\n",
       "  <thead>\n",
       "    <tr style=\"text-align: right;\">\n",
       "      <th></th>\n",
       "      <th>PassengerId</th>\n",
       "      <th>Pclass</th>\n",
       "      <th>Name</th>\n",
       "      <th>Sex</th>\n",
       "      <th>Age</th>\n",
       "      <th>SibSp</th>\n",
       "      <th>Parch</th>\n",
       "      <th>Fare</th>\n",
       "      <th>Cabin</th>\n",
       "      <th>Embarked</th>\n",
       "    </tr>\n",
       "  </thead>\n",
       "  <tbody>\n",
       "    <tr>\n",
       "      <th>0</th>\n",
       "      <td>892</td>\n",
       "      <td>3</td>\n",
       "      <td>Kelly, Mr. James</td>\n",
       "      <td>male</td>\n",
       "      <td>34.5</td>\n",
       "      <td>0</td>\n",
       "      <td>0</td>\n",
       "      <td>7.8292</td>\n",
       "      <td>NaN</td>\n",
       "      <td>Q</td>\n",
       "    </tr>\n",
       "    <tr>\n",
       "      <th>1</th>\n",
       "      <td>893</td>\n",
       "      <td>3</td>\n",
       "      <td>Wilkes, Mrs. James (Ellen Needs)</td>\n",
       "      <td>female</td>\n",
       "      <td>47.0</td>\n",
       "      <td>1</td>\n",
       "      <td>0</td>\n",
       "      <td>7.0000</td>\n",
       "      <td>NaN</td>\n",
       "      <td>S</td>\n",
       "    </tr>\n",
       "    <tr>\n",
       "      <th>2</th>\n",
       "      <td>894</td>\n",
       "      <td>2</td>\n",
       "      <td>Myles, Mr. Thomas Francis</td>\n",
       "      <td>male</td>\n",
       "      <td>62.0</td>\n",
       "      <td>0</td>\n",
       "      <td>0</td>\n",
       "      <td>9.6875</td>\n",
       "      <td>NaN</td>\n",
       "      <td>Q</td>\n",
       "    </tr>\n",
       "    <tr>\n",
       "      <th>3</th>\n",
       "      <td>895</td>\n",
       "      <td>3</td>\n",
       "      <td>Wirz, Mr. Albert</td>\n",
       "      <td>male</td>\n",
       "      <td>27.0</td>\n",
       "      <td>0</td>\n",
       "      <td>0</td>\n",
       "      <td>8.6625</td>\n",
       "      <td>NaN</td>\n",
       "      <td>S</td>\n",
       "    </tr>\n",
       "    <tr>\n",
       "      <th>4</th>\n",
       "      <td>896</td>\n",
       "      <td>3</td>\n",
       "      <td>Hirvonen, Mrs. Alexander (Helga E Lindqvist)</td>\n",
       "      <td>female</td>\n",
       "      <td>22.0</td>\n",
       "      <td>1</td>\n",
       "      <td>1</td>\n",
       "      <td>12.2875</td>\n",
       "      <td>NaN</td>\n",
       "      <td>S</td>\n",
       "    </tr>\n",
       "    <tr>\n",
       "      <th>...</th>\n",
       "      <td>...</td>\n",
       "      <td>...</td>\n",
       "      <td>...</td>\n",
       "      <td>...</td>\n",
       "      <td>...</td>\n",
       "      <td>...</td>\n",
       "      <td>...</td>\n",
       "      <td>...</td>\n",
       "      <td>...</td>\n",
       "      <td>...</td>\n",
       "    </tr>\n",
       "    <tr>\n",
       "      <th>413</th>\n",
       "      <td>1305</td>\n",
       "      <td>3</td>\n",
       "      <td>Spector, Mr. Woolf</td>\n",
       "      <td>male</td>\n",
       "      <td>NaN</td>\n",
       "      <td>0</td>\n",
       "      <td>0</td>\n",
       "      <td>8.0500</td>\n",
       "      <td>NaN</td>\n",
       "      <td>S</td>\n",
       "    </tr>\n",
       "    <tr>\n",
       "      <th>414</th>\n",
       "      <td>1306</td>\n",
       "      <td>1</td>\n",
       "      <td>Oliva y Ocana, Dona. Fermina</td>\n",
       "      <td>female</td>\n",
       "      <td>39.0</td>\n",
       "      <td>0</td>\n",
       "      <td>0</td>\n",
       "      <td>108.9000</td>\n",
       "      <td>C105</td>\n",
       "      <td>C</td>\n",
       "    </tr>\n",
       "    <tr>\n",
       "      <th>415</th>\n",
       "      <td>1307</td>\n",
       "      <td>3</td>\n",
       "      <td>Saether, Mr. Simon Sivertsen</td>\n",
       "      <td>male</td>\n",
       "      <td>38.5</td>\n",
       "      <td>0</td>\n",
       "      <td>0</td>\n",
       "      <td>7.2500</td>\n",
       "      <td>NaN</td>\n",
       "      <td>S</td>\n",
       "    </tr>\n",
       "    <tr>\n",
       "      <th>416</th>\n",
       "      <td>1308</td>\n",
       "      <td>3</td>\n",
       "      <td>Ware, Mr. Frederick</td>\n",
       "      <td>male</td>\n",
       "      <td>NaN</td>\n",
       "      <td>0</td>\n",
       "      <td>0</td>\n",
       "      <td>8.0500</td>\n",
       "      <td>NaN</td>\n",
       "      <td>S</td>\n",
       "    </tr>\n",
       "    <tr>\n",
       "      <th>417</th>\n",
       "      <td>1309</td>\n",
       "      <td>3</td>\n",
       "      <td>Peter, Master. Michael J</td>\n",
       "      <td>male</td>\n",
       "      <td>NaN</td>\n",
       "      <td>1</td>\n",
       "      <td>1</td>\n",
       "      <td>22.3583</td>\n",
       "      <td>NaN</td>\n",
       "      <td>C</td>\n",
       "    </tr>\n",
       "  </tbody>\n",
       "</table>\n",
       "<p>418 rows × 10 columns</p>\n",
       "</div>"
      ],
      "text/plain": [
       "     PassengerId  Pclass                                          Name  \\\n",
       "0            892       3                              Kelly, Mr. James   \n",
       "1            893       3              Wilkes, Mrs. James (Ellen Needs)   \n",
       "2            894       2                     Myles, Mr. Thomas Francis   \n",
       "3            895       3                              Wirz, Mr. Albert   \n",
       "4            896       3  Hirvonen, Mrs. Alexander (Helga E Lindqvist)   \n",
       "..           ...     ...                                           ...   \n",
       "413         1305       3                            Spector, Mr. Woolf   \n",
       "414         1306       1                  Oliva y Ocana, Dona. Fermina   \n",
       "415         1307       3                  Saether, Mr. Simon Sivertsen   \n",
       "416         1308       3                           Ware, Mr. Frederick   \n",
       "417         1309       3                      Peter, Master. Michael J   \n",
       "\n",
       "        Sex   Age  SibSp  Parch      Fare Cabin Embarked  \n",
       "0      male  34.5      0      0    7.8292   NaN        Q  \n",
       "1    female  47.0      1      0    7.0000   NaN        S  \n",
       "2      male  62.0      0      0    9.6875   NaN        Q  \n",
       "3      male  27.0      0      0    8.6625   NaN        S  \n",
       "4    female  22.0      1      1   12.2875   NaN        S  \n",
       "..      ...   ...    ...    ...       ...   ...      ...  \n",
       "413    male   NaN      0      0    8.0500   NaN        S  \n",
       "414  female  39.0      0      0  108.9000  C105        C  \n",
       "415    male  38.5      0      0    7.2500   NaN        S  \n",
       "416    male   NaN      0      0    8.0500   NaN        S  \n",
       "417    male   NaN      1      1   22.3583   NaN        C  \n",
       "\n",
       "[418 rows x 10 columns]"
      ]
     },
     "execution_count": 11,
     "metadata": {},
     "output_type": "execute_result"
    }
   ],
   "source": [
    "df_test"
   ]
  },
  {
   "cell_type": "markdown",
   "id": "050d220e",
   "metadata": {
    "papermill": {
     "duration": 0.032289,
     "end_time": "2023-10-24T14:10:00.098973",
     "exception": false,
     "start_time": "2023-10-24T14:10:00.066684",
     "status": "completed"
    },
    "tags": []
   },
   "source": [
    "각 피처 별로 탐색"
   ]
  },
  {
   "cell_type": "code",
   "execution_count": 12,
   "id": "3f3803e2",
   "metadata": {
    "execution": {
     "iopub.execute_input": "2023-10-24T14:10:00.166256Z",
     "iopub.status.busy": "2023-10-24T14:10:00.165830Z",
     "iopub.status.idle": "2023-10-24T14:10:00.183188Z",
     "shell.execute_reply": "2023-10-24T14:10:00.182135Z"
    },
    "papermill": {
     "duration": 0.054227,
     "end_time": "2023-10-24T14:10:00.186000",
     "exception": false,
     "start_time": "2023-10-24T14:10:00.131773",
     "status": "completed"
    },
    "tags": []
   },
   "outputs": [
    {
     "data": {
      "text/html": [
       "<div>\n",
       "<style scoped>\n",
       "    .dataframe tbody tr th:only-of-type {\n",
       "        vertical-align: middle;\n",
       "    }\n",
       "\n",
       "    .dataframe tbody tr th {\n",
       "        vertical-align: top;\n",
       "    }\n",
       "\n",
       "    .dataframe thead th {\n",
       "        text-align: right;\n",
       "    }\n",
       "</style>\n",
       "<table border=\"1\" class=\"dataframe\">\n",
       "  <thead>\n",
       "    <tr style=\"text-align: right;\">\n",
       "      <th></th>\n",
       "      <th>Survived</th>\n",
       "    </tr>\n",
       "    <tr>\n",
       "      <th>Pclass</th>\n",
       "      <th></th>\n",
       "    </tr>\n",
       "  </thead>\n",
       "  <tbody>\n",
       "    <tr>\n",
       "      <th>1</th>\n",
       "      <td>0.629630</td>\n",
       "    </tr>\n",
       "    <tr>\n",
       "      <th>2</th>\n",
       "      <td>0.472826</td>\n",
       "    </tr>\n",
       "    <tr>\n",
       "      <th>3</th>\n",
       "      <td>0.242363</td>\n",
       "    </tr>\n",
       "  </tbody>\n",
       "</table>\n",
       "</div>"
      ],
      "text/plain": [
       "        Survived\n",
       "Pclass          \n",
       "1       0.629630\n",
       "2       0.472826\n",
       "3       0.242363"
      ]
     },
     "execution_count": 12,
     "metadata": {},
     "output_type": "execute_result"
    }
   ],
   "source": [
    "df_train[['Pclass','Survived']].groupby('Pclass').mean().sort_values('Survived',ascending=False)"
   ]
  },
  {
   "cell_type": "code",
   "execution_count": 13,
   "id": "7c46b2af",
   "metadata": {
    "execution": {
     "iopub.execute_input": "2023-10-24T14:10:00.253654Z",
     "iopub.status.busy": "2023-10-24T14:10:00.253232Z",
     "iopub.status.idle": "2023-10-24T14:10:00.267230Z",
     "shell.execute_reply": "2023-10-24T14:10:00.266026Z"
    },
    "papermill": {
     "duration": 0.050933,
     "end_time": "2023-10-24T14:10:00.269848",
     "exception": false,
     "start_time": "2023-10-24T14:10:00.218915",
     "status": "completed"
    },
    "tags": []
   },
   "outputs": [
    {
     "data": {
      "text/html": [
       "<div>\n",
       "<style scoped>\n",
       "    .dataframe tbody tr th:only-of-type {\n",
       "        vertical-align: middle;\n",
       "    }\n",
       "\n",
       "    .dataframe tbody tr th {\n",
       "        vertical-align: top;\n",
       "    }\n",
       "\n",
       "    .dataframe thead th {\n",
       "        text-align: right;\n",
       "    }\n",
       "</style>\n",
       "<table border=\"1\" class=\"dataframe\">\n",
       "  <thead>\n",
       "    <tr style=\"text-align: right;\">\n",
       "      <th></th>\n",
       "      <th>Survived</th>\n",
       "    </tr>\n",
       "    <tr>\n",
       "      <th>Sex</th>\n",
       "      <th></th>\n",
       "    </tr>\n",
       "  </thead>\n",
       "  <tbody>\n",
       "    <tr>\n",
       "      <th>female</th>\n",
       "      <td>0.742038</td>\n",
       "    </tr>\n",
       "    <tr>\n",
       "      <th>male</th>\n",
       "      <td>0.188908</td>\n",
       "    </tr>\n",
       "  </tbody>\n",
       "</table>\n",
       "</div>"
      ],
      "text/plain": [
       "        Survived\n",
       "Sex             \n",
       "female  0.742038\n",
       "male    0.188908"
      ]
     },
     "execution_count": 13,
     "metadata": {},
     "output_type": "execute_result"
    }
   ],
   "source": [
    "df_train[['Sex','Survived']].groupby('Sex').mean().sort_values('Survived', ascending=False)"
   ]
  },
  {
   "cell_type": "code",
   "execution_count": 14,
   "id": "03e25e5f",
   "metadata": {
    "execution": {
     "iopub.execute_input": "2023-10-24T14:10:00.338951Z",
     "iopub.status.busy": "2023-10-24T14:10:00.337591Z",
     "iopub.status.idle": "2023-10-24T14:10:00.351874Z",
     "shell.execute_reply": "2023-10-24T14:10:00.351060Z"
    },
    "papermill": {
     "duration": 0.051159,
     "end_time": "2023-10-24T14:10:00.354115",
     "exception": false,
     "start_time": "2023-10-24T14:10:00.302956",
     "status": "completed"
    },
    "tags": []
   },
   "outputs": [
    {
     "data": {
      "text/html": [
       "<div>\n",
       "<style scoped>\n",
       "    .dataframe tbody tr th:only-of-type {\n",
       "        vertical-align: middle;\n",
       "    }\n",
       "\n",
       "    .dataframe tbody tr th {\n",
       "        vertical-align: top;\n",
       "    }\n",
       "\n",
       "    .dataframe thead th {\n",
       "        text-align: right;\n",
       "    }\n",
       "</style>\n",
       "<table border=\"1\" class=\"dataframe\">\n",
       "  <thead>\n",
       "    <tr style=\"text-align: right;\">\n",
       "      <th></th>\n",
       "      <th>Survived</th>\n",
       "    </tr>\n",
       "    <tr>\n",
       "      <th>SibSp</th>\n",
       "      <th></th>\n",
       "    </tr>\n",
       "  </thead>\n",
       "  <tbody>\n",
       "    <tr>\n",
       "      <th>0</th>\n",
       "      <td>0.345395</td>\n",
       "    </tr>\n",
       "    <tr>\n",
       "      <th>1</th>\n",
       "      <td>0.535885</td>\n",
       "    </tr>\n",
       "    <tr>\n",
       "      <th>2</th>\n",
       "      <td>0.464286</td>\n",
       "    </tr>\n",
       "    <tr>\n",
       "      <th>3</th>\n",
       "      <td>0.250000</td>\n",
       "    </tr>\n",
       "    <tr>\n",
       "      <th>4</th>\n",
       "      <td>0.166667</td>\n",
       "    </tr>\n",
       "    <tr>\n",
       "      <th>5</th>\n",
       "      <td>0.000000</td>\n",
       "    </tr>\n",
       "    <tr>\n",
       "      <th>8</th>\n",
       "      <td>0.000000</td>\n",
       "    </tr>\n",
       "  </tbody>\n",
       "</table>\n",
       "</div>"
      ],
      "text/plain": [
       "       Survived\n",
       "SibSp          \n",
       "0      0.345395\n",
       "1      0.535885\n",
       "2      0.464286\n",
       "3      0.250000\n",
       "4      0.166667\n",
       "5      0.000000\n",
       "8      0.000000"
      ]
     },
     "execution_count": 14,
     "metadata": {},
     "output_type": "execute_result"
    }
   ],
   "source": [
    "df_train[['SibSp','Survived']].groupby('SibSp').mean().sort_values('SibSp')"
   ]
  },
  {
   "cell_type": "code",
   "execution_count": 15,
   "id": "e8c445cc",
   "metadata": {
    "execution": {
     "iopub.execute_input": "2023-10-24T14:10:00.423002Z",
     "iopub.status.busy": "2023-10-24T14:10:00.422289Z",
     "iopub.status.idle": "2023-10-24T14:10:00.436686Z",
     "shell.execute_reply": "2023-10-24T14:10:00.435409Z"
    },
    "papermill": {
     "duration": 0.05173,
     "end_time": "2023-10-24T14:10:00.439250",
     "exception": false,
     "start_time": "2023-10-24T14:10:00.387520",
     "status": "completed"
    },
    "tags": []
   },
   "outputs": [
    {
     "data": {
      "text/html": [
       "<div>\n",
       "<style scoped>\n",
       "    .dataframe tbody tr th:only-of-type {\n",
       "        vertical-align: middle;\n",
       "    }\n",
       "\n",
       "    .dataframe tbody tr th {\n",
       "        vertical-align: top;\n",
       "    }\n",
       "\n",
       "    .dataframe thead th {\n",
       "        text-align: right;\n",
       "    }\n",
       "</style>\n",
       "<table border=\"1\" class=\"dataframe\">\n",
       "  <thead>\n",
       "    <tr style=\"text-align: right;\">\n",
       "      <th></th>\n",
       "      <th>Survived</th>\n",
       "    </tr>\n",
       "    <tr>\n",
       "      <th>Parch</th>\n",
       "      <th></th>\n",
       "    </tr>\n",
       "  </thead>\n",
       "  <tbody>\n",
       "    <tr>\n",
       "      <th>0</th>\n",
       "      <td>0.343658</td>\n",
       "    </tr>\n",
       "    <tr>\n",
       "      <th>1</th>\n",
       "      <td>0.550847</td>\n",
       "    </tr>\n",
       "    <tr>\n",
       "      <th>2</th>\n",
       "      <td>0.500000</td>\n",
       "    </tr>\n",
       "    <tr>\n",
       "      <th>3</th>\n",
       "      <td>0.600000</td>\n",
       "    </tr>\n",
       "    <tr>\n",
       "      <th>4</th>\n",
       "      <td>0.000000</td>\n",
       "    </tr>\n",
       "    <tr>\n",
       "      <th>5</th>\n",
       "      <td>0.200000</td>\n",
       "    </tr>\n",
       "    <tr>\n",
       "      <th>6</th>\n",
       "      <td>0.000000</td>\n",
       "    </tr>\n",
       "  </tbody>\n",
       "</table>\n",
       "</div>"
      ],
      "text/plain": [
       "       Survived\n",
       "Parch          \n",
       "0      0.343658\n",
       "1      0.550847\n",
       "2      0.500000\n",
       "3      0.600000\n",
       "4      0.000000\n",
       "5      0.200000\n",
       "6      0.000000"
      ]
     },
     "execution_count": 15,
     "metadata": {},
     "output_type": "execute_result"
    }
   ],
   "source": [
    "df_train[['Parch','Survived']].groupby('Parch').mean().sort_values('Parch')"
   ]
  },
  {
   "cell_type": "code",
   "execution_count": 16,
   "id": "be796e21",
   "metadata": {
    "execution": {
     "iopub.execute_input": "2023-10-24T14:10:00.509419Z",
     "iopub.status.busy": "2023-10-24T14:10:00.508987Z",
     "iopub.status.idle": "2023-10-24T14:10:00.523454Z",
     "shell.execute_reply": "2023-10-24T14:10:00.522425Z"
    },
    "papermill": {
     "duration": 0.052233,
     "end_time": "2023-10-24T14:10:00.525891",
     "exception": false,
     "start_time": "2023-10-24T14:10:00.473658",
     "status": "completed"
    },
    "tags": []
   },
   "outputs": [
    {
     "data": {
      "text/html": [
       "<div>\n",
       "<style scoped>\n",
       "    .dataframe tbody tr th:only-of-type {\n",
       "        vertical-align: middle;\n",
       "    }\n",
       "\n",
       "    .dataframe tbody tr th {\n",
       "        vertical-align: top;\n",
       "    }\n",
       "\n",
       "    .dataframe thead th {\n",
       "        text-align: right;\n",
       "    }\n",
       "</style>\n",
       "<table border=\"1\" class=\"dataframe\">\n",
       "  <thead>\n",
       "    <tr style=\"text-align: right;\">\n",
       "      <th></th>\n",
       "      <th>Survived</th>\n",
       "    </tr>\n",
       "    <tr>\n",
       "      <th>Embarked</th>\n",
       "      <th></th>\n",
       "    </tr>\n",
       "  </thead>\n",
       "  <tbody>\n",
       "    <tr>\n",
       "      <th>C</th>\n",
       "      <td>0.553571</td>\n",
       "    </tr>\n",
       "    <tr>\n",
       "      <th>Q</th>\n",
       "      <td>0.389610</td>\n",
       "    </tr>\n",
       "    <tr>\n",
       "      <th>S</th>\n",
       "      <td>0.336957</td>\n",
       "    </tr>\n",
       "  </tbody>\n",
       "</table>\n",
       "</div>"
      ],
      "text/plain": [
       "          Survived\n",
       "Embarked          \n",
       "C         0.553571\n",
       "Q         0.389610\n",
       "S         0.336957"
      ]
     },
     "execution_count": 16,
     "metadata": {},
     "output_type": "execute_result"
    }
   ],
   "source": [
    "df_train[['Embarked','Survived']].groupby('Embarked').mean().sort_values('Survived', ascending=False)"
   ]
  },
  {
   "cell_type": "code",
   "execution_count": 17,
   "id": "e0f94c59",
   "metadata": {
    "execution": {
     "iopub.execute_input": "2023-10-24T14:10:00.596547Z",
     "iopub.status.busy": "2023-10-24T14:10:00.596148Z",
     "iopub.status.idle": "2023-10-24T14:10:01.406346Z",
     "shell.execute_reply": "2023-10-24T14:10:01.405131Z"
    },
    "papermill": {
     "duration": 0.849442,
     "end_time": "2023-10-24T14:10:01.409324",
     "exception": false,
     "start_time": "2023-10-24T14:10:00.559882",
     "status": "completed"
    },
    "tags": []
   },
   "outputs": [
    {
     "name": "stderr",
     "output_type": "stream",
     "text": [
      "/opt/conda/lib/python3.10/site-packages/seaborn/axisgrid.py:118: UserWarning: The figure layout has changed to tight\n",
      "  self._figure.tight_layout(*args, **kwargs)\n"
     ]
    },
    {
     "data": {
      "text/plain": [
       "<seaborn.axisgrid.FacetGrid at 0x784917689f90>"
      ]
     },
     "execution_count": 17,
     "metadata": {},
     "output_type": "execute_result"
    },
    {
     "data": {
      "image/png": "[encoded data removed]",
      "text/plain": [
       "<Figure size 600x300 with 2 Axes>"
      ]
     },
     "metadata": {},
     "output_type": "display_data"
    }
   ],
   "source": [
    "g = sns.FacetGrid(df_train,col='Survived' , hue = 'Survived')\n",
    "g.map(plt.hist,'Age', bins = 20)"
   ]
  },
  {
   "cell_type": "code",
   "execution_count": 18,
   "id": "516e22a0",
   "metadata": {
    "execution": {
     "iopub.execute_input": "2023-10-24T14:10:01.481531Z",
     "iopub.status.busy": "2023-10-24T14:10:01.480566Z",
     "iopub.status.idle": "2023-10-24T14:10:04.578975Z",
     "shell.execute_reply": "2023-10-24T14:10:04.578111Z"
    },
    "papermill": {
     "duration": 3.13749,
     "end_time": "2023-10-24T14:10:04.581275",
     "exception": false,
     "start_time": "2023-10-24T14:10:01.443785",
     "status": "completed"
    },
    "tags": []
   },
   "outputs": [
    {
     "name": "stderr",
     "output_type": "stream",
     "text": [
      "/opt/conda/lib/python3.10/site-packages/seaborn/axisgrid.py:118: UserWarning: The figure layout has changed to tight\n",
      "  self._figure.tight_layout(*args, **kwargs)\n"
     ]
    },
    {
     "data": {
      "text/plain": [
       "<seaborn.axisgrid.FacetGrid at 0x7848f9f6dab0>"
      ]
     },
     "execution_count": 18,
     "metadata": {},
     "output_type": "execute_result"
    },
    {
     "data": {
      "image/png": "[encoded data removed]",
      "text/plain": [
       "<Figure size 658.875x900 with 6 Axes>"
      ]
     },
     "metadata": {},
     "output_type": "display_data"
    }
   ],
   "source": [
    "g = sns.FacetGrid(df_train,col='Survived' , row = 'Pclass' , hue = 'Pclass')\n",
    "g.map(plt.hist,'Age', bins = 20)\n",
    "g.add_legend()"
   ]
  },
  {
   "cell_type": "code",
   "execution_count": 19,
   "id": "062375e1",
   "metadata": {
    "execution": {
     "iopub.execute_input": "2023-10-24T14:10:04.655334Z",
     "iopub.status.busy": "2023-10-24T14:10:04.654709Z",
     "iopub.status.idle": "2023-10-24T14:10:06.546123Z",
     "shell.execute_reply": "2023-10-24T14:10:06.545002Z"
    },
    "papermill": {
     "duration": 1.931716,
     "end_time": "2023-10-24T14:10:06.548773",
     "exception": false,
     "start_time": "2023-10-24T14:10:04.617057",
     "status": "completed"
    },
    "tags": []
   },
   "outputs": [
    {
     "name": "stderr",
     "output_type": "stream",
     "text": [
      "/opt/conda/lib/python3.10/site-packages/seaborn/axisgrid.py:118: UserWarning: The figure layout has changed to tight\n",
      "  self._figure.tight_layout(*args, **kwargs)\n"
     ]
    },
    {
     "data": {
      "text/plain": [
       "<seaborn.axisgrid.FacetGrid at 0x7848f7101960>"
      ]
     },
     "execution_count": 19,
     "metadata": {},
     "output_type": "execute_result"
    },
    {
     "data": {
      "image/png": "[encoded data removed]",
      "text/plain": [
       "<Figure size 998x300 with 3 Axes>"
      ]
     },
     "metadata": {},
     "output_type": "display_data"
    }
   ],
   "source": [
    "g = sns.FacetGrid(df_train,col='Embarked')\n",
    "g.map(sns.pointplot, 'Pclass', 'Survived', 'Sex', palette='deep', order = [1, 2, 3], hue_order = [\"male\", \"female\"])\n",
    "g.add_legend()"
   ]
  },
  {
   "cell_type": "code",
   "execution_count": 20,
   "id": "65f79a38",
   "metadata": {
    "execution": {
     "iopub.execute_input": "2023-10-24T14:10:06.623121Z",
     "iopub.status.busy": "2023-10-24T14:10:06.622639Z",
     "iopub.status.idle": "2023-10-24T14:10:08.969331Z",
     "shell.execute_reply": "2023-10-24T14:10:08.968238Z"
    },
    "papermill": {
     "duration": 2.386962,
     "end_time": "2023-10-24T14:10:08.971885",
     "exception": false,
     "start_time": "2023-10-24T14:10:06.584923",
     "status": "completed"
    },
    "tags": []
   },
   "outputs": [
    {
     "name": "stderr",
     "output_type": "stream",
     "text": [
      "/opt/conda/lib/python3.10/site-packages/seaborn/axisgrid.py:848: FutureWarning: \n",
      "\n",
      "The `ci` parameter is deprecated. Use `errorbar=None` for the same effect.\n",
      "\n",
      "  func(*plot_args, **plot_kwargs)\n",
      "/opt/conda/lib/python3.10/site-packages/seaborn/axisgrid.py:848: FutureWarning: \n",
      "\n",
      "The `ci` parameter is deprecated. Use `errorbar=None` for the same effect.\n",
      "\n",
      "  func(*plot_args, **plot_kwargs)\n",
      "/opt/conda/lib/python3.10/site-packages/seaborn/axisgrid.py:848: FutureWarning: \n",
      "\n",
      "The `ci` parameter is deprecated. Use `errorbar=None` for the same effect.\n",
      "\n",
      "  func(*plot_args, **plot_kwargs)\n",
      "/opt/conda/lib/python3.10/site-packages/seaborn/axisgrid.py:848: FutureWarning: \n",
      "\n",
      "The `ci` parameter is deprecated. Use `errorbar=None` for the same effect.\n",
      "\n",
      "  func(*plot_args, **plot_kwargs)\n",
      "/opt/conda/lib/python3.10/site-packages/seaborn/axisgrid.py:848: FutureWarning: \n",
      "\n",
      "The `ci` parameter is deprecated. Use `errorbar=None` for the same effect.\n",
      "\n",
      "  func(*plot_args, **plot_kwargs)\n",
      "/opt/conda/lib/python3.10/site-packages/seaborn/axisgrid.py:848: FutureWarning: \n",
      "\n",
      "The `ci` parameter is deprecated. Use `errorbar=None` for the same effect.\n",
      "\n",
      "  func(*plot_args, **plot_kwargs)\n",
      "/opt/conda/lib/python3.10/site-packages/seaborn/axisgrid.py:848: FutureWarning: \n",
      "\n",
      "The `ci` parameter is deprecated. Use `errorbar=None` for the same effect.\n",
      "\n",
      "  func(*plot_args, **plot_kwargs)\n",
      "/opt/conda/lib/python3.10/site-packages/seaborn/axisgrid.py:848: FutureWarning: \n",
      "\n",
      "The `ci` parameter is deprecated. Use `errorbar=None` for the same effect.\n",
      "\n",
      "  func(*plot_args, **plot_kwargs)\n",
      "/opt/conda/lib/python3.10/site-packages/seaborn/axisgrid.py:848: FutureWarning: \n",
      "\n",
      "The `ci` parameter is deprecated. Use `errorbar=None` for the same effect.\n",
      "\n",
      "  func(*plot_args, **plot_kwargs)\n",
      "/opt/conda/lib/python3.10/site-packages/seaborn/axisgrid.py:848: FutureWarning: \n",
      "\n",
      "The `ci` parameter is deprecated. Use `errorbar=None` for the same effect.\n",
      "\n",
      "  func(*plot_args, **plot_kwargs)\n",
      "/opt/conda/lib/python3.10/site-packages/seaborn/axisgrid.py:848: FutureWarning: \n",
      "\n",
      "The `ci` parameter is deprecated. Use `errorbar=None` for the same effect.\n",
      "\n",
      "  func(*plot_args, **plot_kwargs)\n",
      "/opt/conda/lib/python3.10/site-packages/seaborn/axisgrid.py:848: FutureWarning: \n",
      "\n",
      "The `ci` parameter is deprecated. Use `errorbar=None` for the same effect.\n",
      "\n",
      "  func(*plot_args, **plot_kwargs)\n",
      "/opt/conda/lib/python3.10/site-packages/seaborn/axisgrid.py:118: UserWarning: The figure layout has changed to tight\n",
      "  self._figure.tight_layout(*args, **kwargs)\n"
     ]
    },
    {
     "data": {
      "text/plain": [
       "<seaborn.axisgrid.FacetGrid at 0x7848f6facf70>"
      ]
     },
     "execution_count": 20,
     "metadata": {},
     "output_type": "execute_result"
    },
    {
     "data": {
      "image/png": "[encoded data removed]",
      "text/plain": [
       "<Figure size 802x660 with 6 Axes>"
      ]
     },
     "metadata": {},
     "output_type": "display_data"
    }
   ],
   "source": [
    "g = sns.FacetGrid(df_train, row='Embarked', col='Survived', height=2.2, aspect=1.6, hue='Sex')\n",
    "\n",
    "g.map(sns.barplot, 'Sex', 'Fare', alpha=.5, ci=None,order=[\"male\",\"female\"])\n",
    "\n",
    "g.add_legend()"
   ]
  },
  {
   "cell_type": "markdown",
   "id": "6e03a454",
   "metadata": {
    "papermill": {
     "duration": 0.037126,
     "end_time": "2023-10-24T14:10:09.049081",
     "exception": false,
     "start_time": "2023-10-24T14:10:09.011955",
     "status": "completed"
    },
    "tags": []
   },
   "source": [
    "Age 범위 쪼개기 1보다 작은 나이를 1로 합침 "
   ]
  },
  {
   "cell_type": "code",
   "execution_count": 21,
   "id": "730f1123",
   "metadata": {
    "execution": {
     "iopub.execute_input": "2023-10-24T14:10:09.128618Z",
     "iopub.status.busy": "2023-10-24T14:10:09.127461Z",
     "iopub.status.idle": "2023-10-24T14:10:12.203865Z",
     "shell.execute_reply": "2023-10-24T14:10:12.202594Z"
    },
    "papermill": {
     "duration": 3.119458,
     "end_time": "2023-10-24T14:10:12.206568",
     "exception": false,
     "start_time": "2023-10-24T14:10:09.087110",
     "status": "completed"
    },
    "tags": []
   },
   "outputs": [
    {
     "name": "stderr",
     "output_type": "stream",
     "text": [
      "/opt/conda/lib/python3.10/site-packages/seaborn/axisgrid.py:118: UserWarning: The figure layout has changed to tight\n",
      "  self._figure.tight_layout(*args, **kwargs)\n"
     ]
    },
    {
     "data": {
      "text/plain": [
       "<seaborn.axisgrid.FacetGrid at 0x7848f6faf280>"
      ]
     },
     "execution_count": 21,
     "metadata": {},
     "output_type": "execute_result"
    },
    {
     "data": {
      "image/png": "[encoded data removed]",
      "text/plain": [
       "<Figure size 698x900 with 6 Axes>"
      ]
     },
     "metadata": {},
     "output_type": "display_data"
    }
   ],
   "source": [
    "grid = sns.FacetGrid(df_train, row='Pclass', col='Sex', hue='Sex')\n",
    "grid.map(plt.hist, 'Age', alpha=.5, bins=20)\n",
    "grid.add_legend()"
   ]
  },
  {
   "cell_type": "code",
   "execution_count": 22,
   "id": "d5e364b9",
   "metadata": {
    "execution": {
     "iopub.execute_input": "2023-10-24T14:10:12.286173Z",
     "iopub.status.busy": "2023-10-24T14:10:12.285017Z",
     "iopub.status.idle": "2023-10-24T14:10:12.302735Z",
     "shell.execute_reply": "2023-10-24T14:10:12.301758Z"
    },
    "papermill": {
     "duration": 0.059875,
     "end_time": "2023-10-24T14:10:12.304968",
     "exception": false,
     "start_time": "2023-10-24T14:10:12.245093",
     "status": "completed"
    },
    "tags": []
   },
   "outputs": [
    {
     "data": {
      "text/html": [
       "<div>\n",
       "<style scoped>\n",
       "    .dataframe tbody tr th:only-of-type {\n",
       "        vertical-align: middle;\n",
       "    }\n",
       "\n",
       "    .dataframe tbody tr th {\n",
       "        vertical-align: top;\n",
       "    }\n",
       "\n",
       "    .dataframe thead th {\n",
       "        text-align: right;\n",
       "    }\n",
       "</style>\n",
       "<table border=\"1\" class=\"dataframe\">\n",
       "  <thead>\n",
       "    <tr style=\"text-align: right;\">\n",
       "      <th></th>\n",
       "      <th>Survived</th>\n",
       "      <th>Pclass</th>\n",
       "      <th>Name</th>\n",
       "      <th>Sex</th>\n",
       "      <th>Age</th>\n",
       "      <th>SibSp</th>\n",
       "      <th>Parch</th>\n",
       "      <th>Fare</th>\n",
       "      <th>Cabin</th>\n",
       "      <th>Embarked</th>\n",
       "    </tr>\n",
       "  </thead>\n",
       "  <tbody>\n",
       "    <tr>\n",
       "      <th>0</th>\n",
       "      <td>0</td>\n",
       "      <td>3</td>\n",
       "      <td>Braund, Mr. Owen Harris</td>\n",
       "      <td>male</td>\n",
       "      <td>22.0</td>\n",
       "      <td>1</td>\n",
       "      <td>0</td>\n",
       "      <td>7.2500</td>\n",
       "      <td>NaN</td>\n",
       "      <td>S</td>\n",
       "    </tr>\n",
       "    <tr>\n",
       "      <th>1</th>\n",
       "      <td>1</td>\n",
       "      <td>1</td>\n",
       "      <td>Cumings, Mrs. John Bradley (Florence Briggs Th...</td>\n",
       "      <td>female</td>\n",
       "      <td>38.0</td>\n",
       "      <td>1</td>\n",
       "      <td>0</td>\n",
       "      <td>71.2833</td>\n",
       "      <td>C85</td>\n",
       "      <td>C</td>\n",
       "    </tr>\n",
       "    <tr>\n",
       "      <th>2</th>\n",
       "      <td>1</td>\n",
       "      <td>3</td>\n",
       "      <td>Heikkinen, Miss. Laina</td>\n",
       "      <td>female</td>\n",
       "      <td>26.0</td>\n",
       "      <td>0</td>\n",
       "      <td>0</td>\n",
       "      <td>7.9250</td>\n",
       "      <td>NaN</td>\n",
       "      <td>S</td>\n",
       "    </tr>\n",
       "    <tr>\n",
       "      <th>3</th>\n",
       "      <td>1</td>\n",
       "      <td>1</td>\n",
       "      <td>Futrelle, Mrs. Jacques Heath (Lily May Peel)</td>\n",
       "      <td>female</td>\n",
       "      <td>35.0</td>\n",
       "      <td>1</td>\n",
       "      <td>0</td>\n",
       "      <td>53.1000</td>\n",
       "      <td>C123</td>\n",
       "      <td>S</td>\n",
       "    </tr>\n",
       "    <tr>\n",
       "      <th>4</th>\n",
       "      <td>0</td>\n",
       "      <td>3</td>\n",
       "      <td>Allen, Mr. William Henry</td>\n",
       "      <td>male</td>\n",
       "      <td>35.0</td>\n",
       "      <td>0</td>\n",
       "      <td>0</td>\n",
       "      <td>8.0500</td>\n",
       "      <td>NaN</td>\n",
       "      <td>S</td>\n",
       "    </tr>\n",
       "  </tbody>\n",
       "</table>\n",
       "</div>"
      ],
      "text/plain": [
       "   Survived  Pclass                                               Name  \\\n",
       "0         0       3                            Braund, Mr. Owen Harris   \n",
       "1         1       1  Cumings, Mrs. John Bradley (Florence Briggs Th...   \n",
       "2         1       3                             Heikkinen, Miss. Laina   \n",
       "3         1       1       Futrelle, Mrs. Jacques Heath (Lily May Peel)   \n",
       "4         0       3                           Allen, Mr. William Henry   \n",
       "\n",
       "      Sex   Age  SibSp  Parch     Fare Cabin Embarked  \n",
       "0    male  22.0      1      0   7.2500   NaN        S  \n",
       "1  female  38.0      1      0  71.2833   C85        C  \n",
       "2  female  26.0      0      0   7.9250   NaN        S  \n",
       "3  female  35.0      1      0  53.1000  C123        S  \n",
       "4    male  35.0      0      0   8.0500   NaN        S  "
      ]
     },
     "execution_count": 22,
     "metadata": {},
     "output_type": "execute_result"
    }
   ],
   "source": [
    "df_train.head()"
   ]
  },
  {
   "cell_type": "code",
   "execution_count": 23,
   "id": "5eaaf975",
   "metadata": {
    "execution": {
     "iopub.execute_input": "2023-10-24T14:10:12.385812Z",
     "iopub.status.busy": "2023-10-24T14:10:12.384436Z",
     "iopub.status.idle": "2023-10-24T14:10:12.739775Z",
     "shell.execute_reply": "2023-10-24T14:10:12.738630Z"
    },
    "papermill": {
     "duration": 0.398296,
     "end_time": "2023-10-24T14:10:12.742304",
     "exception": false,
     "start_time": "2023-10-24T14:10:12.344008",
     "status": "completed"
    },
    "tags": []
   },
   "outputs": [
    {
     "data": {
      "text/plain": [
       "<Axes: >"
      ]
     },
     "execution_count": 23,
     "metadata": {},
     "output_type": "execute_result"
    },
    {
     "data": {
      "image/png": "[encoded data removed]",
      "text/plain": [
       "<Figure size 640x480 with 1 Axes>"
      ]
     },
     "metadata": {},
     "output_type": "display_data"
    }
   ],
   "source": [
    "df_train[\"Age\"].hist()"
   ]
  },
  {
   "cell_type": "code",
   "execution_count": 24,
   "id": "44f6eb25",
   "metadata": {
    "execution": {
     "iopub.execute_input": "2023-10-24T14:10:12.824444Z",
     "iopub.status.busy": "2023-10-24T14:10:12.823124Z",
     "iopub.status.idle": "2023-10-24T14:10:12.841496Z",
     "shell.execute_reply": "2023-10-24T14:10:12.840200Z"
    },
    "papermill": {
     "duration": 0.063948,
     "end_time": "2023-10-24T14:10:12.844991",
     "exception": false,
     "start_time": "2023-10-24T14:10:12.781043",
     "status": "completed"
    },
    "tags": []
   },
   "outputs": [
    {
     "data": {
      "text/plain": [
       "Age\n",
       "0.42     1\n",
       "0.67     1\n",
       "0.75     2\n",
       "0.83     2\n",
       "0.92     1\n",
       "        ..\n",
       "70.00    2\n",
       "70.50    1\n",
       "71.00    2\n",
       "74.00    1\n",
       "80.00    1\n",
       "Name: count, Length: 88, dtype: int64"
      ]
     },
     "execution_count": 24,
     "metadata": {},
     "output_type": "execute_result"
    }
   ],
   "source": [
    "df_train['Age'].value_counts().sort_index()"
   ]
  },
  {
   "cell_type": "code",
   "execution_count": 25,
   "id": "3fd3bea2",
   "metadata": {
    "execution": {
     "iopub.execute_input": "2023-10-24T14:10:12.933448Z",
     "iopub.status.busy": "2023-10-24T14:10:12.932806Z",
     "iopub.status.idle": "2023-10-24T14:10:12.940372Z",
     "shell.execute_reply": "2023-10-24T14:10:12.939315Z"
    },
    "papermill": {
     "duration": 0.050802,
     "end_time": "2023-10-24T14:10:12.942602",
     "exception": false,
     "start_time": "2023-10-24T14:10:12.891800",
     "status": "completed"
    },
    "tags": []
   },
   "outputs": [
    {
     "data": {
      "text/plain": [
       "177"
      ]
     },
     "execution_count": 25,
     "metadata": {},
     "output_type": "execute_result"
    }
   ],
   "source": [
    "df_train['Age'].isnull().sum()"
   ]
  },
  {
   "cell_type": "code",
   "execution_count": 26,
   "id": "2019499d",
   "metadata": {
    "execution": {
     "iopub.execute_input": "2023-10-24T14:10:13.024212Z",
     "iopub.status.busy": "2023-10-24T14:10:13.023830Z",
     "iopub.status.idle": "2023-10-24T14:10:13.047963Z",
     "shell.execute_reply": "2023-10-24T14:10:13.046749Z"
    },
    "papermill": {
     "duration": 0.067629,
     "end_time": "2023-10-24T14:10:13.050426",
     "exception": false,
     "start_time": "2023-10-24T14:10:12.982797",
     "status": "completed"
    },
    "tags": []
   },
   "outputs": [
    {
     "data": {
      "text/html": [
       "<div>\n",
       "<style scoped>\n",
       "    .dataframe tbody tr th:only-of-type {\n",
       "        vertical-align: middle;\n",
       "    }\n",
       "\n",
       "    .dataframe tbody tr th {\n",
       "        vertical-align: top;\n",
       "    }\n",
       "\n",
       "    .dataframe thead th {\n",
       "        text-align: right;\n",
       "    }\n",
       "</style>\n",
       "<table border=\"1\" class=\"dataframe\">\n",
       "  <thead>\n",
       "    <tr style=\"text-align: right;\">\n",
       "      <th></th>\n",
       "      <th>Survived</th>\n",
       "      <th>Pclass</th>\n",
       "      <th>Name</th>\n",
       "      <th>Sex</th>\n",
       "      <th>Age</th>\n",
       "      <th>SibSp</th>\n",
       "      <th>Parch</th>\n",
       "      <th>Fare</th>\n",
       "      <th>Cabin</th>\n",
       "      <th>Embarked</th>\n",
       "    </tr>\n",
       "  </thead>\n",
       "  <tbody>\n",
       "    <tr>\n",
       "      <th>0</th>\n",
       "      <td>0</td>\n",
       "      <td>3</td>\n",
       "      <td>Braund, Mr. Owen Harris</td>\n",
       "      <td>male</td>\n",
       "      <td>22.0</td>\n",
       "      <td>1</td>\n",
       "      <td>0</td>\n",
       "      <td>7.2500</td>\n",
       "      <td>NaN</td>\n",
       "      <td>S</td>\n",
       "    </tr>\n",
       "    <tr>\n",
       "      <th>4</th>\n",
       "      <td>0</td>\n",
       "      <td>3</td>\n",
       "      <td>Allen, Mr. William Henry</td>\n",
       "      <td>male</td>\n",
       "      <td>35.0</td>\n",
       "      <td>0</td>\n",
       "      <td>0</td>\n",
       "      <td>8.0500</td>\n",
       "      <td>NaN</td>\n",
       "      <td>S</td>\n",
       "    </tr>\n",
       "    <tr>\n",
       "      <th>5</th>\n",
       "      <td>0</td>\n",
       "      <td>3</td>\n",
       "      <td>Moran, Mr. James</td>\n",
       "      <td>male</td>\n",
       "      <td>NaN</td>\n",
       "      <td>0</td>\n",
       "      <td>0</td>\n",
       "      <td>8.4583</td>\n",
       "      <td>NaN</td>\n",
       "      <td>Q</td>\n",
       "    </tr>\n",
       "    <tr>\n",
       "      <th>6</th>\n",
       "      <td>0</td>\n",
       "      <td>1</td>\n",
       "      <td>McCarthy, Mr. Timothy J</td>\n",
       "      <td>male</td>\n",
       "      <td>54.0</td>\n",
       "      <td>0</td>\n",
       "      <td>0</td>\n",
       "      <td>51.8625</td>\n",
       "      <td>E46</td>\n",
       "      <td>S</td>\n",
       "    </tr>\n",
       "    <tr>\n",
       "      <th>7</th>\n",
       "      <td>0</td>\n",
       "      <td>3</td>\n",
       "      <td>Palsson, Master. Gosta Leonard</td>\n",
       "      <td>male</td>\n",
       "      <td>2.0</td>\n",
       "      <td>3</td>\n",
       "      <td>1</td>\n",
       "      <td>21.0750</td>\n",
       "      <td>NaN</td>\n",
       "      <td>S</td>\n",
       "    </tr>\n",
       "    <tr>\n",
       "      <th>...</th>\n",
       "      <td>...</td>\n",
       "      <td>...</td>\n",
       "      <td>...</td>\n",
       "      <td>...</td>\n",
       "      <td>...</td>\n",
       "      <td>...</td>\n",
       "      <td>...</td>\n",
       "      <td>...</td>\n",
       "      <td>...</td>\n",
       "      <td>...</td>\n",
       "    </tr>\n",
       "    <tr>\n",
       "      <th>883</th>\n",
       "      <td>0</td>\n",
       "      <td>2</td>\n",
       "      <td>Banfield, Mr. Frederick James</td>\n",
       "      <td>male</td>\n",
       "      <td>28.0</td>\n",
       "      <td>0</td>\n",
       "      <td>0</td>\n",
       "      <td>10.5000</td>\n",
       "      <td>NaN</td>\n",
       "      <td>S</td>\n",
       "    </tr>\n",
       "    <tr>\n",
       "      <th>884</th>\n",
       "      <td>0</td>\n",
       "      <td>3</td>\n",
       "      <td>Sutehall, Mr. Henry Jr</td>\n",
       "      <td>male</td>\n",
       "      <td>25.0</td>\n",
       "      <td>0</td>\n",
       "      <td>0</td>\n",
       "      <td>7.0500</td>\n",
       "      <td>NaN</td>\n",
       "      <td>S</td>\n",
       "    </tr>\n",
       "    <tr>\n",
       "      <th>886</th>\n",
       "      <td>0</td>\n",
       "      <td>2</td>\n",
       "      <td>Montvila, Rev. Juozas</td>\n",
       "      <td>male</td>\n",
       "      <td>27.0</td>\n",
       "      <td>0</td>\n",
       "      <td>0</td>\n",
       "      <td>13.0000</td>\n",
       "      <td>NaN</td>\n",
       "      <td>S</td>\n",
       "    </tr>\n",
       "    <tr>\n",
       "      <th>889</th>\n",
       "      <td>1</td>\n",
       "      <td>1</td>\n",
       "      <td>Behr, Mr. Karl Howell</td>\n",
       "      <td>male</td>\n",
       "      <td>26.0</td>\n",
       "      <td>0</td>\n",
       "      <td>0</td>\n",
       "      <td>30.0000</td>\n",
       "      <td>C148</td>\n",
       "      <td>C</td>\n",
       "    </tr>\n",
       "    <tr>\n",
       "      <th>890</th>\n",
       "      <td>0</td>\n",
       "      <td>3</td>\n",
       "      <td>Dooley, Mr. Patrick</td>\n",
       "      <td>male</td>\n",
       "      <td>32.0</td>\n",
       "      <td>0</td>\n",
       "      <td>0</td>\n",
       "      <td>7.7500</td>\n",
       "      <td>NaN</td>\n",
       "      <td>Q</td>\n",
       "    </tr>\n",
       "  </tbody>\n",
       "</table>\n",
       "<p>577 rows × 10 columns</p>\n",
       "</div>"
      ],
      "text/plain": [
       "     Survived  Pclass                            Name   Sex   Age  SibSp  \\\n",
       "0           0       3         Braund, Mr. Owen Harris  male  22.0      1   \n",
       "4           0       3        Allen, Mr. William Henry  male  35.0      0   \n",
       "5           0       3                Moran, Mr. James  male   NaN      0   \n",
       "6           0       1         McCarthy, Mr. Timothy J  male  54.0      0   \n",
       "7           0       3  Palsson, Master. Gosta Leonard  male   2.0      3   \n",
       "..        ...     ...                             ...   ...   ...    ...   \n",
       "883         0       2   Banfield, Mr. Frederick James  male  28.0      0   \n",
       "884         0       3          Sutehall, Mr. Henry Jr  male  25.0      0   \n",
       "886         0       2           Montvila, Rev. Juozas  male  27.0      0   \n",
       "889         1       1           Behr, Mr. Karl Howell  male  26.0      0   \n",
       "890         0       3             Dooley, Mr. Patrick  male  32.0      0   \n",
       "\n",
       "     Parch     Fare Cabin Embarked  \n",
       "0        0   7.2500   NaN        S  \n",
       "4        0   8.0500   NaN        S  \n",
       "5        0   8.4583   NaN        Q  \n",
       "6        0  51.8625   E46        S  \n",
       "7        1  21.0750   NaN        S  \n",
       "..     ...      ...   ...      ...  \n",
       "883      0  10.5000   NaN        S  \n",
       "884      0   7.0500   NaN        S  \n",
       "886      0  13.0000   NaN        S  \n",
       "889      0  30.0000  C148        C  \n",
       "890      0   7.7500   NaN        Q  \n",
       "\n",
       "[577 rows x 10 columns]"
      ]
     },
     "execution_count": 26,
     "metadata": {},
     "output_type": "execute_result"
    }
   ],
   "source": [
    "df_train[df_train['Sex'] == 'male']"
   ]
  },
  {
   "cell_type": "code",
   "execution_count": 27,
   "id": "df9c769c",
   "metadata": {
    "execution": {
     "iopub.execute_input": "2023-10-24T14:10:13.133784Z",
     "iopub.status.busy": "2023-10-24T14:10:13.132928Z",
     "iopub.status.idle": "2023-10-24T14:10:13.184407Z",
     "shell.execute_reply": "2023-10-24T14:10:13.183118Z"
    },
    "papermill": {
     "duration": 0.097028,
     "end_time": "2023-10-24T14:10:13.187226",
     "exception": false,
     "start_time": "2023-10-24T14:10:13.090198",
     "status": "completed"
    },
    "tags": []
   },
   "outputs": [
    {
     "name": "stdout",
     "output_type": "stream",
     "text": [
      "[[40.  30.  25. ]\n",
      " [35.  28.  21.5]]\n",
      "[[42. 28. 24.]\n",
      " [41. 24. 22.]]\n"
     ]
    },
    {
     "data": {
      "text/plain": [
       "Survived      0\n",
       "Pclass        0\n",
       "Name          0\n",
       "Sex           0\n",
       "Age           0\n",
       "SibSp         0\n",
       "Parch         0\n",
       "Fare          0\n",
       "Cabin       687\n",
       "Embarked      2\n",
       "dtype: int64"
      ]
     },
     "execution_count": 27,
     "metadata": {},
     "output_type": "execute_result"
    }
   ],
   "source": [
    "combine = [df_train, df_test]\n",
    "\n",
    "guess_ages = np.zeros((2,3))\n",
    "for dataset in combine:\n",
    "    for i in range(0, 2):\n",
    "        for j in range(0, 3):\n",
    "            if(i == 0):\n",
    "                guess_df = dataset[(dataset['Sex'] == 'male') & \n",
    "                                  (dataset['Pclass'] == j+1)]['Age'].dropna()\n",
    "             # 위에서 guess_ages사이즈를 [2,3]으로 잡아뒀으므로 j의 범위도 이를 따름\n",
    "            \n",
    "                age_guess = guess_df.median()\n",
    "\n",
    "             # age의 random값의 소수점을 .5에 가깝도록 변형\n",
    "                guess_ages[i,j] = int( age_guess/0.5 + 0.5 ) * 0.5           \n",
    "            else:\n",
    "                guess_df = dataset[(dataset['Sex'] == 'female') & \n",
    "                                  (dataset['Pclass'] == j+1)]['Age'].dropna()\n",
    "             # 위에서 guess_ages사이즈를 [2,3]으로 잡아뒀으므로 j의 범위도 이를 따름\n",
    "            \n",
    "                age_guess = guess_df.median()\n",
    "\n",
    "             # age의 random값의 소수점을 .5에 가깝도록 변형\n",
    "                guess_ages[i,j] = int( age_guess/0.5 + 0.5 ) * 0.5      \n",
    "   \n",
    "    for i in range(0, 2):\n",
    "        for j in range(0, 3):\n",
    "            if(i == 0):\n",
    "                dataset.loc[ (dataset.Age.isnull()) & (dataset.Sex == 'male') & (dataset.Pclass == j+1), 'Age'] = guess_ages[i,j]\n",
    "\n",
    "            else:\n",
    "                dataset.loc[ (dataset.Age.isnull()) & (dataset.Sex == 'female') & (dataset.Pclass == j+1),'Age'] = guess_ages[i,j]\n",
    "\n",
    "\n",
    "    dataset['Age'] = dataset['Age'].astype(int)\n",
    "    print(guess_ages)\n",
    "\n",
    "df_train.isnull().sum()"
   ]
  },
  {
   "cell_type": "markdown",
   "id": "7036bd97",
   "metadata": {
    "papermill": {
     "duration": 0.039633,
     "end_time": "2023-10-24T14:10:13.266615",
     "exception": false,
     "start_time": "2023-10-24T14:10:13.226982",
     "status": "completed"
    },
    "tags": []
   },
   "source": []
  },
  {
   "cell_type": "code",
   "execution_count": 28,
   "id": "54abebca",
   "metadata": {
    "execution": {
     "iopub.execute_input": "2023-10-24T14:10:13.349190Z",
     "iopub.status.busy": "2023-10-24T14:10:13.348811Z",
     "iopub.status.idle": "2023-10-24T14:10:13.353341Z",
     "shell.execute_reply": "2023-10-24T14:10:13.352211Z"
    },
    "papermill": {
     "duration": 0.048685,
     "end_time": "2023-10-24T14:10:13.355655",
     "exception": false,
     "start_time": "2023-10-24T14:10:13.306970",
     "status": "completed"
    },
    "tags": []
   },
   "outputs": [],
   "source": [
    "# df_train['Age'].mean().round(2)"
   ]
  },
  {
   "cell_type": "code",
   "execution_count": 29,
   "id": "f002a3e6",
   "metadata": {
    "execution": {
     "iopub.execute_input": "2023-10-24T14:10:13.439119Z",
     "iopub.status.busy": "2023-10-24T14:10:13.438377Z",
     "iopub.status.idle": "2023-10-24T14:10:13.442557Z",
     "shell.execute_reply": "2023-10-24T14:10:13.441627Z"
    },
    "papermill": {
     "duration": 0.048463,
     "end_time": "2023-10-24T14:10:13.444973",
     "exception": false,
     "start_time": "2023-10-24T14:10:13.396510",
     "status": "completed"
    },
    "tags": []
   },
   "outputs": [],
   "source": [
    "# age_mean = df_train['Age'].mean().round(2)\n",
    "# df_train[\"Age\"] = df_train[\"Age\"].fillna(age_mean)\n",
    "# df_test[\"Age\"] = df_test[\"Age\"].fillna(age_mean)\n",
    "# df_train[\"Age\"].isnull().sum()"
   ]
  },
  {
   "cell_type": "code",
   "execution_count": 30,
   "id": "1fac6206",
   "metadata": {
    "execution": {
     "iopub.execute_input": "2023-10-24T14:10:13.526899Z",
     "iopub.status.busy": "2023-10-24T14:10:13.526166Z",
     "iopub.status.idle": "2023-10-24T14:10:13.534486Z",
     "shell.execute_reply": "2023-10-24T14:10:13.533224Z"
    },
    "papermill": {
     "duration": 0.052465,
     "end_time": "2023-10-24T14:10:13.537186",
     "exception": false,
     "start_time": "2023-10-24T14:10:13.484721",
     "status": "completed"
    },
    "tags": []
   },
   "outputs": [
    {
     "data": {
      "text/plain": [
       "0    22\n",
       "1    38\n",
       "2    26\n",
       "3    35\n",
       "4    35\n",
       "5    25\n",
       "6    54\n",
       "7     2\n",
       "8    27\n",
       "9    14\n",
       "Name: Age, dtype: int64"
      ]
     },
     "execution_count": 30,
     "metadata": {},
     "output_type": "execute_result"
    }
   ],
   "source": [
    "df_train[\"Age\"].head(10)"
   ]
  },
  {
   "cell_type": "code",
   "execution_count": 31,
   "id": "b2d4b3f9",
   "metadata": {
    "execution": {
     "iopub.execute_input": "2023-10-24T14:10:13.619798Z",
     "iopub.status.busy": "2023-10-24T14:10:13.619359Z",
     "iopub.status.idle": "2023-10-24T14:10:13.627132Z",
     "shell.execute_reply": "2023-10-24T14:10:13.626105Z"
    },
    "papermill": {
     "duration": 0.051881,
     "end_time": "2023-10-24T14:10:13.629514",
     "exception": false,
     "start_time": "2023-10-24T14:10:13.577633",
     "status": "completed"
    },
    "tags": []
   },
   "outputs": [
    {
     "data": {
      "text/plain": [
       "0"
      ]
     },
     "execution_count": 31,
     "metadata": {},
     "output_type": "execute_result"
    }
   ],
   "source": [
    "df_test[\"Age\"].isnull().sum()"
   ]
  },
  {
   "cell_type": "code",
   "execution_count": 32,
   "id": "05efb179",
   "metadata": {
    "execution": {
     "iopub.execute_input": "2023-10-24T14:10:13.712728Z",
     "iopub.status.busy": "2023-10-24T14:10:13.712281Z",
     "iopub.status.idle": "2023-10-24T14:10:13.720091Z",
     "shell.execute_reply": "2023-10-24T14:10:13.718772Z"
    },
    "papermill": {
     "duration": 0.052137,
     "end_time": "2023-10-24T14:10:13.722623",
     "exception": false,
     "start_time": "2023-10-24T14:10:13.670486",
     "status": "completed"
    },
    "tags": []
   },
   "outputs": [
    {
     "data": {
      "text/plain": [
       "array([22, 38, 26, 35, 25, 54,  2, 27, 14,  4, 58, 20, 39, 55, 30, 31, 21,\n",
       "       34, 15, 28,  8, 19, 40, 66, 42, 18,  3,  7, 49, 29, 65,  5, 11, 45,\n",
       "       17, 32, 16,  0, 33, 23, 24, 46, 59, 71, 37, 47, 70, 12,  9, 36, 51,\n",
       "       44,  1, 61, 56, 50, 62, 41, 52, 63, 43, 60, 10, 64, 13, 48, 53, 57,\n",
       "       80,  6, 74])"
      ]
     },
     "execution_count": 32,
     "metadata": {},
     "output_type": "execute_result"
    }
   ],
   "source": [
    "df_train[\"Age\"].unique()"
   ]
  },
  {
   "cell_type": "code",
   "execution_count": 33,
   "id": "51fc5d51",
   "metadata": {
    "execution": {
     "iopub.execute_input": "2023-10-24T14:10:13.805548Z",
     "iopub.status.busy": "2023-10-24T14:10:13.805153Z",
     "iopub.status.idle": "2023-10-24T14:10:13.812872Z",
     "shell.execute_reply": "2023-10-24T14:10:13.811602Z"
    },
    "papermill": {
     "duration": 0.051978,
     "end_time": "2023-10-24T14:10:13.815414",
     "exception": false,
     "start_time": "2023-10-24T14:10:13.763436",
     "status": "completed"
    },
    "tags": []
   },
   "outputs": [
    {
     "data": {
      "text/plain": [
       "71"
      ]
     },
     "execution_count": 33,
     "metadata": {},
     "output_type": "execute_result"
    }
   ],
   "source": [
    "df_train[\"Age\"].nunique()"
   ]
  },
  {
   "cell_type": "code",
   "execution_count": 34,
   "id": "782cecc0",
   "metadata": {
    "execution": {
     "iopub.execute_input": "2023-10-24T14:10:13.898778Z",
     "iopub.status.busy": "2023-10-24T14:10:13.898329Z",
     "iopub.status.idle": "2023-10-24T14:10:13.916141Z",
     "shell.execute_reply": "2023-10-24T14:10:13.914875Z"
    },
    "papermill": {
     "duration": 0.062149,
     "end_time": "2023-10-24T14:10:13.918556",
     "exception": false,
     "start_time": "2023-10-24T14:10:13.856407",
     "status": "completed"
    },
    "tags": []
   },
   "outputs": [
    {
     "data": {
      "text/html": [
       "<div>\n",
       "<style scoped>\n",
       "    .dataframe tbody tr th:only-of-type {\n",
       "        vertical-align: middle;\n",
       "    }\n",
       "\n",
       "    .dataframe tbody tr th {\n",
       "        vertical-align: top;\n",
       "    }\n",
       "\n",
       "    .dataframe thead th {\n",
       "        text-align: right;\n",
       "    }\n",
       "</style>\n",
       "<table border=\"1\" class=\"dataframe\">\n",
       "  <thead>\n",
       "    <tr style=\"text-align: right;\">\n",
       "      <th></th>\n",
       "      <th>Survived</th>\n",
       "      <th>Pclass</th>\n",
       "      <th>Name</th>\n",
       "      <th>Sex</th>\n",
       "      <th>Age</th>\n",
       "      <th>SibSp</th>\n",
       "      <th>Parch</th>\n",
       "      <th>Fare</th>\n",
       "      <th>Cabin</th>\n",
       "      <th>Embarked</th>\n",
       "    </tr>\n",
       "  </thead>\n",
       "  <tbody>\n",
       "    <tr>\n",
       "      <th>164</th>\n",
       "      <td>0</td>\n",
       "      <td>3</td>\n",
       "      <td>Panula, Master. Eino Viljami</td>\n",
       "      <td>male</td>\n",
       "      <td>1</td>\n",
       "      <td>4</td>\n",
       "      <td>1</td>\n",
       "      <td>39.6875</td>\n",
       "      <td>NaN</td>\n",
       "      <td>S</td>\n",
       "    </tr>\n",
       "    <tr>\n",
       "      <th>172</th>\n",
       "      <td>1</td>\n",
       "      <td>3</td>\n",
       "      <td>Johnson, Miss. Eleanor Ileen</td>\n",
       "      <td>female</td>\n",
       "      <td>1</td>\n",
       "      <td>1</td>\n",
       "      <td>1</td>\n",
       "      <td>11.1333</td>\n",
       "      <td>NaN</td>\n",
       "      <td>S</td>\n",
       "    </tr>\n",
       "    <tr>\n",
       "      <th>183</th>\n",
       "      <td>1</td>\n",
       "      <td>2</td>\n",
       "      <td>Becker, Master. Richard F</td>\n",
       "      <td>male</td>\n",
       "      <td>1</td>\n",
       "      <td>2</td>\n",
       "      <td>1</td>\n",
       "      <td>39.0000</td>\n",
       "      <td>F4</td>\n",
       "      <td>S</td>\n",
       "    </tr>\n",
       "    <tr>\n",
       "      <th>381</th>\n",
       "      <td>1</td>\n",
       "      <td>3</td>\n",
       "      <td>Nakid, Miss. Maria (\"Mary\")</td>\n",
       "      <td>female</td>\n",
       "      <td>1</td>\n",
       "      <td>0</td>\n",
       "      <td>2</td>\n",
       "      <td>15.7417</td>\n",
       "      <td>NaN</td>\n",
       "      <td>C</td>\n",
       "    </tr>\n",
       "    <tr>\n",
       "      <th>386</th>\n",
       "      <td>0</td>\n",
       "      <td>3</td>\n",
       "      <td>Goodwin, Master. Sidney Leonard</td>\n",
       "      <td>male</td>\n",
       "      <td>1</td>\n",
       "      <td>5</td>\n",
       "      <td>2</td>\n",
       "      <td>46.9000</td>\n",
       "      <td>NaN</td>\n",
       "      <td>S</td>\n",
       "    </tr>\n",
       "    <tr>\n",
       "      <th>788</th>\n",
       "      <td>1</td>\n",
       "      <td>3</td>\n",
       "      <td>Dean, Master. Bertram Vere</td>\n",
       "      <td>male</td>\n",
       "      <td>1</td>\n",
       "      <td>1</td>\n",
       "      <td>2</td>\n",
       "      <td>20.5750</td>\n",
       "      <td>NaN</td>\n",
       "      <td>S</td>\n",
       "    </tr>\n",
       "    <tr>\n",
       "      <th>827</th>\n",
       "      <td>1</td>\n",
       "      <td>2</td>\n",
       "      <td>Mallet, Master. Andre</td>\n",
       "      <td>male</td>\n",
       "      <td>1</td>\n",
       "      <td>0</td>\n",
       "      <td>2</td>\n",
       "      <td>37.0042</td>\n",
       "      <td>NaN</td>\n",
       "      <td>C</td>\n",
       "    </tr>\n",
       "  </tbody>\n",
       "</table>\n",
       "</div>"
      ],
      "text/plain": [
       "     Survived  Pclass                             Name     Sex  Age  SibSp  \\\n",
       "164         0       3     Panula, Master. Eino Viljami    male    1      4   \n",
       "172         1       3     Johnson, Miss. Eleanor Ileen  female    1      1   \n",
       "183         1       2        Becker, Master. Richard F    male    1      2   \n",
       "381         1       3      Nakid, Miss. Maria (\"Mary\")  female    1      0   \n",
       "386         0       3  Goodwin, Master. Sidney Leonard    male    1      5   \n",
       "788         1       3       Dean, Master. Bertram Vere    male    1      1   \n",
       "827         1       2            Mallet, Master. Andre    male    1      0   \n",
       "\n",
       "     Parch     Fare Cabin Embarked  \n",
       "164      1  39.6875   NaN        S  \n",
       "172      1  11.1333   NaN        S  \n",
       "183      1  39.0000    F4        S  \n",
       "381      2  15.7417   NaN        C  \n",
       "386      2  46.9000   NaN        S  \n",
       "788      2  20.5750   NaN        S  \n",
       "827      2  37.0042   NaN        C  "
      ]
     },
     "execution_count": 34,
     "metadata": {},
     "output_type": "execute_result"
    }
   ],
   "source": [
    "df_train[df_train[\"Age\"] ==1]"
   ]
  },
  {
   "cell_type": "code",
   "execution_count": 35,
   "id": "72c4eb2e",
   "metadata": {
    "execution": {
     "iopub.execute_input": "2023-10-24T14:10:14.002816Z",
     "iopub.status.busy": "2023-10-24T14:10:14.002396Z",
     "iopub.status.idle": "2023-10-24T14:10:14.013534Z",
     "shell.execute_reply": "2023-10-24T14:10:14.012409Z"
    },
    "papermill": {
     "duration": 0.056486,
     "end_time": "2023-10-24T14:10:14.016061",
     "exception": false,
     "start_time": "2023-10-24T14:10:13.959575",
     "status": "completed"
    },
    "tags": []
   },
   "outputs": [
    {
     "data": {
      "text/plain": [
       "Age\n",
       "0      7\n",
       "1      7\n",
       "2     10\n",
       "3      6\n",
       "4     10\n",
       "      ..\n",
       "66     1\n",
       "70     3\n",
       "71     2\n",
       "74     1\n",
       "80     1\n",
       "Name: count, Length: 71, dtype: int64"
      ]
     },
     "execution_count": 35,
     "metadata": {},
     "output_type": "execute_result"
    }
   ],
   "source": [
    "df_train['Age'].value_counts().sort_index()"
   ]
  },
  {
   "cell_type": "code",
   "execution_count": 36,
   "id": "ce1d6da3",
   "metadata": {
    "execution": {
     "iopub.execute_input": "2023-10-24T14:10:14.100743Z",
     "iopub.status.busy": "2023-10-24T14:10:14.100310Z",
     "iopub.status.idle": "2023-10-24T14:10:14.125746Z",
     "shell.execute_reply": "2023-10-24T14:10:14.124577Z"
    },
    "papermill": {
     "duration": 0.070912,
     "end_time": "2023-10-24T14:10:14.128247",
     "exception": false,
     "start_time": "2023-10-24T14:10:14.057335",
     "status": "completed"
    },
    "tags": []
   },
   "outputs": [
    {
     "data": {
      "text/plain": [
       "Ages\n",
       "1    563\n",
       "0    180\n",
       "2    126\n",
       "3     22\n",
       "Name: count, dtype: int64"
      ]
     },
     "execution_count": 36,
     "metadata": {},
     "output_type": "execute_result"
    }
   ],
   "source": [
    "df_train['Ages'] = 0\n",
    "\n",
    "df_train.loc[(df_train['Age'] >= 0) & (df_train['Age'] <= 20),'Ages'] = 0\n",
    "df_train.loc[(df_train['Age'] > 20) & (df_train['Age'] <= 40),'Ages'] = 1\n",
    "df_train.loc[(df_train['Age'] > 40) & (df_train['Age'] <= 60),'Ages'] = 2\n",
    "df_train.loc[(df_train['Age'] > 60),'Ages'] = 3\n",
    "df_train  =  df_train.drop(['Age'], axis = 1)\n",
    "df_test['Ages'] = 0\n",
    "\n",
    "df_test.loc[(df_test['Age'] >= 0) & (df_test['Age'] <= 20),'Ages'] = 0\n",
    "df_test.loc[(df_test['Age'] > 20) & (df_test['Age'] <= 40),'Ages'] = 1\n",
    "df_test.loc[(df_test['Age'] > 40) & (df_test['Age'] <= 60),'Ages'] = 2\n",
    "df_test.loc[(df_test['Age'] > 60),'Ages'] = 3\n",
    "df_test = df_test.drop(['Age'], axis = 1)\n",
    "\n",
    "df_train['Ages'].value_counts()"
   ]
  },
  {
   "cell_type": "code",
   "execution_count": 37,
   "id": "400c2f4c",
   "metadata": {
    "execution": {
     "iopub.execute_input": "2023-10-24T14:10:14.214005Z",
     "iopub.status.busy": "2023-10-24T14:10:14.212231Z",
     "iopub.status.idle": "2023-10-24T14:10:14.221216Z",
     "shell.execute_reply": "2023-10-24T14:10:14.220392Z"
    },
    "papermill": {
     "duration": 0.053643,
     "end_time": "2023-10-24T14:10:14.223466",
     "exception": false,
     "start_time": "2023-10-24T14:10:14.169823",
     "status": "completed"
    },
    "tags": []
   },
   "outputs": [
    {
     "data": {
      "text/plain": [
       "Ages\n",
       "1    264\n",
       "2     75\n",
       "0     69\n",
       "3     10\n",
       "Name: count, dtype: int64"
      ]
     },
     "execution_count": 37,
     "metadata": {},
     "output_type": "execute_result"
    }
   ],
   "source": [
    "df_test['Ages'].value_counts()"
   ]
  },
  {
   "cell_type": "code",
   "execution_count": 38,
   "id": "5256aafa",
   "metadata": {
    "execution": {
     "iopub.execute_input": "2023-10-24T14:10:14.309421Z",
     "iopub.status.busy": "2023-10-24T14:10:14.308685Z",
     "iopub.status.idle": "2023-10-24T14:10:14.313005Z",
     "shell.execute_reply": "2023-10-24T14:10:14.311919Z"
    },
    "papermill": {
     "duration": 0.050387,
     "end_time": "2023-10-24T14:10:14.315433",
     "exception": false,
     "start_time": "2023-10-24T14:10:14.265046",
     "status": "completed"
    },
    "tags": []
   },
   "outputs": [],
   "source": [
    "# df_train['AgeBand'] = pd.cut(df_train['Age'], 4)\n",
    "# # 임의로 5개 그룹을 지정\n",
    "# df_train[['AgeBand', 'Survived']].groupby(['AgeBand'], as_index=False).mean().sort_values(by='AgeBand', ascending=True)"
   ]
  },
  {
   "cell_type": "code",
   "execution_count": 39,
   "id": "5d8e2130",
   "metadata": {
    "execution": {
     "iopub.execute_input": "2023-10-24T14:10:14.402813Z",
     "iopub.status.busy": "2023-10-24T14:10:14.402117Z",
     "iopub.status.idle": "2023-10-24T14:10:14.417520Z",
     "shell.execute_reply": "2023-10-24T14:10:14.416280Z"
    },
    "papermill": {
     "duration": 0.063317,
     "end_time": "2023-10-24T14:10:14.420124",
     "exception": false,
     "start_time": "2023-10-24T14:10:14.356807",
     "status": "completed"
    },
    "tags": []
   },
   "outputs": [
    {
     "data": {
      "text/html": [
       "<div>\n",
       "<style scoped>\n",
       "    .dataframe tbody tr th:only-of-type {\n",
       "        vertical-align: middle;\n",
       "    }\n",
       "\n",
       "    .dataframe tbody tr th {\n",
       "        vertical-align: top;\n",
       "    }\n",
       "\n",
       "    .dataframe thead th {\n",
       "        text-align: right;\n",
       "    }\n",
       "</style>\n",
       "<table border=\"1\" class=\"dataframe\">\n",
       "  <thead>\n",
       "    <tr style=\"text-align: right;\">\n",
       "      <th></th>\n",
       "      <th>Survived</th>\n",
       "      <th>Pclass</th>\n",
       "      <th>Name</th>\n",
       "      <th>Sex</th>\n",
       "      <th>SibSp</th>\n",
       "      <th>Parch</th>\n",
       "      <th>Fare</th>\n",
       "      <th>Cabin</th>\n",
       "      <th>Embarked</th>\n",
       "      <th>Ages</th>\n",
       "    </tr>\n",
       "  </thead>\n",
       "  <tbody>\n",
       "    <tr>\n",
       "      <th>0</th>\n",
       "      <td>0</td>\n",
       "      <td>3</td>\n",
       "      <td>Braund, Mr. Owen Harris</td>\n",
       "      <td>male</td>\n",
       "      <td>1</td>\n",
       "      <td>0</td>\n",
       "      <td>7.2500</td>\n",
       "      <td>NaN</td>\n",
       "      <td>S</td>\n",
       "      <td>1</td>\n",
       "    </tr>\n",
       "    <tr>\n",
       "      <th>1</th>\n",
       "      <td>1</td>\n",
       "      <td>1</td>\n",
       "      <td>Cumings, Mrs. John Bradley (Florence Briggs Th...</td>\n",
       "      <td>female</td>\n",
       "      <td>1</td>\n",
       "      <td>0</td>\n",
       "      <td>71.2833</td>\n",
       "      <td>C85</td>\n",
       "      <td>C</td>\n",
       "      <td>1</td>\n",
       "    </tr>\n",
       "    <tr>\n",
       "      <th>2</th>\n",
       "      <td>1</td>\n",
       "      <td>3</td>\n",
       "      <td>Heikkinen, Miss. Laina</td>\n",
       "      <td>female</td>\n",
       "      <td>0</td>\n",
       "      <td>0</td>\n",
       "      <td>7.9250</td>\n",
       "      <td>NaN</td>\n",
       "      <td>S</td>\n",
       "      <td>1</td>\n",
       "    </tr>\n",
       "    <tr>\n",
       "      <th>3</th>\n",
       "      <td>1</td>\n",
       "      <td>1</td>\n",
       "      <td>Futrelle, Mrs. Jacques Heath (Lily May Peel)</td>\n",
       "      <td>female</td>\n",
       "      <td>1</td>\n",
       "      <td>0</td>\n",
       "      <td>53.1000</td>\n",
       "      <td>C123</td>\n",
       "      <td>S</td>\n",
       "      <td>1</td>\n",
       "    </tr>\n",
       "    <tr>\n",
       "      <th>4</th>\n",
       "      <td>0</td>\n",
       "      <td>3</td>\n",
       "      <td>Allen, Mr. William Henry</td>\n",
       "      <td>male</td>\n",
       "      <td>0</td>\n",
       "      <td>0</td>\n",
       "      <td>8.0500</td>\n",
       "      <td>NaN</td>\n",
       "      <td>S</td>\n",
       "      <td>1</td>\n",
       "    </tr>\n",
       "  </tbody>\n",
       "</table>\n",
       "</div>"
      ],
      "text/plain": [
       "   Survived  Pclass                                               Name  \\\n",
       "0         0       3                            Braund, Mr. Owen Harris   \n",
       "1         1       1  Cumings, Mrs. John Bradley (Florence Briggs Th...   \n",
       "2         1       3                             Heikkinen, Miss. Laina   \n",
       "3         1       1       Futrelle, Mrs. Jacques Heath (Lily May Peel)   \n",
       "4         0       3                           Allen, Mr. William Henry   \n",
       "\n",
       "      Sex  SibSp  Parch     Fare Cabin Embarked  Ages  \n",
       "0    male      1      0   7.2500   NaN        S     1  \n",
       "1  female      1      0  71.2833   C85        C     1  \n",
       "2  female      0      0   7.9250   NaN        S     1  \n",
       "3  female      1      0  53.1000  C123        S     1  \n",
       "4    male      0      0   8.0500   NaN        S     1  "
      ]
     },
     "execution_count": 39,
     "metadata": {},
     "output_type": "execute_result"
    }
   ],
   "source": [
    "df_train.head()"
   ]
  },
  {
   "cell_type": "code",
   "execution_count": 40,
   "id": "a87e5978",
   "metadata": {
    "execution": {
     "iopub.execute_input": "2023-10-24T14:10:14.506763Z",
     "iopub.status.busy": "2023-10-24T14:10:14.505947Z",
     "iopub.status.idle": "2023-10-24T14:10:14.817868Z",
     "shell.execute_reply": "2023-10-24T14:10:14.816675Z"
    },
    "papermill": {
     "duration": 0.359068,
     "end_time": "2023-10-24T14:10:14.821196",
     "exception": false,
     "start_time": "2023-10-24T14:10:14.462128",
     "status": "completed"
    },
    "tags": []
   },
   "outputs": [
    {
     "data": {
      "text/plain": [
       "<Axes: >"
      ]
     },
     "execution_count": 40,
     "metadata": {},
     "output_type": "execute_result"
    },
    {
     "data": {
      "image/png": "[encoded data removed]",
      "text/plain": [
       "<Figure size 640x480 with 1 Axes>"
      ]
     },
     "metadata": {},
     "output_type": "display_data"
    }
   ],
   "source": [
    "df_train['Ages'].hist()"
   ]
  },
  {
   "cell_type": "markdown",
   "id": "e7445448",
   "metadata": {
    "papermill": {
     "duration": 0.042217,
     "end_time": "2023-10-24T14:10:14.906796",
     "exception": false,
     "start_time": "2023-10-24T14:10:14.864579",
     "status": "completed"
    },
    "tags": []
   },
   "source": [
    "SibSp , Parch 변수를 이용하여 family 변수 만들기"
   ]
  },
  {
   "cell_type": "code",
   "execution_count": 41,
   "id": "5df51b65",
   "metadata": {
    "execution": {
     "iopub.execute_input": "2023-10-24T14:10:14.993561Z",
     "iopub.status.busy": "2023-10-24T14:10:14.993143Z",
     "iopub.status.idle": "2023-10-24T14:10:15.017404Z",
     "shell.execute_reply": "2023-10-24T14:10:15.016458Z"
    },
    "papermill": {
     "duration": 0.070513,
     "end_time": "2023-10-24T14:10:15.019653",
     "exception": false,
     "start_time": "2023-10-24T14:10:14.949140",
     "status": "completed"
    },
    "tags": []
   },
   "outputs": [
    {
     "name": "stdout",
     "output_type": "stream",
     "text": [
      "family_size\n",
      "1     537\n",
      "2     161\n",
      "3     102\n",
      "4      29\n",
      "5      15\n",
      "6      22\n",
      "7      12\n",
      "8       6\n",
      "11      7\n",
      "Name: count, dtype: int64\n"
     ]
    },
    {
     "data": {
      "text/html": [
       "<div>\n",
       "<style scoped>\n",
       "    .dataframe tbody tr th:only-of-type {\n",
       "        vertical-align: middle;\n",
       "    }\n",
       "\n",
       "    .dataframe tbody tr th {\n",
       "        vertical-align: top;\n",
       "    }\n",
       "\n",
       "    .dataframe thead th {\n",
       "        text-align: right;\n",
       "    }\n",
       "</style>\n",
       "<table border=\"1\" class=\"dataframe\">\n",
       "  <thead>\n",
       "    <tr style=\"text-align: right;\">\n",
       "      <th></th>\n",
       "      <th>family_size</th>\n",
       "      <th>Survived</th>\n",
       "    </tr>\n",
       "  </thead>\n",
       "  <tbody>\n",
       "    <tr>\n",
       "      <th>3</th>\n",
       "      <td>4.0</td>\n",
       "      <td>0.724138</td>\n",
       "    </tr>\n",
       "    <tr>\n",
       "      <th>2</th>\n",
       "      <td>3.0</td>\n",
       "      <td>0.578431</td>\n",
       "    </tr>\n",
       "    <tr>\n",
       "      <th>1</th>\n",
       "      <td>2.0</td>\n",
       "      <td>0.552795</td>\n",
       "    </tr>\n",
       "    <tr>\n",
       "      <th>6</th>\n",
       "      <td>7.0</td>\n",
       "      <td>0.333333</td>\n",
       "    </tr>\n",
       "    <tr>\n",
       "      <th>0</th>\n",
       "      <td>1.0</td>\n",
       "      <td>0.303538</td>\n",
       "    </tr>\n",
       "    <tr>\n",
       "      <th>4</th>\n",
       "      <td>5.0</td>\n",
       "      <td>0.200000</td>\n",
       "    </tr>\n",
       "    <tr>\n",
       "      <th>5</th>\n",
       "      <td>6.0</td>\n",
       "      <td>0.136364</td>\n",
       "    </tr>\n",
       "    <tr>\n",
       "      <th>7</th>\n",
       "      <td>8.0</td>\n",
       "      <td>0.000000</td>\n",
       "    </tr>\n",
       "    <tr>\n",
       "      <th>8</th>\n",
       "      <td>11.0</td>\n",
       "      <td>0.000000</td>\n",
       "    </tr>\n",
       "  </tbody>\n",
       "</table>\n",
       "</div>"
      ],
      "text/plain": [
       "   family_size  Survived\n",
       "3          4.0  0.724138\n",
       "2          3.0  0.578431\n",
       "1          2.0  0.552795\n",
       "6          7.0  0.333333\n",
       "0          1.0  0.303538\n",
       "4          5.0  0.200000\n",
       "5          6.0  0.136364\n",
       "7          8.0  0.000000\n",
       "8         11.0  0.000000"
      ]
     },
     "execution_count": 41,
     "metadata": {},
     "output_type": "execute_result"
    }
   ],
   "source": [
    "df_train[\"family_size\"] = df_train['SibSp'] + df_train[\"Parch\"] + 1\n",
    "df_test[\"family_size\"] = df_test['SibSp'] + df_test[\"Parch\"] + 1\n",
    "print(df_train[\"family_size\"].value_counts().sort_index())\n",
    "df_train.groupby('family_size',as_index=False)[['family_size','Survived']].mean().sort_values(by ='Survived' ,ascending = False)"
   ]
  },
  {
   "cell_type": "code",
   "execution_count": 42,
   "id": "7db61fee",
   "metadata": {
    "execution": {
     "iopub.execute_input": "2023-10-24T14:10:15.107534Z",
     "iopub.status.busy": "2023-10-24T14:10:15.106828Z",
     "iopub.status.idle": "2023-10-24T14:10:15.124761Z",
     "shell.execute_reply": "2023-10-24T14:10:15.123607Z"
    },
    "papermill": {
     "duration": 0.064793,
     "end_time": "2023-10-24T14:10:15.127291",
     "exception": false,
     "start_time": "2023-10-24T14:10:15.062498",
     "status": "completed"
    },
    "tags": []
   },
   "outputs": [
    {
     "data": {
      "text/html": [
       "<div>\n",
       "<style scoped>\n",
       "    .dataframe tbody tr th:only-of-type {\n",
       "        vertical-align: middle;\n",
       "    }\n",
       "\n",
       "    .dataframe tbody tr th {\n",
       "        vertical-align: top;\n",
       "    }\n",
       "\n",
       "    .dataframe thead th {\n",
       "        text-align: right;\n",
       "    }\n",
       "</style>\n",
       "<table border=\"1\" class=\"dataframe\">\n",
       "  <thead>\n",
       "    <tr style=\"text-align: right;\">\n",
       "      <th></th>\n",
       "      <th>Alone</th>\n",
       "      <th>Survived</th>\n",
       "    </tr>\n",
       "    <tr>\n",
       "      <th>Alone</th>\n",
       "      <th></th>\n",
       "      <th></th>\n",
       "    </tr>\n",
       "  </thead>\n",
       "  <tbody>\n",
       "    <tr>\n",
       "      <th>0</th>\n",
       "      <td>0.0</td>\n",
       "      <td>0.505650</td>\n",
       "    </tr>\n",
       "    <tr>\n",
       "      <th>1</th>\n",
       "      <td>1.0</td>\n",
       "      <td>0.303538</td>\n",
       "    </tr>\n",
       "  </tbody>\n",
       "</table>\n",
       "</div>"
      ],
      "text/plain": [
       "       Alone  Survived\n",
       "Alone                 \n",
       "0        0.0  0.505650\n",
       "1        1.0  0.303538"
      ]
     },
     "execution_count": 42,
     "metadata": {},
     "output_type": "execute_result"
    }
   ],
   "source": [
    "df_train[\"Alone\"] = 0\n",
    "df_train.loc[df_train['family_size'] == 1,\"Alone\"] = 1\n",
    "df_test[\"Alone\"] = 0\n",
    "df_test.loc[df_test['family_size'] == 1,\"Alone\"] = 1\n",
    "df_train.groupby('Alone')[['Alone','Survived']].mean()"
   ]
  },
  {
   "cell_type": "code",
   "execution_count": 43,
   "id": "167ab677",
   "metadata": {
    "execution": {
     "iopub.execute_input": "2023-10-24T14:10:15.215157Z",
     "iopub.status.busy": "2023-10-24T14:10:15.214593Z",
     "iopub.status.idle": "2023-10-24T14:10:15.234438Z",
     "shell.execute_reply": "2023-10-24T14:10:15.233176Z"
    },
    "papermill": {
     "duration": 0.06697,
     "end_time": "2023-10-24T14:10:15.237160",
     "exception": false,
     "start_time": "2023-10-24T14:10:15.170190",
     "status": "completed"
    },
    "tags": []
   },
   "outputs": [
    {
     "data": {
      "text/html": [
       "<div>\n",
       "<style scoped>\n",
       "    .dataframe tbody tr th:only-of-type {\n",
       "        vertical-align: middle;\n",
       "    }\n",
       "\n",
       "    .dataframe tbody tr th {\n",
       "        vertical-align: top;\n",
       "    }\n",
       "\n",
       "    .dataframe thead th {\n",
       "        text-align: right;\n",
       "    }\n",
       "</style>\n",
       "<table border=\"1\" class=\"dataframe\">\n",
       "  <thead>\n",
       "    <tr style=\"text-align: right;\">\n",
       "      <th></th>\n",
       "      <th>Survived</th>\n",
       "      <th>Pclass</th>\n",
       "      <th>Name</th>\n",
       "      <th>Sex</th>\n",
       "      <th>Fare</th>\n",
       "      <th>Cabin</th>\n",
       "      <th>Embarked</th>\n",
       "      <th>Ages</th>\n",
       "      <th>Alone</th>\n",
       "    </tr>\n",
       "  </thead>\n",
       "  <tbody>\n",
       "    <tr>\n",
       "      <th>0</th>\n",
       "      <td>0</td>\n",
       "      <td>3</td>\n",
       "      <td>Braund, Mr. Owen Harris</td>\n",
       "      <td>male</td>\n",
       "      <td>7.2500</td>\n",
       "      <td>NaN</td>\n",
       "      <td>S</td>\n",
       "      <td>1</td>\n",
       "      <td>0</td>\n",
       "    </tr>\n",
       "    <tr>\n",
       "      <th>1</th>\n",
       "      <td>1</td>\n",
       "      <td>1</td>\n",
       "      <td>Cumings, Mrs. John Bradley (Florence Briggs Th...</td>\n",
       "      <td>female</td>\n",
       "      <td>71.2833</td>\n",
       "      <td>C85</td>\n",
       "      <td>C</td>\n",
       "      <td>1</td>\n",
       "      <td>0</td>\n",
       "    </tr>\n",
       "    <tr>\n",
       "      <th>2</th>\n",
       "      <td>1</td>\n",
       "      <td>3</td>\n",
       "      <td>Heikkinen, Miss. Laina</td>\n",
       "      <td>female</td>\n",
       "      <td>7.9250</td>\n",
       "      <td>NaN</td>\n",
       "      <td>S</td>\n",
       "      <td>1</td>\n",
       "      <td>1</td>\n",
       "    </tr>\n",
       "    <tr>\n",
       "      <th>3</th>\n",
       "      <td>1</td>\n",
       "      <td>1</td>\n",
       "      <td>Futrelle, Mrs. Jacques Heath (Lily May Peel)</td>\n",
       "      <td>female</td>\n",
       "      <td>53.1000</td>\n",
       "      <td>C123</td>\n",
       "      <td>S</td>\n",
       "      <td>1</td>\n",
       "      <td>0</td>\n",
       "    </tr>\n",
       "    <tr>\n",
       "      <th>4</th>\n",
       "      <td>0</td>\n",
       "      <td>3</td>\n",
       "      <td>Allen, Mr. William Henry</td>\n",
       "      <td>male</td>\n",
       "      <td>8.0500</td>\n",
       "      <td>NaN</td>\n",
       "      <td>S</td>\n",
       "      <td>1</td>\n",
       "      <td>1</td>\n",
       "    </tr>\n",
       "  </tbody>\n",
       "</table>\n",
       "</div>"
      ],
      "text/plain": [
       "   Survived  Pclass                                               Name  \\\n",
       "0         0       3                            Braund, Mr. Owen Harris   \n",
       "1         1       1  Cumings, Mrs. John Bradley (Florence Briggs Th...   \n",
       "2         1       3                             Heikkinen, Miss. Laina   \n",
       "3         1       1       Futrelle, Mrs. Jacques Heath (Lily May Peel)   \n",
       "4         0       3                           Allen, Mr. William Henry   \n",
       "\n",
       "      Sex     Fare Cabin Embarked  Ages  Alone  \n",
       "0    male   7.2500   NaN        S     1      0  \n",
       "1  female  71.2833   C85        C     1      0  \n",
       "2  female   7.9250   NaN        S     1      1  \n",
       "3  female  53.1000  C123        S     1      0  \n",
       "4    male   8.0500   NaN        S     1      1  "
      ]
     },
     "execution_count": 43,
     "metadata": {},
     "output_type": "execute_result"
    }
   ],
   "source": [
    "df_train = df_train.drop(['Parch', 'SibSp', 'family_size'], axis=1)\n",
    "df_test = df_test.drop(['Parch', 'SibSp', 'family_size'], axis=1)\n",
    "df_train.head()"
   ]
  },
  {
   "cell_type": "code",
   "execution_count": 44,
   "id": "598eb570",
   "metadata": {
    "execution": {
     "iopub.execute_input": "2023-10-24T14:10:15.325647Z",
     "iopub.status.busy": "2023-10-24T14:10:15.325217Z",
     "iopub.status.idle": "2023-10-24T14:10:15.331488Z",
     "shell.execute_reply": "2023-10-24T14:10:15.329995Z"
    },
    "papermill": {
     "duration": 0.053506,
     "end_time": "2023-10-24T14:10:15.333889",
     "exception": false,
     "start_time": "2023-10-24T14:10:15.280383",
     "status": "completed"
    },
    "tags": []
   },
   "outputs": [
    {
     "name": "stdout",
     "output_type": "stream",
     "text": [
      "After (891, 9) (418, 9)\n"
     ]
    }
   ],
   "source": [
    "combine = [df_train, df_test]\n",
    "print(\"After\", df_train.shape, df_test.shape)"
   ]
  },
  {
   "cell_type": "markdown",
   "id": "6c5b8998",
   "metadata": {
    "papermill": {
     "duration": 0.042971,
     "end_time": "2023-10-24T14:10:15.420633",
     "exception": false,
     "start_time": "2023-10-24T14:10:15.377662",
     "status": "completed"
    },
    "tags": []
   },
   "source": [
    "Name 변수 처리하기"
   ]
  },
  {
   "cell_type": "code",
   "execution_count": 45,
   "id": "aac98aa8",
   "metadata": {
    "execution": {
     "iopub.execute_input": "2023-10-24T14:10:15.509190Z",
     "iopub.status.busy": "2023-10-24T14:10:15.508763Z",
     "iopub.status.idle": "2023-10-24T14:10:15.523936Z",
     "shell.execute_reply": "2023-10-24T14:10:15.523066Z"
    },
    "papermill": {
     "duration": 0.061811,
     "end_time": "2023-10-24T14:10:15.526224",
     "exception": false,
     "start_time": "2023-10-24T14:10:15.464413",
     "status": "completed"
    },
    "tags": []
   },
   "outputs": [
    {
     "data": {
      "text/plain": [
       "Name\n",
       "Mr              517\n",
       "Miss            182\n",
       "Mrs             125\n",
       "Master           40\n",
       "Dr                7\n",
       "Rev               6\n",
       "Mlle              2\n",
       "Major             2\n",
       "Col               2\n",
       "the Countess      1\n",
       "Capt              1\n",
       "Ms                1\n",
       "Sir               1\n",
       "Lady              1\n",
       "Mme               1\n",
       "Don               1\n",
       "Jonkheer          1\n",
       "Name: count, dtype: int64"
      ]
     },
     "execution_count": 45,
     "metadata": {},
     "output_type": "execute_result"
    }
   ],
   "source": [
    "df_train['Name'] = df_train['Name'].apply(lambda x : x.split(',')[1].split('.')[0].lstrip())\n",
    "df_test['Name'] = df_test['Name'].apply(lambda x : x.split(',')[1].split('.')[0].lstrip())\n",
    "df_train['Name'].value_counts()"
   ]
  },
  {
   "cell_type": "code",
   "execution_count": 46,
   "id": "724358f8",
   "metadata": {
    "execution": {
     "iopub.execute_input": "2023-10-24T14:10:15.616011Z",
     "iopub.status.busy": "2023-10-24T14:10:15.615606Z",
     "iopub.status.idle": "2023-10-24T14:10:15.624011Z",
     "shell.execute_reply": "2023-10-24T14:10:15.623182Z"
    },
    "papermill": {
     "duration": 0.055569,
     "end_time": "2023-10-24T14:10:15.626234",
     "exception": false,
     "start_time": "2023-10-24T14:10:15.570665",
     "status": "completed"
    },
    "tags": []
   },
   "outputs": [
    {
     "data": {
      "text/plain": [
       "Name\n",
       "Mr        240\n",
       "Miss       78\n",
       "Mrs        72\n",
       "Master     21\n",
       "Col         2\n",
       "Rev         2\n",
       "Ms          1\n",
       "Dr          1\n",
       "Dona        1\n",
       "Name: count, dtype: int64"
      ]
     },
     "execution_count": 46,
     "metadata": {},
     "output_type": "execute_result"
    }
   ],
   "source": [
    "df_test['Name'].value_counts()"
   ]
  },
  {
   "cell_type": "code",
   "execution_count": 47,
   "id": "2330e7c1",
   "metadata": {
    "execution": {
     "iopub.execute_input": "2023-10-24T14:10:15.716201Z",
     "iopub.status.busy": "2023-10-24T14:10:15.715807Z",
     "iopub.status.idle": "2023-10-24T14:10:15.741786Z",
     "shell.execute_reply": "2023-10-24T14:10:15.740546Z"
    },
    "papermill": {
     "duration": 0.074872,
     "end_time": "2023-10-24T14:10:15.744477",
     "exception": false,
     "start_time": "2023-10-24T14:10:15.669605",
     "status": "completed"
    },
    "tags": []
   },
   "outputs": [
    {
     "data": {
      "text/html": [
       "<div>\n",
       "<style scoped>\n",
       "    .dataframe tbody tr th:only-of-type {\n",
       "        vertical-align: middle;\n",
       "    }\n",
       "\n",
       "    .dataframe tbody tr th {\n",
       "        vertical-align: top;\n",
       "    }\n",
       "\n",
       "    .dataframe thead th {\n",
       "        text-align: right;\n",
       "    }\n",
       "</style>\n",
       "<table border=\"1\" class=\"dataframe\">\n",
       "  <thead>\n",
       "    <tr style=\"text-align: right;\">\n",
       "      <th>Sex</th>\n",
       "      <th>female</th>\n",
       "      <th>male</th>\n",
       "    </tr>\n",
       "    <tr>\n",
       "      <th>Name</th>\n",
       "      <th></th>\n",
       "      <th></th>\n",
       "    </tr>\n",
       "  </thead>\n",
       "  <tbody>\n",
       "    <tr>\n",
       "      <th>Capt</th>\n",
       "      <td>0</td>\n",
       "      <td>1</td>\n",
       "    </tr>\n",
       "    <tr>\n",
       "      <th>Col</th>\n",
       "      <td>0</td>\n",
       "      <td>2</td>\n",
       "    </tr>\n",
       "    <tr>\n",
       "      <th>Don</th>\n",
       "      <td>0</td>\n",
       "      <td>1</td>\n",
       "    </tr>\n",
       "    <tr>\n",
       "      <th>Dr</th>\n",
       "      <td>1</td>\n",
       "      <td>6</td>\n",
       "    </tr>\n",
       "    <tr>\n",
       "      <th>Jonkheer</th>\n",
       "      <td>0</td>\n",
       "      <td>1</td>\n",
       "    </tr>\n",
       "    <tr>\n",
       "      <th>Lady</th>\n",
       "      <td>1</td>\n",
       "      <td>0</td>\n",
       "    </tr>\n",
       "    <tr>\n",
       "      <th>Major</th>\n",
       "      <td>0</td>\n",
       "      <td>2</td>\n",
       "    </tr>\n",
       "    <tr>\n",
       "      <th>Master</th>\n",
       "      <td>0</td>\n",
       "      <td>40</td>\n",
       "    </tr>\n",
       "    <tr>\n",
       "      <th>Miss</th>\n",
       "      <td>182</td>\n",
       "      <td>0</td>\n",
       "    </tr>\n",
       "    <tr>\n",
       "      <th>Mlle</th>\n",
       "      <td>2</td>\n",
       "      <td>0</td>\n",
       "    </tr>\n",
       "    <tr>\n",
       "      <th>Mme</th>\n",
       "      <td>1</td>\n",
       "      <td>0</td>\n",
       "    </tr>\n",
       "    <tr>\n",
       "      <th>Mr</th>\n",
       "      <td>0</td>\n",
       "      <td>517</td>\n",
       "    </tr>\n",
       "    <tr>\n",
       "      <th>Mrs</th>\n",
       "      <td>125</td>\n",
       "      <td>0</td>\n",
       "    </tr>\n",
       "    <tr>\n",
       "      <th>Ms</th>\n",
       "      <td>1</td>\n",
       "      <td>0</td>\n",
       "    </tr>\n",
       "    <tr>\n",
       "      <th>Rev</th>\n",
       "      <td>0</td>\n",
       "      <td>6</td>\n",
       "    </tr>\n",
       "    <tr>\n",
       "      <th>Sir</th>\n",
       "      <td>0</td>\n",
       "      <td>1</td>\n",
       "    </tr>\n",
       "    <tr>\n",
       "      <th>the Countess</th>\n",
       "      <td>1</td>\n",
       "      <td>0</td>\n",
       "    </tr>\n",
       "  </tbody>\n",
       "</table>\n",
       "</div>"
      ],
      "text/plain": [
       "Sex           female  male\n",
       "Name                      \n",
       "Capt               0     1\n",
       "Col                0     2\n",
       "Don                0     1\n",
       "Dr                 1     6\n",
       "Jonkheer           0     1\n",
       "Lady               1     0\n",
       "Major              0     2\n",
       "Master             0    40\n",
       "Miss             182     0\n",
       "Mlle               2     0\n",
       "Mme                1     0\n",
       "Mr                 0   517\n",
       "Mrs              125     0\n",
       "Ms                 1     0\n",
       "Rev                0     6\n",
       "Sir                0     1\n",
       "the Countess       1     0"
      ]
     },
     "execution_count": 47,
     "metadata": {},
     "output_type": "execute_result"
    }
   ],
   "source": [
    "pd.crosstab(df_train['Name'], df_train['Sex'])"
   ]
  },
  {
   "cell_type": "code",
   "execution_count": 48,
   "id": "8e6df949",
   "metadata": {
    "execution": {
     "iopub.execute_input": "2023-10-24T14:10:15.835663Z",
     "iopub.status.busy": "2023-10-24T14:10:15.835272Z",
     "iopub.status.idle": "2023-10-24T14:10:15.843753Z",
     "shell.execute_reply": "2023-10-24T14:10:15.842578Z"
    },
    "papermill": {
     "duration": 0.05786,
     "end_time": "2023-10-24T14:10:15.846212",
     "exception": false,
     "start_time": "2023-10-24T14:10:15.788352",
     "status": "completed"
    },
    "tags": []
   },
   "outputs": [
    {
     "data": {
      "text/plain": [
       "['Mr',\n",
       " 'Mrs',\n",
       " 'Miss',\n",
       " 'Master',\n",
       " 'Don',\n",
       " 'Rev',\n",
       " 'Dr',\n",
       " 'Mme',\n",
       " 'Ms',\n",
       " 'Major',\n",
       " 'Lady',\n",
       " 'Sir',\n",
       " 'Mlle',\n",
       " 'Col',\n",
       " 'Capt',\n",
       " 'the Countess',\n",
       " 'Jonkheer']"
      ]
     },
     "execution_count": 48,
     "metadata": {},
     "output_type": "execute_result"
    }
   ],
   "source": [
    "name_list = df_train['Name'].unique().tolist()\n",
    "name_list"
   ]
  },
  {
   "cell_type": "code",
   "execution_count": 49,
   "id": "5da22995",
   "metadata": {
    "execution": {
     "iopub.execute_input": "2023-10-24T14:10:15.937015Z",
     "iopub.status.busy": "2023-10-24T14:10:15.936537Z",
     "iopub.status.idle": "2023-10-24T14:10:15.941887Z",
     "shell.execute_reply": "2023-10-24T14:10:15.940952Z"
    },
    "papermill": {
     "duration": 0.053807,
     "end_time": "2023-10-24T14:10:15.944163",
     "exception": false,
     "start_time": "2023-10-24T14:10:15.890356",
     "status": "completed"
    },
    "tags": []
   },
   "outputs": [],
   "source": [
    "name_list = ['Don',\n",
    " 'Rev',\n",
    " 'Dr',\n",
    " 'Mme',\n",
    " 'Ms',\n",
    " 'Major',\n",
    " 'Lady',\n",
    " 'Sir',\n",
    " 'Mlle',\n",
    " 'Col',\n",
    " 'Capt',\n",
    " 'the Countess',\n",
    " 'Jonkheer',\n",
    " 'Dona']"
   ]
  },
  {
   "cell_type": "code",
   "execution_count": 50,
   "id": "4ac31434",
   "metadata": {
    "execution": {
     "iopub.execute_input": "2023-10-24T14:10:16.035862Z",
     "iopub.status.busy": "2023-10-24T14:10:16.035465Z",
     "iopub.status.idle": "2023-10-24T14:10:16.040671Z",
     "shell.execute_reply": "2023-10-24T14:10:16.039598Z"
    },
    "papermill": {
     "duration": 0.05488,
     "end_time": "2023-10-24T14:10:16.043006",
     "exception": false,
     "start_time": "2023-10-24T14:10:15.988126",
     "status": "completed"
    },
    "tags": []
   },
   "outputs": [],
   "source": [
    "def give_grade(x):\n",
    "    if(x in name_list):\n",
    "        return 'Rare'\n",
    "#     elif(x == 'Master'):\n",
    "#         return 'Mr'\n",
    "#     elif(x == 'Mrs'):\n",
    "#         return 'Miss'\n",
    "    else:\n",
    "        return x"
   ]
  },
  {
   "cell_type": "code",
   "execution_count": 51,
   "id": "f675bf86",
   "metadata": {
    "execution": {
     "iopub.execute_input": "2023-10-24T14:10:16.133485Z",
     "iopub.status.busy": "2023-10-24T14:10:16.133073Z",
     "iopub.status.idle": "2023-10-24T14:10:16.144907Z",
     "shell.execute_reply": "2023-10-24T14:10:16.143779Z"
    },
    "papermill": {
     "duration": 0.059662,
     "end_time": "2023-10-24T14:10:16.147207",
     "exception": false,
     "start_time": "2023-10-24T14:10:16.087545",
     "status": "completed"
    },
    "tags": []
   },
   "outputs": [
    {
     "data": {
      "text/plain": [
       "Name\n",
       "Mr        517\n",
       "Miss      182\n",
       "Mrs       125\n",
       "Master     40\n",
       "Rare       27\n",
       "Name: count, dtype: int64"
      ]
     },
     "execution_count": 51,
     "metadata": {},
     "output_type": "execute_result"
    }
   ],
   "source": [
    "df_train['Name'] = df_train['Name'].apply(lambda x : give_grade(x))\n",
    "df_test['Name'] = df_test['Name'].apply(lambda x : give_grade(x))\n",
    "df_train['Name'].value_counts()"
   ]
  },
  {
   "cell_type": "code",
   "execution_count": 52,
   "id": "7f332dc9",
   "metadata": {
    "execution": {
     "iopub.execute_input": "2023-10-24T14:10:16.239116Z",
     "iopub.status.busy": "2023-10-24T14:10:16.238720Z",
     "iopub.status.idle": "2023-10-24T14:10:16.252467Z",
     "shell.execute_reply": "2023-10-24T14:10:16.251300Z"
    },
    "papermill": {
     "duration": 0.06267,
     "end_time": "2023-10-24T14:10:16.254896",
     "exception": false,
     "start_time": "2023-10-24T14:10:16.192226",
     "status": "completed"
    },
    "tags": []
   },
   "outputs": [
    {
     "data": {
      "text/html": [
       "<div>\n",
       "<style scoped>\n",
       "    .dataframe tbody tr th:only-of-type {\n",
       "        vertical-align: middle;\n",
       "    }\n",
       "\n",
       "    .dataframe tbody tr th {\n",
       "        vertical-align: top;\n",
       "    }\n",
       "\n",
       "    .dataframe thead th {\n",
       "        text-align: right;\n",
       "    }\n",
       "</style>\n",
       "<table border=\"1\" class=\"dataframe\">\n",
       "  <thead>\n",
       "    <tr style=\"text-align: right;\">\n",
       "      <th></th>\n",
       "      <th>Survived</th>\n",
       "    </tr>\n",
       "    <tr>\n",
       "      <th>Name</th>\n",
       "      <th></th>\n",
       "    </tr>\n",
       "  </thead>\n",
       "  <tbody>\n",
       "    <tr>\n",
       "      <th>Master</th>\n",
       "      <td>0.575000</td>\n",
       "    </tr>\n",
       "    <tr>\n",
       "      <th>Miss</th>\n",
       "      <td>0.697802</td>\n",
       "    </tr>\n",
       "    <tr>\n",
       "      <th>Mr</th>\n",
       "      <td>0.156673</td>\n",
       "    </tr>\n",
       "    <tr>\n",
       "      <th>Mrs</th>\n",
       "      <td>0.792000</td>\n",
       "    </tr>\n",
       "    <tr>\n",
       "      <th>Rare</th>\n",
       "      <td>0.444444</td>\n",
       "    </tr>\n",
       "  </tbody>\n",
       "</table>\n",
       "</div>"
      ],
      "text/plain": [
       "        Survived\n",
       "Name            \n",
       "Master  0.575000\n",
       "Miss    0.697802\n",
       "Mr      0.156673\n",
       "Mrs     0.792000\n",
       "Rare    0.444444"
      ]
     },
     "execution_count": 52,
     "metadata": {},
     "output_type": "execute_result"
    }
   ],
   "source": [
    "df_train[['Name','Survived']].groupby(['Name']).mean()"
   ]
  },
  {
   "cell_type": "markdown",
   "id": "940f4f6f",
   "metadata": {
    "papermill": {
     "duration": 0.04457,
     "end_time": "2023-10-24T14:10:16.343843",
     "exception": false,
     "start_time": "2023-10-24T14:10:16.299273",
     "status": "completed"
    },
    "tags": []
   },
   "source": [
    "name 변수를 숫자형 변수로 바꿔줌"
   ]
  },
  {
   "cell_type": "code",
   "execution_count": 53,
   "id": "18349cdb",
   "metadata": {
    "execution": {
     "iopub.execute_input": "2023-10-24T14:10:16.435163Z",
     "iopub.status.busy": "2023-10-24T14:10:16.434762Z",
     "iopub.status.idle": "2023-10-24T14:10:16.446361Z",
     "shell.execute_reply": "2023-10-24T14:10:16.445471Z"
    },
    "papermill": {
     "duration": 0.060007,
     "end_time": "2023-10-24T14:10:16.448453",
     "exception": false,
     "start_time": "2023-10-24T14:10:16.388446",
     "status": "completed"
    },
    "tags": []
   },
   "outputs": [
    {
     "data": {
      "text/plain": [
       "Name\n",
       "1    517\n",
       "2    182\n",
       "3    125\n",
       "4     40\n",
       "5     27\n",
       "Name: count, dtype: int64"
      ]
     },
     "execution_count": 53,
     "metadata": {},
     "output_type": "execute_result"
    }
   ],
   "source": [
    "title_mapping = {\"Mr\": 1, \"Miss\": 2, \"Mrs\": 3, \"Master\": 4, \"Rare\": 5}\n",
    "\n",
    "df_train['Name'] = df_train[\"Name\"].apply(lambda x : title_mapping[x])\n",
    "df_test['Name'] = df_test[\"Name\"].apply(lambda x : title_mapping[x])\n",
    "df_train['Name'].value_counts()"
   ]
  },
  {
   "cell_type": "code",
   "execution_count": 54,
   "id": "e32b6ea9",
   "metadata": {
    "execution": {
     "iopub.execute_input": "2023-10-24T14:10:16.540830Z",
     "iopub.status.busy": "2023-10-24T14:10:16.540430Z",
     "iopub.status.idle": "2023-10-24T14:10:16.555517Z",
     "shell.execute_reply": "2023-10-24T14:10:16.554588Z"
    },
    "papermill": {
     "duration": 0.064307,
     "end_time": "2023-10-24T14:10:16.557750",
     "exception": false,
     "start_time": "2023-10-24T14:10:16.493443",
     "status": "completed"
    },
    "tags": []
   },
   "outputs": [
    {
     "data": {
      "text/html": [
       "<div>\n",
       "<style scoped>\n",
       "    .dataframe tbody tr th:only-of-type {\n",
       "        vertical-align: middle;\n",
       "    }\n",
       "\n",
       "    .dataframe tbody tr th {\n",
       "        vertical-align: top;\n",
       "    }\n",
       "\n",
       "    .dataframe thead th {\n",
       "        text-align: right;\n",
       "    }\n",
       "</style>\n",
       "<table border=\"1\" class=\"dataframe\">\n",
       "  <thead>\n",
       "    <tr style=\"text-align: right;\">\n",
       "      <th></th>\n",
       "      <th>Survived</th>\n",
       "      <th>Pclass</th>\n",
       "      <th>Name</th>\n",
       "      <th>Sex</th>\n",
       "      <th>Fare</th>\n",
       "      <th>Cabin</th>\n",
       "      <th>Embarked</th>\n",
       "      <th>Ages</th>\n",
       "      <th>Alone</th>\n",
       "    </tr>\n",
       "  </thead>\n",
       "  <tbody>\n",
       "    <tr>\n",
       "      <th>0</th>\n",
       "      <td>0</td>\n",
       "      <td>3</td>\n",
       "      <td>1</td>\n",
       "      <td>male</td>\n",
       "      <td>7.2500</td>\n",
       "      <td>NaN</td>\n",
       "      <td>S</td>\n",
       "      <td>1</td>\n",
       "      <td>0</td>\n",
       "    </tr>\n",
       "    <tr>\n",
       "      <th>1</th>\n",
       "      <td>1</td>\n",
       "      <td>1</td>\n",
       "      <td>3</td>\n",
       "      <td>female</td>\n",
       "      <td>71.2833</td>\n",
       "      <td>C85</td>\n",
       "      <td>C</td>\n",
       "      <td>1</td>\n",
       "      <td>0</td>\n",
       "    </tr>\n",
       "    <tr>\n",
       "      <th>2</th>\n",
       "      <td>1</td>\n",
       "      <td>3</td>\n",
       "      <td>2</td>\n",
       "      <td>female</td>\n",
       "      <td>7.9250</td>\n",
       "      <td>NaN</td>\n",
       "      <td>S</td>\n",
       "      <td>1</td>\n",
       "      <td>1</td>\n",
       "    </tr>\n",
       "    <tr>\n",
       "      <th>3</th>\n",
       "      <td>1</td>\n",
       "      <td>1</td>\n",
       "      <td>3</td>\n",
       "      <td>female</td>\n",
       "      <td>53.1000</td>\n",
       "      <td>C123</td>\n",
       "      <td>S</td>\n",
       "      <td>1</td>\n",
       "      <td>0</td>\n",
       "    </tr>\n",
       "    <tr>\n",
       "      <th>4</th>\n",
       "      <td>0</td>\n",
       "      <td>3</td>\n",
       "      <td>1</td>\n",
       "      <td>male</td>\n",
       "      <td>8.0500</td>\n",
       "      <td>NaN</td>\n",
       "      <td>S</td>\n",
       "      <td>1</td>\n",
       "      <td>1</td>\n",
       "    </tr>\n",
       "  </tbody>\n",
       "</table>\n",
       "</div>"
      ],
      "text/plain": [
       "   Survived  Pclass  Name     Sex     Fare Cabin Embarked  Ages  Alone\n",
       "0         0       3     1    male   7.2500   NaN        S     1      0\n",
       "1         1       1     3  female  71.2833   C85        C     1      0\n",
       "2         1       3     2  female   7.9250   NaN        S     1      1\n",
       "3         1       1     3  female  53.1000  C123        S     1      0\n",
       "4         0       3     1    male   8.0500   NaN        S     1      1"
      ]
     },
     "execution_count": 54,
     "metadata": {},
     "output_type": "execute_result"
    }
   ],
   "source": [
    "df_train.head()"
   ]
  },
  {
   "cell_type": "markdown",
   "id": "9f8bea7e",
   "metadata": {
    "papermill": {
     "duration": 0.044441,
     "end_time": "2023-10-24T14:10:16.647385",
     "exception": false,
     "start_time": "2023-10-24T14:10:16.602944",
     "status": "completed"
    },
    "tags": []
   },
   "source": [
    "Age변수와 Pclass를 곱한 Age*Class변수 생성"
   ]
  },
  {
   "cell_type": "code",
   "execution_count": 55,
   "id": "c31fb9a6",
   "metadata": {
    "execution": {
     "iopub.execute_input": "2023-10-24T14:10:16.740896Z",
     "iopub.status.busy": "2023-10-24T14:10:16.739786Z",
     "iopub.status.idle": "2023-10-24T14:10:16.754744Z",
     "shell.execute_reply": "2023-10-24T14:10:16.753434Z"
    },
    "papermill": {
     "duration": 0.064199,
     "end_time": "2023-10-24T14:10:16.757257",
     "exception": false,
     "start_time": "2023-10-24T14:10:16.693058",
     "status": "completed"
    },
    "tags": []
   },
   "outputs": [
    {
     "data": {
      "text/html": [
       "<div>\n",
       "<style scoped>\n",
       "    .dataframe tbody tr th:only-of-type {\n",
       "        vertical-align: middle;\n",
       "    }\n",
       "\n",
       "    .dataframe tbody tr th {\n",
       "        vertical-align: top;\n",
       "    }\n",
       "\n",
       "    .dataframe thead th {\n",
       "        text-align: right;\n",
       "    }\n",
       "</style>\n",
       "<table border=\"1\" class=\"dataframe\">\n",
       "  <thead>\n",
       "    <tr style=\"text-align: right;\">\n",
       "      <th></th>\n",
       "      <th>Age*Pclass</th>\n",
       "      <th>Ages</th>\n",
       "      <th>Pclass</th>\n",
       "    </tr>\n",
       "  </thead>\n",
       "  <tbody>\n",
       "    <tr>\n",
       "      <th>0</th>\n",
       "      <td>3</td>\n",
       "      <td>1</td>\n",
       "      <td>3</td>\n",
       "    </tr>\n",
       "    <tr>\n",
       "      <th>1</th>\n",
       "      <td>1</td>\n",
       "      <td>1</td>\n",
       "      <td>1</td>\n",
       "    </tr>\n",
       "    <tr>\n",
       "      <th>2</th>\n",
       "      <td>3</td>\n",
       "      <td>1</td>\n",
       "      <td>3</td>\n",
       "    </tr>\n",
       "    <tr>\n",
       "      <th>3</th>\n",
       "      <td>1</td>\n",
       "      <td>1</td>\n",
       "      <td>1</td>\n",
       "    </tr>\n",
       "    <tr>\n",
       "      <th>4</th>\n",
       "      <td>3</td>\n",
       "      <td>1</td>\n",
       "      <td>3</td>\n",
       "    </tr>\n",
       "  </tbody>\n",
       "</table>\n",
       "</div>"
      ],
      "text/plain": [
       "   Age*Pclass  Ages  Pclass\n",
       "0           3     1       3\n",
       "1           1     1       1\n",
       "2           3     1       3\n",
       "3           1     1       1\n",
       "4           3     1       3"
      ]
     },
     "execution_count": 55,
     "metadata": {},
     "output_type": "execute_result"
    }
   ],
   "source": [
    "df_train[\"Age*Pclass\"] = df_train[\"Ages\"] * df_train[\"Pclass\"]\n",
    "df_test[\"Age*Pclass\"] = df_test[\"Ages\"] * df_test[\"Pclass\"]\n",
    "df_train.loc[:, ['Age*Pclass', 'Ages', 'Pclass']].head()"
   ]
  },
  {
   "cell_type": "markdown",
   "id": "5c1dc001",
   "metadata": {
    "papermill": {
     "duration": 0.046696,
     "end_time": "2023-10-24T14:10:16.849169",
     "exception": false,
     "start_time": "2023-10-24T14:10:16.802473",
     "status": "completed"
    },
    "tags": []
   },
   "source": [
    "Ebmarked 변수 결측지를 최빈값으로 변환"
   ]
  },
  {
   "cell_type": "code",
   "execution_count": 56,
   "id": "cda0cee5",
   "metadata": {
    "execution": {
     "iopub.execute_input": "2023-10-24T14:10:16.942106Z",
     "iopub.status.busy": "2023-10-24T14:10:16.940891Z",
     "iopub.status.idle": "2023-10-24T14:10:16.953932Z",
     "shell.execute_reply": "2023-10-24T14:10:16.952779Z"
    },
    "papermill": {
     "duration": 0.062406,
     "end_time": "2023-10-24T14:10:16.956847",
     "exception": false,
     "start_time": "2023-10-24T14:10:16.894441",
     "status": "completed"
    },
    "tags": []
   },
   "outputs": [
    {
     "data": {
      "text/plain": [
       "Embarked\n",
       "S    646\n",
       "C    168\n",
       "Q     77\n",
       "Name: count, dtype: int64"
      ]
     },
     "execution_count": 56,
     "metadata": {},
     "output_type": "execute_result"
    }
   ],
   "source": [
    "embarked_mode = df_train['Embarked'].mode()[0]\n",
    "df_train['Embarked'] = df_train['Embarked'].fillna(embarked_mode)\n",
    "df_test['Embarked'] = df_test['Embarked'].fillna(embarked_mode)\n",
    "df_train['Embarked'].value_counts()"
   ]
  },
  {
   "cell_type": "code",
   "execution_count": 57,
   "id": "35a00c3f",
   "metadata": {
    "execution": {
     "iopub.execute_input": "2023-10-24T14:10:17.052053Z",
     "iopub.status.busy": "2023-10-24T14:10:17.050849Z",
     "iopub.status.idle": "2023-10-24T14:10:17.066119Z",
     "shell.execute_reply": "2023-10-24T14:10:17.064971Z"
    },
    "papermill": {
     "duration": 0.065287,
     "end_time": "2023-10-24T14:10:17.068674",
     "exception": false,
     "start_time": "2023-10-24T14:10:17.003387",
     "status": "completed"
    },
    "tags": []
   },
   "outputs": [
    {
     "data": {
      "text/html": [
       "<div>\n",
       "<style scoped>\n",
       "    .dataframe tbody tr th:only-of-type {\n",
       "        vertical-align: middle;\n",
       "    }\n",
       "\n",
       "    .dataframe tbody tr th {\n",
       "        vertical-align: top;\n",
       "    }\n",
       "\n",
       "    .dataframe thead th {\n",
       "        text-align: right;\n",
       "    }\n",
       "</style>\n",
       "<table border=\"1\" class=\"dataframe\">\n",
       "  <thead>\n",
       "    <tr style=\"text-align: right;\">\n",
       "      <th></th>\n",
       "      <th>Embarked</th>\n",
       "      <th>Survived</th>\n",
       "    </tr>\n",
       "  </thead>\n",
       "  <tbody>\n",
       "    <tr>\n",
       "      <th>0</th>\n",
       "      <td>C</td>\n",
       "      <td>0.553571</td>\n",
       "    </tr>\n",
       "    <tr>\n",
       "      <th>1</th>\n",
       "      <td>Q</td>\n",
       "      <td>0.389610</td>\n",
       "    </tr>\n",
       "    <tr>\n",
       "      <th>2</th>\n",
       "      <td>S</td>\n",
       "      <td>0.339009</td>\n",
       "    </tr>\n",
       "  </tbody>\n",
       "</table>\n",
       "</div>"
      ],
      "text/plain": [
       "  Embarked  Survived\n",
       "0        C  0.553571\n",
       "1        Q  0.389610\n",
       "2        S  0.339009"
      ]
     },
     "execution_count": 57,
     "metadata": {},
     "output_type": "execute_result"
    }
   ],
   "source": [
    "df_train[['Embarked','Survived']].groupby('Embarked',as_index=False).mean()"
   ]
  },
  {
   "cell_type": "code",
   "execution_count": 58,
   "id": "ef135819",
   "metadata": {
    "execution": {
     "iopub.execute_input": "2023-10-24T14:10:17.163115Z",
     "iopub.status.busy": "2023-10-24T14:10:17.162675Z",
     "iopub.status.idle": "2023-10-24T14:10:17.174891Z",
     "shell.execute_reply": "2023-10-24T14:10:17.174051Z"
    },
    "papermill": {
     "duration": 0.062636,
     "end_time": "2023-10-24T14:10:17.177114",
     "exception": false,
     "start_time": "2023-10-24T14:10:17.114478",
     "status": "completed"
    },
    "tags": []
   },
   "outputs": [
    {
     "data": {
      "text/plain": [
       "Embarked\n",
       "0    646\n",
       "1    168\n",
       "2     77\n",
       "Name: count, dtype: int64"
      ]
     },
     "execution_count": 58,
     "metadata": {},
     "output_type": "execute_result"
    }
   ],
   "source": [
    "df_train['Embarked'] = df_train['Embarked'].map({'S': 0, 'C': 1, 'Q': 2}).astype(int)\n",
    "df_test['Embarked'] = df_test['Embarked'].map({'S': 0, 'C': 1, 'Q': 2}).astype(int)\n",
    "\n",
    "df_train['Embarked'].value_counts()"
   ]
  },
  {
   "cell_type": "markdown",
   "id": "dcad01b7",
   "metadata": {
    "papermill": {
     "duration": 0.045603,
     "end_time": "2023-10-24T14:10:17.268641",
     "exception": false,
     "start_time": "2023-10-24T14:10:17.223038",
     "status": "completed"
    },
    "tags": []
   },
   "source": [
    "Fare 변수를 중앙값으로 바꿈"
   ]
  },
  {
   "cell_type": "code",
   "execution_count": 59,
   "id": "b32b8cec",
   "metadata": {
    "execution": {
     "iopub.execute_input": "2023-10-24T14:10:17.370784Z",
     "iopub.status.busy": "2023-10-24T14:10:17.370339Z",
     "iopub.status.idle": "2023-10-24T14:10:17.386932Z",
     "shell.execute_reply": "2023-10-24T14:10:17.385765Z"
    },
    "papermill": {
     "duration": 0.066792,
     "end_time": "2023-10-24T14:10:17.389471",
     "exception": false,
     "start_time": "2023-10-24T14:10:17.322679",
     "status": "completed"
    },
    "tags": []
   },
   "outputs": [
    {
     "data": {
      "text/plain": [
       "Fare\n",
       "0      15\n",
       "4       1\n",
       "5       1\n",
       "6       5\n",
       "7      65\n",
       "       ..\n",
       "228     4\n",
       "248     2\n",
       "262     2\n",
       "263     4\n",
       "512     3\n",
       "Name: count, Length: 90, dtype: int64"
      ]
     },
     "execution_count": 59,
     "metadata": {},
     "output_type": "execute_result"
    }
   ],
   "source": [
    "df_train['Fare'] = df_train['Fare'].map(lambda x : round(x))\n",
    "df_train['Fare'].fillna(df_test['Fare'].median())\n",
    "df_test['Fare'] = df_train['Fare'].map(lambda x : round(x))\n",
    "df_test['Fare'].fillna(df_test['Fare'].median())\n",
    "\n",
    "df_train['Fare'].value_counts().sort_index()"
   ]
  },
  {
   "cell_type": "code",
   "execution_count": 60,
   "id": "389ad48a",
   "metadata": {
    "execution": {
     "iopub.execute_input": "2023-10-24T14:10:17.483973Z",
     "iopub.status.busy": "2023-10-24T14:10:17.483279Z",
     "iopub.status.idle": "2023-10-24T14:10:17.791364Z",
     "shell.execute_reply": "2023-10-24T14:10:17.790207Z"
    },
    "papermill": {
     "duration": 0.35816,
     "end_time": "2023-10-24T14:10:17.794080",
     "exception": false,
     "start_time": "2023-10-24T14:10:17.435920",
     "status": "completed"
    },
    "tags": []
   },
   "outputs": [
    {
     "data": {
      "text/plain": [
       "<Axes: >"
      ]
     },
     "execution_count": 60,
     "metadata": {},
     "output_type": "execute_result"
    },
    {
     "data": {
      "image/png": "[encoded data removed]",
      "text/plain": [
       "<Figure size 640x480 with 1 Axes>"
      ]
     },
     "metadata": {},
     "output_type": "display_data"
    }
   ],
   "source": [
    "df_train['Fare'].hist()"
   ]
  },
  {
   "cell_type": "markdown",
   "id": "597823a1",
   "metadata": {
    "papermill": {
     "duration": 0.046142,
     "end_time": "2023-10-24T14:10:17.887297",
     "exception": false,
     "start_time": "2023-10-24T14:10:17.841155",
     "status": "completed"
    },
    "tags": []
   },
   "source": [
    "Fare 변수를 숫자형 변수로 변환"
   ]
  },
  {
   "cell_type": "code",
   "execution_count": 61,
   "id": "02f982fc",
   "metadata": {
    "execution": {
     "iopub.execute_input": "2023-10-24T14:10:17.982405Z",
     "iopub.status.busy": "2023-10-24T14:10:17.982011Z",
     "iopub.status.idle": "2023-10-24T14:10:18.006118Z",
     "shell.execute_reply": "2023-10-24T14:10:18.004936Z"
    },
    "papermill": {
     "duration": 0.07556,
     "end_time": "2023-10-24T14:10:18.009344",
     "exception": false,
     "start_time": "2023-10-24T14:10:17.933784",
     "status": "completed"
    },
    "tags": []
   },
   "outputs": [
    {
     "data": {
      "text/html": [
       "<div>\n",
       "<style scoped>\n",
       "    .dataframe tbody tr th:only-of-type {\n",
       "        vertical-align: middle;\n",
       "    }\n",
       "\n",
       "    .dataframe tbody tr th {\n",
       "        vertical-align: top;\n",
       "    }\n",
       "\n",
       "    .dataframe thead th {\n",
       "        text-align: right;\n",
       "    }\n",
       "</style>\n",
       "<table border=\"1\" class=\"dataframe\">\n",
       "  <thead>\n",
       "    <tr style=\"text-align: right;\">\n",
       "      <th></th>\n",
       "      <th>FareRange</th>\n",
       "      <th>Survived</th>\n",
       "    </tr>\n",
       "  </thead>\n",
       "  <tbody>\n",
       "    <tr>\n",
       "      <th>0</th>\n",
       "      <td>(-0.001, 8.0]</td>\n",
       "      <td>0.201365</td>\n",
       "    </tr>\n",
       "    <tr>\n",
       "      <th>1</th>\n",
       "      <td>(8.0, 14.0]</td>\n",
       "      <td>0.335366</td>\n",
       "    </tr>\n",
       "    <tr>\n",
       "      <th>2</th>\n",
       "      <td>(14.0, 31.0]</td>\n",
       "      <td>0.457399</td>\n",
       "    </tr>\n",
       "    <tr>\n",
       "      <th>3</th>\n",
       "      <td>(31.0, 512.0]</td>\n",
       "      <td>0.597156</td>\n",
       "    </tr>\n",
       "  </tbody>\n",
       "</table>\n",
       "</div>"
      ],
      "text/plain": [
       "       FareRange  Survived\n",
       "0  (-0.001, 8.0]  0.201365\n",
       "1    (8.0, 14.0]  0.335366\n",
       "2   (14.0, 31.0]  0.457399\n",
       "3  (31.0, 512.0]  0.597156"
      ]
     },
     "execution_count": 61,
     "metadata": {},
     "output_type": "execute_result"
    }
   ],
   "source": [
    "df_train['FareRange'] = pd.qcut(df_train['Fare'],4)\n",
    "df_train[['FareRange','Survived']].groupby('FareRange', as_index = False).mean()"
   ]
  },
  {
   "cell_type": "code",
   "execution_count": 62,
   "id": "22b92478",
   "metadata": {
    "execution": {
     "iopub.execute_input": "2023-10-24T14:10:18.105389Z",
     "iopub.status.busy": "2023-10-24T14:10:18.104670Z",
     "iopub.status.idle": "2023-10-24T14:10:18.128569Z",
     "shell.execute_reply": "2023-10-24T14:10:18.127406Z"
    },
    "papermill": {
     "duration": 0.075127,
     "end_time": "2023-10-24T14:10:18.131225",
     "exception": false,
     "start_time": "2023-10-24T14:10:18.056098",
     "status": "completed"
    },
    "tags": []
   },
   "outputs": [
    {
     "data": {
      "text/html": [
       "<div>\n",
       "<style scoped>\n",
       "    .dataframe tbody tr th:only-of-type {\n",
       "        vertical-align: middle;\n",
       "    }\n",
       "\n",
       "    .dataframe tbody tr th {\n",
       "        vertical-align: top;\n",
       "    }\n",
       "\n",
       "    .dataframe thead th {\n",
       "        text-align: right;\n",
       "    }\n",
       "</style>\n",
       "<table border=\"1\" class=\"dataframe\">\n",
       "  <thead>\n",
       "    <tr style=\"text-align: right;\">\n",
       "      <th></th>\n",
       "      <th>Survived</th>\n",
       "      <th>Pclass</th>\n",
       "      <th>Name</th>\n",
       "      <th>Sex</th>\n",
       "      <th>Fare</th>\n",
       "      <th>Cabin</th>\n",
       "      <th>Embarked</th>\n",
       "      <th>Ages</th>\n",
       "      <th>Alone</th>\n",
       "      <th>Age*Pclass</th>\n",
       "    </tr>\n",
       "  </thead>\n",
       "  <tbody>\n",
       "    <tr>\n",
       "      <th>0</th>\n",
       "      <td>0</td>\n",
       "      <td>3</td>\n",
       "      <td>1</td>\n",
       "      <td>male</td>\n",
       "      <td>0</td>\n",
       "      <td>NaN</td>\n",
       "      <td>0</td>\n",
       "      <td>1</td>\n",
       "      <td>0</td>\n",
       "      <td>3</td>\n",
       "    </tr>\n",
       "    <tr>\n",
       "      <th>1</th>\n",
       "      <td>1</td>\n",
       "      <td>1</td>\n",
       "      <td>3</td>\n",
       "      <td>female</td>\n",
       "      <td>3</td>\n",
       "      <td>C85</td>\n",
       "      <td>1</td>\n",
       "      <td>1</td>\n",
       "      <td>0</td>\n",
       "      <td>1</td>\n",
       "    </tr>\n",
       "    <tr>\n",
       "      <th>2</th>\n",
       "      <td>1</td>\n",
       "      <td>3</td>\n",
       "      <td>2</td>\n",
       "      <td>female</td>\n",
       "      <td>0</td>\n",
       "      <td>NaN</td>\n",
       "      <td>0</td>\n",
       "      <td>1</td>\n",
       "      <td>1</td>\n",
       "      <td>3</td>\n",
       "    </tr>\n",
       "    <tr>\n",
       "      <th>3</th>\n",
       "      <td>1</td>\n",
       "      <td>1</td>\n",
       "      <td>3</td>\n",
       "      <td>female</td>\n",
       "      <td>3</td>\n",
       "      <td>C123</td>\n",
       "      <td>0</td>\n",
       "      <td>1</td>\n",
       "      <td>0</td>\n",
       "      <td>1</td>\n",
       "    </tr>\n",
       "    <tr>\n",
       "      <th>4</th>\n",
       "      <td>0</td>\n",
       "      <td>3</td>\n",
       "      <td>1</td>\n",
       "      <td>male</td>\n",
       "      <td>0</td>\n",
       "      <td>NaN</td>\n",
       "      <td>0</td>\n",
       "      <td>1</td>\n",
       "      <td>1</td>\n",
       "      <td>3</td>\n",
       "    </tr>\n",
       "  </tbody>\n",
       "</table>\n",
       "</div>"
      ],
      "text/plain": [
       "   Survived  Pclass  Name     Sex  Fare Cabin  Embarked  Ages  Alone  \\\n",
       "0         0       3     1    male     0   NaN         0     1      0   \n",
       "1         1       1     3  female     3   C85         1     1      0   \n",
       "2         1       3     2  female     0   NaN         0     1      1   \n",
       "3         1       1     3  female     3  C123         0     1      0   \n",
       "4         0       3     1    male     0   NaN         0     1      1   \n",
       "\n",
       "   Age*Pclass  \n",
       "0           3  \n",
       "1           1  \n",
       "2           3  \n",
       "3           1  \n",
       "4           3  "
      ]
     },
     "execution_count": 62,
     "metadata": {},
     "output_type": "execute_result"
    }
   ],
   "source": [
    "combine = [df_train, df_test]\n",
    "\n",
    "for dataset in combine:\n",
    "    dataset.loc[ dataset['Fare'] <= 8, 'Fare'] = 0\n",
    "    dataset.loc[(dataset['Fare'] > 8) & (dataset['Fare'] <= 14.454), 'Fare'] = 1\n",
    "    dataset.loc[(dataset['Fare'] > 14) & (dataset['Fare'] <= 31), 'Fare']   = 2\n",
    "    dataset.loc[ dataset['Fare'] > 31, 'Fare'] = 3\n",
    "    dataset['Fare'] = dataset['Fare'].astype(int)\n",
    "\n",
    "df_train = df_train.drop(['FareRange'], axis=1)\n",
    "    \n",
    "df_train.head()"
   ]
  },
  {
   "cell_type": "markdown",
   "id": "aecebf13",
   "metadata": {
    "papermill": {
     "duration": 0.047088,
     "end_time": "2023-10-24T14:10:18.225325",
     "exception": false,
     "start_time": "2023-10-24T14:10:18.178237",
     "status": "completed"
    },
    "tags": []
   },
   "source": [
    "Cabin 변수 분석"
   ]
  },
  {
   "cell_type": "code",
   "execution_count": 63,
   "id": "c1848e81",
   "metadata": {
    "execution": {
     "iopub.execute_input": "2023-10-24T14:10:18.323473Z",
     "iopub.status.busy": "2023-10-24T14:10:18.322716Z",
     "iopub.status.idle": "2023-10-24T14:10:18.332529Z",
     "shell.execute_reply": "2023-10-24T14:10:18.331443Z"
    },
    "papermill": {
     "duration": 0.06123,
     "end_time": "2023-10-24T14:10:18.335141",
     "exception": false,
     "start_time": "2023-10-24T14:10:18.273911",
     "status": "completed"
    },
    "tags": []
   },
   "outputs": [
    {
     "data": {
      "text/plain": [
       "{'B': 33, 'G': 1, 'C': 42, 'F': 7, 'E': 23, 'D': 25, 'A': 15, 'T': 1}"
      ]
     },
     "execution_count": 63,
     "metadata": {},
     "output_type": "execute_result"
    }
   ],
   "source": [
    "cabin_list = df_train[\"Cabin\"].value_counts().index.tolist()\n",
    "first_cabin = {}\n",
    "\n",
    "for i in cabin_list:\n",
    "    if i[0] not in first_cabin:\n",
    "        first_cabin[i[0]] = 0\n",
    "    first_cabin[i[0]] += 1\n",
    "first_cabin"
   ]
  },
  {
   "cell_type": "code",
   "execution_count": 64,
   "id": "8c36deb8",
   "metadata": {
    "execution": {
     "iopub.execute_input": "2023-10-24T14:10:18.431539Z",
     "iopub.status.busy": "2023-10-24T14:10:18.431134Z",
     "iopub.status.idle": "2023-10-24T14:10:18.448144Z",
     "shell.execute_reply": "2023-10-24T14:10:18.446981Z"
    },
    "papermill": {
     "duration": 0.067939,
     "end_time": "2023-10-24T14:10:18.450603",
     "exception": false,
     "start_time": "2023-10-24T14:10:18.382664",
     "status": "completed"
    },
    "tags": []
   },
   "outputs": [
    {
     "data": {
      "text/plain": [
       "Cabin\n",
       "X    692\n",
       "C     59\n",
       "B     47\n",
       "D     33\n",
       "E     32\n",
       "A     15\n",
       "F     13\n",
       "Name: count, dtype: int64"
      ]
     },
     "execution_count": 64,
     "metadata": {},
     "output_type": "execute_result"
    }
   ],
   "source": [
    "df_train[\"Cabin\"] = df_train[\"Cabin\"].fillna('X')\n",
    "df_test[\"Cabin\"] = df_test[\"Cabin\"].fillna('X')\n",
    "df_train[\"Cabin\"] = df_train[\"Cabin\"].apply(lambda x : x[0])\n",
    "df_test[\"Cabin\"] = df_test[\"Cabin\"].apply(lambda x : x[0])\n",
    "df_train[\"Cabin\"] = df_train[\"Cabin\"].replace({'G':'X','T':'X'})\n",
    "df_test[\"Cabin\"] = df_test[\"Cabin\"].replace({'G':'X','T':'X'})\n",
    "\n",
    "df_train[\"Cabin\"].value_counts()"
   ]
  },
  {
   "cell_type": "code",
   "execution_count": 65,
   "id": "0942b00b",
   "metadata": {
    "execution": {
     "iopub.execute_input": "2023-10-24T14:10:18.547069Z",
     "iopub.status.busy": "2023-10-24T14:10:18.546614Z",
     "iopub.status.idle": "2023-10-24T14:10:18.563800Z",
     "shell.execute_reply": "2023-10-24T14:10:18.562581Z"
    },
    "papermill": {
     "duration": 0.068432,
     "end_time": "2023-10-24T14:10:18.566453",
     "exception": false,
     "start_time": "2023-10-24T14:10:18.498021",
     "status": "completed"
    },
    "tags": []
   },
   "outputs": [
    {
     "data": {
      "text/html": [
       "<div>\n",
       "<style scoped>\n",
       "    .dataframe tbody tr th:only-of-type {\n",
       "        vertical-align: middle;\n",
       "    }\n",
       "\n",
       "    .dataframe tbody tr th {\n",
       "        vertical-align: top;\n",
       "    }\n",
       "\n",
       "    .dataframe thead tr th {\n",
       "        text-align: left;\n",
       "    }\n",
       "\n",
       "    .dataframe thead tr:last-of-type th {\n",
       "        text-align: right;\n",
       "    }\n",
       "</style>\n",
       "<table border=\"1\" class=\"dataframe\">\n",
       "  <thead>\n",
       "    <tr>\n",
       "      <th></th>\n",
       "      <th colspan=\"2\" halign=\"left\">Survived</th>\n",
       "    </tr>\n",
       "    <tr>\n",
       "      <th></th>\n",
       "      <th>sum</th>\n",
       "      <th>mean</th>\n",
       "    </tr>\n",
       "    <tr>\n",
       "      <th>Cabin</th>\n",
       "      <th></th>\n",
       "      <th></th>\n",
       "    </tr>\n",
       "  </thead>\n",
       "  <tbody>\n",
       "    <tr>\n",
       "      <th>A</th>\n",
       "      <td>7</td>\n",
       "      <td>0.466667</td>\n",
       "    </tr>\n",
       "    <tr>\n",
       "      <th>B</th>\n",
       "      <td>35</td>\n",
       "      <td>0.744681</td>\n",
       "    </tr>\n",
       "    <tr>\n",
       "      <th>C</th>\n",
       "      <td>35</td>\n",
       "      <td>0.593220</td>\n",
       "    </tr>\n",
       "    <tr>\n",
       "      <th>D</th>\n",
       "      <td>25</td>\n",
       "      <td>0.757576</td>\n",
       "    </tr>\n",
       "    <tr>\n",
       "      <th>E</th>\n",
       "      <td>24</td>\n",
       "      <td>0.750000</td>\n",
       "    </tr>\n",
       "    <tr>\n",
       "      <th>F</th>\n",
       "      <td>8</td>\n",
       "      <td>0.615385</td>\n",
       "    </tr>\n",
       "    <tr>\n",
       "      <th>X</th>\n",
       "      <td>208</td>\n",
       "      <td>0.300578</td>\n",
       "    </tr>\n",
       "  </tbody>\n",
       "</table>\n",
       "</div>"
      ],
      "text/plain": [
       "      Survived          \n",
       "           sum      mean\n",
       "Cabin                   \n",
       "A            7  0.466667\n",
       "B           35  0.744681\n",
       "C           35  0.593220\n",
       "D           25  0.757576\n",
       "E           24  0.750000\n",
       "F            8  0.615385\n",
       "X          208  0.300578"
      ]
     },
     "execution_count": 65,
     "metadata": {},
     "output_type": "execute_result"
    }
   ],
   "source": [
    "df_train[['Cabin','Survived']].groupby('Cabin',as_index = False).agg(['sum', 'mean'])"
   ]
  },
  {
   "cell_type": "code",
   "execution_count": 66,
   "id": "bb0f529f",
   "metadata": {
    "execution": {
     "iopub.execute_input": "2023-10-24T14:10:18.664625Z",
     "iopub.status.busy": "2023-10-24T14:10:18.664234Z",
     "iopub.status.idle": "2023-10-24T14:10:19.368002Z",
     "shell.execute_reply": "2023-10-24T14:10:19.366795Z"
    },
    "papermill": {
     "duration": 0.755768,
     "end_time": "2023-10-24T14:10:19.370401",
     "exception": false,
     "start_time": "2023-10-24T14:10:18.614633",
     "status": "completed"
    },
    "tags": []
   },
   "outputs": [
    {
     "name": "stderr",
     "output_type": "stream",
     "text": [
      "/opt/conda/lib/python3.10/site-packages/seaborn/axisgrid.py:712: UserWarning: Using the countplot function without specifying `order` is likely to produce an incorrect plot.\n",
      "  warnings.warn(warning)\n",
      "/opt/conda/lib/python3.10/site-packages/seaborn/axisgrid.py:118: UserWarning: The figure layout has changed to tight\n",
      "  self._figure.tight_layout(*args, **kwargs)\n"
     ]
    },
    {
     "data": {
      "text/plain": [
       "<seaborn.axisgrid.FacetGrid at 0x7848f64abfa0>"
      ]
     },
     "execution_count": 66,
     "metadata": {},
     "output_type": "execute_result"
    },
    {
     "data": {
      "image/png": "[encoded data removed]",
      "text/plain": [
       "<Figure size 600x300 with 2 Axes>"
      ]
     },
     "metadata": {},
     "output_type": "display_data"
    }
   ],
   "source": [
    "g = sns.FacetGrid(df_train,col='Survived' , hue = 'Survived')\n",
    "g.map(sns.countplot,'Cabin')"
   ]
  },
  {
   "cell_type": "code",
   "execution_count": 67,
   "id": "2fb33b10",
   "metadata": {
    "execution": {
     "iopub.execute_input": "2023-10-24T14:10:19.468150Z",
     "iopub.status.busy": "2023-10-24T14:10:19.467737Z",
     "iopub.status.idle": "2023-10-24T14:10:19.763636Z",
     "shell.execute_reply": "2023-10-24T14:10:19.762452Z"
    },
    "papermill": {
     "duration": 0.348027,
     "end_time": "2023-10-24T14:10:19.766325",
     "exception": false,
     "start_time": "2023-10-24T14:10:19.418298",
     "status": "completed"
    },
    "tags": []
   },
   "outputs": [
    {
     "data": {
      "text/plain": [
       "<Axes: xlabel='Cabin', ylabel='count'>"
      ]
     },
     "execution_count": 67,
     "metadata": {},
     "output_type": "execute_result"
    },
    {
     "data": {
      "image/png": "[encoded data removed]",
      "text/plain": [
       "<Figure size 640x480 with 1 Axes>"
      ]
     },
     "metadata": {},
     "output_type": "display_data"
    }
   ],
   "source": [
    "sns.countplot(x='Cabin',hue='Survived',data= df_train)"
   ]
  },
  {
   "cell_type": "markdown",
   "id": "ffcd1625",
   "metadata": {
    "papermill": {
     "duration": 0.049593,
     "end_time": "2023-10-24T14:10:19.864505",
     "exception": false,
     "start_time": "2023-10-24T14:10:19.814912",
     "status": "completed"
    },
    "tags": []
   },
   "source": [
    "마지막으로 Sex 와 Cabin을 숫자형 변수형 변수로 바꿔줌"
   ]
  },
  {
   "cell_type": "code",
   "execution_count": 68,
   "id": "f3762c51",
   "metadata": {
    "execution": {
     "iopub.execute_input": "2023-10-24T14:10:19.964197Z",
     "iopub.status.busy": "2023-10-24T14:10:19.963353Z",
     "iopub.status.idle": "2023-10-24T14:10:19.977942Z",
     "shell.execute_reply": "2023-10-24T14:10:19.977094Z"
    },
    "papermill": {
     "duration": 0.066967,
     "end_time": "2023-10-24T14:10:19.980127",
     "exception": false,
     "start_time": "2023-10-24T14:10:19.913160",
     "status": "completed"
    },
    "tags": []
   },
   "outputs": [
    {
     "data": {
      "text/html": [
       "<div>\n",
       "<style scoped>\n",
       "    .dataframe tbody tr th:only-of-type {\n",
       "        vertical-align: middle;\n",
       "    }\n",
       "\n",
       "    .dataframe tbody tr th {\n",
       "        vertical-align: top;\n",
       "    }\n",
       "\n",
       "    .dataframe thead th {\n",
       "        text-align: right;\n",
       "    }\n",
       "</style>\n",
       "<table border=\"1\" class=\"dataframe\">\n",
       "  <thead>\n",
       "    <tr style=\"text-align: right;\">\n",
       "      <th></th>\n",
       "      <th>Survived</th>\n",
       "      <th>Pclass</th>\n",
       "      <th>Name</th>\n",
       "      <th>Sex</th>\n",
       "      <th>Fare</th>\n",
       "      <th>Cabin</th>\n",
       "      <th>Embarked</th>\n",
       "      <th>Ages</th>\n",
       "      <th>Alone</th>\n",
       "      <th>Age*Pclass</th>\n",
       "    </tr>\n",
       "  </thead>\n",
       "  <tbody>\n",
       "    <tr>\n",
       "      <th>0</th>\n",
       "      <td>0</td>\n",
       "      <td>3</td>\n",
       "      <td>1</td>\n",
       "      <td>male</td>\n",
       "      <td>0</td>\n",
       "      <td>X</td>\n",
       "      <td>0</td>\n",
       "      <td>1</td>\n",
       "      <td>0</td>\n",
       "      <td>3</td>\n",
       "    </tr>\n",
       "    <tr>\n",
       "      <th>1</th>\n",
       "      <td>1</td>\n",
       "      <td>1</td>\n",
       "      <td>3</td>\n",
       "      <td>female</td>\n",
       "      <td>3</td>\n",
       "      <td>C</td>\n",
       "      <td>1</td>\n",
       "      <td>1</td>\n",
       "      <td>0</td>\n",
       "      <td>1</td>\n",
       "    </tr>\n",
       "    <tr>\n",
       "      <th>2</th>\n",
       "      <td>1</td>\n",
       "      <td>3</td>\n",
       "      <td>2</td>\n",
       "      <td>female</td>\n",
       "      <td>0</td>\n",
       "      <td>X</td>\n",
       "      <td>0</td>\n",
       "      <td>1</td>\n",
       "      <td>1</td>\n",
       "      <td>3</td>\n",
       "    </tr>\n",
       "    <tr>\n",
       "      <th>3</th>\n",
       "      <td>1</td>\n",
       "      <td>1</td>\n",
       "      <td>3</td>\n",
       "      <td>female</td>\n",
       "      <td>3</td>\n",
       "      <td>C</td>\n",
       "      <td>0</td>\n",
       "      <td>1</td>\n",
       "      <td>0</td>\n",
       "      <td>1</td>\n",
       "    </tr>\n",
       "    <tr>\n",
       "      <th>4</th>\n",
       "      <td>0</td>\n",
       "      <td>3</td>\n",
       "      <td>1</td>\n",
       "      <td>male</td>\n",
       "      <td>0</td>\n",
       "      <td>X</td>\n",
       "      <td>0</td>\n",
       "      <td>1</td>\n",
       "      <td>1</td>\n",
       "      <td>3</td>\n",
       "    </tr>\n",
       "  </tbody>\n",
       "</table>\n",
       "</div>"
      ],
      "text/plain": [
       "   Survived  Pclass  Name     Sex  Fare Cabin  Embarked  Ages  Alone  \\\n",
       "0         0       3     1    male     0     X         0     1      0   \n",
       "1         1       1     3  female     3     C         1     1      0   \n",
       "2         1       3     2  female     0     X         0     1      1   \n",
       "3         1       1     3  female     3     C         0     1      0   \n",
       "4         0       3     1    male     0     X         0     1      1   \n",
       "\n",
       "   Age*Pclass  \n",
       "0           3  \n",
       "1           1  \n",
       "2           3  \n",
       "3           1  \n",
       "4           3  "
      ]
     },
     "execution_count": 68,
     "metadata": {},
     "output_type": "execute_result"
    }
   ],
   "source": [
    "df_train.head()"
   ]
  },
  {
   "cell_type": "code",
   "execution_count": 69,
   "id": "f4ed118c",
   "metadata": {
    "execution": {
     "iopub.execute_input": "2023-10-24T14:10:20.079313Z",
     "iopub.status.busy": "2023-10-24T14:10:20.078924Z",
     "iopub.status.idle": "2023-10-24T14:10:20.086922Z",
     "shell.execute_reply": "2023-10-24T14:10:20.085775Z"
    },
    "papermill": {
     "duration": 0.060757,
     "end_time": "2023-10-24T14:10:20.089646",
     "exception": false,
     "start_time": "2023-10-24T14:10:20.028889",
     "status": "completed"
    },
    "tags": []
   },
   "outputs": [
    {
     "data": {
      "text/plain": [
       "['X', 'C', 'B', 'D', 'E', 'A', 'F']"
      ]
     },
     "execution_count": 69,
     "metadata": {},
     "output_type": "execute_result"
    }
   ],
   "source": [
    "df_train['Cabin'].value_counts().index.tolist()"
   ]
  },
  {
   "cell_type": "code",
   "execution_count": 70,
   "id": "11232344",
   "metadata": {
    "execution": {
     "iopub.execute_input": "2023-10-24T14:10:20.189427Z",
     "iopub.status.busy": "2023-10-24T14:10:20.189052Z",
     "iopub.status.idle": "2023-10-24T14:10:20.209240Z",
     "shell.execute_reply": "2023-10-24T14:10:20.208097Z"
    },
    "papermill": {
     "duration": 0.072651,
     "end_time": "2023-10-24T14:10:20.211553",
     "exception": false,
     "start_time": "2023-10-24T14:10:20.138902",
     "status": "completed"
    },
    "tags": []
   },
   "outputs": [
    {
     "data": {
      "text/html": [
       "<div>\n",
       "<style scoped>\n",
       "    .dataframe tbody tr th:only-of-type {\n",
       "        vertical-align: middle;\n",
       "    }\n",
       "\n",
       "    .dataframe tbody tr th {\n",
       "        vertical-align: top;\n",
       "    }\n",
       "\n",
       "    .dataframe thead th {\n",
       "        text-align: right;\n",
       "    }\n",
       "</style>\n",
       "<table border=\"1\" class=\"dataframe\">\n",
       "  <thead>\n",
       "    <tr style=\"text-align: right;\">\n",
       "      <th></th>\n",
       "      <th>Survived</th>\n",
       "      <th>Pclass</th>\n",
       "      <th>Name</th>\n",
       "      <th>Sex</th>\n",
       "      <th>Fare</th>\n",
       "      <th>Cabin</th>\n",
       "      <th>Embarked</th>\n",
       "      <th>Ages</th>\n",
       "      <th>Alone</th>\n",
       "      <th>Age*Pclass</th>\n",
       "    </tr>\n",
       "  </thead>\n",
       "  <tbody>\n",
       "    <tr>\n",
       "      <th>0</th>\n",
       "      <td>0</td>\n",
       "      <td>3</td>\n",
       "      <td>1</td>\n",
       "      <td>0</td>\n",
       "      <td>0</td>\n",
       "      <td>1</td>\n",
       "      <td>0</td>\n",
       "      <td>1</td>\n",
       "      <td>0</td>\n",
       "      <td>3</td>\n",
       "    </tr>\n",
       "    <tr>\n",
       "      <th>1</th>\n",
       "      <td>1</td>\n",
       "      <td>1</td>\n",
       "      <td>3</td>\n",
       "      <td>1</td>\n",
       "      <td>3</td>\n",
       "      <td>2</td>\n",
       "      <td>1</td>\n",
       "      <td>1</td>\n",
       "      <td>0</td>\n",
       "      <td>1</td>\n",
       "    </tr>\n",
       "    <tr>\n",
       "      <th>2</th>\n",
       "      <td>1</td>\n",
       "      <td>3</td>\n",
       "      <td>2</td>\n",
       "      <td>1</td>\n",
       "      <td>0</td>\n",
       "      <td>1</td>\n",
       "      <td>0</td>\n",
       "      <td>1</td>\n",
       "      <td>1</td>\n",
       "      <td>3</td>\n",
       "    </tr>\n",
       "    <tr>\n",
       "      <th>3</th>\n",
       "      <td>1</td>\n",
       "      <td>1</td>\n",
       "      <td>3</td>\n",
       "      <td>1</td>\n",
       "      <td>3</td>\n",
       "      <td>2</td>\n",
       "      <td>0</td>\n",
       "      <td>1</td>\n",
       "      <td>0</td>\n",
       "      <td>1</td>\n",
       "    </tr>\n",
       "    <tr>\n",
       "      <th>4</th>\n",
       "      <td>0</td>\n",
       "      <td>3</td>\n",
       "      <td>1</td>\n",
       "      <td>0</td>\n",
       "      <td>0</td>\n",
       "      <td>1</td>\n",
       "      <td>0</td>\n",
       "      <td>1</td>\n",
       "      <td>1</td>\n",
       "      <td>3</td>\n",
       "    </tr>\n",
       "  </tbody>\n",
       "</table>\n",
       "</div>"
      ],
      "text/plain": [
       "   Survived  Pclass  Name  Sex  Fare  Cabin  Embarked  Ages  Alone  Age*Pclass\n",
       "0         0       3     1    0     0      1         0     1      0           3\n",
       "1         1       1     3    1     3      2         1     1      0           1\n",
       "2         1       3     2    1     0      1         0     1      1           3\n",
       "3         1       1     3    1     3      2         0     1      0           1\n",
       "4         0       3     1    0     0      1         0     1      1           3"
      ]
     },
     "execution_count": 70,
     "metadata": {},
     "output_type": "execute_result"
    }
   ],
   "source": [
    "combine = [df_train, df_test]\n",
    "\n",
    "for dataset in combine:\n",
    "    dataset['Sex'] = dataset['Sex'].map( {'female': 1, 'male': 0} ).astype(int)\n",
    "    dataset['Cabin'] = dataset['Cabin'].map({'X' : 1, 'C' : 2, 'B' : 3, 'D' : 4, 'E' : 5, 'A' : 6 , 'F' : 7})\n",
    "\n",
    "df_train.head()"
   ]
  },
  {
   "cell_type": "code",
   "execution_count": 71,
   "id": "24925fe5",
   "metadata": {
    "execution": {
     "iopub.execute_input": "2023-10-24T14:10:20.312737Z",
     "iopub.status.busy": "2023-10-24T14:10:20.312314Z",
     "iopub.status.idle": "2023-10-24T14:10:20.325732Z",
     "shell.execute_reply": "2023-10-24T14:10:20.324577Z"
    },
    "papermill": {
     "duration": 0.067533,
     "end_time": "2023-10-24T14:10:20.328250",
     "exception": false,
     "start_time": "2023-10-24T14:10:20.260717",
     "status": "completed"
    },
    "tags": []
   },
   "outputs": [
    {
     "data": {
      "text/html": [
       "<div>\n",
       "<style scoped>\n",
       "    .dataframe tbody tr th:only-of-type {\n",
       "        vertical-align: middle;\n",
       "    }\n",
       "\n",
       "    .dataframe tbody tr th {\n",
       "        vertical-align: top;\n",
       "    }\n",
       "\n",
       "    .dataframe thead th {\n",
       "        text-align: right;\n",
       "    }\n",
       "</style>\n",
       "<table border=\"1\" class=\"dataframe\">\n",
       "  <thead>\n",
       "    <tr style=\"text-align: right;\">\n",
       "      <th></th>\n",
       "      <th>PassengerId</th>\n",
       "      <th>Pclass</th>\n",
       "      <th>Name</th>\n",
       "      <th>Sex</th>\n",
       "      <th>Fare</th>\n",
       "      <th>Cabin</th>\n",
       "      <th>Embarked</th>\n",
       "      <th>Ages</th>\n",
       "      <th>Alone</th>\n",
       "      <th>Age*Pclass</th>\n",
       "    </tr>\n",
       "  </thead>\n",
       "  <tbody>\n",
       "    <tr>\n",
       "      <th>0</th>\n",
       "      <td>892</td>\n",
       "      <td>3</td>\n",
       "      <td>1</td>\n",
       "      <td>0</td>\n",
       "      <td>0</td>\n",
       "      <td>1</td>\n",
       "      <td>2</td>\n",
       "      <td>1</td>\n",
       "      <td>1</td>\n",
       "      <td>3</td>\n",
       "    </tr>\n",
       "    <tr>\n",
       "      <th>1</th>\n",
       "      <td>893</td>\n",
       "      <td>3</td>\n",
       "      <td>3</td>\n",
       "      <td>1</td>\n",
       "      <td>3</td>\n",
       "      <td>1</td>\n",
       "      <td>0</td>\n",
       "      <td>2</td>\n",
       "      <td>0</td>\n",
       "      <td>6</td>\n",
       "    </tr>\n",
       "    <tr>\n",
       "      <th>2</th>\n",
       "      <td>894</td>\n",
       "      <td>2</td>\n",
       "      <td>1</td>\n",
       "      <td>0</td>\n",
       "      <td>0</td>\n",
       "      <td>1</td>\n",
       "      <td>2</td>\n",
       "      <td>3</td>\n",
       "      <td>1</td>\n",
       "      <td>6</td>\n",
       "    </tr>\n",
       "    <tr>\n",
       "      <th>3</th>\n",
       "      <td>895</td>\n",
       "      <td>3</td>\n",
       "      <td>1</td>\n",
       "      <td>0</td>\n",
       "      <td>3</td>\n",
       "      <td>1</td>\n",
       "      <td>0</td>\n",
       "      <td>1</td>\n",
       "      <td>1</td>\n",
       "      <td>3</td>\n",
       "    </tr>\n",
       "    <tr>\n",
       "      <th>4</th>\n",
       "      <td>896</td>\n",
       "      <td>3</td>\n",
       "      <td>3</td>\n",
       "      <td>1</td>\n",
       "      <td>0</td>\n",
       "      <td>1</td>\n",
       "      <td>0</td>\n",
       "      <td>1</td>\n",
       "      <td>0</td>\n",
       "      <td>3</td>\n",
       "    </tr>\n",
       "  </tbody>\n",
       "</table>\n",
       "</div>"
      ],
      "text/plain": [
       "   PassengerId  Pclass  Name  Sex  Fare  Cabin  Embarked  Ages  Alone  \\\n",
       "0          892       3     1    0     0      1         2     1      1   \n",
       "1          893       3     3    1     3      1         0     2      0   \n",
       "2          894       2     1    0     0      1         2     3      1   \n",
       "3          895       3     1    0     3      1         0     1      1   \n",
       "4          896       3     3    1     0      1         0     1      0   \n",
       "\n",
       "   Age*Pclass  \n",
       "0           3  \n",
       "1           6  \n",
       "2           6  \n",
       "3           3  \n",
       "4           3  "
      ]
     },
     "execution_count": 71,
     "metadata": {},
     "output_type": "execute_result"
    }
   ],
   "source": [
    "df_test.head()"
   ]
  },
  {
   "cell_type": "markdown",
   "id": "7f1ffebc",
   "metadata": {
    "papermill": {
     "duration": 0.050514,
     "end_time": "2023-10-24T14:10:20.428573",
     "exception": false,
     "start_time": "2023-10-24T14:10:20.378059",
     "status": "completed"
    },
    "tags": []
   },
   "source": [
    "데이터 준비"
   ]
  },
  {
   "cell_type": "code",
   "execution_count": 72,
   "id": "445170a8",
   "metadata": {
    "execution": {
     "iopub.execute_input": "2023-10-24T14:10:20.532041Z",
     "iopub.status.busy": "2023-10-24T14:10:20.531635Z",
     "iopub.status.idle": "2023-10-24T14:10:21.016432Z",
     "shell.execute_reply": "2023-10-24T14:10:21.015271Z"
    },
    "papermill": {
     "duration": 0.540037,
     "end_time": "2023-10-24T14:10:21.019331",
     "exception": false,
     "start_time": "2023-10-24T14:10:20.479294",
     "status": "completed"
    },
    "tags": []
   },
   "outputs": [],
   "source": [
    "from sklearn.linear_model import LogisticRegression\n",
    "from sklearn.model_selection import train_test_split\n",
    "from sklearn.metrics import accuracy_score, precision_score, recall_score, f1_score, roc_curve, roc_auc_score"
   ]
  },
  {
   "cell_type": "code",
   "execution_count": 73,
   "id": "713c9bcc",
   "metadata": {
    "execution": {
     "iopub.execute_input": "2023-10-24T14:10:21.121472Z",
     "iopub.status.busy": "2023-10-24T14:10:21.121089Z",
     "iopub.status.idle": "2023-10-24T14:10:21.133468Z",
     "shell.execute_reply": "2023-10-24T14:10:21.132321Z"
    },
    "papermill": {
     "duration": 0.066339,
     "end_time": "2023-10-24T14:10:21.136106",
     "exception": false,
     "start_time": "2023-10-24T14:10:21.069767",
     "status": "completed"
    },
    "tags": []
   },
   "outputs": [
    {
     "data": {
      "text/plain": [
       "((891, 9), (891,), (418, 9))"
      ]
     },
     "execution_count": 73,
     "metadata": {},
     "output_type": "execute_result"
    }
   ],
   "source": [
    "# 목적 변수 제거\n",
    "x_train = df_train.drop(\"Survived\", axis=1)\n",
    "#목적 변수 역할\n",
    "y_train = df_train[\"Survived\"]\n",
    "#예측 대상 데이터 셋\n",
    "x_test  = df_test.drop(\"PassengerId\", axis=1).copy()\n",
    "x_train.shape, y_train.shape, x_test.shape"
   ]
  },
  {
   "cell_type": "markdown",
   "id": "186ab851",
   "metadata": {
    "papermill": {
     "duration": 0.050259,
     "end_time": "2023-10-24T14:10:21.238126",
     "exception": false,
     "start_time": "2023-10-24T14:10:21.187867",
     "status": "completed"
    },
    "tags": []
   },
   "source": [
    "로지스틱"
   ]
  },
  {
   "cell_type": "code",
   "execution_count": 74,
   "id": "029940a5",
   "metadata": {
    "execution": {
     "iopub.execute_input": "2023-10-24T14:10:21.340317Z",
     "iopub.status.busy": "2023-10-24T14:10:21.339227Z",
     "iopub.status.idle": "2023-10-24T14:10:21.371636Z",
     "shell.execute_reply": "2023-10-24T14:10:21.370817Z"
    },
    "papermill": {
     "duration": 0.086482,
     "end_time": "2023-10-24T14:10:21.374044",
     "exception": false,
     "start_time": "2023-10-24T14:10:21.287562",
     "status": "completed"
    },
    "tags": []
   },
   "outputs": [
    {
     "data": {
      "text/plain": [
       "81.48"
      ]
     },
     "execution_count": 74,
     "metadata": {},
     "output_type": "execute_result"
    }
   ],
   "source": [
    "lr = LogisticRegression()\n",
    "lr.fit(x_train, y_train)\n",
    "y_pred = lr.predict(x_test)\n",
    "acc_log = round(lr.score(x_train, y_train) * 100, 2)\n",
    "acc_log"
   ]
  },
  {
   "cell_type": "code",
   "execution_count": 75,
   "id": "16db51bc",
   "metadata": {
    "execution": {
     "iopub.execute_input": "2023-10-24T14:10:21.476357Z",
     "iopub.status.busy": "2023-10-24T14:10:21.475621Z",
     "iopub.status.idle": "2023-10-24T14:10:21.481884Z",
     "shell.execute_reply": "2023-10-24T14:10:21.481012Z"
    },
    "papermill": {
     "duration": 0.060575,
     "end_time": "2023-10-24T14:10:21.484123",
     "exception": false,
     "start_time": "2023-10-24T14:10:21.423548",
     "status": "completed"
    },
    "tags": []
   },
   "outputs": [
    {
     "data": {
      "text/plain": [
       "Index(['Survived', 'Pclass', 'Name', 'Sex', 'Fare', 'Cabin', 'Embarked',\n",
       "       'Ages', 'Alone', 'Age*Pclass'],\n",
       "      dtype='object')"
      ]
     },
     "execution_count": 75,
     "metadata": {},
     "output_type": "execute_result"
    }
   ],
   "source": [
    "df_train.columns"
   ]
  },
  {
   "cell_type": "code",
   "execution_count": 76,
   "id": "eec4424d",
   "metadata": {
    "execution": {
     "iopub.execute_input": "2023-10-24T14:10:21.587340Z",
     "iopub.status.busy": "2023-10-24T14:10:21.586583Z",
     "iopub.status.idle": "2023-10-24T14:10:21.592993Z",
     "shell.execute_reply": "2023-10-24T14:10:21.592151Z"
    },
    "papermill": {
     "duration": 0.060303,
     "end_time": "2023-10-24T14:10:21.595202",
     "exception": false,
     "start_time": "2023-10-24T14:10:21.534899",
     "status": "completed"
    },
    "tags": []
   },
   "outputs": [
    {
     "data": {
      "text/plain": [
       "array([-1.02626364,  0.42762025,  2.19641635, -0.0371117 ,  0.25823441,\n",
       "        0.30302497, -0.79531487,  0.18141023,  0.10660248])"
      ]
     },
     "execution_count": 76,
     "metadata": {},
     "output_type": "execute_result"
    }
   ],
   "source": [
    "lr.coef_[0]"
   ]
  },
  {
   "cell_type": "code",
   "execution_count": 77,
   "id": "2bbc399f",
   "metadata": {
    "execution": {
     "iopub.execute_input": "2023-10-24T14:10:21.697677Z",
     "iopub.status.busy": "2023-10-24T14:10:21.696987Z",
     "iopub.status.idle": "2023-10-24T14:10:21.703485Z",
     "shell.execute_reply": "2023-10-24T14:10:21.702619Z"
    },
    "papermill": {
     "duration": 0.060266,
     "end_time": "2023-10-24T14:10:21.705630",
     "exception": false,
     "start_time": "2023-10-24T14:10:21.645364",
     "status": "completed"
    },
    "tags": []
   },
   "outputs": [
    {
     "data": {
      "text/plain": [
       "Index(['Survived', 'Pclass', 'Name', 'Sex', 'Fare', 'Cabin', 'Embarked',\n",
       "       'Ages', 'Alone', 'Age*Pclass'],\n",
       "      dtype='object')"
      ]
     },
     "execution_count": 77,
     "metadata": {},
     "output_type": "execute_result"
    }
   ],
   "source": [
    "df_train.columns"
   ]
  },
  {
   "cell_type": "code",
   "execution_count": 78,
   "id": "3e70b69a",
   "metadata": {
    "execution": {
     "iopub.execute_input": "2023-10-24T14:10:21.808676Z",
     "iopub.status.busy": "2023-10-24T14:10:21.807986Z",
     "iopub.status.idle": "2023-10-24T14:10:21.814487Z",
     "shell.execute_reply": "2023-10-24T14:10:21.813657Z"
    },
    "papermill": {
     "duration": 0.06041,
     "end_time": "2023-10-24T14:10:21.816651",
     "exception": false,
     "start_time": "2023-10-24T14:10:21.756241",
     "status": "completed"
    },
    "tags": []
   },
   "outputs": [
    {
     "data": {
      "text/plain": [
       "Index(['Pclass', 'Name', 'Sex', 'Fare', 'Cabin', 'Embarked', 'Ages', 'Alone',\n",
       "       'Age*Pclass'],\n",
       "      dtype='object')"
      ]
     },
     "execution_count": 78,
     "metadata": {},
     "output_type": "execute_result"
    }
   ],
   "source": [
    "df_train.columns.delete(0)"
   ]
  },
  {
   "cell_type": "code",
   "execution_count": 79,
   "id": "a574dabe",
   "metadata": {
    "execution": {
     "iopub.execute_input": "2023-10-24T14:10:21.923617Z",
     "iopub.status.busy": "2023-10-24T14:10:21.922851Z",
     "iopub.status.idle": "2023-10-24T14:10:21.938062Z",
     "shell.execute_reply": "2023-10-24T14:10:21.936749Z"
    },
    "papermill": {
     "duration": 0.070951,
     "end_time": "2023-10-24T14:10:21.940743",
     "exception": false,
     "start_time": "2023-10-24T14:10:21.869792",
     "status": "completed"
    },
    "tags": []
   },
   "outputs": [
    {
     "data": {
      "text/html": [
       "<div>\n",
       "<style scoped>\n",
       "    .dataframe tbody tr th:only-of-type {\n",
       "        vertical-align: middle;\n",
       "    }\n",
       "\n",
       "    .dataframe tbody tr th {\n",
       "        vertical-align: top;\n",
       "    }\n",
       "\n",
       "    .dataframe thead th {\n",
       "        text-align: right;\n",
       "    }\n",
       "</style>\n",
       "<table border=\"1\" class=\"dataframe\">\n",
       "  <thead>\n",
       "    <tr style=\"text-align: right;\">\n",
       "      <th></th>\n",
       "      <th>Feature</th>\n",
       "      <th>Correlation</th>\n",
       "    </tr>\n",
       "  </thead>\n",
       "  <tbody>\n",
       "    <tr>\n",
       "      <th>2</th>\n",
       "      <td>Sex</td>\n",
       "      <td>2.196416</td>\n",
       "    </tr>\n",
       "    <tr>\n",
       "      <th>1</th>\n",
       "      <td>Name</td>\n",
       "      <td>0.427620</td>\n",
       "    </tr>\n",
       "    <tr>\n",
       "      <th>5</th>\n",
       "      <td>Embarked</td>\n",
       "      <td>0.303025</td>\n",
       "    </tr>\n",
       "    <tr>\n",
       "      <th>4</th>\n",
       "      <td>Cabin</td>\n",
       "      <td>0.258234</td>\n",
       "    </tr>\n",
       "    <tr>\n",
       "      <th>7</th>\n",
       "      <td>Alone</td>\n",
       "      <td>0.181410</td>\n",
       "    </tr>\n",
       "    <tr>\n",
       "      <th>8</th>\n",
       "      <td>Age*Pclass</td>\n",
       "      <td>0.106602</td>\n",
       "    </tr>\n",
       "    <tr>\n",
       "      <th>3</th>\n",
       "      <td>Fare</td>\n",
       "      <td>-0.037112</td>\n",
       "    </tr>\n",
       "    <tr>\n",
       "      <th>6</th>\n",
       "      <td>Ages</td>\n",
       "      <td>-0.795315</td>\n",
       "    </tr>\n",
       "    <tr>\n",
       "      <th>0</th>\n",
       "      <td>Pclass</td>\n",
       "      <td>-1.026264</td>\n",
       "    </tr>\n",
       "  </tbody>\n",
       "</table>\n",
       "</div>"
      ],
      "text/plain": [
       "      Feature  Correlation\n",
       "2         Sex     2.196416\n",
       "1        Name     0.427620\n",
       "5    Embarked     0.303025\n",
       "4       Cabin     0.258234\n",
       "7       Alone     0.181410\n",
       "8  Age*Pclass     0.106602\n",
       "3        Fare    -0.037112\n",
       "6        Ages    -0.795315\n",
       "0      Pclass    -1.026264"
      ]
     },
     "execution_count": 79,
     "metadata": {},
     "output_type": "execute_result"
    }
   ],
   "source": [
    "coeff_df = pd.DataFrame(df_train.columns.delete(0))\n",
    "coeff_df.columns = ['Feature']\n",
    "coeff_df[\"Correlation\"] = pd.Series(lr.coef_[0])\n",
    "\n",
    "coeff_df.sort_values(by='Correlation', ascending=False)"
   ]
  },
  {
   "cell_type": "markdown",
   "id": "890bb1ef",
   "metadata": {
    "papermill": {
     "duration": 0.051252,
     "end_time": "2023-10-24T14:10:22.043064",
     "exception": false,
     "start_time": "2023-10-24T14:10:21.991812",
     "status": "completed"
    },
    "tags": []
   },
   "source": [
    "랜덤포레스트"
   ]
  },
  {
   "cell_type": "code",
   "execution_count": 80,
   "id": "0bc35904",
   "metadata": {
    "execution": {
     "iopub.execute_input": "2023-10-24T14:10:22.147810Z",
     "iopub.status.busy": "2023-10-24T14:10:22.147046Z",
     "iopub.status.idle": "2023-10-24T14:10:22.744822Z",
     "shell.execute_reply": "2023-10-24T14:10:22.743545Z"
    },
    "papermill": {
     "duration": 0.653528,
     "end_time": "2023-10-24T14:10:22.747981",
     "exception": false,
     "start_time": "2023-10-24T14:10:22.094453",
     "status": "completed"
    },
    "tags": []
   },
   "outputs": [
    {
     "data": {
      "text/plain": [
       "89.0"
      ]
     },
     "execution_count": 80,
     "metadata": {},
     "output_type": "execute_result"
    }
   ],
   "source": [
    "from sklearn.ensemble import RandomForestClassifier\n",
    "\n",
    "rf = RandomForestClassifier(n_estimators=100)\n",
    "rf.fit(x_train, y_train)\n",
    "Y_pred = rf.predict(x_test)\n",
    "acc_random_forest = round(rf.score(x_train, y_train) * 100, 2)\n",
    "acc_random_forest"
   ]
  },
  {
   "cell_type": "code",
   "execution_count": 81,
   "id": "26cff170",
   "metadata": {
    "execution": {
     "iopub.execute_input": "2023-10-24T14:10:22.863832Z",
     "iopub.status.busy": "2023-10-24T14:10:22.862884Z",
     "iopub.status.idle": "2023-10-24T14:10:22.882930Z",
     "shell.execute_reply": "2023-10-24T14:10:22.881594Z"
    },
    "papermill": {
     "duration": 0.086423,
     "end_time": "2023-10-24T14:10:22.885823",
     "exception": false,
     "start_time": "2023-10-24T14:10:22.799400",
     "status": "completed"
    },
    "tags": []
   },
   "outputs": [
    {
     "data": {
      "text/plain": [
       "Name          0.241087\n",
       "Sex           0.218895\n",
       "Fare          0.111614\n",
       "Pclass        0.107659\n",
       "Cabin         0.107027\n",
       "Embarked      0.071409\n",
       "Age*Pclass    0.067469\n",
       "Ages          0.038044\n",
       "Alone         0.036798\n",
       "dtype: float64"
      ]
     },
     "execution_count": 81,
     "metadata": {},
     "output_type": "execute_result"
    }
   ],
   "source": [
    "x_train_columns = x_train.columns.tolist()\n",
    "ser = pd.Series(rf.feature_importances_, index=x_train_columns)\n",
    "ser = ser.sort_values(ascending=False)\n",
    "ser"
   ]
  },
  {
   "cell_type": "code",
   "execution_count": 82,
   "id": "12ed4f84",
   "metadata": {
    "execution": {
     "iopub.execute_input": "2023-10-24T14:10:22.990487Z",
     "iopub.status.busy": "2023-10-24T14:10:22.989659Z",
     "iopub.status.idle": "2023-10-24T14:10:23.247841Z",
     "shell.execute_reply": "2023-10-24T14:10:23.246547Z"
    },
    "papermill": {
     "duration": 0.313176,
     "end_time": "2023-10-24T14:10:23.250413",
     "exception": false,
     "start_time": "2023-10-24T14:10:22.937237",
     "status": "completed"
    },
    "tags": []
   },
   "outputs": [
    {
     "data": {
      "image/png": "[encoded data removed]",
      "text/plain": [
       "<Figure size 800x600 with 1 Axes>"
      ]
     },
     "metadata": {},
     "output_type": "display_data"
    }
   ],
   "source": [
    "plt.figure(figsize=(8,6))\n",
    "plt.title('Feature Importances Top')\n",
    "sns.barplot(x = ser, y = x_train_columns)\n",
    "plt.show()"
   ]
  },
  {
   "cell_type": "code",
   "execution_count": 83,
   "id": "4f8dd969",
   "metadata": {
    "execution": {
     "iopub.execute_input": "2023-10-24T14:10:23.357323Z",
     "iopub.status.busy": "2023-10-24T14:10:23.356467Z",
     "iopub.status.idle": "2023-10-24T14:10:23.369386Z",
     "shell.execute_reply": "2023-10-24T14:10:23.368275Z"
    },
    "papermill": {
     "duration": 0.070015,
     "end_time": "2023-10-24T14:10:23.371858",
     "exception": false,
     "start_time": "2023-10-24T14:10:23.301843",
     "status": "completed"
    },
    "tags": []
   },
   "outputs": [
    {
     "data": {
      "text/html": [
       "<div>\n",
       "<style scoped>\n",
       "    .dataframe tbody tr th:only-of-type {\n",
       "        vertical-align: middle;\n",
       "    }\n",
       "\n",
       "    .dataframe tbody tr th {\n",
       "        vertical-align: top;\n",
       "    }\n",
       "\n",
       "    .dataframe thead th {\n",
       "        text-align: right;\n",
       "    }\n",
       "</style>\n",
       "<table border=\"1\" class=\"dataframe\">\n",
       "  <thead>\n",
       "    <tr style=\"text-align: right;\">\n",
       "      <th></th>\n",
       "      <th>Model</th>\n",
       "      <th>Score</th>\n",
       "    </tr>\n",
       "  </thead>\n",
       "  <tbody>\n",
       "    <tr>\n",
       "      <th>1</th>\n",
       "      <td>Random Forest</td>\n",
       "      <td>89.00</td>\n",
       "    </tr>\n",
       "    <tr>\n",
       "      <th>0</th>\n",
       "      <td>Logistic Regression</td>\n",
       "      <td>81.48</td>\n",
       "    </tr>\n",
       "  </tbody>\n",
       "</table>\n",
       "</div>"
      ],
      "text/plain": [
       "                 Model  Score\n",
       "1        Random Forest  89.00\n",
       "0  Logistic Regression  81.48"
      ]
     },
     "execution_count": 83,
     "metadata": {},
     "output_type": "execute_result"
    }
   ],
   "source": [
    "models = pd.DataFrame({\n",
    "    'Model': ['Logistic Regression', \n",
    "              'Random Forest'],\n",
    "    'Score': [acc_log, \n",
    "              acc_random_forest,]})\n",
    "models.sort_values(by='Score', ascending=False)"
   ]
  },
  {
   "cell_type": "markdown",
   "id": "06464c7e",
   "metadata": {
    "papermill": {
     "duration": 0.051525,
     "end_time": "2023-10-24T14:10:23.475001",
     "exception": false,
     "start_time": "2023-10-24T14:10:23.423476",
     "status": "completed"
    },
    "tags": []
   },
   "source": [
    "그리드 서치"
   ]
  },
  {
   "cell_type": "code",
   "execution_count": 84,
   "id": "1a54d819",
   "metadata": {
    "execution": {
     "iopub.execute_input": "2023-10-24T14:10:23.581961Z",
     "iopub.status.busy": "2023-10-24T14:10:23.581322Z",
     "iopub.status.idle": "2023-10-24T14:10:23.586808Z",
     "shell.execute_reply": "2023-10-24T14:10:23.585842Z"
    },
    "papermill": {
     "duration": 0.061644,
     "end_time": "2023-10-24T14:10:23.589302",
     "exception": false,
     "start_time": "2023-10-24T14:10:23.527658",
     "status": "completed"
    },
    "tags": []
   },
   "outputs": [],
   "source": [
    "# from sklearn.model_selection import GridSearchCV\n",
    "\n",
    "# parameters = {'max_depth':[2,3,5,10],'n_estimators' : [1,5,10,30,100] ,\n",
    "#              'min_samples_split':[2,3,5], 'min_samples_leaf':[1,5,8]}\n",
    "\n",
    "# grid_dclf = GridSearchCV(rf , param_grid=parameters , scoring='accuracy' , cv=10)\n",
    "# grid_dclf.fit(x_train , y_train)\n",
    "\n",
    "# print('GridSearchCV 최적 하이퍼 파라미터 :',grid_dclf.best_params_)\n",
    "# print('GridSearchCV 최고 정확도: {0:.4f}'.format(grid_dclf.best_score_))\n",
    "# best_dclf = grid_dclf.best_estimator_\n",
    "\n",
    "# # GridSearchCV의 최적 하이퍼 파라미터로 학습된 Estimator로 예측 및 평가 수행. \n",
    "# dpredictions = best_dclf.predict(x_test)\n"
   ]
  },
  {
   "cell_type": "markdown",
   "id": "e404dde5",
   "metadata": {
    "papermill": {
     "duration": 0.051231,
     "end_time": "2023-10-24T14:10:23.693093",
     "exception": false,
     "start_time": "2023-10-24T14:10:23.641862",
     "status": "completed"
    },
    "tags": []
   },
   "source": [
    "테스트 제출"
   ]
  },
  {
   "cell_type": "code",
   "execution_count": 85,
   "id": "5c5810bc",
   "metadata": {
    "execution": {
     "iopub.execute_input": "2023-10-24T14:10:23.800897Z",
     "iopub.status.busy": "2023-10-24T14:10:23.800319Z",
     "iopub.status.idle": "2023-10-24T14:10:23.814385Z",
     "shell.execute_reply": "2023-10-24T14:10:23.813077Z"
    },
    "papermill": {
     "duration": 0.070648,
     "end_time": "2023-10-24T14:10:23.817247",
     "exception": false,
     "start_time": "2023-10-24T14:10:23.746599",
     "status": "completed"
    },
    "tags": []
   },
   "outputs": [
    {
     "data": {
      "text/html": [
       "<div>\n",
       "<style scoped>\n",
       "    .dataframe tbody tr th:only-of-type {\n",
       "        vertical-align: middle;\n",
       "    }\n",
       "\n",
       "    .dataframe tbody tr th {\n",
       "        vertical-align: top;\n",
       "    }\n",
       "\n",
       "    .dataframe thead th {\n",
       "        text-align: right;\n",
       "    }\n",
       "</style>\n",
       "<table border=\"1\" class=\"dataframe\">\n",
       "  <thead>\n",
       "    <tr style=\"text-align: right;\">\n",
       "      <th></th>\n",
       "      <th>PassengerId</th>\n",
       "      <th>Survived</th>\n",
       "    </tr>\n",
       "  </thead>\n",
       "  <tbody>\n",
       "    <tr>\n",
       "      <th>0</th>\n",
       "      <td>892</td>\n",
       "      <td>0</td>\n",
       "    </tr>\n",
       "    <tr>\n",
       "      <th>1</th>\n",
       "      <td>893</td>\n",
       "      <td>1</td>\n",
       "    </tr>\n",
       "    <tr>\n",
       "      <th>2</th>\n",
       "      <td>894</td>\n",
       "      <td>0</td>\n",
       "    </tr>\n",
       "    <tr>\n",
       "      <th>3</th>\n",
       "      <td>895</td>\n",
       "      <td>0</td>\n",
       "    </tr>\n",
       "    <tr>\n",
       "      <th>4</th>\n",
       "      <td>896</td>\n",
       "      <td>1</td>\n",
       "    </tr>\n",
       "    <tr>\n",
       "      <th>...</th>\n",
       "      <td>...</td>\n",
       "      <td>...</td>\n",
       "    </tr>\n",
       "    <tr>\n",
       "      <th>413</th>\n",
       "      <td>1305</td>\n",
       "      <td>0</td>\n",
       "    </tr>\n",
       "    <tr>\n",
       "      <th>414</th>\n",
       "      <td>1306</td>\n",
       "      <td>1</td>\n",
       "    </tr>\n",
       "    <tr>\n",
       "      <th>415</th>\n",
       "      <td>1307</td>\n",
       "      <td>0</td>\n",
       "    </tr>\n",
       "    <tr>\n",
       "      <th>416</th>\n",
       "      <td>1308</td>\n",
       "      <td>0</td>\n",
       "    </tr>\n",
       "    <tr>\n",
       "      <th>417</th>\n",
       "      <td>1309</td>\n",
       "      <td>0</td>\n",
       "    </tr>\n",
       "  </tbody>\n",
       "</table>\n",
       "<p>418 rows × 2 columns</p>\n",
       "</div>"
      ],
      "text/plain": [
       "     PassengerId  Survived\n",
       "0            892         0\n",
       "1            893         1\n",
       "2            894         0\n",
       "3            895         0\n",
       "4            896         1\n",
       "..           ...       ...\n",
       "413         1305         0\n",
       "414         1306         1\n",
       "415         1307         0\n",
       "416         1308         0\n",
       "417         1309         0\n",
       "\n",
       "[418 rows x 2 columns]"
      ]
     },
     "execution_count": 85,
     "metadata": {},
     "output_type": "execute_result"
    }
   ],
   "source": [
    "gender_sub"
   ]
  },
  {
   "cell_type": "code",
   "execution_count": 86,
   "id": "3a117769",
   "metadata": {
    "execution": {
     "iopub.execute_input": "2023-10-24T14:10:23.928910Z",
     "iopub.status.busy": "2023-10-24T14:10:23.928017Z",
     "iopub.status.idle": "2023-10-24T14:10:23.943118Z",
     "shell.execute_reply": "2023-10-24T14:10:23.941875Z"
    },
    "papermill": {
     "duration": 0.073258,
     "end_time": "2023-10-24T14:10:23.945718",
     "exception": false,
     "start_time": "2023-10-24T14:10:23.872460",
     "status": "completed"
    },
    "tags": []
   },
   "outputs": [
    {
     "data": {
      "text/html": [
       "<div>\n",
       "<style scoped>\n",
       "    .dataframe tbody tr th:only-of-type {\n",
       "        vertical-align: middle;\n",
       "    }\n",
       "\n",
       "    .dataframe tbody tr th {\n",
       "        vertical-align: top;\n",
       "    }\n",
       "\n",
       "    .dataframe thead th {\n",
       "        text-align: right;\n",
       "    }\n",
       "</style>\n",
       "<table border=\"1\" class=\"dataframe\">\n",
       "  <thead>\n",
       "    <tr style=\"text-align: right;\">\n",
       "      <th></th>\n",
       "      <th>PassengerId</th>\n",
       "      <th>Survived</th>\n",
       "    </tr>\n",
       "  </thead>\n",
       "  <tbody>\n",
       "    <tr>\n",
       "      <th>0</th>\n",
       "      <td>892</td>\n",
       "      <td>0</td>\n",
       "    </tr>\n",
       "    <tr>\n",
       "      <th>1</th>\n",
       "      <td>893</td>\n",
       "      <td>0</td>\n",
       "    </tr>\n",
       "    <tr>\n",
       "      <th>2</th>\n",
       "      <td>894</td>\n",
       "      <td>0</td>\n",
       "    </tr>\n",
       "    <tr>\n",
       "      <th>3</th>\n",
       "      <td>895</td>\n",
       "      <td>0</td>\n",
       "    </tr>\n",
       "    <tr>\n",
       "      <th>4</th>\n",
       "      <td>896</td>\n",
       "      <td>1</td>\n",
       "    </tr>\n",
       "    <tr>\n",
       "      <th>...</th>\n",
       "      <td>...</td>\n",
       "      <td>...</td>\n",
       "    </tr>\n",
       "    <tr>\n",
       "      <th>413</th>\n",
       "      <td>1305</td>\n",
       "      <td>0</td>\n",
       "    </tr>\n",
       "    <tr>\n",
       "      <th>414</th>\n",
       "      <td>1306</td>\n",
       "      <td>1</td>\n",
       "    </tr>\n",
       "    <tr>\n",
       "      <th>415</th>\n",
       "      <td>1307</td>\n",
       "      <td>0</td>\n",
       "    </tr>\n",
       "    <tr>\n",
       "      <th>416</th>\n",
       "      <td>1308</td>\n",
       "      <td>0</td>\n",
       "    </tr>\n",
       "    <tr>\n",
       "      <th>417</th>\n",
       "      <td>1309</td>\n",
       "      <td>0</td>\n",
       "    </tr>\n",
       "  </tbody>\n",
       "</table>\n",
       "<p>418 rows × 2 columns</p>\n",
       "</div>"
      ],
      "text/plain": [
       "     PassengerId  Survived\n",
       "0            892         0\n",
       "1            893         0\n",
       "2            894         0\n",
       "3            895         0\n",
       "4            896         1\n",
       "..           ...       ...\n",
       "413         1305         0\n",
       "414         1306         1\n",
       "415         1307         0\n",
       "416         1308         0\n",
       "417         1309         0\n",
       "\n",
       "[418 rows x 2 columns]"
      ]
     },
     "execution_count": 86,
     "metadata": {},
     "output_type": "execute_result"
    }
   ],
   "source": [
    "submission = pd.concat([df_test['PassengerId'],pd.Series(y_pred)], axis=1)\n",
    "submission.columns = ['PassengerId','Survived']\n",
    "submission"
   ]
  },
  {
   "cell_type": "code",
   "execution_count": 87,
   "id": "56943bb8",
   "metadata": {
    "execution": {
     "iopub.execute_input": "2023-10-24T14:10:24.053459Z",
     "iopub.status.busy": "2023-10-24T14:10:24.052643Z",
     "iopub.status.idle": "2023-10-24T14:10:24.065163Z",
     "shell.execute_reply": "2023-10-24T14:10:24.063785Z"
    },
    "papermill": {
     "duration": 0.069636,
     "end_time": "2023-10-24T14:10:24.067813",
     "exception": false,
     "start_time": "2023-10-24T14:10:23.998177",
     "status": "completed"
    },
    "tags": []
   },
   "outputs": [
    {
     "data": {
      "text/html": [
       "<div>\n",
       "<style scoped>\n",
       "    .dataframe tbody tr th:only-of-type {\n",
       "        vertical-align: middle;\n",
       "    }\n",
       "\n",
       "    .dataframe tbody tr th {\n",
       "        vertical-align: top;\n",
       "    }\n",
       "\n",
       "    .dataframe thead th {\n",
       "        text-align: right;\n",
       "    }\n",
       "</style>\n",
       "<table border=\"1\" class=\"dataframe\">\n",
       "  <thead>\n",
       "    <tr style=\"text-align: right;\">\n",
       "      <th></th>\n",
       "      <th>PassengerId</th>\n",
       "      <th>Survived</th>\n",
       "    </tr>\n",
       "  </thead>\n",
       "  <tbody>\n",
       "    <tr>\n",
       "      <th>0</th>\n",
       "      <td>892</td>\n",
       "      <td>0</td>\n",
       "    </tr>\n",
       "    <tr>\n",
       "      <th>1</th>\n",
       "      <td>893</td>\n",
       "      <td>1</td>\n",
       "    </tr>\n",
       "    <tr>\n",
       "      <th>2</th>\n",
       "      <td>894</td>\n",
       "      <td>0</td>\n",
       "    </tr>\n",
       "    <tr>\n",
       "      <th>3</th>\n",
       "      <td>895</td>\n",
       "      <td>0</td>\n",
       "    </tr>\n",
       "    <tr>\n",
       "      <th>4</th>\n",
       "      <td>896</td>\n",
       "      <td>1</td>\n",
       "    </tr>\n",
       "    <tr>\n",
       "      <th>...</th>\n",
       "      <td>...</td>\n",
       "      <td>...</td>\n",
       "    </tr>\n",
       "    <tr>\n",
       "      <th>413</th>\n",
       "      <td>1305</td>\n",
       "      <td>0</td>\n",
       "    </tr>\n",
       "    <tr>\n",
       "      <th>414</th>\n",
       "      <td>1306</td>\n",
       "      <td>1</td>\n",
       "    </tr>\n",
       "    <tr>\n",
       "      <th>415</th>\n",
       "      <td>1307</td>\n",
       "      <td>0</td>\n",
       "    </tr>\n",
       "    <tr>\n",
       "      <th>416</th>\n",
       "      <td>1308</td>\n",
       "      <td>0</td>\n",
       "    </tr>\n",
       "    <tr>\n",
       "      <th>417</th>\n",
       "      <td>1309</td>\n",
       "      <td>0</td>\n",
       "    </tr>\n",
       "  </tbody>\n",
       "</table>\n",
       "<p>418 rows × 2 columns</p>\n",
       "</div>"
      ],
      "text/plain": [
       "     PassengerId  Survived\n",
       "0            892         0\n",
       "1            893         1\n",
       "2            894         0\n",
       "3            895         0\n",
       "4            896         1\n",
       "..           ...       ...\n",
       "413         1305         0\n",
       "414         1306         1\n",
       "415         1307         0\n",
       "416         1308         0\n",
       "417         1309         0\n",
       "\n",
       "[418 rows x 2 columns]"
      ]
     },
     "execution_count": 87,
     "metadata": {},
     "output_type": "execute_result"
    }
   ],
   "source": [
    "gender_sub"
   ]
  },
  {
   "cell_type": "code",
   "execution_count": 88,
   "id": "c3bca408",
   "metadata": {
    "execution": {
     "iopub.execute_input": "2023-10-24T14:10:24.175741Z",
     "iopub.status.busy": "2023-10-24T14:10:24.174992Z",
     "iopub.status.idle": "2023-10-24T14:10:24.184098Z",
     "shell.execute_reply": "2023-10-24T14:10:24.182829Z"
    },
    "papermill": {
     "duration": 0.065533,
     "end_time": "2023-10-24T14:10:24.186629",
     "exception": false,
     "start_time": "2023-10-24T14:10:24.121096",
     "status": "completed"
    },
    "tags": []
   },
   "outputs": [],
   "source": [
    "submission.to_csv('submission.csv',index = False)"
   ]
  }
 ],
 "metadata": {
  "kernelspec": {
   "display_name": "Python 3",
   "language": "python",
   "name": "python3"
  },
  "language_info": {
   "codemirror_mode": {
    "name": "ipython",
    "version": 3
   },
   "file_extension": ".py",
   "mimetype": "text/x-python",
   "name": "python",
   "nbconvert_exporter": "python",
   "pygments_lexer": "ipython3",
   "version": "3.10.12"
  },
  "papermill": {
   "default_parameters": {},
   "duration": 31.937677,
   "end_time": "2023-10-24T14:10:25.060995",
   "environment_variables": {},
   "exception": null,
   "input_path": "__notebook__.ipynb",
   "output_path": "__notebook__.ipynb",
   "parameters": {},
   "start_time": "2023-10-24T14:09:53.123318",
   "version": "2.4.0"
  }
 },
 "nbformat": 4,
 "nbformat_minor": 5
}
