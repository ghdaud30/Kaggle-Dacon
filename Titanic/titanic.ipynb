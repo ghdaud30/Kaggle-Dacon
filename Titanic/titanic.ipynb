{
 "cells": [
  {
   "cell_type": "code",
   "execution_count": 1,
   "id": "0851f66c",
   "metadata": {
    "_cell_guid": "b1076dfc-b9ad-4769-8c92-a6c4dae69d19",
    "_uuid": "8f2839f25d086af736a60e9eeb907d3b93b6e0e5",
    "execution": {
     "iopub.execute_input": "2023-10-20T04:15:05.664294Z",
     "iopub.status.busy": "2023-10-20T04:15:05.663413Z",
     "iopub.status.idle": "2023-10-20T04:15:08.257845Z",
     "shell.execute_reply": "2023-10-20T04:15:08.256728Z"
    },
    "papermill": {
     "duration": 2.611706,
     "end_time": "2023-10-20T04:15:08.260228",
     "exception": false,
     "start_time": "2023-10-20T04:15:05.648522",
     "status": "completed"
    },
    "tags": []
   },
   "outputs": [
    {
     "name": "stdout",
     "output_type": "stream",
     "text": [
      "/kaggle/input/titanic/train.csv\n",
      "/kaggle/input/titanic/test.csv\n",
      "/kaggle/input/titanic/gender_submission.csv\n"
     ]
    }
   ],
   "source": [
    "# This Python 3 environment comes with many helpful analytics libraries installed\n",
    "# It is defined by the kaggle/python Docker image: https://github.com/kaggle/docker-python\n",
    "# For example, here's several helpful packages to load\n",
    "\n",
    "import numpy as np # linear algebra\n",
    "import pandas as pd # data processing, CSV file I/O (e.g. pd.read_csv)\n",
    "import matplotlib.pyplot as plt\n",
    "import seaborn as sns\n",
    "\n",
    "import warnings\n",
    "\n",
    "# 특정 경고 필터링\n",
    "warnings.filterwarnings(\"ignore\", category=DeprecationWarning)\n",
    "\n",
    "# Input data files are available in the read-only \"../input/\" directory\n",
    "# For example, running this (by clicking run or pressing Shift+Enter) will list all files under the input directory\n",
    "\n",
    "import os\n",
    "for dirname, _, filenames in os.walk('/kaggle/input'):\n",
    "    for filename in filenames:\n",
    "        print(os.path.join(dirname, filename))\n",
    "\n",
    "# You can write up to 20GB to the current directory (/kaggle/working/) that gets preserved as output when you create a version using \"Save & Run All\" \n",
    "# You can also write temporary files to /kaggle/temp/, but they won't be saved outside of the current session"
   ]
  },
  {
   "cell_type": "markdown",
   "id": "d7de5970",
   "metadata": {
    "papermill": {
     "duration": 0.012288,
     "end_time": "2023-10-20T04:15:08.285764",
     "exception": false,
     "start_time": "2023-10-20T04:15:08.273476",
     "status": "completed"
    },
    "tags": []
   },
   "source": [
    "1. 탐색 : 타이타닉 데이터 살펴보기"
   ]
  },
  {
   "cell_type": "code",
   "execution_count": 2,
   "id": "991c08dd",
   "metadata": {
    "execution": {
     "iopub.execute_input": "2023-10-20T04:15:08.314134Z",
     "iopub.status.busy": "2023-10-20T04:15:08.312857Z",
     "iopub.status.idle": "2023-10-20T04:15:08.369535Z",
     "shell.execute_reply": "2023-10-20T04:15:08.368222Z"
    },
    "papermill": {
     "duration": 0.073602,
     "end_time": "2023-10-20T04:15:08.371965",
     "exception": false,
     "start_time": "2023-10-20T04:15:08.298363",
     "status": "completed"
    },
    "tags": []
   },
   "outputs": [
    {
     "data": {
      "text/html": [
       "<div>\n",
       "<style scoped>\n",
       "    .dataframe tbody tr th:only-of-type {\n",
       "        vertical-align: middle;\n",
       "    }\n",
       "\n",
       "    .dataframe tbody tr th {\n",
       "        vertical-align: top;\n",
       "    }\n",
       "\n",
       "    .dataframe thead th {\n",
       "        text-align: right;\n",
       "    }\n",
       "</style>\n",
       "<table border=\"1\" class=\"dataframe\">\n",
       "  <thead>\n",
       "    <tr style=\"text-align: right;\">\n",
       "      <th></th>\n",
       "      <th>PassengerId</th>\n",
       "      <th>Survived</th>\n",
       "      <th>Pclass</th>\n",
       "      <th>Name</th>\n",
       "      <th>Sex</th>\n",
       "      <th>Age</th>\n",
       "      <th>SibSp</th>\n",
       "      <th>Parch</th>\n",
       "      <th>Ticket</th>\n",
       "      <th>Fare</th>\n",
       "      <th>Cabin</th>\n",
       "      <th>Embarked</th>\n",
       "    </tr>\n",
       "  </thead>\n",
       "  <tbody>\n",
       "    <tr>\n",
       "      <th>0</th>\n",
       "      <td>1</td>\n",
       "      <td>0</td>\n",
       "      <td>3</td>\n",
       "      <td>Braund, Mr. Owen Harris</td>\n",
       "      <td>male</td>\n",
       "      <td>22.0</td>\n",
       "      <td>1</td>\n",
       "      <td>0</td>\n",
       "      <td>A/5 21171</td>\n",
       "      <td>7.2500</td>\n",
       "      <td>NaN</td>\n",
       "      <td>S</td>\n",
       "    </tr>\n",
       "    <tr>\n",
       "      <th>1</th>\n",
       "      <td>2</td>\n",
       "      <td>1</td>\n",
       "      <td>1</td>\n",
       "      <td>Cumings, Mrs. John Bradley (Florence Briggs Th...</td>\n",
       "      <td>female</td>\n",
       "      <td>38.0</td>\n",
       "      <td>1</td>\n",
       "      <td>0</td>\n",
       "      <td>PC 17599</td>\n",
       "      <td>71.2833</td>\n",
       "      <td>C85</td>\n",
       "      <td>C</td>\n",
       "    </tr>\n",
       "    <tr>\n",
       "      <th>2</th>\n",
       "      <td>3</td>\n",
       "      <td>1</td>\n",
       "      <td>3</td>\n",
       "      <td>Heikkinen, Miss. Laina</td>\n",
       "      <td>female</td>\n",
       "      <td>26.0</td>\n",
       "      <td>0</td>\n",
       "      <td>0</td>\n",
       "      <td>STON/O2. 3101282</td>\n",
       "      <td>7.9250</td>\n",
       "      <td>NaN</td>\n",
       "      <td>S</td>\n",
       "    </tr>\n",
       "    <tr>\n",
       "      <th>3</th>\n",
       "      <td>4</td>\n",
       "      <td>1</td>\n",
       "      <td>1</td>\n",
       "      <td>Futrelle, Mrs. Jacques Heath (Lily May Peel)</td>\n",
       "      <td>female</td>\n",
       "      <td>35.0</td>\n",
       "      <td>1</td>\n",
       "      <td>0</td>\n",
       "      <td>113803</td>\n",
       "      <td>53.1000</td>\n",
       "      <td>C123</td>\n",
       "      <td>S</td>\n",
       "    </tr>\n",
       "    <tr>\n",
       "      <th>4</th>\n",
       "      <td>5</td>\n",
       "      <td>0</td>\n",
       "      <td>3</td>\n",
       "      <td>Allen, Mr. William Henry</td>\n",
       "      <td>male</td>\n",
       "      <td>35.0</td>\n",
       "      <td>0</td>\n",
       "      <td>0</td>\n",
       "      <td>373450</td>\n",
       "      <td>8.0500</td>\n",
       "      <td>NaN</td>\n",
       "      <td>S</td>\n",
       "    </tr>\n",
       "  </tbody>\n",
       "</table>\n",
       "</div>"
      ],
      "text/plain": [
       "   PassengerId  Survived  Pclass  \\\n",
       "0            1         0       3   \n",
       "1            2         1       1   \n",
       "2            3         1       3   \n",
       "3            4         1       1   \n",
       "4            5         0       3   \n",
       "\n",
       "                                                Name     Sex   Age  SibSp  \\\n",
       "0                            Braund, Mr. Owen Harris    male  22.0      1   \n",
       "1  Cumings, Mrs. John Bradley (Florence Briggs Th...  female  38.0      1   \n",
       "2                             Heikkinen, Miss. Laina  female  26.0      0   \n",
       "3       Futrelle, Mrs. Jacques Heath (Lily May Peel)  female  35.0      1   \n",
       "4                           Allen, Mr. William Henry    male  35.0      0   \n",
       "\n",
       "   Parch            Ticket     Fare Cabin Embarked  \n",
       "0      0         A/5 21171   7.2500   NaN        S  \n",
       "1      0          PC 17599  71.2833   C85        C  \n",
       "2      0  STON/O2. 3101282   7.9250   NaN        S  \n",
       "3      0            113803  53.1000  C123        S  \n",
       "4      0            373450   8.0500   NaN        S  "
      ]
     },
     "execution_count": 2,
     "metadata": {},
     "output_type": "execute_result"
    }
   ],
   "source": [
    "df_train = pd.read_csv('/kaggle/input/titanic/train.csv')\n",
    "df_test = pd.read_csv('/kaggle/input/titanic/test.csv')\n",
    "\n",
    "df_train.head()"
   ]
  },
  {
   "cell_type": "code",
   "execution_count": 3,
   "id": "63d088c3",
   "metadata": {
    "execution": {
     "iopub.execute_input": "2023-10-20T04:15:08.398797Z",
     "iopub.status.busy": "2023-10-20T04:15:08.398438Z",
     "iopub.status.idle": "2023-10-20T04:15:08.429770Z",
     "shell.execute_reply": "2023-10-20T04:15:08.427697Z"
    },
    "papermill": {
     "duration": 0.047512,
     "end_time": "2023-10-20T04:15:08.432029",
     "exception": false,
     "start_time": "2023-10-20T04:15:08.384517",
     "status": "completed"
    },
    "tags": []
   },
   "outputs": [
    {
     "name": "stdout",
     "output_type": "stream",
     "text": [
      "<class 'pandas.core.frame.DataFrame'>\n",
      "RangeIndex: 891 entries, 0 to 890\n",
      "Data columns (total 12 columns):\n",
      " #   Column       Non-Null Count  Dtype  \n",
      "---  ------       --------------  -----  \n",
      " 0   PassengerId  891 non-null    int64  \n",
      " 1   Survived     891 non-null    int64  \n",
      " 2   Pclass       891 non-null    int64  \n",
      " 3   Name         891 non-null    object \n",
      " 4   Sex          891 non-null    object \n",
      " 5   Age          714 non-null    float64\n",
      " 6   SibSp        891 non-null    int64  \n",
      " 7   Parch        891 non-null    int64  \n",
      " 8   Ticket       891 non-null    object \n",
      " 9   Fare         891 non-null    float64\n",
      " 10  Cabin        204 non-null    object \n",
      " 11  Embarked     889 non-null    object \n",
      "dtypes: float64(2), int64(5), object(5)\n",
      "memory usage: 83.7+ KB\n"
     ]
    }
   ],
   "source": [
    "df_train.info()"
   ]
  },
  {
   "cell_type": "markdown",
   "id": "f8e2c4d2",
   "metadata": {
    "papermill": {
     "duration": 0.012824,
     "end_time": "2023-10-20T04:15:08.457638",
     "exception": false,
     "start_time": "2023-10-20T04:15:08.444814",
     "status": "completed"
    },
    "tags": []
   },
   "source": [
    "분석에 필요없어 보이는 컬럼 제거 \"PassengerId\", \"Name\""
   ]
  },
  {
   "cell_type": "code",
   "execution_count": 4,
   "id": "1ec05260",
   "metadata": {
    "execution": {
     "iopub.execute_input": "2023-10-20T04:15:08.485461Z",
     "iopub.status.busy": "2023-10-20T04:15:08.484661Z",
     "iopub.status.idle": "2023-10-20T04:15:08.497108Z",
     "shell.execute_reply": "2023-10-20T04:15:08.496276Z"
    },
    "papermill": {
     "duration": 0.02908,
     "end_time": "2023-10-20T04:15:08.499425",
     "exception": false,
     "start_time": "2023-10-20T04:15:08.470345",
     "status": "completed"
    },
    "tags": []
   },
   "outputs": [],
   "source": [
    "df_train = df_train.drop([\"PassengerId\", \"Name\",'Ticket','Cabin'], axis = 1)\n",
    "df_test = df_test.drop([\"PassengerId\", \"Name\",'Ticket','Cabin'], axis = 1)"
   ]
  },
  {
   "cell_type": "code",
   "execution_count": 5,
   "id": "9c3b0e47",
   "metadata": {
    "execution": {
     "iopub.execute_input": "2023-10-20T04:15:08.528137Z",
     "iopub.status.busy": "2023-10-20T04:15:08.527600Z",
     "iopub.status.idle": "2023-10-20T04:15:08.532244Z",
     "shell.execute_reply": "2023-10-20T04:15:08.531442Z"
    },
    "papermill": {
     "duration": 0.021398,
     "end_time": "2023-10-20T04:15:08.534237",
     "exception": false,
     "start_time": "2023-10-20T04:15:08.512839",
     "status": "completed"
    },
    "tags": []
   },
   "outputs": [],
   "source": [
    "y = df_train['Survived']"
   ]
  },
  {
   "cell_type": "code",
   "execution_count": 6,
   "id": "577318c3",
   "metadata": {
    "execution": {
     "iopub.execute_input": "2023-10-20T04:15:08.561876Z",
     "iopub.status.busy": "2023-10-20T04:15:08.561323Z",
     "iopub.status.idle": "2023-10-20T04:15:08.572487Z",
     "shell.execute_reply": "2023-10-20T04:15:08.570898Z"
    },
    "papermill": {
     "duration": 0.028276,
     "end_time": "2023-10-20T04:15:08.575132",
     "exception": false,
     "start_time": "2023-10-20T04:15:08.546856",
     "status": "completed"
    },
    "tags": []
   },
   "outputs": [
    {
     "data": {
      "text/plain": [
       "Survived      2\n",
       "Pclass        3\n",
       "Sex           2\n",
       "Age          88\n",
       "SibSp         7\n",
       "Parch         7\n",
       "Fare        248\n",
       "Embarked      3\n",
       "dtype: int64"
      ]
     },
     "execution_count": 6,
     "metadata": {},
     "output_type": "execute_result"
    }
   ],
   "source": [
    "df_train.nunique()"
   ]
  },
  {
   "cell_type": "code",
   "execution_count": 7,
   "id": "de4d6430",
   "metadata": {
    "execution": {
     "iopub.execute_input": "2023-10-20T04:15:08.603516Z",
     "iopub.status.busy": "2023-10-20T04:15:08.602631Z",
     "iopub.status.idle": "2023-10-20T04:15:08.875001Z",
     "shell.execute_reply": "2023-10-20T04:15:08.873340Z"
    },
    "papermill": {
     "duration": 0.289558,
     "end_time": "2023-10-20T04:15:08.877800",
     "exception": false,
     "start_time": "2023-10-20T04:15:08.588242",
     "status": "completed"
    },
    "tags": []
   },
   "outputs": [
    {
     "data": {
      "text/plain": [
       "Text(0.5, 0, 'Survival Status')"
      ]
     },
     "execution_count": 7,
     "metadata": {},
     "output_type": "execute_result"
    },
    {
     "data": {
      "image/png": "[encoded data removed]",
      "text/plain": [
       "<Figure size 640x480 with 1 Axes>"
      ]
     },
     "metadata": {},
     "output_type": "display_data"
    }
   ],
   "source": [
    "df_train['Survived'].value_counts().plot(kind='bar' ,color ='green')\n",
    "plt.xticks([0, 1], ['Not Survived', 'Survived'], rotation= 360)\n",
    "plt.xlabel('Survival Status')"
   ]
  },
  {
   "cell_type": "code",
   "execution_count": 8,
   "id": "f759f809",
   "metadata": {
    "execution": {
     "iopub.execute_input": "2023-10-20T04:15:08.907559Z",
     "iopub.status.busy": "2023-10-20T04:15:08.906175Z",
     "iopub.status.idle": "2023-10-20T04:15:09.205254Z",
     "shell.execute_reply": "2023-10-20T04:15:09.204122Z"
    },
    "papermill": {
     "duration": 0.316619,
     "end_time": "2023-10-20T04:15:09.207930",
     "exception": false,
     "start_time": "2023-10-20T04:15:08.891311",
     "status": "completed"
    },
    "tags": []
   },
   "outputs": [
    {
     "name": "stdout",
     "output_type": "stream",
     "text": [
      "Age\n",
      "24.00    30\n",
      "22.00    27\n",
      "18.00    26\n",
      "19.00    25\n",
      "28.00    25\n",
      "         ..\n",
      "36.50     1\n",
      "55.50     1\n",
      "0.92      1\n",
      "23.50     1\n",
      "74.00     1\n",
      "Name: count, Length: 88, dtype: int64\n"
     ]
    },
    {
     "data": {
      "text/plain": [
       "<Axes: xlabel='Pclass', ylabel='count'>"
      ]
     },
     "execution_count": 8,
     "metadata": {},
     "output_type": "execute_result"
    },
    {
     "data": {
      "image/png": "[encoded data removed]",
      "text/plain": [
       "<Figure size 640x480 with 1 Axes>"
      ]
     },
     "metadata": {},
     "output_type": "display_data"
    }
   ],
   "source": [
    "print(df_train['Age'].value_counts())\n",
    "sns.countplot(x = 'Pclass', hue = 'Survived', data = df_train )"
   ]
  },
  {
   "cell_type": "code",
   "execution_count": 9,
   "id": "a48f5656",
   "metadata": {
    "execution": {
     "iopub.execute_input": "2023-10-20T04:15:09.241600Z",
     "iopub.status.busy": "2023-10-20T04:15:09.241157Z",
     "iopub.status.idle": "2023-10-20T04:15:09.535156Z",
     "shell.execute_reply": "2023-10-20T04:15:09.533784Z"
    },
    "papermill": {
     "duration": 0.313088,
     "end_time": "2023-10-20T04:15:09.537398",
     "exception": false,
     "start_time": "2023-10-20T04:15:09.224310",
     "status": "completed"
    },
    "tags": []
   },
   "outputs": [
    {
     "name": "stdout",
     "output_type": "stream",
     "text": [
      "Sex\n",
      "male      577\n",
      "female    314\n",
      "Name: count, dtype: int64\n"
     ]
    },
    {
     "data": {
      "text/plain": [
       "<Axes: xlabel='Sex', ylabel='count'>"
      ]
     },
     "execution_count": 9,
     "metadata": {},
     "output_type": "execute_result"
    },
    {
     "data": {
      "image/png": "[encoded data removed]",
      "text/plain": [
       "<Figure size 640x480 with 1 Axes>"
      ]
     },
     "metadata": {},
     "output_type": "display_data"
    }
   ],
   "source": [
    "print(df_train['Sex'].value_counts())\n",
    "sns.countplot(x = 'Sex', hue = 'Survived', data = df_train )"
   ]
  },
  {
   "cell_type": "code",
   "execution_count": 10,
   "id": "dd9f5429",
   "metadata": {
    "execution": {
     "iopub.execute_input": "2023-10-20T04:15:09.638863Z",
     "iopub.status.busy": "2023-10-20T04:15:09.637762Z",
     "iopub.status.idle": "2023-10-20T04:15:09.938765Z",
     "shell.execute_reply": "2023-10-20T04:15:09.937510Z"
    },
    "papermill": {
     "duration": 0.321022,
     "end_time": "2023-10-20T04:15:09.941957",
     "exception": false,
     "start_time": "2023-10-20T04:15:09.620935",
     "status": "completed"
    },
    "tags": []
   },
   "outputs": [
    {
     "name": "stdout",
     "output_type": "stream",
     "text": [
      "Embarked\n",
      "S    644\n",
      "C    168\n",
      "Q     77\n",
      "Name: count, dtype: int64\n"
     ]
    },
    {
     "data": {
      "text/plain": [
       "<Axes: xlabel='Embarked', ylabel='count'>"
      ]
     },
     "execution_count": 10,
     "metadata": {},
     "output_type": "execute_result"
    },
    {
     "data": {
      "image/png": "[encoded data removed]",
      "text/plain": [
       "<Figure size 640x480 with 1 Axes>"
      ]
     },
     "metadata": {},
     "output_type": "display_data"
    }
   ],
   "source": [
    "print(df_train['Embarked'].value_counts())\n",
    "sns.countplot(x = 'Embarked', hue = 'Survived', data = df_train )"
   ]
  },
  {
   "cell_type": "code",
   "execution_count": 11,
   "id": "ad1d41e2",
   "metadata": {
    "execution": {
     "iopub.execute_input": "2023-10-20T04:15:09.982405Z",
     "iopub.status.busy": "2023-10-20T04:15:09.981990Z",
     "iopub.status.idle": "2023-10-20T04:15:10.339561Z",
     "shell.execute_reply": "2023-10-20T04:15:10.337908Z"
    },
    "papermill": {
     "duration": 0.3818,
     "end_time": "2023-10-20T04:15:10.342179",
     "exception": false,
     "start_time": "2023-10-20T04:15:09.960379",
     "status": "completed"
    },
    "tags": []
   },
   "outputs": [
    {
     "data": {
      "text/plain": [
       "<Axes: >"
      ]
     },
     "execution_count": 11,
     "metadata": {},
     "output_type": "execute_result"
    },
    {
     "data": {
      "image/png": "[encoded data removed]",
      "text/plain": [
       "<Figure size 640x480 with 1 Axes>"
      ]
     },
     "metadata": {},
     "output_type": "display_data"
    }
   ],
   "source": [
    "df_train['Age'].hist(bins= 'auto' ,color = 'green')"
   ]
  },
  {
   "cell_type": "code",
   "execution_count": 12,
   "id": "6dd2c674",
   "metadata": {
    "execution": {
     "iopub.execute_input": "2023-10-20T04:15:10.377040Z",
     "iopub.status.busy": "2023-10-20T04:15:10.376645Z",
     "iopub.status.idle": "2023-10-20T04:15:10.385723Z",
     "shell.execute_reply": "2023-10-20T04:15:10.384707Z"
    },
    "papermill": {
     "duration": 0.028512,
     "end_time": "2023-10-20T04:15:10.387697",
     "exception": false,
     "start_time": "2023-10-20T04:15:10.359185",
     "status": "completed"
    },
    "tags": []
   },
   "outputs": [
    {
     "data": {
      "text/plain": [
       "Pclass\n",
       "3    491\n",
       "1    216\n",
       "2    184\n",
       "Name: count, dtype: int64"
      ]
     },
     "execution_count": 12,
     "metadata": {},
     "output_type": "execute_result"
    }
   ],
   "source": [
    "df_train['Pclass'].value_counts()"
   ]
  },
  {
   "cell_type": "code",
   "execution_count": 13,
   "id": "45026b45",
   "metadata": {
    "execution": {
     "iopub.execute_input": "2023-10-20T04:15:10.420443Z",
     "iopub.status.busy": "2023-10-20T04:15:10.419966Z",
     "iopub.status.idle": "2023-10-20T04:15:10.767978Z",
     "shell.execute_reply": "2023-10-20T04:15:10.766317Z"
    },
    "papermill": {
     "duration": 0.368887,
     "end_time": "2023-10-20T04:15:10.771847",
     "exception": false,
     "start_time": "2023-10-20T04:15:10.402960",
     "status": "completed"
    },
    "tags": []
   },
   "outputs": [
    {
     "data": {
      "text/plain": [
       "<Axes: >"
      ]
     },
     "execution_count": 13,
     "metadata": {},
     "output_type": "execute_result"
    },
    {
     "data": {
      "image/png": "[encoded data removed]",
      "text/plain": [
       "<Figure size 640x480 with 1 Axes>"
      ]
     },
     "metadata": {},
     "output_type": "display_data"
    }
   ],
   "source": [
    "df_train['Pclass'].hist(bins= 'auto' ,color = 'green')"
   ]
  },
  {
   "cell_type": "code",
   "execution_count": 14,
   "id": "293aa78e",
   "metadata": {
    "execution": {
     "iopub.execute_input": "2023-10-20T04:15:10.812970Z",
     "iopub.status.busy": "2023-10-20T04:15:10.812577Z",
     "iopub.status.idle": "2023-10-20T04:15:10.824085Z",
     "shell.execute_reply": "2023-10-20T04:15:10.822341Z"
    },
    "papermill": {
     "duration": 0.035989,
     "end_time": "2023-10-20T04:15:10.826726",
     "exception": false,
     "start_time": "2023-10-20T04:15:10.790737",
     "status": "completed"
    },
    "tags": []
   },
   "outputs": [
    {
     "data": {
      "text/plain": [
       "Embarked\n",
       "S    644\n",
       "C    168\n",
       "Q     77\n",
       "Name: count, dtype: int64"
      ]
     },
     "execution_count": 14,
     "metadata": {},
     "output_type": "execute_result"
    }
   ],
   "source": [
    "df_train['Embarked'].value_counts()"
   ]
  },
  {
   "cell_type": "code",
   "execution_count": 15,
   "id": "95a93d98",
   "metadata": {
    "execution": {
     "iopub.execute_input": "2023-10-20T04:15:10.861658Z",
     "iopub.status.busy": "2023-10-20T04:15:10.860712Z",
     "iopub.status.idle": "2023-10-20T04:15:11.143329Z",
     "shell.execute_reply": "2023-10-20T04:15:11.141057Z"
    },
    "papermill": {
     "duration": 0.304073,
     "end_time": "2023-10-20T04:15:11.146698",
     "exception": false,
     "start_time": "2023-10-20T04:15:10.842625",
     "status": "completed"
    },
    "tags": []
   },
   "outputs": [
    {
     "data": {
      "text/plain": [
       "<Axes: >"
      ]
     },
     "execution_count": 15,
     "metadata": {},
     "output_type": "execute_result"
    },
    {
     "data": {
      "image/png": "[encoded data removed]",
      "text/plain": [
       "<Figure size 640x480 with 1 Axes>"
      ]
     },
     "metadata": {},
     "output_type": "display_data"
    }
   ],
   "source": [
    "df_train['Embarked'].hist(bins= 'auto' ,color = 'green')"
   ]
  },
  {
   "cell_type": "code",
   "execution_count": 16,
   "id": "261bb076",
   "metadata": {
    "execution": {
     "iopub.execute_input": "2023-10-20T04:15:11.183033Z",
     "iopub.status.busy": "2023-10-20T04:15:11.182513Z",
     "iopub.status.idle": "2023-10-20T04:15:11.200712Z",
     "shell.execute_reply": "2023-10-20T04:15:11.198314Z"
    },
    "papermill": {
     "duration": 0.04055,
     "end_time": "2023-10-20T04:15:11.203833",
     "exception": false,
     "start_time": "2023-10-20T04:15:11.163283",
     "status": "completed"
    },
    "tags": []
   },
   "outputs": [
    {
     "name": "stdout",
     "output_type": "stream",
     "text": [
      "<class 'pandas.core.frame.DataFrame'>\n",
      "RangeIndex: 891 entries, 0 to 890\n",
      "Data columns (total 8 columns):\n",
      " #   Column    Non-Null Count  Dtype  \n",
      "---  ------    --------------  -----  \n",
      " 0   Survived  891 non-null    int64  \n",
      " 1   Pclass    891 non-null    int64  \n",
      " 2   Sex       891 non-null    object \n",
      " 3   Age       714 non-null    float64\n",
      " 4   SibSp     891 non-null    int64  \n",
      " 5   Parch     891 non-null    int64  \n",
      " 6   Fare      891 non-null    float64\n",
      " 7   Embarked  889 non-null    object \n",
      "dtypes: float64(2), int64(4), object(2)\n",
      "memory usage: 55.8+ KB\n"
     ]
    }
   ],
   "source": [
    "df_train.info()"
   ]
  },
  {
   "cell_type": "code",
   "execution_count": 17,
   "id": "1ca993f1",
   "metadata": {
    "execution": {
     "iopub.execute_input": "2023-10-20T04:15:11.243242Z",
     "iopub.status.busy": "2023-10-20T04:15:11.242861Z",
     "iopub.status.idle": "2023-10-20T04:15:11.931302Z",
     "shell.execute_reply": "2023-10-20T04:15:11.929639Z"
    },
    "papermill": {
     "duration": 0.711573,
     "end_time": "2023-10-20T04:15:11.934603",
     "exception": false,
     "start_time": "2023-10-20T04:15:11.223030",
     "status": "completed"
    },
    "tags": []
   },
   "outputs": [
    {
     "name": "stderr",
     "output_type": "stream",
     "text": [
      "/opt/conda/lib/python3.10/site-packages/seaborn/axisgrid.py:118: UserWarning: The figure layout has changed to tight\n",
      "  self._figure.tight_layout(*args, **kwargs)\n"
     ]
    },
    {
     "name": "stdout",
     "output_type": "stream",
     "text": [
      "Survived1 data std is 14.93\n",
      "Survived0 data std is 14.16\n",
      "The w-statistic and p-value in Survived ShapiroResult(statistic=0.9827256798744202, pvalue=0.0014263729099184275)\n",
      "The w-statistic and p-value in NoSurvived ShapiroResult(statistic=0.9689366221427917, pvalue=7.816021252438077e-08)\n"
     ]
    },
    {
     "data": {
      "image/png": "[encoded data removed]",
      "text/plain": [
       "<Figure size 600x300 with 2 Axes>"
      ]
     },
     "metadata": {},
     "output_type": "display_data"
    }
   ],
   "source": [
    "from scipy import stats\n",
    "\n",
    "def valid_features(df , col_name , distribution_check = True):\n",
    "    \n",
    "    g = sns.FacetGrid(df, col= 'Survived')\n",
    "    g.map(plt.hist, col_name, bins = 30 , color = 'g')\n",
    "    \n",
    "    titanic_survived = df[df['Survived'] == 1]\n",
    "    titanic_survived_static = titanic_survived[col_name].values\n",
    "    print(\"Survived1 data std is %.2f\" % np.std(titanic_survived_static))\n",
    "    titanic_no_survived = df[df['Survived'] == 0]\n",
    "    titanic_no_survived_static = np.array(titanic_no_survived[col_name])\n",
    "    print(\"Survived0 data std is %.2f\" % np.std(titanic_no_survived_static))\n",
    "    \n",
    "    if(distribution_check):\n",
    "        print(f'The w-statistic and p-value in Survived {stats.shapiro(titanic_survived[col_name])}')\n",
    "        print(f'The w-statistic and p-value in NoSurvived {stats.shapiro(titanic_no_survived[col_name])}')\n",
    "    \n",
    "    \n",
    "    \n",
    "valid_features(df_train[df_train['Age'] > 0], col_name = 'Age')"
   ]
  },
  {
   "cell_type": "code",
   "execution_count": 18,
   "id": "69588f45",
   "metadata": {
    "execution": {
     "iopub.execute_input": "2023-10-20T04:15:11.977241Z",
     "iopub.status.busy": "2023-10-20T04:15:11.976841Z",
     "iopub.status.idle": "2023-10-20T04:15:11.997250Z",
     "shell.execute_reply": "2023-10-20T04:15:11.996062Z"
    },
    "papermill": {
     "duration": 0.044518,
     "end_time": "2023-10-20T04:15:11.999835",
     "exception": false,
     "start_time": "2023-10-20T04:15:11.955317",
     "status": "completed"
    },
    "tags": []
   },
   "outputs": [
    {
     "data": {
      "text/html": [
       "<div>\n",
       "<style scoped>\n",
       "    .dataframe tbody tr th:only-of-type {\n",
       "        vertical-align: middle;\n",
       "    }\n",
       "\n",
       "    .dataframe tbody tr th {\n",
       "        vertical-align: top;\n",
       "    }\n",
       "\n",
       "    .dataframe thead th {\n",
       "        text-align: right;\n",
       "    }\n",
       "</style>\n",
       "<table border=\"1\" class=\"dataframe\">\n",
       "  <thead>\n",
       "    <tr style=\"text-align: right;\">\n",
       "      <th></th>\n",
       "      <th>Survived</th>\n",
       "      <th>Pclass</th>\n",
       "      <th>Sex</th>\n",
       "      <th>Age</th>\n",
       "      <th>SibSp</th>\n",
       "      <th>Parch</th>\n",
       "      <th>Fare</th>\n",
       "      <th>Embarked</th>\n",
       "    </tr>\n",
       "  </thead>\n",
       "  <tbody>\n",
       "    <tr>\n",
       "      <th>1</th>\n",
       "      <td>1</td>\n",
       "      <td>1</td>\n",
       "      <td>female</td>\n",
       "      <td>38.0</td>\n",
       "      <td>1</td>\n",
       "      <td>0</td>\n",
       "      <td>71.2833</td>\n",
       "      <td>C</td>\n",
       "    </tr>\n",
       "    <tr>\n",
       "      <th>2</th>\n",
       "      <td>1</td>\n",
       "      <td>3</td>\n",
       "      <td>female</td>\n",
       "      <td>26.0</td>\n",
       "      <td>0</td>\n",
       "      <td>0</td>\n",
       "      <td>7.9250</td>\n",
       "      <td>S</td>\n",
       "    </tr>\n",
       "    <tr>\n",
       "      <th>3</th>\n",
       "      <td>1</td>\n",
       "      <td>1</td>\n",
       "      <td>female</td>\n",
       "      <td>35.0</td>\n",
       "      <td>1</td>\n",
       "      <td>0</td>\n",
       "      <td>53.1000</td>\n",
       "      <td>S</td>\n",
       "    </tr>\n",
       "    <tr>\n",
       "      <th>8</th>\n",
       "      <td>1</td>\n",
       "      <td>3</td>\n",
       "      <td>female</td>\n",
       "      <td>27.0</td>\n",
       "      <td>0</td>\n",
       "      <td>2</td>\n",
       "      <td>11.1333</td>\n",
       "      <td>S</td>\n",
       "    </tr>\n",
       "    <tr>\n",
       "      <th>9</th>\n",
       "      <td>1</td>\n",
       "      <td>2</td>\n",
       "      <td>female</td>\n",
       "      <td>14.0</td>\n",
       "      <td>1</td>\n",
       "      <td>0</td>\n",
       "      <td>30.0708</td>\n",
       "      <td>C</td>\n",
       "    </tr>\n",
       "    <tr>\n",
       "      <th>...</th>\n",
       "      <td>...</td>\n",
       "      <td>...</td>\n",
       "      <td>...</td>\n",
       "      <td>...</td>\n",
       "      <td>...</td>\n",
       "      <td>...</td>\n",
       "      <td>...</td>\n",
       "      <td>...</td>\n",
       "    </tr>\n",
       "    <tr>\n",
       "      <th>875</th>\n",
       "      <td>1</td>\n",
       "      <td>3</td>\n",
       "      <td>female</td>\n",
       "      <td>15.0</td>\n",
       "      <td>0</td>\n",
       "      <td>0</td>\n",
       "      <td>7.2250</td>\n",
       "      <td>C</td>\n",
       "    </tr>\n",
       "    <tr>\n",
       "      <th>879</th>\n",
       "      <td>1</td>\n",
       "      <td>1</td>\n",
       "      <td>female</td>\n",
       "      <td>56.0</td>\n",
       "      <td>0</td>\n",
       "      <td>1</td>\n",
       "      <td>83.1583</td>\n",
       "      <td>C</td>\n",
       "    </tr>\n",
       "    <tr>\n",
       "      <th>880</th>\n",
       "      <td>1</td>\n",
       "      <td>2</td>\n",
       "      <td>female</td>\n",
       "      <td>25.0</td>\n",
       "      <td>0</td>\n",
       "      <td>1</td>\n",
       "      <td>26.0000</td>\n",
       "      <td>S</td>\n",
       "    </tr>\n",
       "    <tr>\n",
       "      <th>887</th>\n",
       "      <td>1</td>\n",
       "      <td>1</td>\n",
       "      <td>female</td>\n",
       "      <td>19.0</td>\n",
       "      <td>0</td>\n",
       "      <td>0</td>\n",
       "      <td>30.0000</td>\n",
       "      <td>S</td>\n",
       "    </tr>\n",
       "    <tr>\n",
       "      <th>889</th>\n",
       "      <td>1</td>\n",
       "      <td>1</td>\n",
       "      <td>male</td>\n",
       "      <td>26.0</td>\n",
       "      <td>0</td>\n",
       "      <td>0</td>\n",
       "      <td>30.0000</td>\n",
       "      <td>C</td>\n",
       "    </tr>\n",
       "  </tbody>\n",
       "</table>\n",
       "<p>342 rows × 8 columns</p>\n",
       "</div>"
      ],
      "text/plain": [
       "     Survived  Pclass     Sex   Age  SibSp  Parch     Fare Embarked\n",
       "1           1       1  female  38.0      1      0  71.2833        C\n",
       "2           1       3  female  26.0      0      0   7.9250        S\n",
       "3           1       1  female  35.0      1      0  53.1000        S\n",
       "8           1       3  female  27.0      0      2  11.1333        S\n",
       "9           1       2  female  14.0      1      0  30.0708        C\n",
       "..        ...     ...     ...   ...    ...    ...      ...      ...\n",
       "875         1       3  female  15.0      0      0   7.2250        C\n",
       "879         1       1  female  56.0      0      1  83.1583        C\n",
       "880         1       2  female  25.0      0      1  26.0000        S\n",
       "887         1       1  female  19.0      0      0  30.0000        S\n",
       "889         1       1    male  26.0      0      0  30.0000        C\n",
       "\n",
       "[342 rows x 8 columns]"
      ]
     },
     "execution_count": 18,
     "metadata": {},
     "output_type": "execute_result"
    }
   ],
   "source": [
    "df_train[df_train['Survived'] == 1]"
   ]
  },
  {
   "cell_type": "code",
   "execution_count": 19,
   "id": "81a0bcbc",
   "metadata": {
    "execution": {
     "iopub.execute_input": "2023-10-20T04:15:12.038726Z",
     "iopub.status.busy": "2023-10-20T04:15:12.038330Z",
     "iopub.status.idle": "2023-10-20T04:15:12.050900Z",
     "shell.execute_reply": "2023-10-20T04:15:12.049225Z"
    },
    "papermill": {
     "duration": 0.033895,
     "end_time": "2023-10-20T04:15:12.053304",
     "exception": false,
     "start_time": "2023-10-20T04:15:12.019409",
     "status": "completed"
    },
    "tags": []
   },
   "outputs": [
    {
     "data": {
      "text/plain": [
       "0      0\n",
       "1      0\n",
       "2      0\n",
       "3      0\n",
       "4      0\n",
       "      ..\n",
       "886    0\n",
       "887    0\n",
       "888    2\n",
       "889    0\n",
       "890    0\n",
       "Name: Parch, Length: 891, dtype: int64"
      ]
     },
     "execution_count": 19,
     "metadata": {},
     "output_type": "execute_result"
    }
   ],
   "source": [
    "df_train['Parch']"
   ]
  },
  {
   "cell_type": "code",
   "execution_count": 20,
   "id": "388561d2",
   "metadata": {
    "execution": {
     "iopub.execute_input": "2023-10-20T04:15:12.089411Z",
     "iopub.status.busy": "2023-10-20T04:15:12.089032Z",
     "iopub.status.idle": "2023-10-20T04:15:12.907864Z",
     "shell.execute_reply": "2023-10-20T04:15:12.907002Z"
    },
    "papermill": {
     "duration": 0.840315,
     "end_time": "2023-10-20T04:15:12.910685",
     "exception": false,
     "start_time": "2023-10-20T04:15:12.070370",
     "status": "completed"
    },
    "tags": []
   },
   "outputs": [
    {
     "name": "stderr",
     "output_type": "stream",
     "text": [
      "/opt/conda/lib/python3.10/site-packages/seaborn/axisgrid.py:118: UserWarning: The figure layout has changed to tight\n",
      "  self._figure.tight_layout(*args, **kwargs)\n"
     ]
    },
    {
     "name": "stdout",
     "output_type": "stream",
     "text": [
      "Survived1 data std is 0.77\n",
      "Survived0 data std is 0.82\n",
      "The w-statistic and p-value in Survived ShapiroResult(statistic=0.6388702392578125, pvalue=3.028426229935776e-26)\n",
      "The w-statistic and p-value in NoSurvived ShapiroResult(statistic=0.4588158130645752, pvalue=1.2654528917652235e-37)\n"
     ]
    },
    {
     "data": {
      "image/png": "[encoded data removed]",
      "text/plain": [
       "<Figure size 600x300 with 2 Axes>"
      ]
     },
     "metadata": {},
     "output_type": "display_data"
    }
   ],
   "source": [
    "valid_features(df_train, col_name = 'Parch')"
   ]
  },
  {
   "cell_type": "code",
   "execution_count": 21,
   "id": "abbbf1b7",
   "metadata": {
    "execution": {
     "iopub.execute_input": "2023-10-20T04:15:12.953507Z",
     "iopub.status.busy": "2023-10-20T04:15:12.952507Z",
     "iopub.status.idle": "2023-10-20T04:15:13.634584Z",
     "shell.execute_reply": "2023-10-20T04:15:13.632983Z"
    },
    "papermill": {
     "duration": 0.707828,
     "end_time": "2023-10-20T04:15:13.637920",
     "exception": false,
     "start_time": "2023-10-20T04:15:12.930092",
     "status": "completed"
    },
    "tags": []
   },
   "outputs": [
    {
     "name": "stderr",
     "output_type": "stream",
     "text": [
      "/opt/conda/lib/python3.10/site-packages/seaborn/axisgrid.py:118: UserWarning: The figure layout has changed to tight\n",
      "  self._figure.tight_layout(*args, **kwargs)\n"
     ]
    },
    {
     "name": "stdout",
     "output_type": "stream",
     "text": [
      "Survived1 data std is 0.71\n",
      "Survived0 data std is 1.29\n",
      "The w-statistic and p-value in Survived ShapiroResult(statistic=0.654767632484436, pvalue=9.322872809252207e-26)\n",
      "The w-statistic and p-value in NoSurvived ShapiroResult(statistic=0.4841800332069397, pvalue=5.567619776588494e-37)\n"
     ]
    },
    {
     "data": {
      "image/png": "[encoded data removed]",
      "text/plain": [
       "<Figure size 600x300 with 2 Axes>"
      ]
     },
     "metadata": {},
     "output_type": "display_data"
    }
   ],
   "source": [
    "valid_features(df_train, col_name = 'SibSp')"
   ]
  },
  {
   "cell_type": "code",
   "execution_count": 22,
   "id": "c4e7c69a",
   "metadata": {
    "execution": {
     "iopub.execute_input": "2023-10-20T04:15:13.681179Z",
     "iopub.status.busy": "2023-10-20T04:15:13.680622Z",
     "iopub.status.idle": "2023-10-20T04:15:14.472213Z",
     "shell.execute_reply": "2023-10-20T04:15:14.470448Z"
    },
    "papermill": {
     "duration": 0.816503,
     "end_time": "2023-10-20T04:15:14.474637",
     "exception": false,
     "start_time": "2023-10-20T04:15:13.658134",
     "status": "completed"
    },
    "tags": []
   },
   "outputs": [
    {
     "name": "stderr",
     "output_type": "stream",
     "text": [
      "/opt/conda/lib/python3.10/site-packages/seaborn/axisgrid.py:118: UserWarning: The figure layout has changed to tight\n",
      "  self._figure.tight_layout(*args, **kwargs)\n"
     ]
    },
    {
     "name": "stdout",
     "output_type": "stream",
     "text": [
      "Survived1 data std is 66.50\n",
      "Survived0 data std is 31.36\n",
      "The w-statistic and p-value in Survived ShapiroResult(statistic=0.5967273712158203, pvalue=1.8337799743381398e-27)\n",
      "The w-statistic and p-value in NoSurvived ShapiroResult(statistic=0.513036847114563, pvalue=3.233740189307736e-36)\n"
     ]
    },
    {
     "data": {
      "image/png": "[encoded data removed]",
      "text/plain": [
       "<Figure size 600x300 with 2 Axes>"
      ]
     },
     "metadata": {},
     "output_type": "display_data"
    }
   ],
   "source": [
    "valid_features(df_train, col_name = 'Fare')"
   ]
  },
  {
   "cell_type": "markdown",
   "id": "753c92a6",
   "metadata": {
    "execution": {
     "iopub.execute_input": "2023-10-20T01:00:09.662547Z",
     "iopub.status.busy": "2023-10-20T01:00:09.661930Z",
     "iopub.status.idle": "2023-10-20T01:00:09.671196Z",
     "shell.execute_reply": "2023-10-20T01:00:09.669441Z",
     "shell.execute_reply.started": "2023-10-20T01:00:09.662515Z"
    },
    "papermill": {
     "duration": 0.017913,
     "end_time": "2023-10-20T04:15:14.510919",
     "exception": false,
     "start_time": "2023-10-20T04:15:14.493006",
     "status": "completed"
    },
    "tags": []
   },
   "source": [
    "표준편차를 보고 미루어 \n",
    "Pclass , Embarked , SibSp , Fare , Sex 열은 \n",
    "survived 그룹 별로 유의미한 차이를 보이는것 같음"
   ]
  },
  {
   "cell_type": "markdown",
   "id": "77a9f813",
   "metadata": {
    "papermill": {
     "duration": 0.017637,
     "end_time": "2023-10-20T04:15:14.546665",
     "exception": false,
     "start_time": "2023-10-20T04:15:14.529028",
     "status": "completed"
    },
    "tags": []
   },
   "source": [
    "분류 : 생존자 분류 모델 만들기\n",
    "분류 모델을 위해 먼저 전처리 하기"
   ]
  },
  {
   "cell_type": "markdown",
   "id": "dca52f2f",
   "metadata": {
    "papermill": {
     "duration": 0.01817,
     "end_time": "2023-10-20T04:15:14.583408",
     "exception": false,
     "start_time": "2023-10-20T04:15:14.565238",
     "status": "completed"
    },
    "tags": []
   },
   "source": [
    "2-1 결측치 제거하기"
   ]
  },
  {
   "cell_type": "code",
   "execution_count": 23,
   "id": "389edc05",
   "metadata": {
    "execution": {
     "iopub.execute_input": "2023-10-20T04:15:14.624157Z",
     "iopub.status.busy": "2023-10-20T04:15:14.623815Z",
     "iopub.status.idle": "2023-10-20T04:15:14.636642Z",
     "shell.execute_reply": "2023-10-20T04:15:14.635264Z"
    },
    "papermill": {
     "duration": 0.036054,
     "end_time": "2023-10-20T04:15:14.639112",
     "exception": false,
     "start_time": "2023-10-20T04:15:14.603058",
     "status": "completed"
    },
    "tags": []
   },
   "outputs": [
    {
     "data": {
      "text/plain": [
       "0"
      ]
     },
     "execution_count": 23,
     "metadata": {},
     "output_type": "execute_result"
    }
   ],
   "source": [
    "reaplce_mean = df_train[\"Age\"].mean().round()\n",
    "df_train[\"Age\"] = df_train[\"Age\"].fillna(reaplce_mean).astype(int)\n",
    "df_test[\"Age\"] = df_test[\"Age\"].fillna(reaplce_mean).astype(int)\n",
    "df_train['Age'].isnull().sum()"
   ]
  },
  {
   "cell_type": "code",
   "execution_count": 24,
   "id": "107ee007",
   "metadata": {
    "execution": {
     "iopub.execute_input": "2023-10-20T04:15:14.681566Z",
     "iopub.status.busy": "2023-10-20T04:15:14.679754Z",
     "iopub.status.idle": "2023-10-20T04:15:14.694077Z",
     "shell.execute_reply": "2023-10-20T04:15:14.692409Z"
    },
    "papermill": {
     "duration": 0.038696,
     "end_time": "2023-10-20T04:15:14.697169",
     "exception": false,
     "start_time": "2023-10-20T04:15:14.658473",
     "status": "completed"
    },
    "tags": []
   },
   "outputs": [
    {
     "data": {
      "text/plain": [
       "0"
      ]
     },
     "execution_count": 24,
     "metadata": {},
     "output_type": "execute_result"
    }
   ],
   "source": [
    "embarked_mode = df_train['Embarked'].value_counts().index[0]\n",
    "df_train['Embarked'] = df_train['Embarked'].fillna(embarked_mode)\n",
    "df_test['Embarked'] = df_test['Embarked'].fillna(embarked_mode)\n",
    "df_train['Embarked'].isnull().sum()"
   ]
  },
  {
   "cell_type": "code",
   "execution_count": 25,
   "id": "7543578f",
   "metadata": {
    "execution": {
     "iopub.execute_input": "2023-10-20T04:15:14.738399Z",
     "iopub.status.busy": "2023-10-20T04:15:14.737567Z",
     "iopub.status.idle": "2023-10-20T04:15:14.753780Z",
     "shell.execute_reply": "2023-10-20T04:15:14.751513Z"
    },
    "papermill": {
     "duration": 0.039943,
     "end_time": "2023-10-20T04:15:14.756730",
     "exception": false,
     "start_time": "2023-10-20T04:15:14.716787",
     "status": "completed"
    },
    "tags": []
   },
   "outputs": [
    {
     "name": "stdout",
     "output_type": "stream",
     "text": [
      "<class 'pandas.core.frame.DataFrame'>\n",
      "RangeIndex: 891 entries, 0 to 890\n",
      "Data columns (total 8 columns):\n",
      " #   Column    Non-Null Count  Dtype  \n",
      "---  ------    --------------  -----  \n",
      " 0   Survived  891 non-null    int64  \n",
      " 1   Pclass    891 non-null    int64  \n",
      " 2   Sex       891 non-null    object \n",
      " 3   Age       891 non-null    int64  \n",
      " 4   SibSp     891 non-null    int64  \n",
      " 5   Parch     891 non-null    int64  \n",
      " 6   Fare      891 non-null    float64\n",
      " 7   Embarked  891 non-null    object \n",
      "dtypes: float64(1), int64(5), object(2)\n",
      "memory usage: 55.8+ KB\n"
     ]
    }
   ],
   "source": [
    "df_train.info()"
   ]
  },
  {
   "cell_type": "code",
   "execution_count": 26,
   "id": "e323cb91",
   "metadata": {
    "execution": {
     "iopub.execute_input": "2023-10-20T04:15:14.803250Z",
     "iopub.status.busy": "2023-10-20T04:15:14.801948Z",
     "iopub.status.idle": "2023-10-20T04:15:14.814969Z",
     "shell.execute_reply": "2023-10-20T04:15:14.813417Z"
    },
    "papermill": {
     "duration": 0.039599,
     "end_time": "2023-10-20T04:15:14.818431",
     "exception": false,
     "start_time": "2023-10-20T04:15:14.778832",
     "status": "completed"
    },
    "tags": []
   },
   "outputs": [
    {
     "data": {
      "text/html": [
       "<div>\n",
       "<style scoped>\n",
       "    .dataframe tbody tr th:only-of-type {\n",
       "        vertical-align: middle;\n",
       "    }\n",
       "\n",
       "    .dataframe tbody tr th {\n",
       "        vertical-align: top;\n",
       "    }\n",
       "\n",
       "    .dataframe thead th {\n",
       "        text-align: right;\n",
       "    }\n",
       "</style>\n",
       "<table border=\"1\" class=\"dataframe\">\n",
       "  <thead>\n",
       "    <tr style=\"text-align: right;\">\n",
       "      <th></th>\n",
       "      <th>Survived</th>\n",
       "      <th>Pclass</th>\n",
       "      <th>Sex</th>\n",
       "      <th>Age</th>\n",
       "      <th>SibSp</th>\n",
       "      <th>Parch</th>\n",
       "      <th>Fare</th>\n",
       "      <th>Embarked</th>\n",
       "    </tr>\n",
       "  </thead>\n",
       "  <tbody>\n",
       "    <tr>\n",
       "      <th>0</th>\n",
       "      <td>0</td>\n",
       "      <td>3</td>\n",
       "      <td>male</td>\n",
       "      <td>22</td>\n",
       "      <td>1</td>\n",
       "      <td>0</td>\n",
       "      <td>7.2500</td>\n",
       "      <td>S</td>\n",
       "    </tr>\n",
       "    <tr>\n",
       "      <th>1</th>\n",
       "      <td>1</td>\n",
       "      <td>1</td>\n",
       "      <td>female</td>\n",
       "      <td>38</td>\n",
       "      <td>1</td>\n",
       "      <td>0</td>\n",
       "      <td>71.2833</td>\n",
       "      <td>C</td>\n",
       "    </tr>\n",
       "    <tr>\n",
       "      <th>2</th>\n",
       "      <td>1</td>\n",
       "      <td>3</td>\n",
       "      <td>female</td>\n",
       "      <td>26</td>\n",
       "      <td>0</td>\n",
       "      <td>0</td>\n",
       "      <td>7.9250</td>\n",
       "      <td>S</td>\n",
       "    </tr>\n",
       "    <tr>\n",
       "      <th>3</th>\n",
       "      <td>1</td>\n",
       "      <td>1</td>\n",
       "      <td>female</td>\n",
       "      <td>35</td>\n",
       "      <td>1</td>\n",
       "      <td>0</td>\n",
       "      <td>53.1000</td>\n",
       "      <td>S</td>\n",
       "    </tr>\n",
       "    <tr>\n",
       "      <th>4</th>\n",
       "      <td>0</td>\n",
       "      <td>3</td>\n",
       "      <td>male</td>\n",
       "      <td>35</td>\n",
       "      <td>0</td>\n",
       "      <td>0</td>\n",
       "      <td>8.0500</td>\n",
       "      <td>S</td>\n",
       "    </tr>\n",
       "  </tbody>\n",
       "</table>\n",
       "</div>"
      ],
      "text/plain": [
       "   Survived  Pclass     Sex  Age  SibSp  Parch     Fare Embarked\n",
       "0         0       3    male   22      1      0   7.2500        S\n",
       "1         1       1  female   38      1      0  71.2833        C\n",
       "2         1       3  female   26      0      0   7.9250        S\n",
       "3         1       1  female   35      1      0  53.1000        S\n",
       "4         0       3    male   35      0      0   8.0500        S"
      ]
     },
     "execution_count": 26,
     "metadata": {},
     "output_type": "execute_result"
    }
   ],
   "source": [
    "df_train.head()"
   ]
  },
  {
   "cell_type": "markdown",
   "id": "7421ca83",
   "metadata": {
    "papermill": {
     "duration": 0.020759,
     "end_time": "2023-10-20T04:15:14.859717",
     "exception": false,
     "start_time": "2023-10-20T04:15:14.838958",
     "status": "completed"
    },
    "tags": []
   },
   "source": [
    "2-2 범주형 변수 원 핫 인코딩 수행하여 연산가능한 형태로 변환하기"
   ]
  },
  {
   "cell_type": "code",
   "execution_count": 27,
   "id": "7859b25c",
   "metadata": {
    "execution": {
     "iopub.execute_input": "2023-10-20T04:15:14.904499Z",
     "iopub.status.busy": "2023-10-20T04:15:14.903965Z",
     "iopub.status.idle": "2023-10-20T04:15:14.925283Z",
     "shell.execute_reply": "2023-10-20T04:15:14.923738Z"
    },
    "papermill": {
     "duration": 0.046953,
     "end_time": "2023-10-20T04:15:14.927637",
     "exception": false,
     "start_time": "2023-10-20T04:15:14.880684",
     "status": "completed"
    },
    "tags": []
   },
   "outputs": [
    {
     "data": {
      "text/html": [
       "<div>\n",
       "<style scoped>\n",
       "    .dataframe tbody tr th:only-of-type {\n",
       "        vertical-align: middle;\n",
       "    }\n",
       "\n",
       "    .dataframe tbody tr th {\n",
       "        vertical-align: top;\n",
       "    }\n",
       "\n",
       "    .dataframe thead th {\n",
       "        text-align: right;\n",
       "    }\n",
       "</style>\n",
       "<table border=\"1\" class=\"dataframe\">\n",
       "  <thead>\n",
       "    <tr style=\"text-align: right;\">\n",
       "      <th></th>\n",
       "      <th>Pclass</th>\n",
       "      <th>Age</th>\n",
       "      <th>SibSp</th>\n",
       "      <th>Parch</th>\n",
       "      <th>Fare</th>\n",
       "    </tr>\n",
       "  </thead>\n",
       "  <tbody>\n",
       "    <tr>\n",
       "      <th>0</th>\n",
       "      <td>3</td>\n",
       "      <td>22</td>\n",
       "      <td>1</td>\n",
       "      <td>0</td>\n",
       "      <td>7.2500</td>\n",
       "    </tr>\n",
       "    <tr>\n",
       "      <th>1</th>\n",
       "      <td>1</td>\n",
       "      <td>38</td>\n",
       "      <td>1</td>\n",
       "      <td>0</td>\n",
       "      <td>71.2833</td>\n",
       "    </tr>\n",
       "    <tr>\n",
       "      <th>2</th>\n",
       "      <td>3</td>\n",
       "      <td>26</td>\n",
       "      <td>0</td>\n",
       "      <td>0</td>\n",
       "      <td>7.9250</td>\n",
       "    </tr>\n",
       "    <tr>\n",
       "      <th>3</th>\n",
       "      <td>1</td>\n",
       "      <td>35</td>\n",
       "      <td>1</td>\n",
       "      <td>0</td>\n",
       "      <td>53.1000</td>\n",
       "    </tr>\n",
       "    <tr>\n",
       "      <th>4</th>\n",
       "      <td>3</td>\n",
       "      <td>35</td>\n",
       "      <td>0</td>\n",
       "      <td>0</td>\n",
       "      <td>8.0500</td>\n",
       "    </tr>\n",
       "    <tr>\n",
       "      <th>...</th>\n",
       "      <td>...</td>\n",
       "      <td>...</td>\n",
       "      <td>...</td>\n",
       "      <td>...</td>\n",
       "      <td>...</td>\n",
       "    </tr>\n",
       "    <tr>\n",
       "      <th>1304</th>\n",
       "      <td>3</td>\n",
       "      <td>30</td>\n",
       "      <td>0</td>\n",
       "      <td>0</td>\n",
       "      <td>8.0500</td>\n",
       "    </tr>\n",
       "    <tr>\n",
       "      <th>1305</th>\n",
       "      <td>1</td>\n",
       "      <td>39</td>\n",
       "      <td>0</td>\n",
       "      <td>0</td>\n",
       "      <td>108.9000</td>\n",
       "    </tr>\n",
       "    <tr>\n",
       "      <th>1306</th>\n",
       "      <td>3</td>\n",
       "      <td>38</td>\n",
       "      <td>0</td>\n",
       "      <td>0</td>\n",
       "      <td>7.2500</td>\n",
       "    </tr>\n",
       "    <tr>\n",
       "      <th>1307</th>\n",
       "      <td>3</td>\n",
       "      <td>30</td>\n",
       "      <td>0</td>\n",
       "      <td>0</td>\n",
       "      <td>8.0500</td>\n",
       "    </tr>\n",
       "    <tr>\n",
       "      <th>1308</th>\n",
       "      <td>3</td>\n",
       "      <td>30</td>\n",
       "      <td>1</td>\n",
       "      <td>1</td>\n",
       "      <td>22.3583</td>\n",
       "    </tr>\n",
       "  </tbody>\n",
       "</table>\n",
       "<p>1309 rows × 5 columns</p>\n",
       "</div>"
      ],
      "text/plain": [
       "      Pclass  Age  SibSp  Parch      Fare\n",
       "0          3   22      1      0    7.2500\n",
       "1          1   38      1      0   71.2833\n",
       "2          3   26      0      0    7.9250\n",
       "3          1   35      1      0   53.1000\n",
       "4          3   35      0      0    8.0500\n",
       "...      ...  ...    ...    ...       ...\n",
       "1304       3   30      0      0    8.0500\n",
       "1305       1   39      0      0  108.9000\n",
       "1306       3   38      0      0    7.2500\n",
       "1307       3   30      0      0    8.0500\n",
       "1308       3   30      1      1   22.3583\n",
       "\n",
       "[1309 rows x 5 columns]"
      ]
     },
     "execution_count": 27,
     "metadata": {},
     "output_type": "execute_result"
    }
   ],
   "source": [
    "total_df = pd.concat([df_train.drop('Survived', axis = 1),df_test],ignore_index = True)\n",
    "total_df2 = total_df.drop(['Sex','Embarked'], axis = 1)\n",
    "total_df2"
   ]
  },
  {
   "cell_type": "code",
   "execution_count": 28,
   "id": "e3a29ea6",
   "metadata": {
    "execution": {
     "iopub.execute_input": "2023-10-20T04:15:14.969649Z",
     "iopub.status.busy": "2023-10-20T04:15:14.969136Z",
     "iopub.status.idle": "2023-10-20T04:15:14.991388Z",
     "shell.execute_reply": "2023-10-20T04:15:14.990184Z"
    },
    "papermill": {
     "duration": 0.047027,
     "end_time": "2023-10-20T04:15:14.993745",
     "exception": false,
     "start_time": "2023-10-20T04:15:14.946718",
     "status": "completed"
    },
    "tags": []
   },
   "outputs": [
    {
     "data": {
      "text/html": [
       "<div>\n",
       "<style scoped>\n",
       "    .dataframe tbody tr th:only-of-type {\n",
       "        vertical-align: middle;\n",
       "    }\n",
       "\n",
       "    .dataframe tbody tr th {\n",
       "        vertical-align: top;\n",
       "    }\n",
       "\n",
       "    .dataframe thead th {\n",
       "        text-align: right;\n",
       "    }\n",
       "</style>\n",
       "<table border=\"1\" class=\"dataframe\">\n",
       "  <thead>\n",
       "    <tr style=\"text-align: right;\">\n",
       "      <th></th>\n",
       "      <th>Embarked_C</th>\n",
       "      <th>Embarked_Q</th>\n",
       "      <th>Embarked_S</th>\n",
       "      <th>Sex_female</th>\n",
       "      <th>Sex_male</th>\n",
       "    </tr>\n",
       "  </thead>\n",
       "  <tbody>\n",
       "    <tr>\n",
       "      <th>0</th>\n",
       "      <td>0</td>\n",
       "      <td>0</td>\n",
       "      <td>1</td>\n",
       "      <td>0</td>\n",
       "      <td>1</td>\n",
       "    </tr>\n",
       "    <tr>\n",
       "      <th>1</th>\n",
       "      <td>1</td>\n",
       "      <td>0</td>\n",
       "      <td>0</td>\n",
       "      <td>1</td>\n",
       "      <td>0</td>\n",
       "    </tr>\n",
       "    <tr>\n",
       "      <th>2</th>\n",
       "      <td>0</td>\n",
       "      <td>0</td>\n",
       "      <td>1</td>\n",
       "      <td>1</td>\n",
       "      <td>0</td>\n",
       "    </tr>\n",
       "    <tr>\n",
       "      <th>3</th>\n",
       "      <td>0</td>\n",
       "      <td>0</td>\n",
       "      <td>1</td>\n",
       "      <td>1</td>\n",
       "      <td>0</td>\n",
       "    </tr>\n",
       "    <tr>\n",
       "      <th>4</th>\n",
       "      <td>0</td>\n",
       "      <td>0</td>\n",
       "      <td>1</td>\n",
       "      <td>0</td>\n",
       "      <td>1</td>\n",
       "    </tr>\n",
       "    <tr>\n",
       "      <th>...</th>\n",
       "      <td>...</td>\n",
       "      <td>...</td>\n",
       "      <td>...</td>\n",
       "      <td>...</td>\n",
       "      <td>...</td>\n",
       "    </tr>\n",
       "    <tr>\n",
       "      <th>1304</th>\n",
       "      <td>0</td>\n",
       "      <td>0</td>\n",
       "      <td>1</td>\n",
       "      <td>0</td>\n",
       "      <td>1</td>\n",
       "    </tr>\n",
       "    <tr>\n",
       "      <th>1305</th>\n",
       "      <td>1</td>\n",
       "      <td>0</td>\n",
       "      <td>0</td>\n",
       "      <td>1</td>\n",
       "      <td>0</td>\n",
       "    </tr>\n",
       "    <tr>\n",
       "      <th>1306</th>\n",
       "      <td>0</td>\n",
       "      <td>0</td>\n",
       "      <td>1</td>\n",
       "      <td>0</td>\n",
       "      <td>1</td>\n",
       "    </tr>\n",
       "    <tr>\n",
       "      <th>1307</th>\n",
       "      <td>0</td>\n",
       "      <td>0</td>\n",
       "      <td>1</td>\n",
       "      <td>0</td>\n",
       "      <td>1</td>\n",
       "    </tr>\n",
       "    <tr>\n",
       "      <th>1308</th>\n",
       "      <td>1</td>\n",
       "      <td>0</td>\n",
       "      <td>0</td>\n",
       "      <td>0</td>\n",
       "      <td>1</td>\n",
       "    </tr>\n",
       "  </tbody>\n",
       "</table>\n",
       "<p>1309 rows × 5 columns</p>\n",
       "</div>"
      ],
      "text/plain": [
       "      Embarked_C  Embarked_Q  Embarked_S  Sex_female  Sex_male\n",
       "0              0           0           1           0         1\n",
       "1              1           0           0           1         0\n",
       "2              0           0           1           1         0\n",
       "3              0           0           1           1         0\n",
       "4              0           0           1           0         1\n",
       "...          ...         ...         ...         ...       ...\n",
       "1304           0           0           1           0         1\n",
       "1305           1           0           0           1         0\n",
       "1306           0           0           1           0         1\n",
       "1307           0           0           1           0         1\n",
       "1308           1           0           0           0         1\n",
       "\n",
       "[1309 rows x 5 columns]"
      ]
     },
     "execution_count": 28,
     "metadata": {},
     "output_type": "execute_result"
    }
   ],
   "source": [
    "no_columns = ['Pclass','Age','Sibsp','SibSp','Parch','Fare']\n",
    "selected_columns = total_df.columns.difference(no_columns)\n",
    "dummies_df = pd.get_dummies(total_df[selected_columns])\n",
    "dummies_df = dummies_df.astype(int)\n",
    "dummies_df"
   ]
  },
  {
   "cell_type": "code",
   "execution_count": 29,
   "id": "6fe1557b",
   "metadata": {
    "execution": {
     "iopub.execute_input": "2023-10-20T04:15:15.037827Z",
     "iopub.status.busy": "2023-10-20T04:15:15.036940Z",
     "iopub.status.idle": "2023-10-20T04:15:15.054023Z",
     "shell.execute_reply": "2023-10-20T04:15:15.052341Z"
    },
    "papermill": {
     "duration": 0.041182,
     "end_time": "2023-10-20T04:15:15.056424",
     "exception": false,
     "start_time": "2023-10-20T04:15:15.015242",
     "status": "completed"
    },
    "tags": []
   },
   "outputs": [
    {
     "data": {
      "text/html": [
       "<div>\n",
       "<style scoped>\n",
       "    .dataframe tbody tr th:only-of-type {\n",
       "        vertical-align: middle;\n",
       "    }\n",
       "\n",
       "    .dataframe tbody tr th {\n",
       "        vertical-align: top;\n",
       "    }\n",
       "\n",
       "    .dataframe thead th {\n",
       "        text-align: right;\n",
       "    }\n",
       "</style>\n",
       "<table border=\"1\" class=\"dataframe\">\n",
       "  <thead>\n",
       "    <tr style=\"text-align: right;\">\n",
       "      <th></th>\n",
       "      <th>Pclass</th>\n",
       "      <th>Age</th>\n",
       "      <th>SibSp</th>\n",
       "      <th>Parch</th>\n",
       "      <th>Fare</th>\n",
       "    </tr>\n",
       "  </thead>\n",
       "  <tbody>\n",
       "    <tr>\n",
       "      <th>0</th>\n",
       "      <td>3</td>\n",
       "      <td>22</td>\n",
       "      <td>1</td>\n",
       "      <td>0</td>\n",
       "      <td>7.2500</td>\n",
       "    </tr>\n",
       "    <tr>\n",
       "      <th>1</th>\n",
       "      <td>1</td>\n",
       "      <td>38</td>\n",
       "      <td>1</td>\n",
       "      <td>0</td>\n",
       "      <td>71.2833</td>\n",
       "    </tr>\n",
       "    <tr>\n",
       "      <th>2</th>\n",
       "      <td>3</td>\n",
       "      <td>26</td>\n",
       "      <td>0</td>\n",
       "      <td>0</td>\n",
       "      <td>7.9250</td>\n",
       "    </tr>\n",
       "    <tr>\n",
       "      <th>3</th>\n",
       "      <td>1</td>\n",
       "      <td>35</td>\n",
       "      <td>1</td>\n",
       "      <td>0</td>\n",
       "      <td>53.1000</td>\n",
       "    </tr>\n",
       "    <tr>\n",
       "      <th>4</th>\n",
       "      <td>3</td>\n",
       "      <td>35</td>\n",
       "      <td>0</td>\n",
       "      <td>0</td>\n",
       "      <td>8.0500</td>\n",
       "    </tr>\n",
       "    <tr>\n",
       "      <th>...</th>\n",
       "      <td>...</td>\n",
       "      <td>...</td>\n",
       "      <td>...</td>\n",
       "      <td>...</td>\n",
       "      <td>...</td>\n",
       "    </tr>\n",
       "    <tr>\n",
       "      <th>1304</th>\n",
       "      <td>3</td>\n",
       "      <td>30</td>\n",
       "      <td>0</td>\n",
       "      <td>0</td>\n",
       "      <td>8.0500</td>\n",
       "    </tr>\n",
       "    <tr>\n",
       "      <th>1305</th>\n",
       "      <td>1</td>\n",
       "      <td>39</td>\n",
       "      <td>0</td>\n",
       "      <td>0</td>\n",
       "      <td>108.9000</td>\n",
       "    </tr>\n",
       "    <tr>\n",
       "      <th>1306</th>\n",
       "      <td>3</td>\n",
       "      <td>38</td>\n",
       "      <td>0</td>\n",
       "      <td>0</td>\n",
       "      <td>7.2500</td>\n",
       "    </tr>\n",
       "    <tr>\n",
       "      <th>1307</th>\n",
       "      <td>3</td>\n",
       "      <td>30</td>\n",
       "      <td>0</td>\n",
       "      <td>0</td>\n",
       "      <td>8.0500</td>\n",
       "    </tr>\n",
       "    <tr>\n",
       "      <th>1308</th>\n",
       "      <td>3</td>\n",
       "      <td>30</td>\n",
       "      <td>1</td>\n",
       "      <td>1</td>\n",
       "      <td>22.3583</td>\n",
       "    </tr>\n",
       "  </tbody>\n",
       "</table>\n",
       "<p>1309 rows × 5 columns</p>\n",
       "</div>"
      ],
      "text/plain": [
       "      Pclass  Age  SibSp  Parch      Fare\n",
       "0          3   22      1      0    7.2500\n",
       "1          1   38      1      0   71.2833\n",
       "2          3   26      0      0    7.9250\n",
       "3          1   35      1      0   53.1000\n",
       "4          3   35      0      0    8.0500\n",
       "...      ...  ...    ...    ...       ...\n",
       "1304       3   30      0      0    8.0500\n",
       "1305       1   39      0      0  108.9000\n",
       "1306       3   38      0      0    7.2500\n",
       "1307       3   30      0      0    8.0500\n",
       "1308       3   30      1      1   22.3583\n",
       "\n",
       "[1309 rows x 5 columns]"
      ]
     },
     "execution_count": 29,
     "metadata": {},
     "output_type": "execute_result"
    }
   ],
   "source": [
    "total_df2"
   ]
  },
  {
   "cell_type": "code",
   "execution_count": 30,
   "id": "6fa08a74",
   "metadata": {
    "execution": {
     "iopub.execute_input": "2023-10-20T04:15:15.098630Z",
     "iopub.status.busy": "2023-10-20T04:15:15.097030Z",
     "iopub.status.idle": "2023-10-20T04:15:15.120775Z",
     "shell.execute_reply": "2023-10-20T04:15:15.119071Z"
    },
    "papermill": {
     "duration": 0.047472,
     "end_time": "2023-10-20T04:15:15.123698",
     "exception": false,
     "start_time": "2023-10-20T04:15:15.076226",
     "status": "completed"
    },
    "tags": []
   },
   "outputs": [
    {
     "data": {
      "text/html": [
       "<div>\n",
       "<style scoped>\n",
       "    .dataframe tbody tr th:only-of-type {\n",
       "        vertical-align: middle;\n",
       "    }\n",
       "\n",
       "    .dataframe tbody tr th {\n",
       "        vertical-align: top;\n",
       "    }\n",
       "\n",
       "    .dataframe thead th {\n",
       "        text-align: right;\n",
       "    }\n",
       "</style>\n",
       "<table border=\"1\" class=\"dataframe\">\n",
       "  <thead>\n",
       "    <tr style=\"text-align: right;\">\n",
       "      <th></th>\n",
       "      <th>Pclass</th>\n",
       "      <th>Age</th>\n",
       "      <th>SibSp</th>\n",
       "      <th>Parch</th>\n",
       "      <th>Fare</th>\n",
       "      <th>Embarked_C</th>\n",
       "      <th>Embarked_Q</th>\n",
       "      <th>Embarked_S</th>\n",
       "      <th>Sex_female</th>\n",
       "      <th>Sex_male</th>\n",
       "    </tr>\n",
       "  </thead>\n",
       "  <tbody>\n",
       "    <tr>\n",
       "      <th>0</th>\n",
       "      <td>3</td>\n",
       "      <td>22</td>\n",
       "      <td>1</td>\n",
       "      <td>0</td>\n",
       "      <td>7.2500</td>\n",
       "      <td>0</td>\n",
       "      <td>0</td>\n",
       "      <td>1</td>\n",
       "      <td>0</td>\n",
       "      <td>1</td>\n",
       "    </tr>\n",
       "    <tr>\n",
       "      <th>1</th>\n",
       "      <td>1</td>\n",
       "      <td>38</td>\n",
       "      <td>1</td>\n",
       "      <td>0</td>\n",
       "      <td>71.2833</td>\n",
       "      <td>1</td>\n",
       "      <td>0</td>\n",
       "      <td>0</td>\n",
       "      <td>1</td>\n",
       "      <td>0</td>\n",
       "    </tr>\n",
       "    <tr>\n",
       "      <th>2</th>\n",
       "      <td>3</td>\n",
       "      <td>26</td>\n",
       "      <td>0</td>\n",
       "      <td>0</td>\n",
       "      <td>7.9250</td>\n",
       "      <td>0</td>\n",
       "      <td>0</td>\n",
       "      <td>1</td>\n",
       "      <td>1</td>\n",
       "      <td>0</td>\n",
       "    </tr>\n",
       "    <tr>\n",
       "      <th>3</th>\n",
       "      <td>1</td>\n",
       "      <td>35</td>\n",
       "      <td>1</td>\n",
       "      <td>0</td>\n",
       "      <td>53.1000</td>\n",
       "      <td>0</td>\n",
       "      <td>0</td>\n",
       "      <td>1</td>\n",
       "      <td>1</td>\n",
       "      <td>0</td>\n",
       "    </tr>\n",
       "    <tr>\n",
       "      <th>4</th>\n",
       "      <td>3</td>\n",
       "      <td>35</td>\n",
       "      <td>0</td>\n",
       "      <td>0</td>\n",
       "      <td>8.0500</td>\n",
       "      <td>0</td>\n",
       "      <td>0</td>\n",
       "      <td>1</td>\n",
       "      <td>0</td>\n",
       "      <td>1</td>\n",
       "    </tr>\n",
       "    <tr>\n",
       "      <th>...</th>\n",
       "      <td>...</td>\n",
       "      <td>...</td>\n",
       "      <td>...</td>\n",
       "      <td>...</td>\n",
       "      <td>...</td>\n",
       "      <td>...</td>\n",
       "      <td>...</td>\n",
       "      <td>...</td>\n",
       "      <td>...</td>\n",
       "      <td>...</td>\n",
       "    </tr>\n",
       "    <tr>\n",
       "      <th>1304</th>\n",
       "      <td>3</td>\n",
       "      <td>30</td>\n",
       "      <td>0</td>\n",
       "      <td>0</td>\n",
       "      <td>8.0500</td>\n",
       "      <td>0</td>\n",
       "      <td>0</td>\n",
       "      <td>1</td>\n",
       "      <td>0</td>\n",
       "      <td>1</td>\n",
       "    </tr>\n",
       "    <tr>\n",
       "      <th>1305</th>\n",
       "      <td>1</td>\n",
       "      <td>39</td>\n",
       "      <td>0</td>\n",
       "      <td>0</td>\n",
       "      <td>108.9000</td>\n",
       "      <td>1</td>\n",
       "      <td>0</td>\n",
       "      <td>0</td>\n",
       "      <td>1</td>\n",
       "      <td>0</td>\n",
       "    </tr>\n",
       "    <tr>\n",
       "      <th>1306</th>\n",
       "      <td>3</td>\n",
       "      <td>38</td>\n",
       "      <td>0</td>\n",
       "      <td>0</td>\n",
       "      <td>7.2500</td>\n",
       "      <td>0</td>\n",
       "      <td>0</td>\n",
       "      <td>1</td>\n",
       "      <td>0</td>\n",
       "      <td>1</td>\n",
       "    </tr>\n",
       "    <tr>\n",
       "      <th>1307</th>\n",
       "      <td>3</td>\n",
       "      <td>30</td>\n",
       "      <td>0</td>\n",
       "      <td>0</td>\n",
       "      <td>8.0500</td>\n",
       "      <td>0</td>\n",
       "      <td>0</td>\n",
       "      <td>1</td>\n",
       "      <td>0</td>\n",
       "      <td>1</td>\n",
       "    </tr>\n",
       "    <tr>\n",
       "      <th>1308</th>\n",
       "      <td>3</td>\n",
       "      <td>30</td>\n",
       "      <td>1</td>\n",
       "      <td>1</td>\n",
       "      <td>22.3583</td>\n",
       "      <td>1</td>\n",
       "      <td>0</td>\n",
       "      <td>0</td>\n",
       "      <td>0</td>\n",
       "      <td>1</td>\n",
       "    </tr>\n",
       "  </tbody>\n",
       "</table>\n",
       "<p>1309 rows × 10 columns</p>\n",
       "</div>"
      ],
      "text/plain": [
       "      Pclass  Age  SibSp  Parch      Fare  Embarked_C  Embarked_Q  Embarked_S  \\\n",
       "0          3   22      1      0    7.2500           0           0           1   \n",
       "1          1   38      1      0   71.2833           1           0           0   \n",
       "2          3   26      0      0    7.9250           0           0           1   \n",
       "3          1   35      1      0   53.1000           0           0           1   \n",
       "4          3   35      0      0    8.0500           0           0           1   \n",
       "...      ...  ...    ...    ...       ...         ...         ...         ...   \n",
       "1304       3   30      0      0    8.0500           0           0           1   \n",
       "1305       1   39      0      0  108.9000           1           0           0   \n",
       "1306       3   38      0      0    7.2500           0           0           1   \n",
       "1307       3   30      0      0    8.0500           0           0           1   \n",
       "1308       3   30      1      1   22.3583           1           0           0   \n",
       "\n",
       "      Sex_female  Sex_male  \n",
       "0              0         1  \n",
       "1              1         0  \n",
       "2              1         0  \n",
       "3              1         0  \n",
       "4              0         1  \n",
       "...          ...       ...  \n",
       "1304           0         1  \n",
       "1305           1         0  \n",
       "1306           0         1  \n",
       "1307           0         1  \n",
       "1308           0         1  \n",
       "\n",
       "[1309 rows x 10 columns]"
      ]
     },
     "execution_count": 30,
     "metadata": {},
     "output_type": "execute_result"
    }
   ],
   "source": [
    "total_df3 = pd.concat([total_df2,dummies_df], axis = 1)\n",
    "total_df3"
   ]
  },
  {
   "cell_type": "code",
   "execution_count": 31,
   "id": "02e6b627",
   "metadata": {
    "execution": {
     "iopub.execute_input": "2023-10-20T04:15:15.165378Z",
     "iopub.status.busy": "2023-10-20T04:15:15.164849Z",
     "iopub.status.idle": "2023-10-20T04:15:15.187137Z",
     "shell.execute_reply": "2023-10-20T04:15:15.185762Z"
    },
    "papermill": {
     "duration": 0.046018,
     "end_time": "2023-10-20T04:15:15.189514",
     "exception": false,
     "start_time": "2023-10-20T04:15:15.143496",
     "status": "completed"
    },
    "tags": []
   },
   "outputs": [
    {
     "name": "stdout",
     "output_type": "stream",
     "text": [
      "train : 891 , test : 418\n"
     ]
    },
    {
     "data": {
      "text/html": [
       "<div>\n",
       "<style scoped>\n",
       "    .dataframe tbody tr th:only-of-type {\n",
       "        vertical-align: middle;\n",
       "    }\n",
       "\n",
       "    .dataframe tbody tr th {\n",
       "        vertical-align: top;\n",
       "    }\n",
       "\n",
       "    .dataframe thead th {\n",
       "        text-align: right;\n",
       "    }\n",
       "</style>\n",
       "<table border=\"1\" class=\"dataframe\">\n",
       "  <thead>\n",
       "    <tr style=\"text-align: right;\">\n",
       "      <th></th>\n",
       "      <th>Pclass</th>\n",
       "      <th>Age</th>\n",
       "      <th>SibSp</th>\n",
       "      <th>Parch</th>\n",
       "      <th>Fare</th>\n",
       "      <th>Embarked_C</th>\n",
       "      <th>Embarked_Q</th>\n",
       "      <th>Embarked_S</th>\n",
       "      <th>Sex_female</th>\n",
       "      <th>Sex_male</th>\n",
       "    </tr>\n",
       "  </thead>\n",
       "  <tbody>\n",
       "    <tr>\n",
       "      <th>0</th>\n",
       "      <td>3</td>\n",
       "      <td>22</td>\n",
       "      <td>1</td>\n",
       "      <td>0</td>\n",
       "      <td>7.2500</td>\n",
       "      <td>0</td>\n",
       "      <td>0</td>\n",
       "      <td>1</td>\n",
       "      <td>0</td>\n",
       "      <td>1</td>\n",
       "    </tr>\n",
       "    <tr>\n",
       "      <th>1</th>\n",
       "      <td>1</td>\n",
       "      <td>38</td>\n",
       "      <td>1</td>\n",
       "      <td>0</td>\n",
       "      <td>71.2833</td>\n",
       "      <td>1</td>\n",
       "      <td>0</td>\n",
       "      <td>0</td>\n",
       "      <td>1</td>\n",
       "      <td>0</td>\n",
       "    </tr>\n",
       "    <tr>\n",
       "      <th>2</th>\n",
       "      <td>3</td>\n",
       "      <td>26</td>\n",
       "      <td>0</td>\n",
       "      <td>0</td>\n",
       "      <td>7.9250</td>\n",
       "      <td>0</td>\n",
       "      <td>0</td>\n",
       "      <td>1</td>\n",
       "      <td>1</td>\n",
       "      <td>0</td>\n",
       "    </tr>\n",
       "    <tr>\n",
       "      <th>3</th>\n",
       "      <td>1</td>\n",
       "      <td>35</td>\n",
       "      <td>1</td>\n",
       "      <td>0</td>\n",
       "      <td>53.1000</td>\n",
       "      <td>0</td>\n",
       "      <td>0</td>\n",
       "      <td>1</td>\n",
       "      <td>1</td>\n",
       "      <td>0</td>\n",
       "    </tr>\n",
       "    <tr>\n",
       "      <th>4</th>\n",
       "      <td>3</td>\n",
       "      <td>35</td>\n",
       "      <td>0</td>\n",
       "      <td>0</td>\n",
       "      <td>8.0500</td>\n",
       "      <td>0</td>\n",
       "      <td>0</td>\n",
       "      <td>1</td>\n",
       "      <td>0</td>\n",
       "      <td>1</td>\n",
       "    </tr>\n",
       "    <tr>\n",
       "      <th>...</th>\n",
       "      <td>...</td>\n",
       "      <td>...</td>\n",
       "      <td>...</td>\n",
       "      <td>...</td>\n",
       "      <td>...</td>\n",
       "      <td>...</td>\n",
       "      <td>...</td>\n",
       "      <td>...</td>\n",
       "      <td>...</td>\n",
       "      <td>...</td>\n",
       "    </tr>\n",
       "    <tr>\n",
       "      <th>886</th>\n",
       "      <td>2</td>\n",
       "      <td>27</td>\n",
       "      <td>0</td>\n",
       "      <td>0</td>\n",
       "      <td>13.0000</td>\n",
       "      <td>0</td>\n",
       "      <td>0</td>\n",
       "      <td>1</td>\n",
       "      <td>0</td>\n",
       "      <td>1</td>\n",
       "    </tr>\n",
       "    <tr>\n",
       "      <th>887</th>\n",
       "      <td>1</td>\n",
       "      <td>19</td>\n",
       "      <td>0</td>\n",
       "      <td>0</td>\n",
       "      <td>30.0000</td>\n",
       "      <td>0</td>\n",
       "      <td>0</td>\n",
       "      <td>1</td>\n",
       "      <td>1</td>\n",
       "      <td>0</td>\n",
       "    </tr>\n",
       "    <tr>\n",
       "      <th>888</th>\n",
       "      <td>3</td>\n",
       "      <td>30</td>\n",
       "      <td>1</td>\n",
       "      <td>2</td>\n",
       "      <td>23.4500</td>\n",
       "      <td>0</td>\n",
       "      <td>0</td>\n",
       "      <td>1</td>\n",
       "      <td>1</td>\n",
       "      <td>0</td>\n",
       "    </tr>\n",
       "    <tr>\n",
       "      <th>889</th>\n",
       "      <td>1</td>\n",
       "      <td>26</td>\n",
       "      <td>0</td>\n",
       "      <td>0</td>\n",
       "      <td>30.0000</td>\n",
       "      <td>1</td>\n",
       "      <td>0</td>\n",
       "      <td>0</td>\n",
       "      <td>0</td>\n",
       "      <td>1</td>\n",
       "    </tr>\n",
       "    <tr>\n",
       "      <th>890</th>\n",
       "      <td>3</td>\n",
       "      <td>32</td>\n",
       "      <td>0</td>\n",
       "      <td>0</td>\n",
       "      <td>7.7500</td>\n",
       "      <td>0</td>\n",
       "      <td>1</td>\n",
       "      <td>0</td>\n",
       "      <td>0</td>\n",
       "      <td>1</td>\n",
       "    </tr>\n",
       "  </tbody>\n",
       "</table>\n",
       "<p>891 rows × 10 columns</p>\n",
       "</div>"
      ],
      "text/plain": [
       "     Pclass  Age  SibSp  Parch     Fare  Embarked_C  Embarked_Q  Embarked_S  \\\n",
       "0         3   22      1      0   7.2500           0           0           1   \n",
       "1         1   38      1      0  71.2833           1           0           0   \n",
       "2         3   26      0      0   7.9250           0           0           1   \n",
       "3         1   35      1      0  53.1000           0           0           1   \n",
       "4         3   35      0      0   8.0500           0           0           1   \n",
       "..      ...  ...    ...    ...      ...         ...         ...         ...   \n",
       "886       2   27      0      0  13.0000           0           0           1   \n",
       "887       1   19      0      0  30.0000           0           0           1   \n",
       "888       3   30      1      2  23.4500           0           0           1   \n",
       "889       1   26      0      0  30.0000           1           0           0   \n",
       "890       3   32      0      0   7.7500           0           1           0   \n",
       "\n",
       "     Sex_female  Sex_male  \n",
       "0             0         1  \n",
       "1             1         0  \n",
       "2             1         0  \n",
       "3             1         0  \n",
       "4             0         1  \n",
       "..          ...       ...  \n",
       "886           0         1  \n",
       "887           1         0  \n",
       "888           1         0  \n",
       "889           0         1  \n",
       "890           0         1  \n",
       "\n",
       "[891 rows x 10 columns]"
      ]
     },
     "execution_count": 31,
     "metadata": {},
     "output_type": "execute_result"
    }
   ],
   "source": [
    "idx_train = len(df_train)\n",
    "df_train2 = total_df3[:idx_train]\n",
    "df_test2 = total_df3[idx_train:]\n",
    "print(f'train : {len(df_train2)} , test : {len(df_test2)}')\n",
    "df_train2"
   ]
  },
  {
   "cell_type": "markdown",
   "id": "5252e3ff",
   "metadata": {
    "papermill": {
     "duration": 0.01947,
     "end_time": "2023-10-20T04:15:15.228799",
     "exception": false,
     "start_time": "2023-10-20T04:15:15.209329",
     "status": "completed"
    },
    "tags": []
   },
   "source": [
    "분류 모델링 : 로지스틱 회귀 모델"
   ]
  },
  {
   "cell_type": "code",
   "execution_count": 32,
   "id": "51a83781",
   "metadata": {
    "execution": {
     "iopub.execute_input": "2023-10-20T04:15:15.271953Z",
     "iopub.status.busy": "2023-10-20T04:15:15.270835Z",
     "iopub.status.idle": "2023-10-20T04:15:15.279842Z",
     "shell.execute_reply": "2023-10-20T04:15:15.278139Z"
    },
    "papermill": {
     "duration": 0.034001,
     "end_time": "2023-10-20T04:15:15.282456",
     "exception": false,
     "start_time": "2023-10-20T04:15:15.248455",
     "status": "completed"
    },
    "tags": []
   },
   "outputs": [
    {
     "name": "stdout",
     "output_type": "stream",
     "text": [
      "[[ 3.     22.      1.      0.      7.25    0.      0.      1.      0.\n",
      "   1.    ]\n",
      " [ 1.     38.      1.      0.     71.2833  1.      0.      0.      1.\n",
      "   0.    ]\n",
      " [ 3.     26.      0.      0.      7.925   0.      0.      1.      1.\n",
      "   0.    ]]\n",
      "[0 1 1]\n"
     ]
    }
   ],
   "source": [
    "x = df_train2.values\n",
    "y = y.values\n",
    "print(x[:3])\n",
    "print(y[:3])"
   ]
  },
  {
   "cell_type": "code",
   "execution_count": 33,
   "id": "30e1749f",
   "metadata": {
    "execution": {
     "iopub.execute_input": "2023-10-20T04:15:15.325937Z",
     "iopub.status.busy": "2023-10-20T04:15:15.324586Z",
     "iopub.status.idle": "2023-10-20T04:15:15.897037Z",
     "shell.execute_reply": "2023-10-20T04:15:15.895659Z"
    },
    "papermill": {
     "duration": 0.596492,
     "end_time": "2023-10-20T04:15:15.899121",
     "exception": false,
     "start_time": "2023-10-20T04:15:15.302629",
     "status": "completed"
    },
    "tags": []
   },
   "outputs": [
    {
     "name": "stderr",
     "output_type": "stream",
     "text": [
      "/opt/conda/lib/python3.10/site-packages/sklearn/linear_model/_logistic.py:458: ConvergenceWarning: lbfgs failed to converge (status=1):\n",
      "STOP: TOTAL NO. of ITERATIONS REACHED LIMIT.\n",
      "\n",
      "Increase the number of iterations (max_iter) or scale the data as shown in:\n",
      "    https://scikit-learn.org/stable/modules/preprocessing.html\n",
      "Please also refer to the documentation for alternative solver options:\n",
      "    https://scikit-learn.org/stable/modules/linear_model.html#logistic-regression\n",
      "  n_iter_i = _check_optimize_result(\n"
     ]
    },
    {
     "data": {
      "text/plain": [
       "array([0.09571909, 0.14442558, 0.12305643])"
      ]
     },
     "execution_count": 33,
     "metadata": {},
     "output_type": "execute_result"
    }
   ],
   "source": [
    "from sklearn.linear_model import LogisticRegression\n",
    "from sklearn.model_selection import train_test_split\n",
    "from sklearn.metrics import accuracy_score , f1_score, precision_score , recall_score\n",
    "\n",
    "x_train , x_test , y_train , y_test = train_test_split(x , y, test_size = 0.2 , random_state = 10)\n",
    "\n",
    "lr = LogisticRegression(random_state = 10)\n",
    "lr.fit(x_train, y_train)\n",
    "\n",
    "y_pred = lr.predict(x_test)\n",
    "y_pred_probability = lr.predict_proba(x_test)[:,1]\n",
    "y_pred_probability[:3]"
   ]
  },
  {
   "cell_type": "markdown",
   "id": "4d8c5ad9",
   "metadata": {
    "papermill": {
     "duration": 0.024287,
     "end_time": "2023-10-20T04:15:15.944851",
     "exception": false,
     "start_time": "2023-10-20T04:15:15.920564",
     "status": "completed"
    },
    "tags": []
   },
   "source": [
    "분류 모델의 평가 기준 Confusion Matrix"
   ]
  },
  {
   "cell_type": "code",
   "execution_count": 34,
   "id": "91077455",
   "metadata": {
    "execution": {
     "iopub.execute_input": "2023-10-20T04:15:15.992972Z",
     "iopub.status.busy": "2023-10-20T04:15:15.992368Z",
     "iopub.status.idle": "2023-10-20T04:15:16.000054Z",
     "shell.execute_reply": "2023-10-20T04:15:15.999311Z"
    },
    "papermill": {
     "duration": 0.035435,
     "end_time": "2023-10-20T04:15:16.002706",
     "exception": false,
     "start_time": "2023-10-20T04:15:15.967271",
     "status": "completed"
    },
    "tags": []
   },
   "outputs": [
    {
     "data": {
      "text/plain": [
       "array([[102,  15],\n",
       "       [ 17,  45]])"
      ]
     },
     "execution_count": 34,
     "metadata": {},
     "output_type": "execute_result"
    }
   ],
   "source": [
    "from sklearn.metrics import confusion_matrix\n",
    "\n",
    "matrix = confusion_matrix(y_test , y_pred)\n",
    "matrix"
   ]
  },
  {
   "cell_type": "code",
   "execution_count": 35,
   "id": "b0ebf24f",
   "metadata": {
    "execution": {
     "iopub.execute_input": "2023-10-20T04:15:16.050837Z",
     "iopub.status.busy": "2023-10-20T04:15:16.050406Z",
     "iopub.status.idle": "2023-10-20T04:15:16.065039Z",
     "shell.execute_reply": "2023-10-20T04:15:16.063444Z"
    },
    "papermill": {
     "duration": 0.040501,
     "end_time": "2023-10-20T04:15:16.067797",
     "exception": false,
     "start_time": "2023-10-20T04:15:16.027296",
     "status": "completed"
    },
    "tags": []
   },
   "outputs": [
    {
     "name": "stdout",
     "output_type": "stream",
     "text": [
      "accuracy score : 0.821\n",
      "Precision score : 0.750\n",
      "recall score : 0.726\n",
      "f1 score : 0.738\n"
     ]
    }
   ],
   "source": [
    "print(f'accuracy score : {accuracy_score(y_test, y_pred):.3f}')\n",
    "print(f'Precision score : {precision_score(y_test, y_pred):.3f}')\n",
    "print(f'recall score : {recall_score(y_test, y_pred):.3f}')\n",
    "print(f'f1 score : {f1_score(y_test, y_pred):.3f}')"
   ]
  },
  {
   "cell_type": "code",
   "execution_count": 36,
   "id": "42e064af",
   "metadata": {
    "execution": {
     "iopub.execute_input": "2023-10-20T04:15:16.111646Z",
     "iopub.status.busy": "2023-10-20T04:15:16.111127Z",
     "iopub.status.idle": "2023-10-20T04:15:16.429580Z",
     "shell.execute_reply": "2023-10-20T04:15:16.428520Z"
    },
    "papermill": {
     "duration": 0.342829,
     "end_time": "2023-10-20T04:15:16.431659",
     "exception": false,
     "start_time": "2023-10-20T04:15:16.088830",
     "status": "completed"
    },
    "tags": []
   },
   "outputs": [
    {
     "name": "stdout",
     "output_type": "stream",
     "text": [
      "AUC : 0.859\n"
     ]
    },
    {
     "data": {
      "text/plain": [
       "<matplotlib.legend.Legend at 0x7ab372771b10>"
      ]
     },
     "execution_count": 36,
     "metadata": {},
     "output_type": "execute_result"
    },
    {
     "data": {
      "image/png": "[encoded data removed]",
      "text/plain": [
       "<Figure size 640x480 with 1 Axes>"
      ]
     },
     "metadata": {},
     "output_type": "display_data"
    }
   ],
   "source": [
    "from sklearn.metrics import roc_curve , roc_auc_score\n",
    "\n",
    "# AUC(Area Under the Curve)를 계산하여 출력합니다.\n",
    "a , b , c = roc_curve(y_test,y_pred_probability)\n",
    "roc_auc = roc_auc_score(y_test,y_pred_probability)\n",
    "print(f'AUC : {roc_auc:.3f}')\n",
    "\n",
    "# ROC curve 그래프를 출력합니다\n",
    "plt.figsize = [5,4]\n",
    "plt.plot(a,b , label = f'ROC curve (area = {roc_auc:.3f}' , color = 'green')\n",
    "plt.plot([0,1],[0,1], 'r--')\n",
    "plt.xlabel('False Postitive Rate')\n",
    "plt.ylabel('True Positive Rate')\n",
    "plt.title(\"ROC Curve of Logistic Regression\")\n",
    "plt.legend(loc = 'best')"
   ]
  },
  {
   "cell_type": "markdown",
   "id": "1577e517",
   "metadata": {
    "papermill": {
     "duration": 0.020255,
     "end_time": "2023-10-20T04:15:16.472393",
     "exception": false,
     "start_time": "2023-10-20T04:15:16.452138",
     "status": "completed"
    },
    "tags": []
   },
   "source": [
    "3 모델 개선 : Feature Enginering 첫걸음"
   ]
  },
  {
   "cell_type": "code",
   "execution_count": 37,
   "id": "7aa904cf",
   "metadata": {
    "execution": {
     "iopub.execute_input": "2023-10-20T04:15:16.515453Z",
     "iopub.status.busy": "2023-10-20T04:15:16.515065Z",
     "iopub.status.idle": "2023-10-20T04:15:16.528570Z",
     "shell.execute_reply": "2023-10-20T04:15:16.526828Z"
    },
    "papermill": {
     "duration": 0.037801,
     "end_time": "2023-10-20T04:15:16.530742",
     "exception": false,
     "start_time": "2023-10-20T04:15:16.492941",
     "status": "completed"
    },
    "tags": []
   },
   "outputs": [
    {
     "name": "stdout",
     "output_type": "stream",
     "text": [
      "<class 'pandas.core.frame.DataFrame'>\n",
      "RangeIndex: 891 entries, 0 to 890\n",
      "Data columns (total 8 columns):\n",
      " #   Column    Non-Null Count  Dtype  \n",
      "---  ------    --------------  -----  \n",
      " 0   Survived  891 non-null    int64  \n",
      " 1   Pclass    891 non-null    int64  \n",
      " 2   Sex       891 non-null    object \n",
      " 3   Age       891 non-null    int64  \n",
      " 4   SibSp     891 non-null    int64  \n",
      " 5   Parch     891 non-null    int64  \n",
      " 6   Fare      891 non-null    float64\n",
      " 7   Embarked  891 non-null    object \n",
      "dtypes: float64(1), int64(5), object(2)\n",
      "memory usage: 55.8+ KB\n"
     ]
    }
   ],
   "source": [
    "df_train.info()"
   ]
  },
  {
   "cell_type": "code",
   "execution_count": 38,
   "id": "de5bc4a2",
   "metadata": {
    "execution": {
     "iopub.execute_input": "2023-10-20T04:15:16.578722Z",
     "iopub.status.busy": "2023-10-20T04:15:16.577371Z",
     "iopub.status.idle": "2023-10-20T04:15:16.623484Z",
     "shell.execute_reply": "2023-10-20T04:15:16.621789Z"
    },
    "papermill": {
     "duration": 0.073913,
     "end_time": "2023-10-20T04:15:16.625897",
     "exception": false,
     "start_time": "2023-10-20T04:15:16.551984",
     "status": "completed"
    },
    "tags": []
   },
   "outputs": [
    {
     "data": {
      "text/html": [
       "<div>\n",
       "<style scoped>\n",
       "    .dataframe tbody tr th:only-of-type {\n",
       "        vertical-align: middle;\n",
       "    }\n",
       "\n",
       "    .dataframe tbody tr th {\n",
       "        vertical-align: top;\n",
       "    }\n",
       "\n",
       "    .dataframe thead th {\n",
       "        text-align: right;\n",
       "    }\n",
       "</style>\n",
       "<table border=\"1\" class=\"dataframe\">\n",
       "  <thead>\n",
       "    <tr style=\"text-align: right;\">\n",
       "      <th></th>\n",
       "      <th>Pclass</th>\n",
       "      <th>Name</th>\n",
       "      <th>Sex</th>\n",
       "      <th>Age</th>\n",
       "      <th>SibSp</th>\n",
       "      <th>Parch</th>\n",
       "      <th>Fare</th>\n",
       "      <th>Cabin</th>\n",
       "      <th>Embarked</th>\n",
       "    </tr>\n",
       "  </thead>\n",
       "  <tbody>\n",
       "    <tr>\n",
       "      <th>0</th>\n",
       "      <td>3</td>\n",
       "      <td>Braund, Mr. Owen Harris</td>\n",
       "      <td>male</td>\n",
       "      <td>22</td>\n",
       "      <td>1</td>\n",
       "      <td>0</td>\n",
       "      <td>7.2500</td>\n",
       "      <td>NaN</td>\n",
       "      <td>S</td>\n",
       "    </tr>\n",
       "    <tr>\n",
       "      <th>1</th>\n",
       "      <td>1</td>\n",
       "      <td>Cumings, Mrs. John Bradley (Florence Briggs Th...</td>\n",
       "      <td>female</td>\n",
       "      <td>38</td>\n",
       "      <td>1</td>\n",
       "      <td>0</td>\n",
       "      <td>71.2833</td>\n",
       "      <td>C85</td>\n",
       "      <td>C</td>\n",
       "    </tr>\n",
       "    <tr>\n",
       "      <th>2</th>\n",
       "      <td>3</td>\n",
       "      <td>Heikkinen, Miss. Laina</td>\n",
       "      <td>female</td>\n",
       "      <td>26</td>\n",
       "      <td>0</td>\n",
       "      <td>0</td>\n",
       "      <td>7.9250</td>\n",
       "      <td>NaN</td>\n",
       "      <td>S</td>\n",
       "    </tr>\n",
       "    <tr>\n",
       "      <th>3</th>\n",
       "      <td>1</td>\n",
       "      <td>Futrelle, Mrs. Jacques Heath (Lily May Peel)</td>\n",
       "      <td>female</td>\n",
       "      <td>35</td>\n",
       "      <td>1</td>\n",
       "      <td>0</td>\n",
       "      <td>53.1000</td>\n",
       "      <td>C123</td>\n",
       "      <td>S</td>\n",
       "    </tr>\n",
       "    <tr>\n",
       "      <th>4</th>\n",
       "      <td>3</td>\n",
       "      <td>Allen, Mr. William Henry</td>\n",
       "      <td>male</td>\n",
       "      <td>35</td>\n",
       "      <td>0</td>\n",
       "      <td>0</td>\n",
       "      <td>8.0500</td>\n",
       "      <td>NaN</td>\n",
       "      <td>S</td>\n",
       "    </tr>\n",
       "  </tbody>\n",
       "</table>\n",
       "</div>"
      ],
      "text/plain": [
       "   Pclass                                               Name     Sex  Age  \\\n",
       "0       3                            Braund, Mr. Owen Harris    male   22   \n",
       "1       1  Cumings, Mrs. John Bradley (Florence Briggs Th...  female   38   \n",
       "2       3                             Heikkinen, Miss. Laina  female   26   \n",
       "3       1       Futrelle, Mrs. Jacques Heath (Lily May Peel)  female   35   \n",
       "4       3                           Allen, Mr. William Henry    male   35   \n",
       "\n",
       "   SibSp  Parch     Fare Cabin Embarked  \n",
       "0      1      0   7.2500   NaN        S  \n",
       "1      1      0  71.2833   C85        C  \n",
       "2      0      0   7.9250   NaN        S  \n",
       "3      1      0  53.1000  C123        S  \n",
       "4      0      0   8.0500   NaN        S  "
      ]
     },
     "execution_count": 38,
     "metadata": {},
     "output_type": "execute_result"
    }
   ],
   "source": [
    "df_train = pd.read_csv('/kaggle/input/titanic/train.csv')\n",
    "df_test = pd.read_csv('/kaggle/input/titanic/test.csv')\n",
    "df_train = df_train.drop([\"PassengerId\",'Ticket'], axis = 1)\n",
    "df_test = df_test.drop([\"PassengerId\",'Ticket'], axis = 1)\n",
    "\n",
    "y = df_train[\"Survived\"]\n",
    "\n",
    "# Age 열 평균값으로 대체\n",
    "reaplce_mean = df_train[\"Age\"].mean().round()\n",
    "df_train[\"Age\"] = df_train[\"Age\"].fillna(reaplce_mean).astype(int)\n",
    "df_test[\"Age\"] = df_test[\"Age\"].fillna(reaplce_mean).astype(int)\n",
    "df_train['Age'].isnull().sum()\n",
    "\n",
    "# Age 열 최빈값으로 대체\n",
    "embarked_mode = df_train['Embarked'].value_counts().index[0]\n",
    "df_train['Embarked'] = df_train['Embarked'].fillna(embarked_mode)\n",
    "df_test['Embarked'] = df_test['Embarked'].fillna(embarked_mode)\n",
    "df_train['Embarked'].isnull().sum()\n",
    "\n",
    "total_df = pd.concat([df_train.drop('Survived', axis = 1),df_test],ignore_index = True)\n",
    "\n",
    "total_df.head()"
   ]
  },
  {
   "cell_type": "markdown",
   "id": "85fc2651",
   "metadata": {
    "papermill": {
     "duration": 0.020737,
     "end_time": "2023-10-20T04:15:16.667514",
     "exception": false,
     "start_time": "2023-10-20T04:15:16.646777",
     "status": "completed"
    },
    "tags": []
   },
   "source": [
    "Cabin Feature 활용하기"
   ]
  },
  {
   "cell_type": "code",
   "execution_count": 39,
   "id": "4220ba8b",
   "metadata": {
    "execution": {
     "iopub.execute_input": "2023-10-20T04:15:16.714268Z",
     "iopub.status.busy": "2023-10-20T04:15:16.712070Z",
     "iopub.status.idle": "2023-10-20T04:15:16.724601Z",
     "shell.execute_reply": "2023-10-20T04:15:16.723362Z"
    },
    "papermill": {
     "duration": 0.038398,
     "end_time": "2023-10-20T04:15:16.726957",
     "exception": false,
     "start_time": "2023-10-20T04:15:16.688559",
     "status": "completed"
    },
    "tags": []
   },
   "outputs": [
    {
     "data": {
      "text/plain": [
       "Cabin\n",
       "C23 C25 C27        6\n",
       "G6                 5\n",
       "B57 B59 B63 B66    5\n",
       "C22 C26            4\n",
       "F33                4\n",
       "F2                 4\n",
       "B96 B98            4\n",
       "C78                4\n",
       "F4                 4\n",
       "D                  4\n",
       "Name: count, dtype: int64"
      ]
     },
     "execution_count": 39,
     "metadata": {},
     "output_type": "execute_result"
    }
   ],
   "source": [
    "total_df['Cabin'].value_counts()[:10]"
   ]
  },
  {
   "cell_type": "code",
   "execution_count": 40,
   "id": "78d860ed",
   "metadata": {
    "execution": {
     "iopub.execute_input": "2023-10-20T04:15:16.772486Z",
     "iopub.status.busy": "2023-10-20T04:15:16.771644Z",
     "iopub.status.idle": "2023-10-20T04:15:16.782687Z",
     "shell.execute_reply": "2023-10-20T04:15:16.781239Z"
    },
    "papermill": {
     "duration": 0.036338,
     "end_time": "2023-10-20T04:15:16.784976",
     "exception": false,
     "start_time": "2023-10-20T04:15:16.748638",
     "status": "completed"
    },
    "tags": []
   },
   "outputs": [
    {
     "data": {
      "text/plain": [
       "[('C', 56),\n",
       " ('B', 41),\n",
       " ('D', 30),\n",
       " ('E', 27),\n",
       " ('A', 20),\n",
       " ('F', 10),\n",
       " ('G', 1),\n",
       " ('T', 1)]"
      ]
     },
     "execution_count": 40,
     "metadata": {},
     "output_type": "execute_result"
    }
   ],
   "source": [
    "#관측지가 적은 G 와 T 결측값을 X로 대체 합니다\n",
    "from collections import Counter\n",
    "\n",
    "cabin_length = total_df['Cabin'].value_counts().index.tolist()\n",
    "cabin_kind = []\n",
    "for i in range(len(cabin_length)):\n",
    "    cabin_kind.append(cabin_length[i][0])\n",
    "cabin_kind = Counter(cabin_kind).most_common()\n",
    "cabin_kind "
   ]
  },
  {
   "cell_type": "code",
   "execution_count": 41,
   "id": "3cd89738",
   "metadata": {
    "execution": {
     "iopub.execute_input": "2023-10-20T04:15:16.831992Z",
     "iopub.status.busy": "2023-10-20T04:15:16.831010Z",
     "iopub.status.idle": "2023-10-20T04:15:16.844126Z",
     "shell.execute_reply": "2023-10-20T04:15:16.842867Z"
    },
    "papermill": {
     "duration": 0.040559,
     "end_time": "2023-10-20T04:15:16.846619",
     "exception": false,
     "start_time": "2023-10-20T04:15:16.806060",
     "status": "completed"
    },
    "tags": []
   },
   "outputs": [
    {
     "data": {
      "text/plain": [
       "0       X\n",
       "1       C\n",
       "2       X\n",
       "3       C\n",
       "4       X\n",
       "       ..\n",
       "1304    X\n",
       "1305    C\n",
       "1306    X\n",
       "1307    X\n",
       "1308    X\n",
       "Name: Cabin, Length: 1309, dtype: object"
      ]
     },
     "execution_count": 41,
     "metadata": {},
     "output_type": "execute_result"
    }
   ],
   "source": [
    "total_df['Cabin'].fillna('X').apply(lambda x : x[0]).replace({'G' : 'X' , \"T\" : 'X'})"
   ]
  },
  {
   "cell_type": "code",
   "execution_count": 42,
   "id": "e14684e3",
   "metadata": {
    "execution": {
     "iopub.execute_input": "2023-10-20T04:15:16.893325Z",
     "iopub.status.busy": "2023-10-20T04:15:16.892113Z",
     "iopub.status.idle": "2023-10-20T04:15:16.906873Z",
     "shell.execute_reply": "2023-10-20T04:15:16.905263Z"
    },
    "papermill": {
     "duration": 0.041344,
     "end_time": "2023-10-20T04:15:16.909528",
     "exception": false,
     "start_time": "2023-10-20T04:15:16.868184",
     "status": "completed"
    },
    "tags": []
   },
   "outputs": [
    {
     "data": {
      "text/plain": [
       "Cabin\n",
       "X    1020\n",
       "C      94\n",
       "B      65\n",
       "D      46\n",
       "E      41\n",
       "A      22\n",
       "F      21\n",
       "Name: count, dtype: int64"
      ]
     },
     "execution_count": 42,
     "metadata": {},
     "output_type": "execute_result"
    }
   ],
   "source": [
    "total_df['Cabin'] = total_df['Cabin'].fillna('X').apply(lambda x : x[0]).replace({'G' : 'X' , \"T\" : 'X'})\n",
    "total_df['Cabin'].value_counts()"
   ]
  },
  {
   "cell_type": "code",
   "execution_count": 43,
   "id": "11d325af",
   "metadata": {
    "execution": {
     "iopub.execute_input": "2023-10-20T04:15:16.955680Z",
     "iopub.status.busy": "2023-10-20T04:15:16.955157Z",
     "iopub.status.idle": "2023-10-20T04:15:17.278072Z",
     "shell.execute_reply": "2023-10-20T04:15:17.276434Z"
    },
    "papermill": {
     "duration": 0.34904,
     "end_time": "2023-10-20T04:15:17.280544",
     "exception": false,
     "start_time": "2023-10-20T04:15:16.931504",
     "status": "completed"
    },
    "tags": []
   },
   "outputs": [
    {
     "data": {
      "text/plain": [
       "<Axes: xlabel='Cabin', ylabel='count'>"
      ]
     },
     "execution_count": 43,
     "metadata": {},
     "output_type": "execute_result"
    },
    {
     "data": {
      "image/png": "[encoded data removed]",
      "text/plain": [
       "<Figure size 640x480 with 1 Axes>"
      ]
     },
     "metadata": {},
     "output_type": "display_data"
    }
   ],
   "source": [
    "train_length = len(df_train)\n",
    "df_train_test = total_df[:train_length]\n",
    "df_train_test = pd.concat([df_train_test,y] , axis = 1)\n",
    "sns.countplot(x='Cabin', hue ='Survived', data = df_train_test)"
   ]
  },
  {
   "cell_type": "markdown",
   "id": "8a1b5f83",
   "metadata": {
    "papermill": {
     "duration": 0.021777,
     "end_time": "2023-10-20T04:15:17.324473",
     "exception": false,
     "start_time": "2023-10-20T04:15:17.302696",
     "status": "completed"
    },
    "tags": []
   },
   "source": [
    "name Feature 활용하기 중간에 호칭이 들어가있음"
   ]
  },
  {
   "cell_type": "code",
   "execution_count": 44,
   "id": "73c8d304",
   "metadata": {
    "execution": {
     "iopub.execute_input": "2023-10-20T04:15:17.371502Z",
     "iopub.status.busy": "2023-10-20T04:15:17.371090Z",
     "iopub.status.idle": "2023-10-20T04:15:17.381576Z",
     "shell.execute_reply": "2023-10-20T04:15:17.380432Z"
    },
    "papermill": {
     "duration": 0.036238,
     "end_time": "2023-10-20T04:15:17.383583",
     "exception": false,
     "start_time": "2023-10-20T04:15:17.347345",
     "status": "completed"
    },
    "tags": []
   },
   "outputs": [
    {
     "data": {
      "text/plain": [
       "0                                 Braund, Mr. Owen Harris\n",
       "1       Cumings, Mrs. John Bradley (Florence Briggs Th...\n",
       "2                                  Heikkinen, Miss. Laina\n",
       "3            Futrelle, Mrs. Jacques Heath (Lily May Peel)\n",
       "4                                Allen, Mr. William Henry\n",
       "                              ...                        \n",
       "1304                                   Spector, Mr. Woolf\n",
       "1305                         Oliva y Ocana, Dona. Fermina\n",
       "1306                         Saether, Mr. Simon Sivertsen\n",
       "1307                                  Ware, Mr. Frederick\n",
       "1308                             Peter, Master. Michael J\n",
       "Name: Name, Length: 1309, dtype: object"
      ]
     },
     "execution_count": 44,
     "metadata": {},
     "output_type": "execute_result"
    }
   ],
   "source": [
    "total_df.Name"
   ]
  },
  {
   "cell_type": "code",
   "execution_count": 45,
   "id": "aaa14765",
   "metadata": {
    "execution": {
     "iopub.execute_input": "2023-10-20T04:15:17.432762Z",
     "iopub.status.busy": "2023-10-20T04:15:17.430935Z",
     "iopub.status.idle": "2023-10-20T04:15:17.443254Z",
     "shell.execute_reply": "2023-10-20T04:15:17.441665Z"
    },
    "papermill": {
     "duration": 0.039428,
     "end_time": "2023-10-20T04:15:17.445612",
     "exception": false,
     "start_time": "2023-10-20T04:15:17.406184",
     "status": "completed"
    },
    "tags": []
   },
   "outputs": [
    {
     "name": "stdout",
     "output_type": "stream",
     "text": [
      "['Mr' 'Mrs' 'Miss' 'Master' 'Don' 'Rev' 'Dr' 'Mme' 'Ms' 'Major' 'Lady'\n",
      " 'Sir' 'Mlle' 'Col' 'Capt' 'the Countess' 'Jonkheer' 'Dona']\n"
     ]
    }
   ],
   "source": [
    "name_grade = total_df[\"Name\"].apply(lambda x : x.split(', ', 1)[1].split('.')[0])\n",
    "print(name_grade.unique())\n",
    "name_grade = name_grade.unique().tolist()"
   ]
  },
  {
   "cell_type": "code",
   "execution_count": 46,
   "id": "19f8e521",
   "metadata": {
    "execution": {
     "iopub.execute_input": "2023-10-20T04:15:17.500704Z",
     "iopub.status.busy": "2023-10-20T04:15:17.499813Z",
     "iopub.status.idle": "2023-10-20T04:15:17.507213Z",
     "shell.execute_reply": "2023-10-20T04:15:17.505378Z"
    },
    "papermill": {
     "duration": 0.042789,
     "end_time": "2023-10-20T04:15:17.511264",
     "exception": false,
     "start_time": "2023-10-20T04:15:17.468475",
     "status": "completed"
    },
    "tags": []
   },
   "outputs": [],
   "source": [
    "grade_dict = {'A' :  ['Rev','Col','Major','Dr','Capt','Sir'],  # 명예직\n",
    "             'B' : ['Ms','Mme','Mrs','Dona'],    # 여성\n",
    "             'C' : ['Jonkheer', 'the Countess'],    # 귀족이나 작위\n",
    "             'D' : ['Mr,','Don'],      # 남성\n",
    "             'E': ['Master'],      # 젊은 남성\n",
    "             'F' : ['Miss','Mile','Lday']}   # 젊은 여성"
   ]
  },
  {
   "cell_type": "code",
   "execution_count": 47,
   "id": "1a085549",
   "metadata": {
    "execution": {
     "iopub.execute_input": "2023-10-20T04:15:17.568379Z",
     "iopub.status.busy": "2023-10-20T04:15:17.567127Z",
     "iopub.status.idle": "2023-10-20T04:15:17.575608Z",
     "shell.execute_reply": "2023-10-20T04:15:17.573746Z"
    },
    "papermill": {
     "duration": 0.042133,
     "end_time": "2023-10-20T04:15:17.578475",
     "exception": false,
     "start_time": "2023-10-20T04:15:17.536342",
     "status": "completed"
    },
    "tags": []
   },
   "outputs": [],
   "source": [
    "def give_grade(x):\n",
    "    grade = x.split(', ', 1)[1].split('.')[0]\n",
    "    for k , v in grade_dict.items():\n",
    "        for title in v:\n",
    "            if(grade == title):\n",
    "                return k\n",
    "    return 'G'"
   ]
  },
  {
   "cell_type": "code",
   "execution_count": 48,
   "id": "40c686b7",
   "metadata": {
    "execution": {
     "iopub.execute_input": "2023-10-20T04:15:17.634768Z",
     "iopub.status.busy": "2023-10-20T04:15:17.634107Z",
     "iopub.status.idle": "2023-10-20T04:15:17.649158Z",
     "shell.execute_reply": "2023-10-20T04:15:17.647265Z"
    },
    "papermill": {
     "duration": 0.045336,
     "end_time": "2023-10-20T04:15:17.652382",
     "exception": false,
     "start_time": "2023-10-20T04:15:17.607046",
     "status": "completed"
    },
    "tags": []
   },
   "outputs": [
    {
     "data": {
      "text/plain": [
       "0       G\n",
       "1       B\n",
       "2       F\n",
       "3       B\n",
       "4       G\n",
       "       ..\n",
       "1304    G\n",
       "1305    B\n",
       "1306    G\n",
       "1307    G\n",
       "1308    E\n",
       "Name: Name, Length: 1309, dtype: object"
      ]
     },
     "execution_count": 48,
     "metadata": {},
     "output_type": "execute_result"
    }
   ],
   "source": [
    "total_df['Name'] = total_df['Name'].apply(lambda x : give_grade(x))\n",
    "total_df['Name']"
   ]
  },
  {
   "cell_type": "code",
   "execution_count": 49,
   "id": "c222faae",
   "metadata": {
    "execution": {
     "iopub.execute_input": "2023-10-20T04:15:17.709546Z",
     "iopub.status.busy": "2023-10-20T04:15:17.708914Z",
     "iopub.status.idle": "2023-10-20T04:15:17.721981Z",
     "shell.execute_reply": "2023-10-20T04:15:17.719162Z"
    },
    "papermill": {
     "duration": 0.046197,
     "end_time": "2023-10-20T04:15:17.725327",
     "exception": false,
     "start_time": "2023-10-20T04:15:17.679130",
     "status": "completed"
    },
    "tags": []
   },
   "outputs": [
    {
     "data": {
      "text/plain": [
       "Name\n",
       "G    760\n",
       "F    260\n",
       "B    201\n",
       "E     61\n",
       "A     24\n",
       "C      2\n",
       "D      1\n",
       "Name: count, dtype: int64"
      ]
     },
     "execution_count": 49,
     "metadata": {},
     "output_type": "execute_result"
    }
   ],
   "source": [
    "total_df['Name'].value_counts()"
   ]
  },
  {
   "cell_type": "code",
   "execution_count": 50,
   "id": "27802153",
   "metadata": {
    "execution": {
     "iopub.execute_input": "2023-10-20T04:15:17.797547Z",
     "iopub.status.busy": "2023-10-20T04:15:17.796480Z",
     "iopub.status.idle": "2023-10-20T04:15:17.849538Z",
     "shell.execute_reply": "2023-10-20T04:15:17.847041Z"
    },
    "papermill": {
     "duration": 0.094118,
     "end_time": "2023-10-20T04:15:17.853077",
     "exception": false,
     "start_time": "2023-10-20T04:15:17.758959",
     "status": "completed"
    },
    "tags": []
   },
   "outputs": [
    {
     "data": {
      "text/html": [
       "<div>\n",
       "<style scoped>\n",
       "    .dataframe tbody tr th:only-of-type {\n",
       "        vertical-align: middle;\n",
       "    }\n",
       "\n",
       "    .dataframe tbody tr th {\n",
       "        vertical-align: top;\n",
       "    }\n",
       "\n",
       "    .dataframe thead th {\n",
       "        text-align: right;\n",
       "    }\n",
       "</style>\n",
       "<table border=\"1\" class=\"dataframe\">\n",
       "  <thead>\n",
       "    <tr style=\"text-align: right;\">\n",
       "      <th></th>\n",
       "      <th>Pclass</th>\n",
       "      <th>Age</th>\n",
       "      <th>SibSp</th>\n",
       "      <th>Parch</th>\n",
       "      <th>Fare</th>\n",
       "      <th>Cabin_A</th>\n",
       "      <th>Cabin_B</th>\n",
       "      <th>Cabin_C</th>\n",
       "      <th>Cabin_D</th>\n",
       "      <th>Cabin_E</th>\n",
       "      <th>...</th>\n",
       "      <th>Embarked_S</th>\n",
       "      <th>Name_A</th>\n",
       "      <th>Name_B</th>\n",
       "      <th>Name_C</th>\n",
       "      <th>Name_D</th>\n",
       "      <th>Name_E</th>\n",
       "      <th>Name_F</th>\n",
       "      <th>Name_G</th>\n",
       "      <th>Sex_female</th>\n",
       "      <th>Sex_male</th>\n",
       "    </tr>\n",
       "  </thead>\n",
       "  <tbody>\n",
       "    <tr>\n",
       "      <th>0</th>\n",
       "      <td>3</td>\n",
       "      <td>22</td>\n",
       "      <td>1</td>\n",
       "      <td>0</td>\n",
       "      <td>7.2500</td>\n",
       "      <td>0</td>\n",
       "      <td>0</td>\n",
       "      <td>0</td>\n",
       "      <td>0</td>\n",
       "      <td>0</td>\n",
       "      <td>...</td>\n",
       "      <td>1</td>\n",
       "      <td>0</td>\n",
       "      <td>0</td>\n",
       "      <td>0</td>\n",
       "      <td>0</td>\n",
       "      <td>0</td>\n",
       "      <td>0</td>\n",
       "      <td>1</td>\n",
       "      <td>0</td>\n",
       "      <td>1</td>\n",
       "    </tr>\n",
       "    <tr>\n",
       "      <th>1</th>\n",
       "      <td>1</td>\n",
       "      <td>38</td>\n",
       "      <td>1</td>\n",
       "      <td>0</td>\n",
       "      <td>71.2833</td>\n",
       "      <td>0</td>\n",
       "      <td>0</td>\n",
       "      <td>1</td>\n",
       "      <td>0</td>\n",
       "      <td>0</td>\n",
       "      <td>...</td>\n",
       "      <td>0</td>\n",
       "      <td>0</td>\n",
       "      <td>1</td>\n",
       "      <td>0</td>\n",
       "      <td>0</td>\n",
       "      <td>0</td>\n",
       "      <td>0</td>\n",
       "      <td>0</td>\n",
       "      <td>1</td>\n",
       "      <td>0</td>\n",
       "    </tr>\n",
       "    <tr>\n",
       "      <th>2</th>\n",
       "      <td>3</td>\n",
       "      <td>26</td>\n",
       "      <td>0</td>\n",
       "      <td>0</td>\n",
       "      <td>7.9250</td>\n",
       "      <td>0</td>\n",
       "      <td>0</td>\n",
       "      <td>0</td>\n",
       "      <td>0</td>\n",
       "      <td>0</td>\n",
       "      <td>...</td>\n",
       "      <td>1</td>\n",
       "      <td>0</td>\n",
       "      <td>0</td>\n",
       "      <td>0</td>\n",
       "      <td>0</td>\n",
       "      <td>0</td>\n",
       "      <td>1</td>\n",
       "      <td>0</td>\n",
       "      <td>1</td>\n",
       "      <td>0</td>\n",
       "    </tr>\n",
       "    <tr>\n",
       "      <th>3</th>\n",
       "      <td>1</td>\n",
       "      <td>35</td>\n",
       "      <td>1</td>\n",
       "      <td>0</td>\n",
       "      <td>53.1000</td>\n",
       "      <td>0</td>\n",
       "      <td>0</td>\n",
       "      <td>1</td>\n",
       "      <td>0</td>\n",
       "      <td>0</td>\n",
       "      <td>...</td>\n",
       "      <td>1</td>\n",
       "      <td>0</td>\n",
       "      <td>1</td>\n",
       "      <td>0</td>\n",
       "      <td>0</td>\n",
       "      <td>0</td>\n",
       "      <td>0</td>\n",
       "      <td>0</td>\n",
       "      <td>1</td>\n",
       "      <td>0</td>\n",
       "    </tr>\n",
       "    <tr>\n",
       "      <th>4</th>\n",
       "      <td>3</td>\n",
       "      <td>35</td>\n",
       "      <td>0</td>\n",
       "      <td>0</td>\n",
       "      <td>8.0500</td>\n",
       "      <td>0</td>\n",
       "      <td>0</td>\n",
       "      <td>0</td>\n",
       "      <td>0</td>\n",
       "      <td>0</td>\n",
       "      <td>...</td>\n",
       "      <td>1</td>\n",
       "      <td>0</td>\n",
       "      <td>0</td>\n",
       "      <td>0</td>\n",
       "      <td>0</td>\n",
       "      <td>0</td>\n",
       "      <td>0</td>\n",
       "      <td>1</td>\n",
       "      <td>0</td>\n",
       "      <td>1</td>\n",
       "    </tr>\n",
       "    <tr>\n",
       "      <th>...</th>\n",
       "      <td>...</td>\n",
       "      <td>...</td>\n",
       "      <td>...</td>\n",
       "      <td>...</td>\n",
       "      <td>...</td>\n",
       "      <td>...</td>\n",
       "      <td>...</td>\n",
       "      <td>...</td>\n",
       "      <td>...</td>\n",
       "      <td>...</td>\n",
       "      <td>...</td>\n",
       "      <td>...</td>\n",
       "      <td>...</td>\n",
       "      <td>...</td>\n",
       "      <td>...</td>\n",
       "      <td>...</td>\n",
       "      <td>...</td>\n",
       "      <td>...</td>\n",
       "      <td>...</td>\n",
       "      <td>...</td>\n",
       "      <td>...</td>\n",
       "    </tr>\n",
       "    <tr>\n",
       "      <th>1304</th>\n",
       "      <td>3</td>\n",
       "      <td>30</td>\n",
       "      <td>0</td>\n",
       "      <td>0</td>\n",
       "      <td>8.0500</td>\n",
       "      <td>0</td>\n",
       "      <td>0</td>\n",
       "      <td>0</td>\n",
       "      <td>0</td>\n",
       "      <td>0</td>\n",
       "      <td>...</td>\n",
       "      <td>1</td>\n",
       "      <td>0</td>\n",
       "      <td>0</td>\n",
       "      <td>0</td>\n",
       "      <td>0</td>\n",
       "      <td>0</td>\n",
       "      <td>0</td>\n",
       "      <td>1</td>\n",
       "      <td>0</td>\n",
       "      <td>1</td>\n",
       "    </tr>\n",
       "    <tr>\n",
       "      <th>1305</th>\n",
       "      <td>1</td>\n",
       "      <td>39</td>\n",
       "      <td>0</td>\n",
       "      <td>0</td>\n",
       "      <td>108.9000</td>\n",
       "      <td>0</td>\n",
       "      <td>0</td>\n",
       "      <td>1</td>\n",
       "      <td>0</td>\n",
       "      <td>0</td>\n",
       "      <td>...</td>\n",
       "      <td>0</td>\n",
       "      <td>0</td>\n",
       "      <td>1</td>\n",
       "      <td>0</td>\n",
       "      <td>0</td>\n",
       "      <td>0</td>\n",
       "      <td>0</td>\n",
       "      <td>0</td>\n",
       "      <td>1</td>\n",
       "      <td>0</td>\n",
       "    </tr>\n",
       "    <tr>\n",
       "      <th>1306</th>\n",
       "      <td>3</td>\n",
       "      <td>38</td>\n",
       "      <td>0</td>\n",
       "      <td>0</td>\n",
       "      <td>7.2500</td>\n",
       "      <td>0</td>\n",
       "      <td>0</td>\n",
       "      <td>0</td>\n",
       "      <td>0</td>\n",
       "      <td>0</td>\n",
       "      <td>...</td>\n",
       "      <td>1</td>\n",
       "      <td>0</td>\n",
       "      <td>0</td>\n",
       "      <td>0</td>\n",
       "      <td>0</td>\n",
       "      <td>0</td>\n",
       "      <td>0</td>\n",
       "      <td>1</td>\n",
       "      <td>0</td>\n",
       "      <td>1</td>\n",
       "    </tr>\n",
       "    <tr>\n",
       "      <th>1307</th>\n",
       "      <td>3</td>\n",
       "      <td>30</td>\n",
       "      <td>0</td>\n",
       "      <td>0</td>\n",
       "      <td>8.0500</td>\n",
       "      <td>0</td>\n",
       "      <td>0</td>\n",
       "      <td>0</td>\n",
       "      <td>0</td>\n",
       "      <td>0</td>\n",
       "      <td>...</td>\n",
       "      <td>1</td>\n",
       "      <td>0</td>\n",
       "      <td>0</td>\n",
       "      <td>0</td>\n",
       "      <td>0</td>\n",
       "      <td>0</td>\n",
       "      <td>0</td>\n",
       "      <td>1</td>\n",
       "      <td>0</td>\n",
       "      <td>1</td>\n",
       "    </tr>\n",
       "    <tr>\n",
       "      <th>1308</th>\n",
       "      <td>3</td>\n",
       "      <td>30</td>\n",
       "      <td>1</td>\n",
       "      <td>1</td>\n",
       "      <td>22.3583</td>\n",
       "      <td>0</td>\n",
       "      <td>0</td>\n",
       "      <td>0</td>\n",
       "      <td>0</td>\n",
       "      <td>0</td>\n",
       "      <td>...</td>\n",
       "      <td>0</td>\n",
       "      <td>0</td>\n",
       "      <td>0</td>\n",
       "      <td>0</td>\n",
       "      <td>0</td>\n",
       "      <td>1</td>\n",
       "      <td>0</td>\n",
       "      <td>0</td>\n",
       "      <td>0</td>\n",
       "      <td>1</td>\n",
       "    </tr>\n",
       "  </tbody>\n",
       "</table>\n",
       "<p>1309 rows × 24 columns</p>\n",
       "</div>"
      ],
      "text/plain": [
       "      Pclass  Age  SibSp  Parch      Fare  Cabin_A  Cabin_B  Cabin_C  Cabin_D  \\\n",
       "0          3   22      1      0    7.2500        0        0        0        0   \n",
       "1          1   38      1      0   71.2833        0        0        1        0   \n",
       "2          3   26      0      0    7.9250        0        0        0        0   \n",
       "3          1   35      1      0   53.1000        0        0        1        0   \n",
       "4          3   35      0      0    8.0500        0        0        0        0   \n",
       "...      ...  ...    ...    ...       ...      ...      ...      ...      ...   \n",
       "1304       3   30      0      0    8.0500        0        0        0        0   \n",
       "1305       1   39      0      0  108.9000        0        0        1        0   \n",
       "1306       3   38      0      0    7.2500        0        0        0        0   \n",
       "1307       3   30      0      0    8.0500        0        0        0        0   \n",
       "1308       3   30      1      1   22.3583        0        0        0        0   \n",
       "\n",
       "      Cabin_E  ...  Embarked_S  Name_A  Name_B  Name_C  Name_D  Name_E  \\\n",
       "0           0  ...           1       0       0       0       0       0   \n",
       "1           0  ...           0       0       1       0       0       0   \n",
       "2           0  ...           1       0       0       0       0       0   \n",
       "3           0  ...           1       0       1       0       0       0   \n",
       "4           0  ...           1       0       0       0       0       0   \n",
       "...       ...  ...         ...     ...     ...     ...     ...     ...   \n",
       "1304        0  ...           1       0       0       0       0       0   \n",
       "1305        0  ...           0       0       1       0       0       0   \n",
       "1306        0  ...           1       0       0       0       0       0   \n",
       "1307        0  ...           1       0       0       0       0       0   \n",
       "1308        0  ...           0       0       0       0       0       1   \n",
       "\n",
       "      Name_F  Name_G  Sex_female  Sex_male  \n",
       "0          0       1           0         1  \n",
       "1          0       0           1         0  \n",
       "2          1       0           1         0  \n",
       "3          0       0           1         0  \n",
       "4          0       1           0         1  \n",
       "...      ...     ...         ...       ...  \n",
       "1304       0       1           0         1  \n",
       "1305       0       0           1         0  \n",
       "1306       0       1           0         1  \n",
       "1307       0       1           0         1  \n",
       "1308       0       0           0         1  \n",
       "\n",
       "[1309 rows x 24 columns]"
      ]
     },
     "execution_count": 50,
     "metadata": {},
     "output_type": "execute_result"
    }
   ],
   "source": [
    "# 범주형 변수 원 핫 인코딩\n",
    "total_df2 = total_df.drop(['Sex','Embarked','Cabin','Name'], axis = 1)\n",
    "\n",
    "no_columns = ['Pclass','Age','Sibsp','SibSp','Parch','Fare']\n",
    "selected_columns = total_df.columns.difference(no_columns)\n",
    "dummies_df = pd.get_dummies(total_df[selected_columns])\n",
    "dummies_df = dummies_df.astype(int)\n",
    "\n",
    "total_df = pd.concat([total_df2,dummies_df], axis = 1)\n",
    "total_df"
   ]
  },
  {
   "cell_type": "code",
   "execution_count": 51,
   "id": "fb9923b1",
   "metadata": {
    "execution": {
     "iopub.execute_input": "2023-10-20T04:15:17.914516Z",
     "iopub.status.busy": "2023-10-20T04:15:17.914014Z",
     "iopub.status.idle": "2023-10-20T04:15:18.004584Z",
     "shell.execute_reply": "2023-10-20T04:15:18.002247Z"
    },
    "papermill": {
     "duration": 0.138644,
     "end_time": "2023-10-20T04:15:18.020545",
     "exception": false,
     "start_time": "2023-10-20T04:15:17.881901",
     "status": "completed"
    },
    "tags": []
   },
   "outputs": [
    {
     "name": "stderr",
     "output_type": "stream",
     "text": [
      "/opt/conda/lib/python3.10/site-packages/sklearn/linear_model/_logistic.py:458: ConvergenceWarning: lbfgs failed to converge (status=1):\n",
      "STOP: TOTAL NO. of ITERATIONS REACHED LIMIT.\n",
      "\n",
      "Increase the number of iterations (max_iter) or scale the data as shown in:\n",
      "    https://scikit-learn.org/stable/modules/preprocessing.html\n",
      "Please also refer to the documentation for alternative solver options:\n",
      "    https://scikit-learn.org/stable/modules/linear_model.html#logistic-regression\n",
      "  n_iter_i = _check_optimize_result(\n"
     ]
    },
    {
     "data": {
      "text/plain": [
       "array([0.08004594, 0.11382966, 0.09929154])"
      ]
     },
     "execution_count": 51,
     "metadata": {},
     "output_type": "execute_result"
    }
   ],
   "source": [
    "from sklearn.linear_model import LogisticRegression\n",
    "from sklearn.model_selection import train_test_split\n",
    "from sklearn.metrics import accuracy_score , f1_score, precision_score , recall_score\n",
    "\n",
    "x = total_df[:train_length]\n",
    "df_test = total_df[train_length:]\n",
    "\n",
    "x_train , x_test , y_train , y_test = train_test_split(x , y, test_size = 0.2 , random_state = 10)\n",
    "\n",
    "lr = LogisticRegression(random_state = 10)\n",
    "lr.fit(x_train, y_train)\n",
    "\n",
    "y_pred = lr.predict(x_test)\n",
    "y_pred_probability = lr.predict_proba(x_test)[:,1]\n",
    "y_pred_probability[:3]"
   ]
  },
  {
   "cell_type": "code",
   "execution_count": 52,
   "id": "dfa2d769",
   "metadata": {
    "execution": {
     "iopub.execute_input": "2023-10-20T04:15:18.129624Z",
     "iopub.status.busy": "2023-10-20T04:15:18.129179Z",
     "iopub.status.idle": "2023-10-20T04:15:18.140255Z",
     "shell.execute_reply": "2023-10-20T04:15:18.138855Z"
    },
    "papermill": {
     "duration": 0.048573,
     "end_time": "2023-10-20T04:15:18.143447",
     "exception": false,
     "start_time": "2023-10-20T04:15:18.094874",
     "status": "completed"
    },
    "tags": []
   },
   "outputs": [
    {
     "data": {
      "text/plain": [
       "array([[100,  17],\n",
       "       [ 12,  50]])"
      ]
     },
     "execution_count": 52,
     "metadata": {},
     "output_type": "execute_result"
    }
   ],
   "source": [
    "from sklearn.metrics import confusion_matrix\n",
    "\n",
    "matrix = confusion_matrix(y_test , y_pred)\n",
    "matrix"
   ]
  },
  {
   "cell_type": "code",
   "execution_count": 53,
   "id": "9cfdf04d",
   "metadata": {
    "execution": {
     "iopub.execute_input": "2023-10-20T04:15:18.206289Z",
     "iopub.status.busy": "2023-10-20T04:15:18.205533Z",
     "iopub.status.idle": "2023-10-20T04:15:18.220240Z",
     "shell.execute_reply": "2023-10-20T04:15:18.218664Z"
    },
    "papermill": {
     "duration": 0.04955,
     "end_time": "2023-10-20T04:15:18.223434",
     "exception": false,
     "start_time": "2023-10-20T04:15:18.173884",
     "status": "completed"
    },
    "tags": []
   },
   "outputs": [
    {
     "name": "stdout",
     "output_type": "stream",
     "text": [
      "accuracy score : 0.838\n",
      "Precision score : 0.746\n",
      "recall score : 0.806\n",
      "f1 score : 0.775\n"
     ]
    }
   ],
   "source": [
    "print(f'accuracy score : {accuracy_score(y_test, y_pred):.3f}')\n",
    "print(f'Precision score : {precision_score(y_test, y_pred):.3f}')\n",
    "print(f'recall score : {recall_score(y_test, y_pred):.3f}')\n",
    "print(f'f1 score : {f1_score(y_test, y_pred):.3f}')"
   ]
  },
  {
   "cell_type": "code",
   "execution_count": 54,
   "id": "2c2d53e1",
   "metadata": {
    "execution": {
     "iopub.execute_input": "2023-10-20T04:15:18.281344Z",
     "iopub.status.busy": "2023-10-20T04:15:18.280913Z",
     "iopub.status.idle": "2023-10-20T04:15:18.600571Z",
     "shell.execute_reply": "2023-10-20T04:15:18.599452Z"
    },
    "papermill": {
     "duration": 0.352627,
     "end_time": "2023-10-20T04:15:18.603070",
     "exception": false,
     "start_time": "2023-10-20T04:15:18.250443",
     "status": "completed"
    },
    "tags": []
   },
   "outputs": [
    {
     "name": "stdout",
     "output_type": "stream",
     "text": [
      "AUC : 0.896\n"
     ]
    },
    {
     "data": {
      "text/plain": [
       "<matplotlib.legend.Legend at 0x7ab36eb447f0>"
      ]
     },
     "execution_count": 54,
     "metadata": {},
     "output_type": "execute_result"
    },
    {
     "data": {
      "image/png": "[encoded data removed]",
      "text/plain": [
       "<Figure size 640x480 with 1 Axes>"
      ]
     },
     "metadata": {},
     "output_type": "display_data"
    }
   ],
   "source": [
    "from sklearn.metrics import roc_curve , roc_auc_score\n",
    "\n",
    "# AUC(Area Under the Curve)를 계산하여 출력합니다.\n",
    "a , b , c = roc_curve(y_test,y_pred_probability)\n",
    "roc_auc = roc_auc_score(y_test,y_pred_probability)\n",
    "print(f'AUC : {roc_auc:.3f}')\n",
    "\n",
    "# ROC curve 그래프를 출력합니다\n",
    "plt.figsize = [5,4]\n",
    "plt.plot(a,b , label = f'ROC curve (area = {roc_auc:.3f}' , color = 'green')\n",
    "plt.plot([0,1],[0,1], 'r--')\n",
    "plt.xlabel('False Postitive Rate')\n",
    "plt.ylabel('True Positive Rate')\n",
    "plt.title(\"ROC Curve of Logistic Regression\")\n",
    "plt.legend(loc = 'best')"
   ]
  },
  {
   "cell_type": "markdown",
   "id": "50b64a9c",
   "metadata": {
    "papermill": {
     "duration": 0.024545,
     "end_time": "2023-10-20T04:15:18.652259",
     "exception": false,
     "start_time": "2023-10-20T04:15:18.627714",
     "status": "completed"
    },
    "tags": []
   },
   "source": [
    "피쳐 영향력 살펴보기"
   ]
  },
  {
   "cell_type": "code",
   "execution_count": 55,
   "id": "851565b4",
   "metadata": {
    "execution": {
     "iopub.execute_input": "2023-10-20T04:15:18.706289Z",
     "iopub.status.busy": "2023-10-20T04:15:18.705501Z",
     "iopub.status.idle": "2023-10-20T04:15:18.714141Z",
     "shell.execute_reply": "2023-10-20T04:15:18.712627Z"
    },
    "papermill": {
     "duration": 0.037457,
     "end_time": "2023-10-20T04:15:18.716363",
     "exception": false,
     "start_time": "2023-10-20T04:15:18.678906",
     "status": "completed"
    },
    "tags": []
   },
   "outputs": [
    {
     "data": {
      "text/plain": [
       "array([-0.65567014, -0.02598552, -0.57257616, -0.30727644,  0.00354449,\n",
       "        0.13714306,  0.16114052, -0.32387816,  0.81153468,  1.06010909,\n",
       "        0.27630831, -0.56186883,  0.79709699,  0.57303915,  0.19035252,\n",
       "       -0.28240454,  0.93079734, -0.06120475, -0.1379386 ,  1.81884841,\n",
       "        0.3303745 , -1.03798369,  1.53405132,  0.02643734])"
      ]
     },
     "execution_count": 55,
     "metadata": {},
     "output_type": "execute_result"
    }
   ],
   "source": [
    "lr.coef_[0]"
   ]
  },
  {
   "cell_type": "code",
   "execution_count": 56,
   "id": "0ce08315",
   "metadata": {
    "execution": {
     "iopub.execute_input": "2023-10-20T04:15:18.769520Z",
     "iopub.status.busy": "2023-10-20T04:15:18.767847Z",
     "iopub.status.idle": "2023-10-20T04:15:19.215519Z",
     "shell.execute_reply": "2023-10-20T04:15:19.213902Z"
    },
    "papermill": {
     "duration": 0.477472,
     "end_time": "2023-10-20T04:15:19.217991",
     "exception": false,
     "start_time": "2023-10-20T04:15:18.740519",
     "status": "completed"
    },
    "tags": []
   },
   "outputs": [
    {
     "data": {
      "text/plain": [
       "Text(0.5, 1.0, \"Each Feature's Coef\")"
      ]
     },
     "execution_count": 56,
     "metadata": {},
     "output_type": "execute_result"
    },
    {
     "data": {
      "image/png": "[encoded data removed]",
      "text/plain": [
       "<Figure size 640x480 with 1 Axes>"
      ]
     },
     "metadata": {},
     "output_type": "display_data"
    }
   ],
   "source": [
    "cols = x_train.columns.tolist()\n",
    "y_pos = np.arange(len(cols))\n",
    "\n",
    "plt.figsize = [5,4]\n",
    "fig , ax = plt.subplots()\n",
    "ax.barh(y_pos , lr.coef_[0] , color = 'gray')\n",
    "ax.set_yticks(y_pos)\n",
    "ax.set_yticklabels(cols)\n",
    "ax.invert_yaxis()\n",
    "ax.set_xlabel('Coef')\n",
    "ax.set_title(\"Each Feature's Coef\")"
   ]
  },
  {
   "cell_type": "markdown",
   "id": "8befbb65",
   "metadata": {
    "papermill": {
     "duration": 0.025282,
     "end_time": "2023-10-20T04:15:19.267683",
     "exception": false,
     "start_time": "2023-10-20T04:15:19.242401",
     "status": "completed"
    },
    "tags": []
   },
   "source": [
    "4 평가 : 모델 검증하기\n",
    "    - 모델의 과적합 여부 \n",
    "    - K-fodl 교차 검증"
   ]
  },
  {
   "cell_type": "code",
   "execution_count": 57,
   "id": "2f703bd7",
   "metadata": {
    "execution": {
     "iopub.execute_input": "2023-10-20T04:15:19.319435Z",
     "iopub.status.busy": "2023-10-20T04:15:19.319038Z",
     "iopub.status.idle": "2023-10-20T04:15:19.342225Z",
     "shell.execute_reply": "2023-10-20T04:15:19.340492Z"
    },
    "papermill": {
     "duration": 0.052117,
     "end_time": "2023-10-20T04:15:19.344749",
     "exception": false,
     "start_time": "2023-10-20T04:15:19.292632",
     "status": "completed"
    },
    "tags": []
   },
   "outputs": [
    {
     "data": {
      "text/html": [
       "<div>\n",
       "<style scoped>\n",
       "    .dataframe tbody tr th:only-of-type {\n",
       "        vertical-align: middle;\n",
       "    }\n",
       "\n",
       "    .dataframe tbody tr th {\n",
       "        vertical-align: top;\n",
       "    }\n",
       "\n",
       "    .dataframe thead th {\n",
       "        text-align: right;\n",
       "    }\n",
       "</style>\n",
       "<table border=\"1\" class=\"dataframe\">\n",
       "  <thead>\n",
       "    <tr style=\"text-align: right;\">\n",
       "      <th></th>\n",
       "      <th>Pclass</th>\n",
       "      <th>Age</th>\n",
       "      <th>SibSp</th>\n",
       "      <th>Parch</th>\n",
       "      <th>Fare</th>\n",
       "      <th>Cabin_A</th>\n",
       "      <th>Cabin_B</th>\n",
       "      <th>Cabin_C</th>\n",
       "      <th>Cabin_D</th>\n",
       "      <th>Cabin_E</th>\n",
       "      <th>...</th>\n",
       "      <th>Embarked_S</th>\n",
       "      <th>Name_A</th>\n",
       "      <th>Name_B</th>\n",
       "      <th>Name_C</th>\n",
       "      <th>Name_D</th>\n",
       "      <th>Name_E</th>\n",
       "      <th>Name_F</th>\n",
       "      <th>Name_G</th>\n",
       "      <th>Sex_female</th>\n",
       "      <th>Sex_male</th>\n",
       "    </tr>\n",
       "  </thead>\n",
       "  <tbody>\n",
       "    <tr>\n",
       "      <th>0</th>\n",
       "      <td>3</td>\n",
       "      <td>22</td>\n",
       "      <td>1</td>\n",
       "      <td>0</td>\n",
       "      <td>7.2500</td>\n",
       "      <td>0</td>\n",
       "      <td>0</td>\n",
       "      <td>0</td>\n",
       "      <td>0</td>\n",
       "      <td>0</td>\n",
       "      <td>...</td>\n",
       "      <td>1</td>\n",
       "      <td>0</td>\n",
       "      <td>0</td>\n",
       "      <td>0</td>\n",
       "      <td>0</td>\n",
       "      <td>0</td>\n",
       "      <td>0</td>\n",
       "      <td>1</td>\n",
       "      <td>0</td>\n",
       "      <td>1</td>\n",
       "    </tr>\n",
       "    <tr>\n",
       "      <th>1</th>\n",
       "      <td>1</td>\n",
       "      <td>38</td>\n",
       "      <td>1</td>\n",
       "      <td>0</td>\n",
       "      <td>71.2833</td>\n",
       "      <td>0</td>\n",
       "      <td>0</td>\n",
       "      <td>1</td>\n",
       "      <td>0</td>\n",
       "      <td>0</td>\n",
       "      <td>...</td>\n",
       "      <td>0</td>\n",
       "      <td>0</td>\n",
       "      <td>1</td>\n",
       "      <td>0</td>\n",
       "      <td>0</td>\n",
       "      <td>0</td>\n",
       "      <td>0</td>\n",
       "      <td>0</td>\n",
       "      <td>1</td>\n",
       "      <td>0</td>\n",
       "    </tr>\n",
       "    <tr>\n",
       "      <th>2</th>\n",
       "      <td>3</td>\n",
       "      <td>26</td>\n",
       "      <td>0</td>\n",
       "      <td>0</td>\n",
       "      <td>7.9250</td>\n",
       "      <td>0</td>\n",
       "      <td>0</td>\n",
       "      <td>0</td>\n",
       "      <td>0</td>\n",
       "      <td>0</td>\n",
       "      <td>...</td>\n",
       "      <td>1</td>\n",
       "      <td>0</td>\n",
       "      <td>0</td>\n",
       "      <td>0</td>\n",
       "      <td>0</td>\n",
       "      <td>0</td>\n",
       "      <td>1</td>\n",
       "      <td>0</td>\n",
       "      <td>1</td>\n",
       "      <td>0</td>\n",
       "    </tr>\n",
       "    <tr>\n",
       "      <th>3</th>\n",
       "      <td>1</td>\n",
       "      <td>35</td>\n",
       "      <td>1</td>\n",
       "      <td>0</td>\n",
       "      <td>53.1000</td>\n",
       "      <td>0</td>\n",
       "      <td>0</td>\n",
       "      <td>1</td>\n",
       "      <td>0</td>\n",
       "      <td>0</td>\n",
       "      <td>...</td>\n",
       "      <td>1</td>\n",
       "      <td>0</td>\n",
       "      <td>1</td>\n",
       "      <td>0</td>\n",
       "      <td>0</td>\n",
       "      <td>0</td>\n",
       "      <td>0</td>\n",
       "      <td>0</td>\n",
       "      <td>1</td>\n",
       "      <td>0</td>\n",
       "    </tr>\n",
       "    <tr>\n",
       "      <th>4</th>\n",
       "      <td>3</td>\n",
       "      <td>35</td>\n",
       "      <td>0</td>\n",
       "      <td>0</td>\n",
       "      <td>8.0500</td>\n",
       "      <td>0</td>\n",
       "      <td>0</td>\n",
       "      <td>0</td>\n",
       "      <td>0</td>\n",
       "      <td>0</td>\n",
       "      <td>...</td>\n",
       "      <td>1</td>\n",
       "      <td>0</td>\n",
       "      <td>0</td>\n",
       "      <td>0</td>\n",
       "      <td>0</td>\n",
       "      <td>0</td>\n",
       "      <td>0</td>\n",
       "      <td>1</td>\n",
       "      <td>0</td>\n",
       "      <td>1</td>\n",
       "    </tr>\n",
       "    <tr>\n",
       "      <th>...</th>\n",
       "      <td>...</td>\n",
       "      <td>...</td>\n",
       "      <td>...</td>\n",
       "      <td>...</td>\n",
       "      <td>...</td>\n",
       "      <td>...</td>\n",
       "      <td>...</td>\n",
       "      <td>...</td>\n",
       "      <td>...</td>\n",
       "      <td>...</td>\n",
       "      <td>...</td>\n",
       "      <td>...</td>\n",
       "      <td>...</td>\n",
       "      <td>...</td>\n",
       "      <td>...</td>\n",
       "      <td>...</td>\n",
       "      <td>...</td>\n",
       "      <td>...</td>\n",
       "      <td>...</td>\n",
       "      <td>...</td>\n",
       "      <td>...</td>\n",
       "    </tr>\n",
       "    <tr>\n",
       "      <th>886</th>\n",
       "      <td>2</td>\n",
       "      <td>27</td>\n",
       "      <td>0</td>\n",
       "      <td>0</td>\n",
       "      <td>13.0000</td>\n",
       "      <td>0</td>\n",
       "      <td>0</td>\n",
       "      <td>0</td>\n",
       "      <td>0</td>\n",
       "      <td>0</td>\n",
       "      <td>...</td>\n",
       "      <td>1</td>\n",
       "      <td>1</td>\n",
       "      <td>0</td>\n",
       "      <td>0</td>\n",
       "      <td>0</td>\n",
       "      <td>0</td>\n",
       "      <td>0</td>\n",
       "      <td>0</td>\n",
       "      <td>0</td>\n",
       "      <td>1</td>\n",
       "    </tr>\n",
       "    <tr>\n",
       "      <th>887</th>\n",
       "      <td>1</td>\n",
       "      <td>19</td>\n",
       "      <td>0</td>\n",
       "      <td>0</td>\n",
       "      <td>30.0000</td>\n",
       "      <td>0</td>\n",
       "      <td>1</td>\n",
       "      <td>0</td>\n",
       "      <td>0</td>\n",
       "      <td>0</td>\n",
       "      <td>...</td>\n",
       "      <td>1</td>\n",
       "      <td>0</td>\n",
       "      <td>0</td>\n",
       "      <td>0</td>\n",
       "      <td>0</td>\n",
       "      <td>0</td>\n",
       "      <td>1</td>\n",
       "      <td>0</td>\n",
       "      <td>1</td>\n",
       "      <td>0</td>\n",
       "    </tr>\n",
       "    <tr>\n",
       "      <th>888</th>\n",
       "      <td>3</td>\n",
       "      <td>30</td>\n",
       "      <td>1</td>\n",
       "      <td>2</td>\n",
       "      <td>23.4500</td>\n",
       "      <td>0</td>\n",
       "      <td>0</td>\n",
       "      <td>0</td>\n",
       "      <td>0</td>\n",
       "      <td>0</td>\n",
       "      <td>...</td>\n",
       "      <td>1</td>\n",
       "      <td>0</td>\n",
       "      <td>0</td>\n",
       "      <td>0</td>\n",
       "      <td>0</td>\n",
       "      <td>0</td>\n",
       "      <td>1</td>\n",
       "      <td>0</td>\n",
       "      <td>1</td>\n",
       "      <td>0</td>\n",
       "    </tr>\n",
       "    <tr>\n",
       "      <th>889</th>\n",
       "      <td>1</td>\n",
       "      <td>26</td>\n",
       "      <td>0</td>\n",
       "      <td>0</td>\n",
       "      <td>30.0000</td>\n",
       "      <td>0</td>\n",
       "      <td>0</td>\n",
       "      <td>1</td>\n",
       "      <td>0</td>\n",
       "      <td>0</td>\n",
       "      <td>...</td>\n",
       "      <td>0</td>\n",
       "      <td>0</td>\n",
       "      <td>0</td>\n",
       "      <td>0</td>\n",
       "      <td>0</td>\n",
       "      <td>0</td>\n",
       "      <td>0</td>\n",
       "      <td>1</td>\n",
       "      <td>0</td>\n",
       "      <td>1</td>\n",
       "    </tr>\n",
       "    <tr>\n",
       "      <th>890</th>\n",
       "      <td>3</td>\n",
       "      <td>32</td>\n",
       "      <td>0</td>\n",
       "      <td>0</td>\n",
       "      <td>7.7500</td>\n",
       "      <td>0</td>\n",
       "      <td>0</td>\n",
       "      <td>0</td>\n",
       "      <td>0</td>\n",
       "      <td>0</td>\n",
       "      <td>...</td>\n",
       "      <td>0</td>\n",
       "      <td>0</td>\n",
       "      <td>0</td>\n",
       "      <td>0</td>\n",
       "      <td>0</td>\n",
       "      <td>0</td>\n",
       "      <td>0</td>\n",
       "      <td>1</td>\n",
       "      <td>0</td>\n",
       "      <td>1</td>\n",
       "    </tr>\n",
       "  </tbody>\n",
       "</table>\n",
       "<p>891 rows × 24 columns</p>\n",
       "</div>"
      ],
      "text/plain": [
       "     Pclass  Age  SibSp  Parch     Fare  Cabin_A  Cabin_B  Cabin_C  Cabin_D  \\\n",
       "0         3   22      1      0   7.2500        0        0        0        0   \n",
       "1         1   38      1      0  71.2833        0        0        1        0   \n",
       "2         3   26      0      0   7.9250        0        0        0        0   \n",
       "3         1   35      1      0  53.1000        0        0        1        0   \n",
       "4         3   35      0      0   8.0500        0        0        0        0   \n",
       "..      ...  ...    ...    ...      ...      ...      ...      ...      ...   \n",
       "886       2   27      0      0  13.0000        0        0        0        0   \n",
       "887       1   19      0      0  30.0000        0        1        0        0   \n",
       "888       3   30      1      2  23.4500        0        0        0        0   \n",
       "889       1   26      0      0  30.0000        0        0        1        0   \n",
       "890       3   32      0      0   7.7500        0        0        0        0   \n",
       "\n",
       "     Cabin_E  ...  Embarked_S  Name_A  Name_B  Name_C  Name_D  Name_E  Name_F  \\\n",
       "0          0  ...           1       0       0       0       0       0       0   \n",
       "1          0  ...           0       0       1       0       0       0       0   \n",
       "2          0  ...           1       0       0       0       0       0       1   \n",
       "3          0  ...           1       0       1       0       0       0       0   \n",
       "4          0  ...           1       0       0       0       0       0       0   \n",
       "..       ...  ...         ...     ...     ...     ...     ...     ...     ...   \n",
       "886        0  ...           1       1       0       0       0       0       0   \n",
       "887        0  ...           1       0       0       0       0       0       1   \n",
       "888        0  ...           1       0       0       0       0       0       1   \n",
       "889        0  ...           0       0       0       0       0       0       0   \n",
       "890        0  ...           0       0       0       0       0       0       0   \n",
       "\n",
       "     Name_G  Sex_female  Sex_male  \n",
       "0         1           0         1  \n",
       "1         0           1         0  \n",
       "2         0           1         0  \n",
       "3         0           1         0  \n",
       "4         1           0         1  \n",
       "..      ...         ...       ...  \n",
       "886       0           0         1  \n",
       "887       0           1         0  \n",
       "888       0           1         0  \n",
       "889       1           0         1  \n",
       "890       1           0         1  \n",
       "\n",
       "[891 rows x 24 columns]"
      ]
     },
     "execution_count": 57,
     "metadata": {},
     "output_type": "execute_result"
    }
   ],
   "source": [
    "total_df_train = total_df[:len(df_train)]\n",
    "total_df_train"
   ]
  },
  {
   "cell_type": "code",
   "execution_count": 58,
   "id": "57aeeef7",
   "metadata": {
    "execution": {
     "iopub.execute_input": "2023-10-20T04:15:19.399005Z",
     "iopub.status.busy": "2023-10-20T04:15:19.397877Z",
     "iopub.status.idle": "2023-10-20T04:15:19.407296Z",
     "shell.execute_reply": "2023-10-20T04:15:19.405905Z"
    },
    "papermill": {
     "duration": 0.039585,
     "end_time": "2023-10-20T04:15:19.409824",
     "exception": false,
     "start_time": "2023-10-20T04:15:19.370239",
     "status": "completed"
    },
    "tags": []
   },
   "outputs": [
    {
     "data": {
      "text/plain": [
       "0      0\n",
       "1      1\n",
       "2      1\n",
       "3      1\n",
       "4      0\n",
       "      ..\n",
       "886    0\n",
       "887    1\n",
       "888    0\n",
       "889    1\n",
       "890    0\n",
       "Name: Survived, Length: 891, dtype: int64"
      ]
     },
     "execution_count": 58,
     "metadata": {},
     "output_type": "execute_result"
    }
   ],
   "source": [
    "y"
   ]
  },
  {
   "cell_type": "code",
   "execution_count": 59,
   "id": "4791ba65",
   "metadata": {
    "execution": {
     "iopub.execute_input": "2023-10-20T04:15:19.464312Z",
     "iopub.status.busy": "2023-10-20T04:15:19.463036Z",
     "iopub.status.idle": "2023-10-20T04:15:20.658900Z",
     "shell.execute_reply": "2023-10-20T04:15:20.657387Z"
    },
    "papermill": {
     "duration": 1.226331,
     "end_time": "2023-10-20T04:15:20.661454",
     "exception": false,
     "start_time": "2023-10-20T04:15:19.435123",
     "status": "completed"
    },
    "tags": []
   },
   "outputs": [
    {
     "name": "stderr",
     "output_type": "stream",
     "text": [
      "/opt/conda/lib/python3.10/site-packages/sklearn/linear_model/_logistic.py:458: ConvergenceWarning: lbfgs failed to converge (status=1):\n",
      "STOP: TOTAL NO. of ITERATIONS REACHED LIMIT.\n",
      "\n",
      "Increase the number of iterations (max_iter) or scale the data as shown in:\n",
      "    https://scikit-learn.org/stable/modules/preprocessing.html\n",
      "Please also refer to the documentation for alternative solver options:\n",
      "    https://scikit-learn.org/stable/modules/linear_model.html#logistic-regression\n",
      "  n_iter_i = _check_optimize_result(\n",
      "/opt/conda/lib/python3.10/site-packages/sklearn/linear_model/_logistic.py:458: ConvergenceWarning: lbfgs failed to converge (status=1):\n",
      "STOP: TOTAL NO. of ITERATIONS REACHED LIMIT.\n",
      "\n",
      "Increase the number of iterations (max_iter) or scale the data as shown in:\n",
      "    https://scikit-learn.org/stable/modules/preprocessing.html\n",
      "Please also refer to the documentation for alternative solver options:\n",
      "    https://scikit-learn.org/stable/modules/linear_model.html#logistic-regression\n",
      "  n_iter_i = _check_optimize_result(\n",
      "/opt/conda/lib/python3.10/site-packages/sklearn/linear_model/_logistic.py:458: ConvergenceWarning: lbfgs failed to converge (status=1):\n",
      "STOP: TOTAL NO. of ITERATIONS REACHED LIMIT.\n",
      "\n",
      "Increase the number of iterations (max_iter) or scale the data as shown in:\n",
      "    https://scikit-learn.org/stable/modules/preprocessing.html\n",
      "Please also refer to the documentation for alternative solver options:\n",
      "    https://scikit-learn.org/stable/modules/linear_model.html#logistic-regression\n",
      "  n_iter_i = _check_optimize_result(\n",
      "/opt/conda/lib/python3.10/site-packages/sklearn/linear_model/_logistic.py:458: ConvergenceWarning: lbfgs failed to converge (status=1):\n",
      "STOP: TOTAL NO. of ITERATIONS REACHED LIMIT.\n",
      "\n",
      "Increase the number of iterations (max_iter) or scale the data as shown in:\n",
      "    https://scikit-learn.org/stable/modules/preprocessing.html\n",
      "Please also refer to the documentation for alternative solver options:\n",
      "    https://scikit-learn.org/stable/modules/linear_model.html#logistic-regression\n",
      "  n_iter_i = _check_optimize_result(\n",
      "/opt/conda/lib/python3.10/site-packages/sklearn/linear_model/_logistic.py:458: ConvergenceWarning: lbfgs failed to converge (status=1):\n",
      "STOP: TOTAL NO. of ITERATIONS REACHED LIMIT.\n",
      "\n",
      "Increase the number of iterations (max_iter) or scale the data as shown in:\n",
      "    https://scikit-learn.org/stable/modules/preprocessing.html\n",
      "Please also refer to the documentation for alternative solver options:\n",
      "    https://scikit-learn.org/stable/modules/linear_model.html#logistic-regression\n",
      "  n_iter_i = _check_optimize_result(\n",
      "/opt/conda/lib/python3.10/site-packages/sklearn/linear_model/_logistic.py:458: ConvergenceWarning: lbfgs failed to converge (status=1):\n",
      "STOP: TOTAL NO. of ITERATIONS REACHED LIMIT.\n",
      "\n",
      "Increase the number of iterations (max_iter) or scale the data as shown in:\n",
      "    https://scikit-learn.org/stable/modules/preprocessing.html\n",
      "Please also refer to the documentation for alternative solver options:\n",
      "    https://scikit-learn.org/stable/modules/linear_model.html#logistic-regression\n",
      "  n_iter_i = _check_optimize_result(\n",
      "/opt/conda/lib/python3.10/site-packages/sklearn/linear_model/_logistic.py:458: ConvergenceWarning: lbfgs failed to converge (status=1):\n",
      "STOP: TOTAL NO. of ITERATIONS REACHED LIMIT.\n",
      "\n",
      "Increase the number of iterations (max_iter) or scale the data as shown in:\n",
      "    https://scikit-learn.org/stable/modules/preprocessing.html\n",
      "Please also refer to the documentation for alternative solver options:\n",
      "    https://scikit-learn.org/stable/modules/linear_model.html#logistic-regression\n",
      "  n_iter_i = _check_optimize_result(\n",
      "/opt/conda/lib/python3.10/site-packages/sklearn/linear_model/_logistic.py:458: ConvergenceWarning: lbfgs failed to converge (status=1):\n",
      "STOP: TOTAL NO. of ITERATIONS REACHED LIMIT.\n",
      "\n",
      "Increase the number of iterations (max_iter) or scale the data as shown in:\n",
      "    https://scikit-learn.org/stable/modules/preprocessing.html\n",
      "Please also refer to the documentation for alternative solver options:\n",
      "    https://scikit-learn.org/stable/modules/linear_model.html#logistic-regression\n",
      "  n_iter_i = _check_optimize_result(\n",
      "/opt/conda/lib/python3.10/site-packages/sklearn/linear_model/_logistic.py:458: ConvergenceWarning: lbfgs failed to converge (status=1):\n",
      "STOP: TOTAL NO. of ITERATIONS REACHED LIMIT.\n",
      "\n",
      "Increase the number of iterations (max_iter) or scale the data as shown in:\n",
      "    https://scikit-learn.org/stable/modules/preprocessing.html\n",
      "Please also refer to the documentation for alternative solver options:\n",
      "    https://scikit-learn.org/stable/modules/linear_model.html#logistic-regression\n",
      "  n_iter_i = _check_optimize_result(\n",
      "/opt/conda/lib/python3.10/site-packages/sklearn/linear_model/_logistic.py:458: ConvergenceWarning: lbfgs failed to converge (status=1):\n",
      "STOP: TOTAL NO. of ITERATIONS REACHED LIMIT.\n",
      "\n",
      "Increase the number of iterations (max_iter) or scale the data as shown in:\n",
      "    https://scikit-learn.org/stable/modules/preprocessing.html\n",
      "Please also refer to the documentation for alternative solver options:\n",
      "    https://scikit-learn.org/stable/modules/linear_model.html#logistic-regression\n",
      "  n_iter_i = _check_optimize_result(\n"
     ]
    },
    {
     "data": {
      "text/plain": [
       "<matplotlib.legend.Legend at 0x7ab3728b8ac0>"
      ]
     },
     "execution_count": 59,
     "metadata": {},
     "output_type": "execute_result"
    },
    {
     "data": {
      "image/png": "[encoded data removed]",
      "text/plain": [
       "<Figure size 640x480 with 1 Axes>"
      ]
     },
     "metadata": {},
     "output_type": "display_data"
    }
   ],
   "source": [
    "from sklearn.model_selection import KFold\n",
    "\n",
    "k = 10\n",
    "cv = KFold(k, shuffle = True , random_state = 0)\n",
    "auc_history = []\n",
    "accuracy_history = []\n",
    "\n",
    "for i , (train_data, test_data) in enumerate(cv.split(total_df_train)):\n",
    "    df_train = total_df.iloc[train_data]\n",
    "    df_test =total_df.iloc[test_data]\n",
    "    \n",
    "    \n",
    "    splited_x_train = df_train.values\n",
    "    splited_x_test = df_test.values\n",
    "    splited_y_train = y[train_data].values \n",
    "    splited_y_test = y[test_data].values\n",
    "    \n",
    "    lr = LogisticRegression(random_state = 10)\n",
    "    lr.fit(splited_x_train,splited_y_train)\n",
    "    y_pred = lr.predict(splited_x_test)\n",
    "    y_pred_probability = lr.predict_proba(splited_x_test)[:,1]\n",
    "    \n",
    "    accuracy = accuracy_score(splited_y_test, y_pred)\n",
    "    accuracy_history.append(accuracy)\n",
    "    \n",
    "    a, b , c = roc_curve(splited_y_test, y_pred_probability)\n",
    "    roc_auc = roc_auc_score(splited_y_test, y_pred_probability)\n",
    "    auc_history.append(roc_auc)\n",
    "    \n",
    "plt.plot(range(1,k+1) , accuracy_history, label = 'accuracy')\n",
    "plt.xlabel(\"Each K-fold\")\n",
    "plt.xlim([1,10])\n",
    "plt.ylabel('accuracy_score of splited test data')\n",
    "plt.legend(loc = 'best')\n",
    "\n",
    "plt.plot(range(1,k+1) , auc_history , label = 'auc')\n",
    "plt.xlabel(\"Each K-fold\")\n",
    "plt.xlim([1,10])\n",
    "plt.ylabel('AUC of splited test data')\n",
    "plt.legend(loc = 'best')"
   ]
  },
  {
   "cell_type": "markdown",
   "id": "a0f41f2b",
   "metadata": {
    "papermill": {
     "duration": 0.027211,
     "end_time": "2023-10-20T04:15:20.716309",
     "exception": false,
     "start_time": "2023-10-20T04:15:20.689098",
     "status": "completed"
    },
    "tags": []
   },
   "source": [
    "학습 곡선"
   ]
  },
  {
   "cell_type": "code",
   "execution_count": 60,
   "id": "7004f008",
   "metadata": {
    "execution": {
     "iopub.execute_input": "2023-10-20T04:15:20.773101Z",
     "iopub.status.busy": "2023-10-20T04:15:20.772583Z",
     "iopub.status.idle": "2023-10-20T04:15:23.829868Z",
     "shell.execute_reply": "2023-10-20T04:15:23.828779Z"
    },
    "papermill": {
     "duration": 3.088968,
     "end_time": "2023-10-20T04:15:23.832480",
     "exception": false,
     "start_time": "2023-10-20T04:15:20.743512",
     "status": "completed"
    },
    "tags": []
   },
   "outputs": [
    {
     "data": {
      "image/png": "[encoded data removed]",
      "text/plain": [
       "<Figure size 640x480 with 1 Axes>"
      ]
     },
     "metadata": {},
     "output_type": "display_data"
    }
   ],
   "source": [
    "from sklearn.model_selection import learning_curve\n",
    "\n",
    "lr = LogisticRegression(solver='liblinear', multi_class='auto',C=100.0, random_state=78)\n",
    "\n",
    "train_sizes, train_scores, test_scores = learning_curve(estimator=lr, X=total_df_train, y=y, train_sizes=np.linspace(0.1, 1.0, 10), cv=10) \n",
    "train_mean = np.mean(train_scores, axis=1)\n",
    "train_std = np.std(train_scores, axis=1) \n",
    "test_mean = np.mean(test_scores, axis=1) \n",
    "test_std = np.std(test_scores, axis=1)\n",
    "\n",
    "plt.plot(train_sizes, train_mean, color='blue', marker='o', markersize=5, label='training accuracy')\n",
    "plt.fill_between(train_sizes, train_mean + train_std, train_mean - train_std, alpha=0.15, color='blue')\n",
    "plt.plot(train_sizes, test_mean, color='green', linestyle='--', marker='s', markersize=5, label='validation accuracy')\n",
    "plt.fill_between(train_sizes, test_mean + test_std, test_mean - test_std, alpha=0.15, color='green')\n",
    "plt.grid()\n",
    "plt.xlabel('Number of training samples')\n",
    "plt.ylabel('Accuracy')\n",
    "plt.legend(loc='lower right')\n",
    "plt.tight_layout()\n",
    "plt.show() "
   ]
  }
 ],
 "metadata": {
  "kernelspec": {
   "display_name": "Python 3",
   "language": "python",
   "name": "python3"
  },
  "language_info": {
   "codemirror_mode": {
    "name": "ipython",
    "version": 3
   },
   "file_extension": ".py",
   "mimetype": "text/x-python",
   "name": "python",
   "nbconvert_exporter": "python",
   "pygments_lexer": "ipython3",
   "version": "3.10.12"
  },
  "papermill": {
   "default_parameters": {},
   "duration": 24.326321,
   "end_time": "2023-10-20T04:15:25.089868",
   "environment_variables": {},
   "exception": null,
   "input_path": "__notebook__.ipynb",
   "output_path": "__notebook__.ipynb",
   "parameters": {},
   "start_time": "2023-10-20T04:15:00.763547",
   "version": "2.4.0"
  }
 },
 "nbformat": 4,
 "nbformat_minor": 5
}
